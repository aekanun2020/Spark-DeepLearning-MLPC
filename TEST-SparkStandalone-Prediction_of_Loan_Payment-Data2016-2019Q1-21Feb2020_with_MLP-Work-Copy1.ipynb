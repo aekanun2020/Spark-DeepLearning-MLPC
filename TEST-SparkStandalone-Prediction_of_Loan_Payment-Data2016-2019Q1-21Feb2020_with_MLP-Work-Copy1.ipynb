{
 "cells": [
  {
   "cell_type": "code",
   "execution_count": 1,
   "metadata": {
    "collapsed": true
   },
   "outputs": [],
   "source": [
    "! rm -rf metastore_db/"
   ]
  },
  {
   "cell_type": "code",
   "execution_count": 2,
   "metadata": {
    "collapsed": true
   },
   "outputs": [],
   "source": [
    "spark.stop()"
   ]
  },
  {
   "cell_type": "code",
   "execution_count": 3,
   "metadata": {
    "collapsed": true
   },
   "outputs": [],
   "source": [
    "spark = SparkSession \\\n",
    "    .builder \\\n",
    "    .appName(\"Prediction of Loan Payment\") \\\n",
    "    .master(\"spark://192.168.10.1:7077\") \\\n",
    "    .config(\"spark.executor.cores\",\"1\")\\\n",
    "    .getOrCreate();"
   ]
  },
  {
   "cell_type": "markdown",
   "metadata": {},
   "source": [
    "# 1. Data Understanding"
   ]
  },
  {
   "cell_type": "markdown",
   "metadata": {},
   "source": [
    "## Collecting the current data from the LendingClub's Website."
   ]
  },
  {
   "cell_type": "code",
   "execution_count": 4,
   "metadata": {
    "collapsed": true
   },
   "outputs": [],
   "source": [
    "#! rm -rf LoanStats_web.csv"
   ]
  },
  {
   "cell_type": "code",
   "execution_count": 5,
   "metadata": {
    "collapsed": true
   },
   "outputs": [],
   "source": [
    "#! touch LoanStats_web.csv"
   ]
  },
  {
   "cell_type": "code",
   "execution_count": 6,
   "metadata": {},
   "outputs": [
    {
     "name": "stdout",
     "output_type": "stream",
     "text": [
      "-rw-r--r-- 1 root root 1160243241 Nov 22  2019 /root/notebook/data/LoanStats_web.csv\r\n"
     ]
    }
   ],
   "source": [
    "! ls -l /root/notebook/data/LoanStats_web.csv"
   ]
  },
  {
   "cell_type": "code",
   "execution_count": 7,
   "metadata": {},
   "outputs": [
    {
     "name": "stdout",
     "output_type": "stream",
     "text": [
      "\"id\",\"member_id\",\"loan_amnt\",\"funded_amnt\",\"funded_amnt_inv\",\"term\",\"int_rate\",\"installment\",\"grade\",\"sub_grade\",\"emp_title\",\"emp_length\",\"home_ownership\",\"annual_inc\",\"verification_status\",\"issue_d\",\"loan_status\",\"pymnt_plan\",\"url\",\"desc\",\"purpose\",\"title\",\"zip_code\",\"addr_state\",\"dti\",\"delinq_2yrs\",\"earliest_cr_line\",\"inq_last_6mths\",\"mths_since_last_delinq\",\"mths_since_last_record\",\"open_acc\",\"pub_rec\",\"revol_bal\",\"revol_util\",\"total_acc\",\"initial_list_status\",\"out_prncp\",\"out_prncp_inv\",\"total_pymnt\",\"total_pymnt_inv\",\"total_rec_prncp\",\"total_rec_int\",\"total_rec_late_fee\",\"recoveries\",\"collection_recovery_fee\",\"last_pymnt_d\",\"last_pymnt_amnt\",\"next_pymnt_d\",\"last_credit_pull_d\",\"collections_12_mths_ex_med\",\"mths_since_last_major_derog\",\"policy_code\",\"application_type\",\"annual_inc_joint\",\"dti_joint\",\"verification_status_joint\",\"acc_now_delinq\",\"tot_coll_amt\",\"tot_cur_bal\",\"open_acc_6m\",\"open_act_il\",\"open_il_12m\",\"open_il_24m\",\"mths_since_rcnt_il\",\"total_bal_il\",\"il_util\",\"open_rv_12m\",\"open_rv_24m\",\"max_bal_bc\",\"all_util\",\"total_rev_hi_lim\",\"inq_fi\",\"total_cu_tl\",\"inq_last_12m\",\"acc_open_past_24mths\",\"avg_cur_bal\",\"bc_open_to_buy\",\"bc_util\",\"chargeoff_within_12_mths\",\"delinq_amnt\",\"mo_sin_old_il_acct\",\"mo_sin_old_rev_tl_op\",\"mo_sin_rcnt_rev_tl_op\",\"mo_sin_rcnt_tl\",\"mort_acc\",\"mths_since_recent_bc\",\"mths_since_recent_bc_dlq\",\"mths_since_recent_inq\",\"mths_since_recent_revol_delinq\",\"num_accts_ever_120_pd\",\"num_actv_bc_tl\",\"num_actv_rev_tl\",\"num_bc_sats\",\"num_bc_tl\",\"num_il_tl\",\"num_op_rev_tl\",\"num_rev_accts\",\"num_rev_tl_bal_gt_0\",\"num_sats\",\"num_tl_120dpd_2m\",\"num_tl_30dpd\",\"num_tl_90g_dpd_24m\",\"num_tl_op_past_12m\",\"pct_tl_nvr_dlq\",\"percent_bc_gt_75\",\"pub_rec_bankruptcies\",\"tax_liens\",\"tot_hi_cred_lim\",\"total_bal_ex_mort\",\"total_bc_limit\",\"total_il_high_credit_limit\",\"revol_bal_joint\",\"sec_app_earliest_cr_line\",\"sec_app_inq_last_6mths\",\"sec_app_mort_acc\",\"sec_app_open_acc\",\"sec_app_revol_util\",\"sec_app_open_act_il\",\"sec_app_num_rev_accts\",\"sec_app_chargeoff_within_12_mths\",\"sec_app_collections_12_mths_ex_med\",\"sec_app_mths_since_last_major_derog\",\"hardship_flag\",\"hardship_type\",\"hardship_reason\",\"hardship_status\",\"deferral_term\",\"hardship_amount\",\"hardship_start_date\",\"hardship_end_date\",\"payment_plan_start_date\",\"hardship_length\",\"hardship_dpd\",\"hardship_loan_status\",\"orig_projected_additional_accrued_interest\",\"hardship_payoff_balance_amount\",\"hardship_last_payment_amount\",\"debt_settlement_flag\",\"debt_settlement_flag_date\",\"settlement_status\",\"settlement_date\",\"settlement_amount\",\"settlement_percentage\",\"settlement_term\"\r\n",
      "\"\",\"\",\"30000\",\"30000\",\"30000\",\" 36 months\",\"  9.75%\",\"964.5\",\"B\",\"B3\",\"\",\"n/a\",\"MORTGAGE\",\"89600\",\"Verified\",\"Mar-2016\",\"Fully Paid\",\"n\",\"\",\"\",\"debt_consolidation\",\"Debt consolidation\",\"233xx\",\"VA\",\"21.15\",\"0\",\"Oct-1996\",\"1\",\"51\",\"\",\"22\",\"0\",\"45643\",\"64%\",\"43\",\"w\",\"0.00\",\"0.00\",\"34683.4671902942\",\"34683.47\",\"30000.00\",\"4683.47\",\"0.0\",\"0.0\",\"0.0\",\"Feb-2019\",\"1922.97\",\"\",\"Oct-2019\",\"0\",\"\",\"1\",\"Individual\",\"\",\"\",\"\",\"0\",\"0\",\"45643\",\"0\",\"0\",\"0\",\"0\",\"64\",\"0\",\"0\",\"2\",\"4\",\"4412\",\"64\",\"71690\",\"0\",\"3\",\"1\",\"4\",\"2282\",\"3586\",\"44\",\"0\",\"0\",\"165\",\"233\",\"7\",\"7\",\"1\",\"16\",\"\",\"2\",\"51\",\"0\",\"7\",\"20\",\"12\",\"12\",\"7\",\"20\",\"35\",\"17\",\"20\",\"\",\"0\",\"0\",\"2\",\"98\",\"57.1\",\"0\",\"0\",\"71690\",\"45643\",\"25100\",\"0\",\"\",\"\",\"\",\"\",\"\",\"\",\"\",\"\",\"\",\"\",\"\",\"N\",\"\",\"\",\"\",\"\",\"\",\"\",\"\",\"\",\"\",\"\",\"\",\"\",\"\",\"\",\"N\",\"\",\"\",\"\",\"\",\"\",\"\"\r\n",
      "\"\",\"\",\"25000\",\"25000\",\"25000\",\" 36 months\",\"  5.32%\",\"752.87\",\"A\",\"A1\",\"Carman welder\",\"10+ years\",\"MORTGAGE\",\"70000\",\"Not Verified\",\"Mar-2016\",\"Fully Paid\",\"n\",\"\",\"\",\"debt_consolidation\",\"Debt consolidation\",\"758xx\",\"TX\",\"21.81\",\"0\",\"Jul-1983\",\"0\",\"\",\"\",\"16\",\"0\",\"4091\",\"6.8%\",\"54\",\"w\",\"0.00\",\"0.00\",\"27088.521784058\",\"27088.52\",\"25000.00\",\"2088.52\",\"0.0\",\"0.0\",\"0.0\",\"Apr-2019\",\"752.85\",\"\",\"Mar-2019\",\"0\",\"\",\"1\",\"Individual\",\"\",\"\",\"\",\"0\",\"0\",\"51894\",\"0\",\"5\",\"0\",\"4\",\"13\",\"47803\",\"79\",\"0\",\"1\",\"1306\",\"43\",\"60000\",\"2\",\"24\",\"1\",\"5\",\"3460\",\"32694\",\"3.8\",\"0\",\"0\",\"155\",\"392\",\"20\",\"13\",\"1\",\"29\",\"\",\"9\",\"\",\"0\",\"1\",\"2\",\"6\",\"13\",\"31\",\"11\",\"22\",\"2\",\"16\",\"0\",\"0\",\"0\",\"0\",\"100\",\"0\",\"0\",\"0\",\"120454\",\"51894\",\"34000\",\"60454\",\"\",\"\",\"\",\"\",\"\",\"\",\"\",\"\",\"\",\"\",\"\",\"N\",\"\",\"\",\"\",\"\",\"\",\"\",\"\",\"\",\"\",\"\",\"\",\"\",\"\",\"\",\"N\",\"\",\"\",\"\",\"\",\"\",\"\"\r\n"
     ]
    }
   ],
   "source": [
    "! head -3 /root/notebook/data/LoanStats_web.csv"
   ]
  },
  {
   "cell_type": "code",
   "execution_count": 8,
   "metadata": {},
   "outputs": [
    {
     "name": "stdout",
     "output_type": "stream",
     "text": [
      "1432493 /root/notebook/data/LoanStats_web.csv\r\n"
     ]
    }
   ],
   "source": [
    "! wc -l /root/notebook/data/LoanStats_web.csv"
   ]
  },
  {
   "cell_type": "code",
   "execution_count": 9,
   "metadata": {
    "collapsed": true
   },
   "outputs": [],
   "source": [
    "raw_df = spark.read.format('csv').option('header','true').option('mode','DROPMALFORMED')\\\n",
    ".load('/root/notebook/data/LoanStats_web.csv')"
   ]
  },
  {
   "cell_type": "code",
   "execution_count": 10,
   "metadata": {
    "collapsed": true
   },
   "outputs": [],
   "source": [
    "raw201617_df = raw_df"
   ]
  },
  {
   "cell_type": "code",
   "execution_count": 11,
   "metadata": {},
   "outputs": [
    {
     "name": "stdout",
     "output_type": "stream",
     "text": [
      "root\n",
      " |-- id: string (nullable = true)\n",
      " |-- member_id: string (nullable = true)\n",
      " |-- loan_amnt: string (nullable = true)\n",
      " |-- funded_amnt: string (nullable = true)\n",
      " |-- funded_amnt_inv: string (nullable = true)\n",
      " |-- term: string (nullable = true)\n",
      " |-- int_rate: string (nullable = true)\n",
      " |-- installment: string (nullable = true)\n",
      " |-- grade: string (nullable = true)\n",
      " |-- sub_grade: string (nullable = true)\n",
      " |-- emp_title: string (nullable = true)\n",
      " |-- emp_length: string (nullable = true)\n",
      " |-- home_ownership: string (nullable = true)\n",
      " |-- annual_inc: string (nullable = true)\n",
      " |-- verification_status: string (nullable = true)\n",
      " |-- issue_d: string (nullable = true)\n",
      " |-- loan_status: string (nullable = true)\n",
      " |-- pymnt_plan: string (nullable = true)\n",
      " |-- url: string (nullable = true)\n",
      " |-- desc: string (nullable = true)\n",
      " |-- purpose: string (nullable = true)\n",
      " |-- title: string (nullable = true)\n",
      " |-- zip_code: string (nullable = true)\n",
      " |-- addr_state: string (nullable = true)\n",
      " |-- dti: string (nullable = true)\n",
      " |-- delinq_2yrs: string (nullable = true)\n",
      " |-- earliest_cr_line: string (nullable = true)\n",
      " |-- inq_last_6mths: string (nullable = true)\n",
      " |-- mths_since_last_delinq: string (nullable = true)\n",
      " |-- mths_since_last_record: string (nullable = true)\n",
      " |-- open_acc: string (nullable = true)\n",
      " |-- pub_rec: string (nullable = true)\n",
      " |-- revol_bal: string (nullable = true)\n",
      " |-- revol_util: string (nullable = true)\n",
      " |-- total_acc: string (nullable = true)\n",
      " |-- initial_list_status: string (nullable = true)\n",
      " |-- out_prncp: string (nullable = true)\n",
      " |-- out_prncp_inv: string (nullable = true)\n",
      " |-- total_pymnt: string (nullable = true)\n",
      " |-- total_pymnt_inv: string (nullable = true)\n",
      " |-- total_rec_prncp: string (nullable = true)\n",
      " |-- total_rec_int: string (nullable = true)\n",
      " |-- total_rec_late_fee: string (nullable = true)\n",
      " |-- recoveries: string (nullable = true)\n",
      " |-- collection_recovery_fee: string (nullable = true)\n",
      " |-- last_pymnt_d: string (nullable = true)\n",
      " |-- last_pymnt_amnt: string (nullable = true)\n",
      " |-- next_pymnt_d: string (nullable = true)\n",
      " |-- last_credit_pull_d: string (nullable = true)\n",
      " |-- collections_12_mths_ex_med: string (nullable = true)\n",
      " |-- mths_since_last_major_derog: string (nullable = true)\n",
      " |-- policy_code: string (nullable = true)\n",
      " |-- application_type: string (nullable = true)\n",
      " |-- annual_inc_joint: string (nullable = true)\n",
      " |-- dti_joint: string (nullable = true)\n",
      " |-- verification_status_joint: string (nullable = true)\n",
      " |-- acc_now_delinq: string (nullable = true)\n",
      " |-- tot_coll_amt: string (nullable = true)\n",
      " |-- tot_cur_bal: string (nullable = true)\n",
      " |-- open_acc_6m: string (nullable = true)\n",
      " |-- open_act_il: string (nullable = true)\n",
      " |-- open_il_12m: string (nullable = true)\n",
      " |-- open_il_24m: string (nullable = true)\n",
      " |-- mths_since_rcnt_il: string (nullable = true)\n",
      " |-- total_bal_il: string (nullable = true)\n",
      " |-- il_util: string (nullable = true)\n",
      " |-- open_rv_12m: string (nullable = true)\n",
      " |-- open_rv_24m: string (nullable = true)\n",
      " |-- max_bal_bc: string (nullable = true)\n",
      " |-- all_util: string (nullable = true)\n",
      " |-- total_rev_hi_lim: string (nullable = true)\n",
      " |-- inq_fi: string (nullable = true)\n",
      " |-- total_cu_tl: string (nullable = true)\n",
      " |-- inq_last_12m: string (nullable = true)\n",
      " |-- acc_open_past_24mths: string (nullable = true)\n",
      " |-- avg_cur_bal: string (nullable = true)\n",
      " |-- bc_open_to_buy: string (nullable = true)\n",
      " |-- bc_util: string (nullable = true)\n",
      " |-- chargeoff_within_12_mths: string (nullable = true)\n",
      " |-- delinq_amnt: string (nullable = true)\n",
      " |-- mo_sin_old_il_acct: string (nullable = true)\n",
      " |-- mo_sin_old_rev_tl_op: string (nullable = true)\n",
      " |-- mo_sin_rcnt_rev_tl_op: string (nullable = true)\n",
      " |-- mo_sin_rcnt_tl: string (nullable = true)\n",
      " |-- mort_acc: string (nullable = true)\n",
      " |-- mths_since_recent_bc: string (nullable = true)\n",
      " |-- mths_since_recent_bc_dlq: string (nullable = true)\n",
      " |-- mths_since_recent_inq: string (nullable = true)\n",
      " |-- mths_since_recent_revol_delinq: string (nullable = true)\n",
      " |-- num_accts_ever_120_pd: string (nullable = true)\n",
      " |-- num_actv_bc_tl: string (nullable = true)\n",
      " |-- num_actv_rev_tl: string (nullable = true)\n",
      " |-- num_bc_sats: string (nullable = true)\n",
      " |-- num_bc_tl: string (nullable = true)\n",
      " |-- num_il_tl: string (nullable = true)\n",
      " |-- num_op_rev_tl: string (nullable = true)\n",
      " |-- num_rev_accts: string (nullable = true)\n",
      " |-- num_rev_tl_bal_gt_0: string (nullable = true)\n",
      " |-- num_sats: string (nullable = true)\n",
      " |-- num_tl_120dpd_2m: string (nullable = true)\n",
      " |-- num_tl_30dpd: string (nullable = true)\n",
      " |-- num_tl_90g_dpd_24m: string (nullable = true)\n",
      " |-- num_tl_op_past_12m: string (nullable = true)\n",
      " |-- pct_tl_nvr_dlq: string (nullable = true)\n",
      " |-- percent_bc_gt_75: string (nullable = true)\n",
      " |-- pub_rec_bankruptcies: string (nullable = true)\n",
      " |-- tax_liens: string (nullable = true)\n",
      " |-- tot_hi_cred_lim: string (nullable = true)\n",
      " |-- total_bal_ex_mort: string (nullable = true)\n",
      " |-- total_bc_limit: string (nullable = true)\n",
      " |-- total_il_high_credit_limit: string (nullable = true)\n",
      " |-- revol_bal_joint: string (nullable = true)\n",
      " |-- sec_app_earliest_cr_line: string (nullable = true)\n",
      " |-- sec_app_inq_last_6mths: string (nullable = true)\n",
      " |-- sec_app_mort_acc: string (nullable = true)\n",
      " |-- sec_app_open_acc: string (nullable = true)\n",
      " |-- sec_app_revol_util: string (nullable = true)\n",
      " |-- sec_app_open_act_il: string (nullable = true)\n",
      " |-- sec_app_num_rev_accts: string (nullable = true)\n",
      " |-- sec_app_chargeoff_within_12_mths: string (nullable = true)\n",
      " |-- sec_app_collections_12_mths_ex_med: string (nullable = true)\n",
      " |-- sec_app_mths_since_last_major_derog: string (nullable = true)\n",
      " |-- hardship_flag: string (nullable = true)\n",
      " |-- hardship_type: string (nullable = true)\n",
      " |-- hardship_reason: string (nullable = true)\n",
      " |-- hardship_status: string (nullable = true)\n",
      " |-- deferral_term: string (nullable = true)\n",
      " |-- hardship_amount: string (nullable = true)\n",
      " |-- hardship_start_date: string (nullable = true)\n",
      " |-- hardship_end_date: string (nullable = true)\n",
      " |-- payment_plan_start_date: string (nullable = true)\n",
      " |-- hardship_length: string (nullable = true)\n",
      " |-- hardship_dpd: string (nullable = true)\n",
      " |-- hardship_loan_status: string (nullable = true)\n",
      " |-- orig_projected_additional_accrued_interest: string (nullable = true)\n",
      " |-- hardship_payoff_balance_amount: string (nullable = true)\n",
      " |-- hardship_last_payment_amount: string (nullable = true)\n",
      " |-- debt_settlement_flag: string (nullable = true)\n",
      " |-- debt_settlement_flag_date: string (nullable = true)\n",
      " |-- settlement_status: string (nullable = true)\n",
      " |-- settlement_date: string (nullable = true)\n",
      " |-- settlement_amount: string (nullable = true)\n",
      " |-- settlement_percentage: string (nullable = true)\n",
      " |-- settlement_term: string (nullable = true)\n",
      "\n"
     ]
    }
   ],
   "source": [
    "raw201617_df.printSchema()"
   ]
  },
  {
   "cell_type": "markdown",
   "metadata": {},
   "source": [
    "### Numbers of Fields [1]"
   ]
  },
  {
   "cell_type": "code",
   "execution_count": 12,
   "metadata": {},
   "outputs": [
    {
     "data": {
      "text/plain": [
       "144"
      ]
     },
     "execution_count": 12,
     "metadata": {},
     "output_type": "execute_result"
    }
   ],
   "source": [
    "len(raw201617_df.columns)"
   ]
  },
  {
   "cell_type": "code",
   "execution_count": 13,
   "metadata": {
    "collapsed": true
   },
   "outputs": [],
   "source": [
    "rawweb_df = raw201617_df.select('id',\n",
    " 'member_id',\n",
    " 'loan_amnt',\n",
    " 'funded_amnt',\n",
    " 'funded_amnt_inv',\n",
    " 'term',\n",
    " 'int_rate',\n",
    " 'installment',\n",
    " 'grade',\n",
    " 'sub_grade',\n",
    " 'emp_title',\n",
    " 'emp_length',\n",
    " 'home_ownership',\n",
    " 'annual_inc',\n",
    " 'verification_status',\n",
    " 'issue_d',\n",
    " 'loan_status',\n",
    " 'pymnt_plan',\n",
    " 'url',\n",
    " 'desc',\n",
    " 'purpose',\n",
    " 'title',\n",
    " 'zip_code',\n",
    " 'addr_state',\n",
    " 'dti',\n",
    " 'delinq_2yrs',\n",
    " 'earliest_cr_line',\n",
    " 'inq_last_6mths',\n",
    " 'mths_since_last_delinq',\n",
    " 'mths_since_last_record',\n",
    " 'open_acc',\n",
    " 'pub_rec',\n",
    " 'revol_bal',\n",
    " 'revol_util',\n",
    " 'total_acc',\n",
    " 'initial_list_status',\n",
    " 'out_prncp',\n",
    " 'out_prncp_inv',\n",
    " 'total_pymnt',\n",
    " 'total_pymnt_inv',\n",
    " 'total_rec_prncp',\n",
    " 'total_rec_int',\n",
    " 'total_rec_late_fee',\n",
    " 'recoveries',\n",
    " 'collection_recovery_fee',\n",
    " 'last_pymnt_d',\n",
    " 'last_pymnt_amnt',\n",
    " 'next_pymnt_d',\n",
    " 'last_credit_pull_d',\n",
    " 'collections_12_mths_ex_med',\n",
    " 'mths_since_last_major_derog',\n",
    " 'policy_code',\n",
    " 'application_type',\n",
    " 'annual_inc_joint',\n",
    " 'dti_joint',\n",
    " 'verification_status_joint',\n",
    " 'acc_now_delinq',\n",
    " 'tot_coll_amt',\n",
    " 'tot_cur_bal',\n",
    " 'open_acc_6m',\n",
    " #'open_il_6m',\n",
    " 'open_il_12m',\n",
    " 'open_il_24m',\n",
    " 'mths_since_rcnt_il',\n",
    " 'total_bal_il',\n",
    " 'il_util',\n",
    " 'open_rv_12m',\n",
    " 'open_rv_24m',\n",
    " 'max_bal_bc',\n",
    " 'all_util',\n",
    " 'total_rev_hi_lim',\n",
    " 'inq_fi',\n",
    " 'total_cu_tl',\n",
    " 'inq_last_12m')"
   ]
  },
  {
   "cell_type": "markdown",
   "metadata": {},
   "source": [
    "### Numbers of Fields after attributes selections [1]"
   ]
  },
  {
   "cell_type": "code",
   "execution_count": 14,
   "metadata": {},
   "outputs": [
    {
     "data": {
      "text/plain": [
       "73"
      ]
     },
     "execution_count": 14,
     "metadata": {},
     "output_type": "execute_result"
    }
   ],
   "source": [
    "len(rawweb_df.columns)"
   ]
  },
  {
   "cell_type": "code",
   "execution_count": 15,
   "metadata": {},
   "outputs": [
    {
     "name": "stdout",
     "output_type": "stream",
     "text": [
      "+--------+\n",
      "| issue_d|\n",
      "+--------+\n",
      "|Oct-2016|\n",
      "|Feb-2019|\n",
      "|Mar-2018|\n",
      "|Sep-2018|\n",
      "|Jan-2016|\n",
      "|Jul-2016|\n",
      "|Aug-2016|\n",
      "|Feb-2017|\n",
      "|Nov-2018|\n",
      "|Jul-2018|\n",
      "|Apr-2018|\n",
      "|Dec-2018|\n",
      "|May-2016|\n",
      "|Jan-2018|\n",
      "|Aug-2018|\n",
      "|Jan-2019|\n",
      "|Apr-2016|\n",
      "|Sep-2016|\n",
      "|Oct-2018|\n",
      "|Feb-2018|\n",
      "+--------+\n",
      "only showing top 20 rows\n",
      "\n"
     ]
    }
   ],
   "source": [
    "rawweb_df.select(['issue_d']).distinct().show()"
   ]
  },
  {
   "cell_type": "code",
   "execution_count": 16,
   "metadata": {
    "collapsed": true
   },
   "outputs": [],
   "source": [
    "raw_df = rawweb_df"
   ]
  },
  {
   "cell_type": "code",
   "execution_count": 17,
   "metadata": {},
   "outputs": [
    {
     "data": {
      "text/plain": [
       "1432439"
      ]
     },
     "execution_count": 17,
     "metadata": {},
     "output_type": "execute_result"
    }
   ],
   "source": [
    "raw_df.count()"
   ]
  },
  {
   "cell_type": "code",
   "execution_count": 18,
   "metadata": {
    "collapsed": true
   },
   "outputs": [],
   "source": [
    "df_colfam5 = raw_df.select(\"loan_amnt\",\"term\",\"int_rate\",\"installment\",\"grade\",\"emp_length\",\\\n",
    "                           \"home_ownership\",\"annual_inc\",\"verification_status\",\"loan_status\",\\\n",
    "                           \"purpose\",\"addr_state\",\"dti\",\"delinq_2yrs\",\"earliest_cr_line\",\\\n",
    "                           \"inq_last_6mths\",\"open_acc\",\"pub_rec\",\"revol_bal\",\"revol_util\",\"total_acc\",\\\n",
    "                           \"last_credit_pull_d\")"
   ]
  },
  {
   "cell_type": "markdown",
   "metadata": {},
   "source": [
    "### Numbers of Fields after final attributes selections [1]"
   ]
  },
  {
   "cell_type": "code",
   "execution_count": 19,
   "metadata": {},
   "outputs": [
    {
     "data": {
      "text/plain": [
       "22"
      ]
     },
     "execution_count": 19,
     "metadata": {},
     "output_type": "execute_result"
    }
   ],
   "source": [
    "len(df_colfam5.columns)"
   ]
  },
  {
   "cell_type": "code",
   "execution_count": 20,
   "metadata": {},
   "outputs": [
    {
     "name": "stdout",
     "output_type": "stream",
     "text": [
      "Requirement already satisfied: pandas in /root/anaconda3/lib/python3.6/site-packages\n",
      "Requirement already satisfied: python-dateutil>=2 in /root/anaconda3/lib/python3.6/site-packages (from pandas)\n",
      "Requirement already satisfied: pytz>=2011k in /root/anaconda3/lib/python3.6/site-packages (from pandas)\n",
      "Requirement already satisfied: numpy>=1.7.0 in /root/anaconda3/lib/python3.6/site-packages (from pandas)\n",
      "Requirement already satisfied: six>=1.5 in /root/anaconda3/lib/python3.6/site-packages (from python-dateutil>=2->pandas)\n",
      "\u001b[33mYou are using pip version 9.0.1, however version 20.2.4 is available.\n",
      "You should consider upgrading via the 'pip install --upgrade pip' command.\u001b[0m\n"
     ]
    }
   ],
   "source": [
    "! pip install pandas"
   ]
  },
  {
   "cell_type": "code",
   "execution_count": 21,
   "metadata": {},
   "outputs": [
    {
     "data": {
      "text/html": [
       "<div>\n",
       "<style>\n",
       "    .dataframe thead tr:only-child th {\n",
       "        text-align: right;\n",
       "    }\n",
       "\n",
       "    .dataframe thead th {\n",
       "        text-align: left;\n",
       "    }\n",
       "\n",
       "    .dataframe tbody tr th {\n",
       "        vertical-align: top;\n",
       "    }\n",
       "</style>\n",
       "<table border=\"1\" class=\"dataframe\">\n",
       "  <thead>\n",
       "    <tr style=\"text-align: right;\">\n",
       "      <th></th>\n",
       "      <th>0</th>\n",
       "      <th>1</th>\n",
       "      <th>2</th>\n",
       "      <th>3</th>\n",
       "      <th>4</th>\n",
       "    </tr>\n",
       "  </thead>\n",
       "  <tbody>\n",
       "    <tr>\n",
       "      <th>summary</th>\n",
       "      <td>count</td>\n",
       "      <td>mean</td>\n",
       "      <td>stddev</td>\n",
       "      <td>min</td>\n",
       "      <td>max</td>\n",
       "    </tr>\n",
       "    <tr>\n",
       "      <th>loan_amnt</th>\n",
       "      <td>1432439</td>\n",
       "      <td>15370.392945179516</td>\n",
       "      <td>9646.028077240424</td>\n",
       "      <td>1000</td>\n",
       "      <td>9975</td>\n",
       "    </tr>\n",
       "    <tr>\n",
       "      <th>term</th>\n",
       "      <td>1432439</td>\n",
       "      <td>None</td>\n",
       "      <td>None</td>\n",
       "      <td>36 months</td>\n",
       "      <td>60 months</td>\n",
       "    </tr>\n",
       "    <tr>\n",
       "      <th>int_rate</th>\n",
       "      <td>1432439</td>\n",
       "      <td>None</td>\n",
       "      <td>None</td>\n",
       "      <td>5.31%</td>\n",
       "      <td>30.99%</td>\n",
       "    </tr>\n",
       "    <tr>\n",
       "      <th>installment</th>\n",
       "      <td>1432439</td>\n",
       "      <td>456.6879090138958</td>\n",
       "      <td>281.71351826414445</td>\n",
       "      <td>100.01</td>\n",
       "      <td>999.98</td>\n",
       "    </tr>\n",
       "    <tr>\n",
       "      <th>grade</th>\n",
       "      <td>1432439</td>\n",
       "      <td>None</td>\n",
       "      <td>None</td>\n",
       "      <td>A</td>\n",
       "      <td>G</td>\n",
       "    </tr>\n",
       "    <tr>\n",
       "      <th>emp_length</th>\n",
       "      <td>1432439</td>\n",
       "      <td>None</td>\n",
       "      <td>None</td>\n",
       "      <td>1 year</td>\n",
       "      <td>n/a</td>\n",
       "    </tr>\n",
       "    <tr>\n",
       "      <th>home_ownership</th>\n",
       "      <td>1432439</td>\n",
       "      <td>None</td>\n",
       "      <td>None</td>\n",
       "      <td>ANY</td>\n",
       "      <td>RENT</td>\n",
       "    </tr>\n",
       "    <tr>\n",
       "      <th>annual_inc</th>\n",
       "      <td>1432439</td>\n",
       "      <td>81034.5941268703</td>\n",
       "      <td>134183.40313571738</td>\n",
       "      <td>0</td>\n",
       "      <td>99999.84</td>\n",
       "    </tr>\n",
       "    <tr>\n",
       "      <th>verification_status</th>\n",
       "      <td>1432439</td>\n",
       "      <td>None</td>\n",
       "      <td>None</td>\n",
       "      <td>Not Verified</td>\n",
       "      <td>Verified</td>\n",
       "    </tr>\n",
       "    <tr>\n",
       "      <th>loan_status</th>\n",
       "      <td>1432439</td>\n",
       "      <td>None</td>\n",
       "      <td>None</td>\n",
       "      <td>Charged Off</td>\n",
       "      <td>Late (31-120 days)</td>\n",
       "    </tr>\n",
       "    <tr>\n",
       "      <th>purpose</th>\n",
       "      <td>1432439</td>\n",
       "      <td>None</td>\n",
       "      <td>None</td>\n",
       "      <td>car</td>\n",
       "      <td>wedding</td>\n",
       "    </tr>\n",
       "    <tr>\n",
       "      <th>addr_state</th>\n",
       "      <td>1432439</td>\n",
       "      <td>None</td>\n",
       "      <td>None</td>\n",
       "      <td>AK</td>\n",
       "      <td>WY</td>\n",
       "    </tr>\n",
       "    <tr>\n",
       "      <th>dti</th>\n",
       "      <td>1430855</td>\n",
       "      <td>19.21187297804439</td>\n",
       "      <td>15.97277532300163</td>\n",
       "      <td>-1</td>\n",
       "      <td>999</td>\n",
       "    </tr>\n",
       "    <tr>\n",
       "      <th>delinq_2yrs</th>\n",
       "      <td>1432439</td>\n",
       "      <td>0.30147182532729144</td>\n",
       "      <td>0.8643187650693963</td>\n",
       "      <td>0</td>\n",
       "      <td>9</td>\n",
       "    </tr>\n",
       "    <tr>\n",
       "      <th>earliest_cr_line</th>\n",
       "      <td>1432439</td>\n",
       "      <td>None</td>\n",
       "      <td>None</td>\n",
       "      <td>Apr-1955</td>\n",
       "      <td>Sep-2015</td>\n",
       "    </tr>\n",
       "    <tr>\n",
       "      <th>inq_last_6mths</th>\n",
       "      <td>1432438</td>\n",
       "      <td>0.4954546025726768</td>\n",
       "      <td>0.7921955450181846</td>\n",
       "      <td>0</td>\n",
       "      <td>5</td>\n",
       "    </tr>\n",
       "    <tr>\n",
       "      <th>open_acc</th>\n",
       "      <td>1432439</td>\n",
       "      <td>11.710326233787267</td>\n",
       "      <td>5.841051333566688</td>\n",
       "      <td>0</td>\n",
       "      <td>97</td>\n",
       "    </tr>\n",
       "    <tr>\n",
       "      <th>pub_rec</th>\n",
       "      <td>1432439</td>\n",
       "      <td>0.20539234131435963</td>\n",
       "      <td>0.5861093697871795</td>\n",
       "      <td>0</td>\n",
       "      <td>9</td>\n",
       "    </tr>\n",
       "    <tr>\n",
       "      <th>revol_bal</th>\n",
       "      <td>1432439</td>\n",
       "      <td>16846.678102173984</td>\n",
       "      <td>23301.014583199456</td>\n",
       "      <td>0</td>\n",
       "      <td>99996</td>\n",
       "    </tr>\n",
       "    <tr>\n",
       "      <th>revol_util</th>\n",
       "      <td>1431250</td>\n",
       "      <td>None</td>\n",
       "      <td>None</td>\n",
       "      <td>0%</td>\n",
       "      <td>99.9%</td>\n",
       "    </tr>\n",
       "    <tr>\n",
       "      <th>total_acc</th>\n",
       "      <td>1432439</td>\n",
       "      <td>23.60291782058433</td>\n",
       "      <td>12.040971368344772</td>\n",
       "      <td>10</td>\n",
       "      <td>99</td>\n",
       "    </tr>\n",
       "    <tr>\n",
       "      <th>last_credit_pull_d</th>\n",
       "      <td>1432415</td>\n",
       "      <td>None</td>\n",
       "      <td>None</td>\n",
       "      <td>Apr-2016</td>\n",
       "      <td>Sep-2019</td>\n",
       "    </tr>\n",
       "  </tbody>\n",
       "</table>\n",
       "</div>"
      ],
      "text/plain": [
       "                           0                    1                   2  \\\n",
       "summary                count                 mean              stddev   \n",
       "loan_amnt            1432439   15370.392945179516   9646.028077240424   \n",
       "term                 1432439                 None                None   \n",
       "int_rate             1432439                 None                None   \n",
       "installment          1432439    456.6879090138958  281.71351826414445   \n",
       "grade                1432439                 None                None   \n",
       "emp_length           1432439                 None                None   \n",
       "home_ownership       1432439                 None                None   \n",
       "annual_inc           1432439     81034.5941268703  134183.40313571738   \n",
       "verification_status  1432439                 None                None   \n",
       "loan_status          1432439                 None                None   \n",
       "purpose              1432439                 None                None   \n",
       "addr_state           1432439                 None                None   \n",
       "dti                  1430855    19.21187297804439   15.97277532300163   \n",
       "delinq_2yrs          1432439  0.30147182532729144  0.8643187650693963   \n",
       "earliest_cr_line     1432439                 None                None   \n",
       "inq_last_6mths       1432438   0.4954546025726768  0.7921955450181846   \n",
       "open_acc             1432439   11.710326233787267   5.841051333566688   \n",
       "pub_rec              1432439  0.20539234131435963  0.5861093697871795   \n",
       "revol_bal            1432439   16846.678102173984  23301.014583199456   \n",
       "revol_util           1431250                 None                None   \n",
       "total_acc            1432439    23.60291782058433  12.040971368344772   \n",
       "last_credit_pull_d   1432415                 None                None   \n",
       "\n",
       "                                3                   4  \n",
       "summary                       min                 max  \n",
       "loan_amnt                    1000                9975  \n",
       "term                    36 months           60 months  \n",
       "int_rate                    5.31%              30.99%  \n",
       "installment                100.01              999.98  \n",
       "grade                           A                   G  \n",
       "emp_length                 1 year                 n/a  \n",
       "home_ownership                ANY                RENT  \n",
       "annual_inc                      0            99999.84  \n",
       "verification_status  Not Verified            Verified  \n",
       "loan_status           Charged Off  Late (31-120 days)  \n",
       "purpose                       car             wedding  \n",
       "addr_state                     AK                  WY  \n",
       "dti                            -1                 999  \n",
       "delinq_2yrs                     0                   9  \n",
       "earliest_cr_line         Apr-1955            Sep-2015  \n",
       "inq_last_6mths                  0                   5  \n",
       "open_acc                        0                  97  \n",
       "pub_rec                         0                   9  \n",
       "revol_bal                       0               99996  \n",
       "revol_util                     0%               99.9%  \n",
       "total_acc                      10                  99  \n",
       "last_credit_pull_d       Apr-2016            Sep-2019  "
      ]
     },
     "execution_count": 21,
     "metadata": {},
     "output_type": "execute_result"
    }
   ],
   "source": [
    "import pandas as pd\n",
    "pd.DataFrame(df_colfam5.describe().take(6), columns=df_colfam5.describe().columns).transpose()"
   ]
  },
  {
   "cell_type": "markdown",
   "metadata": {},
   "source": [
    "df_colfam5.select(['last_credit_pull_d']).distinct().\\\n",
    "orderBy(['last_credit_pull_d'],ascending=1).show()"
   ]
  },
  {
   "cell_type": "markdown",
   "metadata": {},
   "source": [
    "df_colfam5.select(['last_credit_pull_d']).\\\n",
    "filter(df_colfam5.last_credit_pull_d == '').count()"
   ]
  },
  {
   "cell_type": "markdown",
   "metadata": {},
   "source": [
    "df_colfam5.select(['last_credit_pull_d']).\\\n",
    "filter(df_colfam5['last_credit_pull_d'].isNull()).count()"
   ]
  },
  {
   "cell_type": "code",
   "execution_count": 22,
   "metadata": {},
   "outputs": [
    {
     "name": "stdout",
     "output_type": "stream",
     "text": [
      "+--------------+------+\n",
      "|home_ownership| count|\n",
      "+--------------+------+\n",
      "|           OWN|170888|\n",
      "|          RENT|556960|\n",
      "|      MORTGAGE|701646|\n",
      "|           ANY|  2940|\n",
      "|          NONE|     5|\n",
      "+--------------+------+\n",
      "\n"
     ]
    }
   ],
   "source": [
    "df_colfam5.groupby('home_ownership').count().show()"
   ]
  },
  {
   "cell_type": "markdown",
   "metadata": {},
   "source": [
    "# 2. Data Preparation"
   ]
  },
  {
   "cell_type": "markdown",
   "metadata": {},
   "source": [
    "Divide this process into 2 parts. The first is a business oriented preparation that turn many business rules to be programming's logics. Its result benefits many tasks related to the Business Intelligence and other descriptive analytics. The second one is a data science oriented preparation that turn many requirements of data science to be programming's logics. Its result benefits many tasks related to the Predictive analytics."
   ]
  },
  {
   "cell_type": "markdown",
   "metadata": {},
   "source": [
    "Asumption: Business oriented preparation: No missing values, ONLY month, Correct data types."
   ]
  },
  {
   "cell_type": "markdown",
   "metadata": {},
   "source": [
    "## Data Cleansing: Remove missing values"
   ]
  },
  {
   "cell_type": "code",
   "execution_count": 23,
   "metadata": {
    "collapsed": true
   },
   "outputs": [],
   "source": [
    "df_no_missing = df_colfam5.dropna(how='any')"
   ]
  },
  {
   "cell_type": "markdown",
   "metadata": {},
   "source": [
    "## Check for a schema"
   ]
  },
  {
   "cell_type": "code",
   "execution_count": 24,
   "metadata": {},
   "outputs": [
    {
     "name": "stdout",
     "output_type": "stream",
     "text": [
      "root\n",
      " |-- loan_amnt: string (nullable = true)\n",
      " |-- term: string (nullable = true)\n",
      " |-- int_rate: string (nullable = true)\n",
      " |-- installment: string (nullable = true)\n",
      " |-- grade: string (nullable = true)\n",
      " |-- emp_length: string (nullable = true)\n",
      " |-- home_ownership: string (nullable = true)\n",
      " |-- annual_inc: string (nullable = true)\n",
      " |-- verification_status: string (nullable = true)\n",
      " |-- loan_status: string (nullable = true)\n",
      " |-- purpose: string (nullable = true)\n",
      " |-- addr_state: string (nullable = true)\n",
      " |-- dti: string (nullable = true)\n",
      " |-- delinq_2yrs: string (nullable = true)\n",
      " |-- earliest_cr_line: string (nullable = true)\n",
      " |-- inq_last_6mths: string (nullable = true)\n",
      " |-- open_acc: string (nullable = true)\n",
      " |-- pub_rec: string (nullable = true)\n",
      " |-- revol_bal: string (nullable = true)\n",
      " |-- revol_util: string (nullable = true)\n",
      " |-- total_acc: string (nullable = true)\n",
      " |-- last_credit_pull_d: string (nullable = true)\n",
      "\n"
     ]
    }
   ],
   "source": [
    "df_no_missing.printSchema()"
   ]
  },
  {
   "cell_type": "code",
   "execution_count": 25,
   "metadata": {
    "collapsed": true
   },
   "outputs": [],
   "source": [
    "df_no_missing_fitmem = df_no_missing.repartition(60)"
   ]
  },
  {
   "cell_type": "code",
   "execution_count": 26,
   "metadata": {
    "collapsed": true
   },
   "outputs": [],
   "source": [
    "df_no_missing_cached = df_no_missing_fitmem.cache()"
   ]
  },
  {
   "cell_type": "code",
   "execution_count": 27,
   "metadata": {
    "collapsed": true
   },
   "outputs": [],
   "source": [
    "df_no_missing_cached.registerTempTable(\"df\")"
   ]
  },
  {
   "cell_type": "markdown",
   "metadata": {},
   "source": [
    "## Number of data rows"
   ]
  },
  {
   "cell_type": "code",
   "execution_count": 28,
   "metadata": {},
   "outputs": [
    {
     "data": {
      "text/plain": [
       "1429645"
      ]
     },
     "execution_count": 28,
     "metadata": {},
     "output_type": "execute_result"
    }
   ],
   "source": [
    "df_no_missing_cached.count()"
   ]
  },
  {
   "cell_type": "markdown",
   "metadata": {},
   "source": [
    "## Data Transformation: Remove Sign of Percent and Extract Month."
   ]
  },
  {
   "cell_type": "code",
   "execution_count": 29,
   "metadata": {
    "collapsed": true
   },
   "outputs": [],
   "source": [
    "from pyspark.sql.functions import udf\n",
    "from pyspark.sql.types import *"
   ]
  },
  {
   "cell_type": "markdown",
   "metadata": {},
   "source": [
    "### Remove Sign of Percent"
   ]
  },
  {
   "cell_type": "code",
   "execution_count": 30,
   "metadata": {
    "collapsed": true
   },
   "outputs": [],
   "source": [
    "def f_removepercentsign(origin):\n",
    "    return origin.rstrip('%')"
   ]
  },
  {
   "cell_type": "code",
   "execution_count": 31,
   "metadata": {
    "collapsed": true
   },
   "outputs": [],
   "source": [
    "removepercentsign = udf(lambda x: f_removepercentsign(x),StringType())"
   ]
  },
  {
   "cell_type": "markdown",
   "metadata": {},
   "source": [
    "### Extract Month"
   ]
  },
  {
   "cell_type": "code",
   "execution_count": 32,
   "metadata": {
    "collapsed": true
   },
   "outputs": [],
   "source": [
    "def f_extractmonth(origin):\n",
    "    return origin.split('-')[0]"
   ]
  },
  {
   "cell_type": "code",
   "execution_count": 33,
   "metadata": {
    "collapsed": true
   },
   "outputs": [],
   "source": [
    "extractmonth = udf(lambda x: f_extractmonth(x),StringType())"
   ]
  },
  {
   "cell_type": "code",
   "execution_count": null,
   "metadata": {
    "collapsed": true
   },
   "outputs": [],
   "source": []
  },
  {
   "cell_type": "code",
   "execution_count": 34,
   "metadata": {
    "collapsed": true
   },
   "outputs": [],
   "source": [
    "extractterm = udf(lambda x: x.replace('months',''),StringType())"
   ]
  },
  {
   "cell_type": "code",
   "execution_count": 35,
   "metadata": {
    "collapsed": true
   },
   "outputs": [],
   "source": [
    "#extractemp_length = udf(lambda x: x.replace('year',''),StringType())"
   ]
  },
  {
   "cell_type": "code",
   "execution_count": null,
   "metadata": {
    "collapsed": true
   },
   "outputs": [],
   "source": []
  },
  {
   "cell_type": "code",
   "execution_count": 36,
   "metadata": {
    "collapsed": true
   },
   "outputs": [],
   "source": [
    "from pyspark.sql.functions import col"
   ]
  },
  {
   "cell_type": "code",
   "execution_count": 37,
   "metadata": {
    "collapsed": true
   },
   "outputs": [],
   "source": [
    "dfWithCrunch = df_no_missing_cached.\\\n",
    "withColumn('revol_util',removepercentsign(col('revol_util')).cast(DoubleType())).\\\n",
    "withColumn('int_rate',removepercentsign(col('int_rate')).cast(DoubleType())).\\\n",
    "withColumn('earliest_cr_line',extractmonth(col('earliest_cr_line')).cast(StringType())).\\\n",
    "withColumn('last_credit_pull_d',extractmonth(col('last_credit_pull_d')).cast(StringType())).\\\n",
    "withColumn('dti',col('dti').cast(DoubleType())).\\\n",
    "withColumn('loan_amnt',col('loan_amnt').cast(DoubleType())).\\\n",
    "withColumn('revol_bal',col('revol_bal').cast(DoubleType())).\\\n",
    "withColumn('term',extractterm(col('term')).cast(DoubleType())).\\\n",
    "withColumn('installment',col('installment').cast(DoubleType())).\\\n",
    "withColumn('open_acc',col('open_acc').cast(DoubleType())).\\\n",
    "withColumn('total_acc',col('total_acc').cast(DoubleType())).\\\n",
    "withColumn('pub_rec',col('pub_rec').cast(DoubleType())).\\\n",
    "withColumn('annual_inc',col('annual_inc').cast(DoubleType()))"
   ]
  },
  {
   "cell_type": "code",
   "execution_count": 38,
   "metadata": {
    "collapsed": true
   },
   "outputs": [],
   "source": [
    "#dfWithCrunch.select(['last_credit_pull_d']).printSchema()"
   ]
  },
  {
   "cell_type": "code",
   "execution_count": 39,
   "metadata": {
    "collapsed": true
   },
   "outputs": [],
   "source": [
    "#dfWithCrunch.groupby('emp_length').count().show()"
   ]
  },
  {
   "cell_type": "code",
   "execution_count": 40,
   "metadata": {
    "collapsed": true
   },
   "outputs": [],
   "source": [
    "#dfWithCrunch.count()"
   ]
  },
  {
   "cell_type": "code",
   "execution_count": 41,
   "metadata": {},
   "outputs": [
    {
     "name": "stdout",
     "output_type": "stream",
     "text": [
      "+---------+--------+-----+--------------+-----+----+\n",
      "|loan_amnt|int_rate|  dti|home_ownership|grade|term|\n",
      "+---------+--------+-----+--------------+-----+----+\n",
      "|   7000.0|    7.99|23.64|          RENT|    A|36.0|\n",
      "|  20000.0|   12.74|24.29|          RENT|    C|60.0|\n",
      "|   5000.0|   11.49|22.63|      MORTGAGE|    B|36.0|\n",
      "|   7500.0|   11.44| 7.08|          RENT|    B|36.0|\n",
      "|   6000.0|   11.49| 18.8|          RENT|    B|36.0|\n",
      "|  12425.0|   14.99| 13.7|      MORTGAGE|    C|36.0|\n",
      "|   6200.0|    6.99| 8.71|      MORTGAGE|    A|36.0|\n",
      "|  30000.0|   13.99|30.88|      MORTGAGE|    C|36.0|\n",
      "|  20000.0|    8.24|10.53|          RENT|    B|36.0|\n",
      "|   7200.0|    7.49|33.01|      MORTGAGE|    A|36.0|\n",
      "|   5000.0|   12.74|34.12|           OWN|    C|36.0|\n",
      "|  20000.0|   13.99|17.61|      MORTGAGE|    C|36.0|\n",
      "|  33000.0|    6.99|16.24|      MORTGAGE|    A|36.0|\n",
      "|  12000.0|   12.74|17.24|      MORTGAGE|    C|36.0|\n",
      "|  40000.0|   10.49| 3.63|      MORTGAGE|    B|36.0|\n",
      "|   8400.0|    7.24|24.38|      MORTGAGE|    A|36.0|\n",
      "|  19950.0|   14.99|15.62|          RENT|    C|36.0|\n",
      "|  19050.0|   18.99|21.93|           OWN|    D|36.0|\n",
      "|  20000.0|   11.49|26.79|      MORTGAGE|    B|36.0|\n",
      "|   3400.0|   17.99|18.53|          RENT|    D|36.0|\n",
      "+---------+--------+-----+--------------+-----+----+\n",
      "only showing top 20 rows\n",
      "\n"
     ]
    }
   ],
   "source": [
    "dfWithCrunch.select(['loan_amnt','int_rate','dti','home_ownership','grade','term']).show()"
   ]
  },
  {
   "cell_type": "code",
   "execution_count": 42,
   "metadata": {
    "collapsed": true
   },
   "outputs": [],
   "source": [
    "#dfWithCrunch.select(['loan_amnt','int_rate','dti','home_ownership','grade']).printSchema()"
   ]
  },
  {
   "cell_type": "code",
   "execution_count": 43,
   "metadata": {},
   "outputs": [
    {
     "name": "stdout",
     "output_type": "stream",
     "text": [
      "+-------+------------------+-----------------+\n",
      "|summary|         loan_amnt|       annual_inc|\n",
      "+-------+------------------+-----------------+\n",
      "|  count|           1429645|          1429645|\n",
      "|   mean|15366.699302973815| 81111.6634481217|\n",
      "| stddev|  9641.85136599622|134222.5400492037|\n",
      "|    min|            1000.0|              0.0|\n",
      "|    max|           40000.0|            6.1E7|\n",
      "+-------+------------------+-----------------+\n",
      "\n"
     ]
    }
   ],
   "source": [
    "dfWithCrunch.select(['loan_amnt','annual_inc']).describe().show()"
   ]
  },
  {
   "cell_type": "code",
   "execution_count": null,
   "metadata": {
    "collapsed": true
   },
   "outputs": [],
   "source": []
  },
  {
   "cell_type": "code",
   "execution_count": 44,
   "metadata": {
    "collapsed": true
   },
   "outputs": [],
   "source": [
    "rawhive_df = dfWithCrunch.repartition(60).cache()\n",
    "#rawhive_df.registerTempTable(\"crunched_data\")"
   ]
  },
  {
   "cell_type": "code",
   "execution_count": 45,
   "metadata": {},
   "outputs": [
    {
     "data": {
      "text/plain": [
       "22"
      ]
     },
     "execution_count": 45,
     "metadata": {},
     "output_type": "execute_result"
    }
   ],
   "source": [
    "len(rawhive_df.columns)"
   ]
  },
  {
   "cell_type": "code",
   "execution_count": 46,
   "metadata": {},
   "outputs": [
    {
     "name": "stdout",
     "output_type": "stream",
     "text": [
      "root\n",
      " |-- loan_amnt: double (nullable = true)\n",
      " |-- term: double (nullable = true)\n",
      " |-- int_rate: double (nullable = true)\n",
      " |-- installment: double (nullable = true)\n",
      " |-- grade: string (nullable = true)\n",
      " |-- emp_length: string (nullable = true)\n",
      " |-- home_ownership: string (nullable = true)\n",
      " |-- annual_inc: double (nullable = true)\n",
      " |-- verification_status: string (nullable = true)\n",
      " |-- loan_status: string (nullable = true)\n",
      " |-- purpose: string (nullable = true)\n",
      " |-- addr_state: string (nullable = true)\n",
      " |-- dti: double (nullable = true)\n",
      " |-- delinq_2yrs: string (nullable = true)\n",
      " |-- earliest_cr_line: string (nullable = true)\n",
      " |-- inq_last_6mths: string (nullable = true)\n",
      " |-- open_acc: double (nullable = true)\n",
      " |-- pub_rec: double (nullable = true)\n",
      " |-- revol_bal: double (nullable = true)\n",
      " |-- revol_util: double (nullable = true)\n",
      " |-- total_acc: double (nullable = true)\n",
      " |-- last_credit_pull_d: string (nullable = true)\n",
      "\n"
     ]
    }
   ],
   "source": [
    "rawhive_df.printSchema()"
   ]
  },
  {
   "cell_type": "code",
   "execution_count": 47,
   "metadata": {
    "collapsed": true
   },
   "outputs": [],
   "source": [
    "#rawhive_df.select(['loan_amnt','int_rate','dti','home_ownership','grade']).printSchema()"
   ]
  },
  {
   "cell_type": "code",
   "execution_count": 48,
   "metadata": {},
   "outputs": [
    {
     "data": {
      "text/plain": [
       "1429645"
      ]
     },
     "execution_count": 48,
     "metadata": {},
     "output_type": "execute_result"
    }
   ],
   "source": [
    "rawhive_df.count()"
   ]
  },
  {
   "cell_type": "markdown",
   "metadata": {},
   "source": [
    "### Data Transformation: Normalization of \"annual_inc\" and \"loan_amnt\""
   ]
  },
  {
   "cell_type": "code",
   "execution_count": 49,
   "metadata": {
    "collapsed": true
   },
   "outputs": [],
   "source": [
    "from pyspark.sql.functions import *\n",
    "\n",
    "max_annual_inc = rawhive_df.select(max('annual_inc')).collect()[0][0]\n",
    "\n",
    "min_annual_inc = rawhive_df.select(min('annual_inc')).collect()[0][0]\n",
    "\n",
    "#sqlContext.udf.register(\"t_annual_inc\", lambda x: ((x-min_annual_inc)/(max_annual_inc-min_annual_inc)))"
   ]
  },
  {
   "cell_type": "code",
   "execution_count": 50,
   "metadata": {
    "collapsed": true
   },
   "outputs": [],
   "source": [
    "def t_annual_inc(origin):\n",
    "    return ((origin-min_annual_inc)/(max_annual_inc-min_annual_inc))"
   ]
  },
  {
   "cell_type": "code",
   "execution_count": 51,
   "metadata": {
    "collapsed": true
   },
   "outputs": [],
   "source": [
    "normalized_annual_inc = udf(lambda x: t_annual_inc(x),DoubleType())"
   ]
  },
  {
   "cell_type": "code",
   "execution_count": 52,
   "metadata": {
    "collapsed": true
   },
   "outputs": [],
   "source": [
    "max_loan_amnt = rawhive_df.select(max('loan_amnt')).collect()[0][0]\n",
    "\n",
    "min_loan_amnt = rawhive_df.select(min('loan_amnt')).collect()[0][0]\n",
    "\n",
    "#sqlContext.udf.register(\"t_loan_amnt\", lambda x: ((x-min_loan_amnt)/(max_loan_amnt-min_loan_amnt)))"
   ]
  },
  {
   "cell_type": "code",
   "execution_count": 53,
   "metadata": {
    "collapsed": true
   },
   "outputs": [],
   "source": [
    "def t_loan_amnt(origin):\n",
    "    return ((origin-min_loan_amnt)/(max_loan_amnt-min_loan_amnt))"
   ]
  },
  {
   "cell_type": "code",
   "execution_count": 54,
   "metadata": {
    "collapsed": true
   },
   "outputs": [],
   "source": [
    "normalized_loan_amnt = udf(lambda x: t_loan_amnt(x),DoubleType())"
   ]
  },
  {
   "cell_type": "code",
   "execution_count": 55,
   "metadata": {
    "collapsed": true
   },
   "outputs": [],
   "source": [
    "normalized_df = rawhive_df.withColumn('loan_amnt',normalized_loan_amnt(col('loan_amnt'))).\\\n",
    "withColumn('annual_inc',normalized_annual_inc(col('annual_inc')))"
   ]
  },
  {
   "cell_type": "code",
   "execution_count": 56,
   "metadata": {},
   "outputs": [
    {
     "name": "stdout",
     "output_type": "stream",
     "text": [
      "root\n",
      " |-- loan_amnt: double (nullable = true)\n",
      " |-- term: double (nullable = true)\n",
      " |-- int_rate: double (nullable = true)\n",
      " |-- installment: double (nullable = true)\n",
      " |-- grade: string (nullable = true)\n",
      " |-- emp_length: string (nullable = true)\n",
      " |-- home_ownership: string (nullable = true)\n",
      " |-- annual_inc: double (nullable = true)\n",
      " |-- verification_status: string (nullable = true)\n",
      " |-- loan_status: string (nullable = true)\n",
      " |-- purpose: string (nullable = true)\n",
      " |-- addr_state: string (nullable = true)\n",
      " |-- dti: double (nullable = true)\n",
      " |-- delinq_2yrs: string (nullable = true)\n",
      " |-- earliest_cr_line: string (nullable = true)\n",
      " |-- inq_last_6mths: string (nullable = true)\n",
      " |-- open_acc: double (nullable = true)\n",
      " |-- pub_rec: double (nullable = true)\n",
      " |-- revol_bal: double (nullable = true)\n",
      " |-- revol_util: double (nullable = true)\n",
      " |-- total_acc: double (nullable = true)\n",
      " |-- last_credit_pull_d: string (nullable = true)\n",
      "\n"
     ]
    }
   ],
   "source": [
    "normalized_df.printSchema()"
   ]
  },
  {
   "cell_type": "markdown",
   "metadata": {},
   "source": [
    "### Number of data rows that are only \"Fully Paid\" and \"Charged Off\""
   ]
  },
  {
   "cell_type": "code",
   "execution_count": 57,
   "metadata": {
    "collapsed": true
   },
   "outputs": [],
   "source": [
    "from pyspark.sql.functions import col"
   ]
  },
  {
   "cell_type": "code",
   "execution_count": 58,
   "metadata": {},
   "outputs": [
    {
     "name": "stdout",
     "output_type": "stream",
     "text": [
      "+---------+----+--------+-----------+-----+--------------------+---------+-----------+\n",
      "|loan_amnt|term|int_rate|installment|grade|          annual_inc|revol_bal|loan_status|\n",
      "+---------+----+--------+-----------+-----+--------------------+---------+-----------+\n",
      "|      0.0|36.0|    5.31|      30.12|    A|4.098360655737705E-4|   3215.0|    Current|\n",
      "|      0.0|36.0|    5.31|      30.12|    A|5.081967213114754E-4|  25993.0| Fully Paid|\n",
      "|      0.0|36.0|    5.31|      30.12|    A|5.901639344262295E-4|   3311.0| Fully Paid|\n",
      "|      0.0|36.0|    5.31|      30.12|    A|6.065573770491804E-4|   1605.0| Fully Paid|\n",
      "|      0.0|36.0|    5.31|      30.12|    A|6.557377049180328E-4|   1329.0|    Current|\n",
      "|      0.0|36.0|    5.31|      30.12|    A|6.557377049180328E-4|   1016.0| Fully Paid|\n",
      "|      0.0|36.0|    5.31|      30.12|    A|7.180327868852459E-4|    804.0|    Current|\n",
      "|      0.0|36.0|    5.31|      30.12|    A|9.344262295081968E-4|    858.0| Fully Paid|\n",
      "|      0.0|36.0|    5.31|      30.12|    A|0.001557377049180328|   2608.0| Fully Paid|\n",
      "|      0.0|36.0|    5.32|      30.12|    A|2.948852459016393E-4|   3092.0|Charged Off|\n",
      "|      0.0|36.0|    5.32|      30.12|    A|3.278688524590164E-4|   1059.0| Fully Paid|\n",
      "|      0.0|36.0|    5.32|      30.12|    A|3.399344262295082E-4|   4521.0|Charged Off|\n",
      "|      0.0|36.0|    5.32|      30.12|    A|4.918032786885246E-4|   5394.0| Fully Paid|\n",
      "|      0.0|36.0|    5.32|      30.12|    A|4.918032786885246E-4|   8631.0|    Current|\n",
      "|      0.0|36.0|    5.32|      30.12|    A| 5.40983606557377E-4|   3869.0|    Current|\n",
      "|      0.0|36.0|    5.32|      30.12|    A| 5.40983606557377E-4|   3869.0|    Current|\n",
      "|      0.0|36.0|    5.32|      30.12|    A| 5.40983606557377E-4|   3869.0|    Current|\n",
      "|      0.0|36.0|    5.32|      30.12|    A| 5.40983606557377E-4|    464.0| Fully Paid|\n",
      "|      0.0|36.0|    5.32|      30.12|    A| 5.40983606557377E-4|   3869.0|    Current|\n",
      "|      0.0|36.0|    5.32|      30.12|    A|5.734426229508197E-4|   1277.0|    Current|\n",
      "+---------+----+--------+-----------+-----+--------------------+---------+-----------+\n",
      "only showing top 20 rows\n",
      "\n"
     ]
    }
   ],
   "source": [
    "normalized_df.select(['loan_amnt','term','int_rate','installment','grade','annual_inc','revol_bal','loan_status']).\\\n",
    "orderBy(['loan_amnt','term','int_rate','installment','grade','annual_inc']).show()"
   ]
  },
  {
   "cell_type": "code",
   "execution_count": 59,
   "metadata": {
    "collapsed": true
   },
   "outputs": [],
   "source": [
    "normalized_filtered_df = normalized_df.filter(col('loan_status') == 'Fully Paid').\\\n",
    "union(normalized_df.filter(col('loan_status') == 'Charged Off'))"
   ]
  },
  {
   "cell_type": "code",
   "execution_count": 60,
   "metadata": {
    "collapsed": true
   },
   "outputs": [],
   "source": [
    "data = normalized_filtered_df.repartition(60).cache()"
   ]
  },
  {
   "cell_type": "markdown",
   "metadata": {},
   "source": [
    "### Drop Null"
   ]
  },
  {
   "cell_type": "code",
   "execution_count": 61,
   "metadata": {
    "collapsed": true
   },
   "outputs": [],
   "source": [
    "data_no_missing_df = data.dropna(how='any')"
   ]
  },
  {
   "cell_type": "code",
   "execution_count": 62,
   "metadata": {},
   "outputs": [
    {
     "data": {
      "text/plain": [
       "735740"
      ]
     },
     "execution_count": 62,
     "metadata": {},
     "output_type": "execute_result"
    }
   ],
   "source": [
    "data_no_missing_df.count()"
   ]
  },
  {
   "cell_type": "markdown",
   "metadata": {},
   "source": [
    "# 3. Data Modeling"
   ]
  },
  {
   "cell_type": "code",
   "execution_count": 63,
   "metadata": {
    "collapsed": true
   },
   "outputs": [],
   "source": [
    "import pyspark\n",
    "from pyspark.sql import SQLContext\n",
    "from pyspark.sql.types import *\n",
    "from pyspark.ml.feature import OneHotEncoder, StringIndexer\n",
    "from pyspark.ml.feature import VectorAssembler\n",
    "from pyspark.mllib.clustering import KMeans, KMeansModel\n",
    "from pyspark.ml.feature import StringIndexer, VectorAssembler, OneHotEncoder,\\\n",
    "VectorIndexer, QuantileDiscretizer\n",
    "from pyspark.ml.tuning import ParamGridBuilder, CrossValidator\n",
    "from pyspark.ml.evaluation import MulticlassClassificationEvaluator, BinaryClassificationEvaluator\n",
    "from pyspark.ml.classification import LogisticRegression, GBTClassifier, NaiveBayes\\\n",
    ", RandomForestClassifier, DecisionTreeClassifier, MultilayerPerceptronClassifier\n",
    "from pyspark.ml import Pipeline\n",
    "from pyspark.ml.clustering import *"
   ]
  },
  {
   "cell_type": "code",
   "execution_count": null,
   "metadata": {
    "collapsed": true
   },
   "outputs": [],
   "source": []
  },
  {
   "cell_type": "code",
   "execution_count": 64,
   "metadata": {
    "collapsed": true
   },
   "outputs": [],
   "source": [
    "data_no_missing_df_fully_paid = data_no_missing_df.filter(col('loan_status') == 'Fully Paid').sample(True, 0.3, 42)"
   ]
  },
  {
   "cell_type": "code",
   "execution_count": 65,
   "metadata": {
    "collapsed": true
   },
   "outputs": [],
   "source": [
    "data_no_missing_df_charge_off = data_no_missing_df.filter(col('loan_status') == 'Charged Off')"
   ]
  },
  {
   "cell_type": "code",
   "execution_count": 66,
   "metadata": {
    "collapsed": true
   },
   "outputs": [],
   "source": [
    "final_data_no_missing_df = data_no_missing_df_fully_paid.union(data_no_missing_df_charge_off)"
   ]
  },
  {
   "cell_type": "code",
   "execution_count": 67,
   "metadata": {
    "collapsed": true
   },
   "outputs": [],
   "source": [
    "training , test = final_data_no_missing_df.filter(col('loan_amnt') > 0).randomSplit([0.8,0.2])"
   ]
  },
  {
   "cell_type": "code",
   "execution_count": null,
   "metadata": {
    "collapsed": true
   },
   "outputs": [],
   "source": []
  },
  {
   "cell_type": "markdown",
   "metadata": {
    "collapsed": true
   },
   "source": [
    "## Calculation for Confusion Matrix."
   ]
  },
  {
   "cell_type": "code",
   "execution_count": 68,
   "metadata": {
    "collapsed": true
   },
   "outputs": [],
   "source": [
    "def eval_metrics(lap):\n",
    "\n",
    "    tp = float(len(lap[(lap['loan_status']=='Charged Off') &\\\n",
    "                       (lap['prediction_label']=='Charged Off')]))\n",
    "    \n",
    "    fn = float(len(lap[(lap['loan_status']=='Charged Off') &\\\n",
    "                       (lap['prediction_label']=='Fully Paid')]))\n",
    "\n",
    "    tn = float(len(lap[(lap['loan_status']=='Fully Paid') &\\\n",
    "                       (lap['prediction_label']=='Fully Paid')]))\n",
    "\n",
    "    fp = float(len(lap[(lap['loan_status']=='Fully Paid') &\\\n",
    "                       (lap['prediction_label']=='Charged Off')]))\n",
    "\n",
    "\n",
    "    try:\n",
    "        positivepredictivevalue = tp / (tp+fp)\n",
    "        negativepredictivevalue = tn / (tn+fn)\n",
    "        sensitivity = tp / (tp+fn)\n",
    "        specificity = tn / (tn+fp)\n",
    "        accuracy = (tp+tn) / (tp+tn+fp+fn)\n",
    "        return {'PPV': positivepredictivevalue, 'Sensitivity': sensitivity,\\\n",
    "            'NPV':negativepredictivevalue, 'Specificity': specificity, 'Accuracy': accuracy}\n",
    "    except ZeroDivisionError:\n",
    "        return 0\n",
    "\n",
    "    "
   ]
  },
  {
   "cell_type": "code",
   "execution_count": 69,
   "metadata": {},
   "outputs": [
    {
     "name": "stdout",
     "output_type": "stream",
     "text": [
      "Requirement already satisfied: pandas in /root/anaconda3/lib/python3.6/site-packages\n",
      "Requirement already satisfied: python-dateutil>=2 in /root/anaconda3/lib/python3.6/site-packages (from pandas)\n",
      "Requirement already satisfied: pytz>=2011k in /root/anaconda3/lib/python3.6/site-packages (from pandas)\n",
      "Requirement already satisfied: numpy>=1.7.0 in /root/anaconda3/lib/python3.6/site-packages (from pandas)\n",
      "Requirement already satisfied: six>=1.5 in /root/anaconda3/lib/python3.6/site-packages (from python-dateutil>=2->pandas)\n",
      "\u001b[33mYou are using pip version 9.0.1, however version 20.2.4 is available.\n",
      "You should consider upgrading via the 'pip install --upgrade pip' command.\u001b[0m\n"
     ]
    }
   ],
   "source": [
    "! pip install pandas"
   ]
  },
  {
   "cell_type": "code",
   "execution_count": null,
   "metadata": {
    "collapsed": true
   },
   "outputs": [],
   "source": []
  },
  {
   "cell_type": "code",
   "execution_count": null,
   "metadata": {
    "collapsed": true
   },
   "outputs": [],
   "source": []
  },
  {
   "cell_type": "markdown",
   "metadata": {
    "collapsed": true
   },
   "source": [
    "# Jan2020"
   ]
  },
  {
   "cell_type": "code",
   "execution_count": 70,
   "metadata": {
    "collapsed": true
   },
   "outputs": [],
   "source": [
    "from pyspark.ml.feature import QuantileDiscretizer\n",
    "from pyspark.ml.feature import Bucketizer"
   ]
  },
  {
   "cell_type": "raw",
   "metadata": {},
   "source": [
    "    assembler = VectorAssembler(inputCols=[encoder.getOutputCol() for encoder in encoders]\n",
    "                                + continuousCols +\\\n",
    "                                [discretizer.getOutputCol() for discretizer in discretizers], \\\n",
    "                                outputCol='features')"
   ]
  },
  {
   "cell_type": "code",
   "execution_count": 71,
   "metadata": {
    "collapsed": true
   },
   "outputs": [],
   "source": [
    "def get_model(df,categoricalCols,continuousCols,\\\n",
    "              discretedCols,split_range,labelCol):\n",
    "\n",
    "    from pyspark.ml import Pipeline\n",
    "    from pyspark.ml.feature import StringIndexer, OneHotEncoder, VectorAssembler\n",
    "    from pyspark.sql.functions import col\n",
    "    \n",
    "    \n",
    "    labelIndexer = StringIndexer(inputCol=labelCol,\\\n",
    "                             outputCol='indexedLabel',\\\n",
    "                             handleInvalid='keep')\n",
    "\n",
    "    indexers = [ StringIndexer(handleInvalid='keep',\\\n",
    "                               inputCol=c, outputCol=\"{0}_indexed\".format(c))\n",
    "                 for c in categoricalCols ]\n",
    "\n",
    "    # default setting: dropLast=True\n",
    "    encoders = [ OneHotEncoder(inputCol=indexer.getOutputCol(),\n",
    "                 outputCol=\"{0}_encoded\".format(indexer.getOutputCol()))\n",
    "                 for indexer in indexers ]\n",
    "    discretizers = [ Bucketizer(inputCol=d, outputCol=\"{0}_discretized\".format(d)\\\n",
    "                 ,splits=split_range)\n",
    "                 for d in discretedCols ]\n",
    "    \n",
    "    \n",
    "    featureCols = ['features']\n",
    "    assembler = VectorAssembler(inputCols=[encoder.getOutputCol() for encoder in encoders]\n",
    "                                + continuousCols +\\\n",
    "                                [discretizer.getOutputCol() for discretizer in discretizers], \\\n",
    "                                outputCol='features')\n",
    "    \n",
    "\n",
    "    pipeline_feature = Pipeline(stages=[labelIndexer] + indexers + encoders + discretizers + \\\n",
    "                        [assembler])\n",
    "    \n",
    "    \n",
    "    \n",
    "    train_df_features = pipeline_feature.fit(training).transform(training)\n",
    "    \n",
    "    layers = [\n",
    "    train_df_features.schema[\"features\"].metadata[\"ml_attr\"][\"num_attrs\"],\n",
    "    20, 10, 5, 2]\n",
    "    \n",
    "    \n",
    "    clf = MultilayerPerceptronClassifier(labelCol='indexedLabel',featuresCol='features'\\\n",
    "                                     ,layers=layers)\n",
    "    \n",
    "    \n",
    "    pipeline = Pipeline(stages=[labelIndexer] + indexers + encoders + discretizers + \\\n",
    "                        [assembler] + [clf])\n",
    "    \n",
    "\n",
    "\n",
    "    model=pipeline.fit(df)\n",
    "\n",
    "\n",
    "    return model"
   ]
  },
  {
   "cell_type": "code",
   "execution_count": 72,
   "metadata": {},
   "outputs": [
    {
     "data": {
      "text/plain": [
       "DataFrame[loan_amnt: double, term: double, int_rate: double, installment: double, grade: string, emp_length: string, home_ownership: string, annual_inc: double, verification_status: string, loan_status: string, purpose: string, addr_state: string, dti: double, delinq_2yrs: string, earliest_cr_line: string, inq_last_6mths: string, open_acc: double, pub_rec: double, revol_bal: double, revol_util: double, total_acc: double, last_credit_pull_d: string]"
      ]
     },
     "execution_count": 72,
     "metadata": {},
     "output_type": "execute_result"
    }
   ],
   "source": [
    "training"
   ]
  },
  {
   "cell_type": "code",
   "execution_count": 73,
   "metadata": {},
   "outputs": [
    {
     "name": "stdout",
     "output_type": "stream",
     "text": [
      "+-------+------+\n",
      "|summary| grade|\n",
      "+-------+------+\n",
      "|  count|261100|\n",
      "|   mean|  null|\n",
      "| stddev|  null|\n",
      "|    min|     A|\n",
      "|    max|     G|\n",
      "+-------+------+\n",
      "\n"
     ]
    }
   ],
   "source": [
    "training.select('grade').describe().show()"
   ]
  },
  {
   "cell_type": "code",
   "execution_count": 74,
   "metadata": {
    "collapsed": true
   },
   "outputs": [],
   "source": [
    "catcols = [\\\n",
    "           'emp_length',\\\n",
    "           'home_ownership',\\\n",
    "           'verification_status',\\\n",
    "           #'purpose',\\\n",
    "           'grade',\\\n",
    "           'addr_state'\\\n",
    "          ]\n",
    "\n",
    "num_cols = [\\\n",
    "            #'dti',\\\n",
    "            'loan_amnt',\\\n",
    "            'int_rate',\\\n",
    "            'installment',\\\n",
    "            'annual_inc',\\\n",
    "            #'revol_bal',\\\n",
    "            #'delinq_2yrs',\\\n",
    "            'pub_rec',\\\n",
    "            #'revol_util'\\\n",
    "            'total_acc'\\\n",
    "           ]\n",
    "\n",
    "discols = [\\\n",
    "           #'pub_rec',\\\n",
    "           'dti',\\\n",
    "           #'installment'\\\n",
    "          ]\n",
    "\n",
    "\n",
    "\n",
    "labelCol = 'loan_status'\n",
    "\n",
    "splits = [-1.0, 0.0, 1.0, 2.0, 3.0, 4.0, float(\"inf\")]"
   ]
  },
  {
   "cell_type": "code",
   "execution_count": 75,
   "metadata": {},
   "outputs": [
    {
     "data": {
      "text/plain": [
       "[('loan_amnt', 'int_rate'),\n",
       " ('loan_amnt', 'installment'),\n",
       " ('loan_amnt', 'annual_inc'),\n",
       " ('loan_amnt', 'pub_rec'),\n",
       " ('loan_amnt', 'total_acc'),\n",
       " ('int_rate', 'installment'),\n",
       " ('int_rate', 'annual_inc'),\n",
       " ('int_rate', 'pub_rec'),\n",
       " ('int_rate', 'total_acc'),\n",
       " ('installment', 'annual_inc'),\n",
       " ('installment', 'pub_rec'),\n",
       " ('installment', 'total_acc'),\n",
       " ('annual_inc', 'pub_rec'),\n",
       " ('annual_inc', 'total_acc'),\n",
       " ('pub_rec', 'total_acc')]"
      ]
     },
     "execution_count": 75,
     "metadata": {},
     "output_type": "execute_result"
    }
   ],
   "source": [
    "from itertools import combinations, chain \n",
    "list(combinations(num_cols, 2))"
   ]
  },
  {
   "cell_type": "code",
   "execution_count": 76,
   "metadata": {},
   "outputs": [
    {
     "name": "stdout",
     "output_type": "stream",
     "text": [
      "['loan_amnt']\n",
      "['int_rate']\n",
      "['installment']\n",
      "['annual_inc']\n",
      "['pub_rec']\n",
      "['total_acc']\n",
      "['loan_amnt', 'int_rate']\n",
      "['loan_amnt', 'installment']\n",
      "['loan_amnt', 'annual_inc']\n",
      "['loan_amnt', 'pub_rec']\n",
      "['loan_amnt', 'total_acc']\n",
      "['int_rate', 'installment']\n",
      "['int_rate', 'annual_inc']\n",
      "['int_rate', 'pub_rec']\n",
      "['int_rate', 'total_acc']\n",
      "['installment', 'annual_inc']\n",
      "['installment', 'pub_rec']\n",
      "['installment', 'total_acc']\n",
      "['annual_inc', 'pub_rec']\n",
      "['annual_inc', 'total_acc']\n",
      "['pub_rec', 'total_acc']\n",
      "['loan_amnt', 'int_rate', 'installment']\n",
      "['loan_amnt', 'int_rate', 'annual_inc']\n",
      "['loan_amnt', 'int_rate', 'pub_rec']\n",
      "['loan_amnt', 'int_rate', 'total_acc']\n",
      "['loan_amnt', 'installment', 'annual_inc']\n",
      "['loan_amnt', 'installment', 'pub_rec']\n",
      "['loan_amnt', 'installment', 'total_acc']\n",
      "['loan_amnt', 'annual_inc', 'pub_rec']\n",
      "['loan_amnt', 'annual_inc', 'total_acc']\n",
      "['loan_amnt', 'pub_rec', 'total_acc']\n",
      "['int_rate', 'installment', 'annual_inc']\n",
      "['int_rate', 'installment', 'pub_rec']\n",
      "['int_rate', 'installment', 'total_acc']\n",
      "['int_rate', 'annual_inc', 'pub_rec']\n",
      "['int_rate', 'annual_inc', 'total_acc']\n",
      "['int_rate', 'pub_rec', 'total_acc']\n",
      "['installment', 'annual_inc', 'pub_rec']\n",
      "['installment', 'annual_inc', 'total_acc']\n",
      "['installment', 'pub_rec', 'total_acc']\n",
      "['annual_inc', 'pub_rec', 'total_acc']\n",
      "['loan_amnt', 'int_rate', 'installment', 'annual_inc']\n",
      "['loan_amnt', 'int_rate', 'installment', 'pub_rec']\n",
      "['loan_amnt', 'int_rate', 'installment', 'total_acc']\n",
      "['loan_amnt', 'int_rate', 'annual_inc', 'pub_rec']\n",
      "['loan_amnt', 'int_rate', 'annual_inc', 'total_acc']\n",
      "['loan_amnt', 'int_rate', 'pub_rec', 'total_acc']\n",
      "['loan_amnt', 'installment', 'annual_inc', 'pub_rec']\n",
      "['loan_amnt', 'installment', 'annual_inc', 'total_acc']\n",
      "['loan_amnt', 'installment', 'pub_rec', 'total_acc']\n",
      "['loan_amnt', 'annual_inc', 'pub_rec', 'total_acc']\n",
      "['int_rate', 'installment', 'annual_inc', 'pub_rec']\n",
      "['int_rate', 'installment', 'annual_inc', 'total_acc']\n",
      "['int_rate', 'installment', 'pub_rec', 'total_acc']\n",
      "['int_rate', 'annual_inc', 'pub_rec', 'total_acc']\n",
      "['installment', 'annual_inc', 'pub_rec', 'total_acc']\n",
      "['loan_amnt', 'int_rate', 'installment', 'annual_inc', 'pub_rec']\n",
      "['loan_amnt', 'int_rate', 'installment', 'annual_inc', 'total_acc']\n",
      "['loan_amnt', 'int_rate', 'installment', 'pub_rec', 'total_acc']\n",
      "['loan_amnt', 'int_rate', 'annual_inc', 'pub_rec', 'total_acc']\n",
      "['loan_amnt', 'installment', 'annual_inc', 'pub_rec', 'total_acc']\n",
      "['int_rate', 'installment', 'annual_inc', 'pub_rec', 'total_acc']\n",
      "['loan_amnt', 'int_rate', 'installment', 'annual_inc', 'pub_rec', 'total_acc']\n"
     ]
    }
   ],
   "source": [
    "for k in range(len(num_cols)):\n",
    "    for l in (list(combinations(num_cols, k+1))):\n",
    "        print(list(l))\n",
    "            "
   ]
  },
  {
   "cell_type": "code",
   "execution_count": 77,
   "metadata": {
    "collapsed": true
   },
   "outputs": [],
   "source": [
    "spark_labeling = udf(lambda x: \"Charged Off\" if x == 1.0 else \"Fully Paid\")"
   ]
  },
  {
   "cell_type": "code",
   "execution_count": 78,
   "metadata": {
    "collapsed": true
   },
   "outputs": [],
   "source": [
    "result_list = []"
   ]
  },
  {
   "cell_type": "code",
   "execution_count": 79,
   "metadata": {},
   "outputs": [
    {
     "name": "stdout",
     "output_type": "stream",
     "text": [
      "รอบแรกใช้ categorical ('emp_length',) และ numerical ['loan_amnt'] ได้ Model ที่มี {'PPV': 0.5352261838721065, 'Sensitivity': 0.3501715718622146, 'NPV': 0.5635263612791702, 'Specificity': 0.7339799099411154, 'Accuracy': 0.5548866855524079}\n",
      "รอบแรกใช้ categorical ('emp_length',) และ numerical ['int_rate'] ได้ Model ที่มี {'PPV': 0.6171826942792701, 'Sensitivity': 0.5958822753068497, 'NPV': 0.6568226393947885, 'Specificity': 0.676653966054728, 'Accuracy': 0.6389641581475551}\n",
      "รอบแรกใช้ categorical ('emp_length',) และ numerical ['installment'] ได้ Model ที่มี 0\n",
      "รอบแรกใช้ categorical ('emp_length',) และ numerical ['annual_inc'] ได้ Model ที่มี {'PPV': 0.573597232897771, 'Sensitivity': 0.09848884782895605, 'NPV': 0.5426959898239272, 'Specificity': 0.9359485047915945, 'Accuracy': 0.5451718191895554}\n",
      "รอบแรกใช้ categorical ('emp_length',) และ numerical ['pub_rec'] ได้ Model ที่มี {'PPV': 0.541671090349294, 'Sensitivity': 0.1683383925036294, 'NPV': 0.5461077197342121, 'Specificity': 0.8753896778662972, 'Accuracy': 0.5454643428993718}\n",
      "รอบแรกใช้ categorical ('emp_length',) และ numerical ['total_acc'] ได้ Model ที่มี {'PPV': 0.541965261751488, 'Sensitivity': 0.14722185561567902, 'NPV': 0.5443149561875209, 'Specificity': 0.8911499826809837, 'Accuracy': 0.5440171203350166}\n",
      "รอบแรกใช้ categorical ('emp_length',) และ numerical ['loan_amnt', 'int_rate'] ได้ Model ที่มี {'PPV': 0.6191366417403127, 'Sensitivity': 0.6009964365844002, 'NPV': 0.6596588990206012, 'Specificity': 0.6765673709733288, 'Accuracy': 0.6413043478260869}\n",
      "รอบแรกใช้ categorical ('emp_length',) และ numerical ['loan_amnt', 'installment'] ได้ Model ที่มี 0\n",
      "รอบแรกใช้ categorical ('emp_length',) และ numerical ['loan_amnt', 'annual_inc'] ได้ Model ที่มี {'PPV': 0.5323139750225557, 'Sensitivity': 0.3698693414280058, 'NPV': 0.5648964527373386, 'Specificity': 0.7157083477658469, 'Accuracy': 0.5543324301022293}\n",
      "รอบแรกใช้ categorical ('emp_length',) และ numerical ['loan_amnt', 'pub_rec'] ได้ Model ที่มี {'PPV': 0.5454545454545454, 'Sensitivity': 0.34406757291804146, 'NPV': 0.5662608543875726, 'Specificity': 0.7491629142131394, 'Accuracy': 0.5601367163443773}\n",
      "รอบแรกใช้ categorical ('emp_length',) และ numerical ['loan_amnt', 'total_acc'] ได้ Model ที่มี {'PPV': 0.5540153282239254, 'Sensitivity': 0.27428401742114294, 'NPV': 0.5596332112038761, 'Specificity': 0.8068352384251242, 'Accuracy': 0.558335386131297}\n",
      "รอบแรกใช้ categorical ('emp_length',) และ numerical ['int_rate', 'installment'] ได้ Model ที่มี {'PPV': 0.6019028851186994, 'Sensitivity': 0.6449782235713343, 'NPV': 0.6686682063125481, 'Specificity': 0.6268040641958204, 'Accuracy': 0.6352845177977583}\n",
      "รอบแรกใช้ categorical ('emp_length',) และ numerical ['int_rate', 'annual_inc'] ได้ Model ที่มี {'PPV': 0.6152157021722239, 'Sensitivity': 0.6008644582288505, 'NPV': 0.6578031738847557, 'Specificity': 0.6712273409537005, 'Accuracy': 0.6383945067126493}\n",
      "รอบแรกใช้ categorical ('emp_length',) และ numerical ['int_rate', 'pub_rec'] ได้ Model ที่มี {'PPV': 0.6158571573227124, 'Sensitivity': 0.6020192688399103, 'NPV': 0.6585421089879688, 'Specificity': 0.6714871261978986, 'Accuracy': 0.6390719300406454}\n",
      "รอบแรกใช้ categorical ('emp_length',) และ numerical ['int_rate', 'total_acc'] ได้ Model ที่มี {'PPV': 0.6107441799633796, 'Sensitivity': 0.6163059258281642, 'NPV': 0.6616329143389199, 'Specificity': 0.6563618519801409, 'Accuracy': 0.6376708954304717}\n",
      "รอบแรกใช้ categorical ('emp_length',) และ numerical ['installment', 'annual_inc'] ได้ Model ที่มี {'PPV': 0.5237354412815877, 'Sensitivity': 0.4109805991817342, 'NPV': 0.5663727562000535, 'Specificity': 0.6730458376630875, 'Accuracy': 0.5507605616455229}\n",
      "รอบแรกใช้ categorical ('emp_length',) และ numerical ['installment', 'pub_rec'] ได้ Model ที่มี {'PPV': 0.5243307146670735, 'Sensitivity': 0.45364260261317146, 'NPV': 0.5724502969274464, 'Specificity': 0.6399665165685255, 'Accuracy': 0.5530237714004188}\n",
      "รอบแรกใช้ categorical ('emp_length',) และ numerical ['installment', 'total_acc'] ได้ Model ที่มี 0\n",
      "รอบแรกใช้ categorical ('emp_length',) และ numerical ['annual_inc', 'pub_rec'] ได้ Model ที่มี {'PPV': 0.5378655988857939, 'Sensitivity': 0.2038735647353834, 'NPV': 0.548686966931019, 'Specificity': 0.8467555709502367, 'Accuracy': 0.5467730016011824}\n",
      "รอบแรกใช้ categorical ('emp_length',) และ numerical ['annual_inc', 'total_acc'] ได้ Model ที่มี {'PPV': 0.5497366881217086, 'Sensitivity': 0.12399366503893361, 'NPV': 0.5431550691720008, 'Specificity': 0.9111534464842397, 'Accuracy': 0.5438477645030176}\n",
      "รอบแรกใช้ categorical ('emp_length',) และ numerical ['pub_rec', 'total_acc'] ได้ Model ที่มี {'PPV': 0.5285525543159131, 'Sensitivity': 0.23759403457832914, 'NPV': 0.5498168640897756, 'Specificity': 0.8145999307239349, 'Accuracy': 0.5453565710062815}\n",
      "รอบแรกใช้ categorical ('emp_length',) และ numerical ['loan_amnt', 'int_rate', 'installment'] ได้ Model ที่มี 0\n",
      "รอบแรกใช้ categorical ('emp_length',) และ numerical ['loan_amnt', 'int_rate', 'annual_inc'] ได้ Model ที่มี {'PPV': 0.6199534692760367, 'Sensitivity': 0.5978619506400951, 'NPV': 0.6588287985667899, 'Specificity': 0.6793672786052419, 'Accuracy': 0.6413351397955414}\n",
      "รอบแรกใช้ categorical ('emp_length',) และ numerical ['loan_amnt', 'int_rate', 'pub_rec'] ได้ Model ที่มี {'PPV': 0.6193329947519892, 'Sensitivity': 0.6035370199287317, 'NPV': 0.6607278990315385, 'Specificity': 0.6754704999422699, 'Accuracy': 0.6419047912304471}\n",
      "รอบแรกใช้ categorical ('emp_length',) และ numerical ['loan_amnt', 'int_rate', 'total_acc'] ได้ Model ที่มี {'PPV': 0.6187728343633694, 'Sensitivity': 0.5979279398178698, 'NPV': 0.6583204822655264, 'Specificity': 0.6777219720586537, 'Accuracy': 0.6404883606355463}\n",
      "รอบแรกใช้ categorical ('emp_length',) และ numerical ['loan_amnt', 'installment', 'annual_inc'] ได้ Model ที่มี {'PPV': 0.5235164141414141, 'Sensitivity': 0.43777220535832123, 'NPV': 0.5697838820440315, 'Specificity': 0.6514259323403764, 'Accuracy': 0.5517305086833354}\n",
      "รอบแรกใช้ categorical ('emp_length',) และ numerical ['loan_amnt', 'installment', 'pub_rec'] ได้ Model ที่มี {'PPV': 0.5296451399603262, 'Sensitivity': 0.3964299854823809, 'NPV': 0.5672037286772187, 'Specificity': 0.6920101604895509, 'Accuracy': 0.5540860943465944}\n",
      "รอบแรกใช้ categorical ('emp_length',) และ numerical ['loan_amnt', 'installment', 'total_acc'] ได้ Model ที่มี {'PPV': 0.5393381848139503, 'Sensitivity': 0.2592054902995909, 'NPV': 0.5544000317548525, 'Specificity': 0.8063156679367278, 'Accuracy': 0.5510222933858849}\n",
      "รอบแรกใช้ categorical ('emp_length',) และ numerical ['loan_amnt', 'annual_inc', 'pub_rec'] ได้ Model ที่มี {'PPV': 0.5447566325464801, 'Sensitivity': 0.3441665566847037, 'NPV': 0.5660422670509125, 'Specificity': 0.7483835584805449, 'Accuracy': 0.559767212710925}\n",
      "รอบแรกใช้ categorical ('emp_length',) และ numerical ['loan_amnt', 'annual_inc', 'total_acc'] ได้ Model ที่มี {'PPV': 0.539040742650851, 'Sensitivity': 0.3448594430513396, 'NPV': 0.5641982353715815, 'Specificity': 0.7420043874841242, 'Accuracy': 0.5566880157654883}\n",
      "รอบแรกใช้ categorical ('emp_length',) และ numerical ['loan_amnt', 'pub_rec', 'total_acc'] ได้ Model ที่มี {'PPV': 0.5439116508103456, 'Sensitivity': 0.37537943777220534, 'NPV': 0.5700919722947655, 'Specificity': 0.7246276411499827, 'Accuracy': 0.5616609188323686}\n",
      "รอบแรกใช้ categorical ('emp_length',) และ numerical ['int_rate', 'installment', 'annual_inc'] ได้ Model ที่มี {'PPV': 0.6085252795565326, 'Sensitivity': 0.6302296423386564, 'NPV': 0.6660906355212586, 'Specificity': 0.6453065465881538, 'Accuracy': 0.6382713388348319}\n",
      "รอบแรกใช้ categorical ('emp_length',) และ numerical ['int_rate', 'installment', 'pub_rec'] ได้ Model ที่มี {'PPV': 0.6055515205103105, 'Sensitivity': 0.6327042365052131, 'NPV': 0.6655550548295027, 'Specificity': 0.6394469460801293, 'Accuracy': 0.6363006527897525}\n",
      "รอบแรกใช้ categorical ('emp_length',) และ numerical ['int_rate', 'installment', 'total_acc'] ได้ Model ที่มี {'PPV': 0.5816201248661216, 'Sensitivity': 0.7346245215784611, 'NPV': 0.6984365040680889, 'Specificity': 0.5376977254358619, 'Accuracy': 0.6295880034487006}\n",
      "รอบแรกใช้ categorical ('emp_length',) และ numerical ['int_rate', 'annual_inc', 'pub_rec'] ได้ Model ที่มี {'PPV': 0.6163355408388521, 'Sensitivity': 0.5987857991289428, 'NPV': 0.6575323175711831, 'Specificity': 0.6739117884770812, 'Accuracy': 0.6388563862544648}\n"
     ]
    },
    {
     "name": "stdout",
     "output_type": "stream",
     "text": [
      "รอบแรกใช้ categorical ('emp_length',) และ numerical ['int_rate', 'annual_inc', 'total_acc'] ได้ Model ที่มี {'PPV': 0.612692704691506, 'Sensitivity': 0.6071334301174607, 'NPV': 0.6590108536899683, 'Specificity': 0.6642420043874842, 'Accuracy': 0.6375939155068359}\n",
      "รอบแรกใช้ categorical ('emp_length',) และ numerical ['int_rate', 'pub_rec', 'total_acc'] ได้ Model ที่มี {'PPV': 0.6161051259177932, 'Sensitivity': 0.5924838326514451, 'NPV': 0.6550578115399653, 'Specificity': 0.6770292114074588, 'Accuracy': 0.6375785195221086}\n",
      "รอบแรกใช้ categorical ('emp_length',) และ numerical ['installment', 'annual_inc', 'pub_rec'] ได้ Model ที่มี 0\n",
      "รอบแรกใช้ categorical ('emp_length',) และ numerical ['installment', 'annual_inc', 'total_acc'] ได้ Model ที่มี {'PPV': 0.5656771799628942, 'Sensitivity': 0.10060050151775109, 'NPV': 0.5423424330949262, 'Specificity': 0.9324269714813532, 'Accuracy': 0.5442788520753787}\n",
      "รอบแรกใช้ categorical ('emp_length',) และ numerical ['installment', 'pub_rec', 'total_acc'] ได้ Model ที่มี {'PPV': 0.5895606458880961, 'Sensitivity': 0.05180150455325327, 'NPV': 0.5386344298351233, 'Specificity': 0.9684505253434939, 'Accuracy': 0.5407223796033994}\n",
      "รอบแรกใช้ categorical ('emp_length',) และ numerical ['annual_inc', 'pub_rec', 'total_acc'] ได้ Model ที่มี {'PPV': 0.5331850533807829, 'Sensitivity': 0.19773657120232283, 'NPV': 0.5473078641644326, 'Specificity': 0.8485452026324904, 'Accuracy': 0.5448638994950117}\n",
      "รอบแรกใช้ categorical ('emp_length',) และ numerical ['loan_amnt', 'int_rate', 'installment', 'annual_inc'] ได้ Model ที่มี 0\n",
      "รอบแรกใช้ categorical ('emp_length',) และ numerical ['loan_amnt', 'int_rate', 'installment', 'pub_rec'] ได้ Model ที่มี 0\n",
      "รอบแรกใช้ categorical ('emp_length',) และ numerical ['loan_amnt', 'int_rate', 'installment', 'total_acc'] ได้ Model ที่มี 0\n",
      "รอบแรกใช้ categorical ('emp_length',) และ numerical ['loan_amnt', 'int_rate', 'annual_inc', 'pub_rec'] ได้ Model ที่มี {'PPV': 0.6193131587895274, 'Sensitivity': 0.6009634419955128, 'NPV': 0.6597265207360307, 'Specificity': 0.6768271562175269, 'Accuracy': 0.6414275157039044}\n",
      "รอบแรกใช้ categorical ('emp_length',) และ numerical ['loan_amnt', 'int_rate', 'annual_inc', 'total_acc'] ได้ Model ที่มี {'PPV': 0.6126340493497181, 'Sensitivity': 0.6201332981391052, 'NPV': 0.6640795961835847, 'Specificity': 0.6569680175499365, 'Accuracy': 0.6397801453380958}\n",
      "รอบแรกใช้ categorical ('emp_length',) และ numerical ['loan_amnt', 'int_rate', 'pub_rec', 'total_acc'] ได้ Model ที่มี {'PPV': 0.6180329006732839, 'Sensitivity': 0.5875676389072192, 'NPV': 0.6541037135425314, 'Specificity': 0.6823115113728206, 'Accuracy': 0.6381019830028328}\n",
      "รอบแรกใช้ categorical ('emp_length',) และ numerical ['loan_amnt', 'installment', 'annual_inc', 'pub_rec'] ได้ Model ที่มี 0\n",
      "รอบแรกใช้ categorical ('emp_length',) และ numerical ['loan_amnt', 'installment', 'annual_inc', 'total_acc'] ได้ Model ที่มี {'PPV': 0.5216833262027926, 'Sensitivity': 0.44255642074699747, 'NPV': 0.5694554165286307, 'Specificity': 0.6450178963168225, 'Accuracy': 0.5505450178593423}\n",
      "รอบแรกใช้ categorical ('emp_length',) และ numerical ['loan_amnt', 'installment', 'pub_rec', 'total_acc'] ได้ Model ที่มี {'PPV': 0.5340401255110773, 'Sensitivity': 0.37062821697241655, 'NPV': 0.5656678355116354, 'Specificity': 0.7170938690682369, 'Accuracy': 0.5554255450178593}\n",
      "รอบแรกใช้ categorical ('emp_length',) และ numerical ['loan_amnt', 'annual_inc', 'pub_rec', 'total_acc'] ได้ Model ที่มี {'PPV': 0.5451313569534828, 'Sensitivity': 0.298502045664511, 'NPV': 0.5603234345272562, 'Specificity': 0.7820979101720356, 'Accuracy': 0.5564416800098534}\n",
      "รอบแรกใช้ categorical ('emp_length',) และ numerical ['int_rate', 'installment', 'annual_inc', 'pub_rec'] ได้ Model ที่มี {'PPV': 0.59474235198325, 'Sensitivity': 0.6748053319255642, 'NPV': 0.6775291192252323, 'Specificity': 0.5977369818727629, 'Accuracy': 0.6336987313708585}\n",
      "รอบแรกใช้ categorical ('emp_length',) และ numerical ['int_rate', 'installment', 'annual_inc', 'total_acc'] ได้ Model ที่มี {'PPV': 0.5756751360255579, 'Sensitivity': 0.7610201926883992, 'NPV': 0.7089528248814595, 'Specificity': 0.5092656737097333, 'Accuracy': 0.6267397462741717}\n",
      "รอบแรกใช้ categorical ('emp_length',) และ numerical ['int_rate', 'installment', 'pub_rec', 'total_acc'] ได้ Model ที่มี {'PPV': 0.6012956419316844, 'Sensitivity': 0.6400620298271084, 'NPV': 0.6662893851330682, 'Specificity': 0.6287091559866066, 'Accuracy': 0.6340066510654021}\n",
      "รอบแรกใช้ categorical ('emp_length',) และ numerical ['int_rate', 'annual_inc', 'pub_rec', 'total_acc'] ได้ Model ที่มี {'PPV': 0.6126576334853769, 'Sensitivity': 0.6027121552065461, 'NPV': 0.6573030510018215, 'Specificity': 0.6666378016395336, 'Accuracy': 0.6368087202857495}\n",
      "รอบแรกใช้ categorical ('emp_length',) และ numerical ['installment', 'annual_inc', 'pub_rec', 'total_acc'] ได้ Model ที่มี {'PPV': 0.5288210320052253, 'Sensitivity': 0.4274119044476706, 'NPV': 0.5710401423769033, 'Specificity': 0.6668398568294654, 'Accuracy': 0.5551176253233157}\n",
      "รอบแรกใช้ categorical ('emp_length',) และ numerical ['loan_amnt', 'int_rate', 'installment', 'annual_inc', 'pub_rec'] ได้ Model ที่มี 0\n",
      "รอบแรกใช้ categorical ('emp_length',) และ numerical ['loan_amnt', 'int_rate', 'installment', 'annual_inc', 'total_acc'] ได้ Model ที่มี {'PPV': 0.6072894952940433, 'Sensitivity': 0.6344199551273592, 'NPV': 0.6671673175127666, 'Specificity': 0.6410922526267174, 'Accuracy': 0.6379788151250154}\n",
      "รอบแรกใช้ categorical ('emp_length',) และ numerical ['loan_amnt', 'int_rate', 'installment', 'pub_rec', 'total_acc'] ได้ Model ที่มี {'PPV': 0.6036427806138527, 'Sensitivity': 0.6320443447274647, 'NPV': 0.6642784032753326, 'Specificity': 0.6369356887195474, 'Accuracy': 0.6346532824239438}\n",
      "รอบแรกใช้ categorical ('emp_length',) และ numerical ['loan_amnt', 'int_rate', 'annual_inc', 'pub_rec', 'total_acc'] ได้ Model ที่มี {'PPV': 0.6193319458186906, 'Sensitivity': 0.5989177774844926, 'NPV': 0.6589512667283899, 'Specificity': 0.6779528922757188, 'Accuracy': 0.6410734080551792}\n",
      "รอบแรกใช้ categorical ('emp_length',) และ numerical ['loan_amnt', 'installment', 'annual_inc', 'pub_rec', 'total_acc'] ได้ Model ที่มี {'PPV': 0.5486933797909408, 'Sensitivity': 0.2078329154018741, 'NPV': 0.5509986535008977, 'Specificity': 0.8504502944232768, 'Accuracy': 0.5505912058135238}\n",
      "รอบแรกใช้ categorical ('emp_length',) และ numerical ['int_rate', 'installment', 'annual_inc', 'pub_rec', 'total_acc'] ได้ Model ที่มี 0\n",
      "รอบแรกใช้ categorical ('emp_length',) และ numerical ['loan_amnt', 'int_rate', 'installment', 'annual_inc', 'pub_rec', 'total_acc'] ได้ Model ที่มี {'PPV': 0.6031854450619392, 'Sensitivity': 0.6410188729048436, 'NPV': 0.6677152368445164, 'Specificity': 0.631076088211523, 'Accuracy': 0.6357156053701195}\n",
      "รอบแรกใช้ categorical ('home_ownership',) และ numerical ['loan_amnt'] ได้ Model ที่มี {'PPV': 0.5586281476904063, 'Sensitivity': 0.35792530025075886, 'NPV': 0.5726176619155338, 'Specificity': 0.7525978524419813, 'Accuracy': 0.5684351521123291}\n",
      "รอบแรกใช้ categorical ('home_ownership',) และ numerical ['int_rate'] ได้ Model ที่มี {'PPV': 0.6199299979411159, 'Sensitivity': 0.5960802428401742, 'NPV': 0.6581401843060598, 'Specificity': 0.6802909594735019, 'Accuracy': 0.6409964281315433}\n",
      "รอบแรกใช้ categorical ('home_ownership',) และ numerical ['installment'] ได้ Model ที่มี {'PPV': 0.5498087780003642, 'Sensitivity': 0.3984426554045137, 'NPV': 0.5758816413882945, 'Specificity': 0.714582611707655, 'Accuracy': 0.5670649094716098}\n",
      "รอบแรกใช้ categorical ('home_ownership',) และ numerical ['annual_inc'] ได้ Model ที่มี {'PPV': 0.5229137782440889, 'Sensitivity': 0.4604394879239805, 'NPV': 0.5726381811054488, 'Specificity': 0.6324904745410461, 'Accuracy': 0.552207784209878}\n",
      "รอบแรกใช้ categorical ('home_ownership',) และ numerical ['pub_rec'] ได้ Model ที่มี {'PPV': 0.5213830431221735, 'Sensitivity': 0.4831067704896397, 'NPV': 0.5750901841655591, 'Specificity': 0.6120251703036601, 'Accuracy': 0.55186907254588}\n",
      "รอบแรกใช้ categorical ('home_ownership',) และ numerical ['total_acc'] ได้ Model ที่มี {'PPV': 0.5236499209158696, 'Sensitivity': 0.45878975847960934, 'NPV': 0.5728162925152351, 'Specificity': 0.6348862717930955, 'Accuracy': 0.5527158517058751}\n",
      "รอบแรกใช้ categorical ('home_ownership',) และ numerical ['loan_amnt', 'int_rate'] ได้ Model ที่มี {'PPV': 0.6217009810695039, 'Sensitivity': 0.5938036162069421, 'NPV': 0.6580657704699477, 'Specificity': 0.6838990878651426, 'Accuracy': 0.6418586032762655}\n"
     ]
    },
    {
     "name": "stdout",
     "output_type": "stream",
     "text": [
      "รอบแรกใช้ categorical ('home_ownership',) และ numerical ['loan_amnt', 'installment'] ได้ Model ที่มี {'PPV': 0.5471006588420089, 'Sensitivity': 0.41371915005939025, 'NPV': 0.5772607237170795, 'Specificity': 0.7003810183581572, 'Accuracy': 0.5666184259145215}\n",
      "รอบแรกใช้ categorical ('home_ownership',) และ numerical ['loan_amnt', 'annual_inc'] ได้ Model ที่มี {'PPV': 0.5578003949567066, 'Sensitivity': 0.36346839118384583, 'NPV': 0.5732141672012919, 'Specificity': 0.7479217180464149, 'Accuracy': 0.5685275280206922}\n",
      "รอบแรกใช้ categorical ('home_ownership',) และ numerical ['loan_amnt', 'pub_rec'] ได้ Model ที่มี {'PPV': 0.5580894587452285, 'Sensitivity': 0.37627029167216575, 'NPV': 0.5753627746080238, 'Specificity': 0.7393488049878767, 'Accuracy': 0.5699285626308659}\n",
      "รอบแรกใช้ categorical ('home_ownership',) และ numerical ['loan_amnt', 'total_acc'] ได้ Model ที่มี {'PPV': 0.5088875007098643, 'Sensitivity': 0.5913290220403854, 'NPV': 0.5834398331875967, 'Specificity': 0.5007504907054613, 'Accuracy': 0.5430163813277498}\n",
      "รอบแรกใช้ categorical ('home_ownership',) และ numerical ['int_rate', 'installment'] ได้ Model ที่มี {'PPV': 0.6174370663359368, 'Sensitivity': 0.6077603273063218, 'NPV': 0.6614937782966486, 'Specificity': 0.6705634453296386, 'Accuracy': 0.6412581598719054}\n",
      "รอบแรกใช้ categorical ('home_ownership',) และ numerical ['int_rate', 'annual_inc'] ได้ Model ที่มี {'PPV': 0.6196893323732127, 'Sensitivity': 0.5962782103734987, 'NPV': 0.6581072396546425, 'Specificity': 0.679857984066505, 'Accuracy': 0.6408578642689986}\n",
      "รอบแรกใช้ categorical ('home_ownership',) และ numerical ['int_rate', 'pub_rec'] ได้ Model ที่มี {'PPV': 0.6218022747156605, 'Sensitivity': 0.5862478553517223, 'NPV': 0.655276685817962, 'Specificity': 0.6880556517723126, 'Accuracy': 0.640549944574455}\n",
      "รอบแรกใช้ categorical ('home_ownership',) และ numerical ['int_rate', 'total_acc'] ได้ Model ที่มี {'PPV': 0.6159826075499045, 'Sensitivity': 0.6169988121948, 'NPV': 0.6644504827426722, 'Specificity': 0.6634915136820229, 'Accuracy': 0.6417970193373568}\n",
      "รอบแรกใช้ categorical ('home_ownership',) และ numerical ['installment', 'annual_inc'] ได้ Model ที่มี {'PPV': 0.5500921942224954, 'Sensitivity': 0.38389204170516034, 'NPV': 0.5736855322937833, 'Specificity': 0.7253204018011777, 'Accuracy': 0.5660025865254341}\n",
      "รอบแรกใช้ categorical ('home_ownership',) และ numerical ['installment', 'pub_rec'] ได้ Model ที่มี {'PPV': 0.5484240687679083, 'Sensitivity': 0.41048568034842287, 'NPV': 0.5772825135448458, 'Specificity': 0.7043066620482623, 'Accuracy': 0.5672034733341544}\n",
      "รอบแรกใช้ categorical ('home_ownership',) และ numerical ['installment', 'total_acc'] ได้ Model ที่มี {'PPV': 0.5375630148776589, 'Sensitivity': 0.43275702784743303, 'NPV': 0.5760609572658003, 'Specificity': 0.6743158988569449, 'Accuracy': 0.5615993348934598}\n",
      "รอบแรกใช้ categorical ('home_ownership',) และ numerical ['annual_inc', 'pub_rec'] ได้ Model ที่มี {'PPV': 0.521809602708641, 'Sensitivity': 0.4779926092120892, 'NPV': 0.5745785043964613, 'Specificity': 0.6167878997806258, 'Accuracy': 0.5520230323931519}\n",
      "รอบแรกใช้ categorical ('home_ownership',) และ numerical ['annual_inc', 'total_acc'] ได้ Model ที่มี {'PPV': 0.5232220335785701, 'Sensitivity': 0.4575689586907747, 'NPV': 0.5723983665825683, 'Specificity': 0.635232652118693, 'Accuracy': 0.5523309520876956}\n",
      "รอบแรกใช้ categorical ('home_ownership',) และ numerical ['pub_rec', 'total_acc'] ได้ Model ที่มี {'PPV': 0.5116965012205045, 'Sensitivity': 0.4979873300778672, 'NPV': 0.5708765794223827, 'Specificity': 0.5842570142015934, 'Accuracy': 0.5440017243502895}\n",
      "รอบแรกใช้ categorical ('home_ownership',) และ numerical ['loan_amnt', 'int_rate', 'installment'] ได้ Model ที่มี {'PPV': 0.6160402170656191, 'Sensitivity': 0.6105318727728652, 'NPV': 0.6619218101102677, 'Specificity': 0.6670996420736636, 'Accuracy': 0.6407039044217269}\n",
      "รอบแรกใช้ categorical ('home_ownership',) และ numerical ['loan_amnt', 'int_rate', 'annual_inc'] ได้ Model ที่มี {'PPV': 0.6196623965839338, 'Sensitivity': 0.6128744885838723, 'NPV': 0.6645413998170174, 'Specificity': 0.6709098256552362, 'Accuracy': 0.643829289321345}\n",
      "รอบแรกใช้ categorical ('home_ownership',) และ numerical ['loan_amnt', 'int_rate', 'pub_rec'] ได้ Model ที่มี {'PPV': 0.6183276971023142, 'Sensitivity': 0.6153490827504289, 'NPV': 0.6649037079620581, 'Specificity': 0.6677058076434592, 'Accuracy': 0.6432750338711664}\n",
      "รอบแรกใช้ categorical ('home_ownership',) และ numerical ['loan_amnt', 'int_rate', 'total_acc'] ได้ Model ที่มี {'PPV': 0.616056944214534, 'Sensitivity': 0.6139633100171572, 'NPV': 0.6632802831899157, 'Specificity': 0.6652522803371436, 'Accuracy': 0.6413197438108141}\n",
      "รอบแรกใช้ categorical ('home_ownership',) และ numerical ['loan_amnt', 'installment', 'annual_inc'] ได้ Model ที่มี 0\n",
      "รอบแรกใช้ categorical ('home_ownership',) และ numerical ['loan_amnt', 'installment', 'pub_rec'] ได้ Model ที่มี 0\n",
      "รอบแรกใช้ categorical ('home_ownership',) และ numerical ['loan_amnt', 'installment', 'total_acc'] ได้ Model ที่มี {'PPV': 0.5369025438229591, 'Sensitivity': 0.46588359509040517, 'NPV': 0.5811968023180607, 'Specificity': 0.6484528345456645, 'Accuracy': 0.5632621012439956}\n",
      "รอบแรกใช้ categorical ('home_ownership',) และ numerical ['loan_amnt', 'annual_inc', 'pub_rec'] ได้ Model ที่มี {'PPV': 0.5584913171120067, 'Sensitivity': 0.37033126567242974, 'NPV': 0.5745401850406866, 'Specificity': 0.7438806142477774, 'Accuracy': 0.5695744549821407}\n",
      "รอบแรกใช้ categorical ('home_ownership',) และ numerical ['loan_amnt', 'annual_inc', 'total_acc'] ได้ Model ที่มี {'PPV': 0.5240180602233765, 'Sensitivity': 0.5093044740662531, 'NPV': 0.5810114100577546, 'Specificity': 0.5952834545664473, 'Accuracy': 0.5551638132774972}\n",
      "รอบแรกใช้ categorical ('home_ownership',) และ numerical ['loan_amnt', 'pub_rec', 'total_acc'] ได้ Model ที่มี {'PPV': 0.5477092511013216, 'Sensitivity': 0.41022172363732345, 'NPV': 0.5769431032850516, 'Specificity': 0.7036427664242004, 'Accuracy': 0.5667261978076118}\n",
      "รอบแรกใช้ categorical ('home_ownership',) และ numerical ['int_rate', 'installment', 'annual_inc'] ได้ Model ที่มี {'PPV': 0.6074123816832949, 'Sensitivity': 0.6267322159165897, 'NPV': 0.664103325415677, 'Specificity': 0.6456240618866181, 'Accuracy': 0.6368087202857495}\n",
      "รอบแรกใช้ categorical ('home_ownership',) และ numerical ['int_rate', 'installment', 'pub_rec'] ได้ Model ที่มี {'PPV': 0.6140086982113077, 'Sensitivity': 0.6195393955391316, 'NPV': 0.6645136888656135, 'Specificity': 0.6592772197205865, 'Accuracy': 0.6407346963911812}\n",
      "รอบแรกใช้ categorical ('home_ownership',) และ numerical ['int_rate', 'installment', 'total_acc'] ได้ Model ที่มี {'PPV': 0.613357061312202, 'Sensitivity': 0.6027121552065461, 'NPV': 0.6576343474552175, 'Specificity': 0.6676192125620598, 'Accuracy': 0.6373321837664737}\n",
      "รอบแรกใช้ categorical ('home_ownership',) และ numerical ['int_rate', 'annual_inc', 'pub_rec'] ได้ Model ที่มี {'PPV': 0.618548304998473, 'Sensitivity': 0.6014253662399367, 'NPV': 0.6595552799932362, 'Specificity': 0.6755282299965362, 'Accuracy': 0.6409502401773618}\n",
      "รอบแรกใช้ categorical ('home_ownership',) และ numerical ['int_rate', 'annual_inc', 'total_acc'] ได้ Model ที่มี {'PPV': 0.6185672067665342, 'Sensitivity': 0.6008314636399631, 'NPV': 0.6593360177962999, 'Specificity': 0.6758746103221337, 'Accuracy': 0.6408578642689986}\n",
      "รอบแรกใช้ categorical ('home_ownership',) และ numerical ['int_rate', 'pub_rec', 'total_acc'] ได้ Model ที่มี {'PPV': 0.6165274843210249, 'Sensitivity': 0.6065395275174872, 'NPV': 0.6605948484417248, 'Specificity': 0.669957279759843, 'Accuracy': 0.6403651927577287}\n",
      "รอบแรกใช้ categorical ('home_ownership',) และ numerical ['installment', 'annual_inc', 'pub_rec'] ได้ Model ที่มี 0\n",
      "รอบแรกใช้ categorical ('home_ownership',) และ numerical ['installment', 'annual_inc', 'total_acc'] ได้ Model ที่มี {'PPV': 0.5424996882663452, 'Sensitivity': 0.43064537415863796, 'NPV': 0.578020688137334, 'Specificity': 0.6822826463456876, 'Accuracy': 0.5648632836556227}\n",
      "รอบแรกใช้ categorical ('home_ownership',) และ numerical ['installment', 'pub_rec', 'total_acc'] ได้ Model ที่มี {'PPV': 0.5190051468942809, 'Sensitivity': 0.5356671505873036, 'NPV': 0.5820438953402037, 'Specificity': 0.5656968017549936, 'Accuracy': 0.5516843207291539}\n"
     ]
    },
    {
     "name": "stdout",
     "output_type": "stream",
     "text": [
      "รอบแรกใช้ categorical ('home_ownership',) และ numerical ['annual_inc', 'pub_rec', 'total_acc'] ได้ Model ที่มี {'PPV': 0.5206130703185979, 'Sensitivity': 0.4841625973340372, 'NPV': 0.5747701680900832, 'Specificity': 0.6099757533772082, 'Accuracy': 0.5512686291415199}\n",
      "รอบแรกใช้ categorical ('home_ownership',) และ numerical ['loan_amnt', 'int_rate', 'installment', 'annual_inc'] ได้ Model ที่มี {'PPV': 0.59276596981944, 'Sensitivity': 0.6726606836478818, 'NPV': 0.6753493242579928, 'Specificity': 0.5957164299734442, 'Accuracy': 0.6316202734326888}\n",
      "รอบแรกใช้ categorical ('home_ownership',) และ numerical ['loan_amnt', 'int_rate', 'installment', 'pub_rec'] ได้ Model ที่มี 0\n",
      "รอบแรกใช้ categorical ('home_ownership',) และ numerical ['loan_amnt', 'int_rate', 'installment', 'total_acc'] ได้ Model ที่มี {'PPV': 0.6220134995178743, 'Sensitivity': 0.574666754652237, 'NPV': 0.6511325809856296, 'Specificity': 0.6944925528229996, 'Accuracy': 0.6385792585293756}\n",
      "รอบแรกใช้ categorical ('home_ownership',) และ numerical ['loan_amnt', 'int_rate', 'annual_inc', 'pub_rec'] ได้ Model ที่มี {'PPV': 0.6215711569799022, 'Sensitivity': 0.6040979279398179, 'NPV': 0.6619619112012621, 'Specificity': 0.67824154254705, 'Accuracy': 0.6436445375046188}\n",
      "รอบแรกใช้ categorical ('home_ownership',) และ numerical ['loan_amnt', 'int_rate', 'annual_inc', 'total_acc'] ได้ Model ที่มี {'PPV': 0.6234493244410657, 'Sensitivity': 0.5952883727068761, 'NPV': 0.6594007719434649, 'Specificity': 0.6854577993303314, 'Accuracy': 0.6433828057642567}\n",
      "รอบแรกใช้ categorical ('home_ownership',) และ numerical ['loan_amnt', 'int_rate', 'pub_rec', 'total_acc'] ได้ Model ที่มี {'PPV': 0.618173947789025, 'Sensitivity': 0.612544542694998, 'NPV': 0.6637170675830469, 'Specificity': 0.6690047338644498, 'Accuracy': 0.6426591944820791}\n",
      "รอบแรกใช้ categorical ('home_ownership',) และ numerical ['loan_amnt', 'installment', 'annual_inc', 'pub_rec'] ได้ Model ที่มี 0\n",
      "รอบแรกใช้ categorical ('home_ownership',) และ numerical ['loan_amnt', 'installment', 'annual_inc', 'total_acc'] ได้ Model ที่มี {'PPV': 0.5510463800904978, 'Sensitivity': 0.385739738682856, 'NPV': 0.574332357783062, 'Specificity': 0.7250606165569795, 'Accuracy': 0.5667261978076118}\n",
      "รอบแรกใช้ categorical ('home_ownership',) และ numerical ['loan_amnt', 'installment', 'pub_rec', 'total_acc'] ได้ Model ที่มี {'PPV': 0.5367304104477612, 'Sensitivity': 0.4556222779464168, 'NPV': 0.5793646746889659, 'Specificity': 0.6559577416002771, 'Accuracy': 0.5624769060229092}\n",
      "รอบแรกใช้ categorical ('home_ownership',) และ numerical ['loan_amnt', 'annual_inc', 'pub_rec', 'total_acc'] ได้ Model ที่มี {'PPV': 0.5482690935046396, 'Sensitivity': 0.40550349742642205, 'NPV': 0.5764058679706602, 'Specificity': 0.7077127352499711, 'Accuracy': 0.5666954058381574}\n",
      "รอบแรกใช้ categorical ('home_ownership',) และ numerical ['int_rate', 'installment', 'annual_inc', 'pub_rec'] ได้ Model ที่มี {'PPV': 0.6096225498137049, 'Sensitivity': 0.620826184505741, 'NPV': 0.6628626749200575, 'Specificity': 0.6522052880729707, 'Accuracy': 0.6375631235373814}\n",
      "รอบแรกใช้ categorical ('home_ownership',) และ numerical ['int_rate', 'installment', 'annual_inc', 'total_acc'] ได้ Model ที่มี {'PPV': 0.6027008035195992, 'Sensitivity': 0.6508842549821829, 'NPV': 0.6716116818224139, 'Specificity': 0.6246391871608359, 'Accuracy': 0.6368857002093854}\n",
      "รอบแรกใช้ categorical ('home_ownership',) และ numerical ['int_rate', 'installment', 'pub_rec', 'total_acc'] ได้ Model ที่มี {'PPV': 0.6053554252381396, 'Sensitivity': 0.6437244291936123, 'NPV': 0.6700180301317117, 'Specificity': 0.6328657198937767, 'Accuracy': 0.6379326271708339}\n",
      "รอบแรกใช้ categorical ('home_ownership',) และ numerical ['int_rate', 'annual_inc', 'pub_rec', 'total_acc'] ได้ Model ที่มี {'PPV': 0.617255007033291, 'Sensitivity': 0.608090273195196, 'NPV': 0.6615375847723257, 'Specificity': 0.6701304699226417, 'Accuracy': 0.6411811799482695}\n",
      "รอบแรกใช้ categorical ('home_ownership',) และ numerical ['installment', 'annual_inc', 'pub_rec', 'total_acc'] ได้ Model ที่มี {'PPV': 0.5441066843369502, 'Sensitivity': 0.4334829088029563, 'NPV': 0.5792285448218399, 'Specificity': 0.6822537813185544, 'Accuracy': 0.5661719423574332}\n",
      "รอบแรกใช้ categorical ('home_ownership',) และ numerical ['loan_amnt', 'int_rate', 'installment', 'annual_inc', 'pub_rec'] ได้ Model ที่มี 0\n",
      "รอบแรกใช้ categorical ('home_ownership',) และ numerical ['loan_amnt', 'int_rate', 'installment', 'annual_inc', 'total_acc'] ได้ Model ที่มี {'PPV': 0.5422516683010835, 'Sensitivity': 0.7480203246667546, 'NPV': 0.6700082098258653, 'Specificity': 0.44758111072624407, 'Accuracy': 0.5877725089296711}\n",
      "รอบแรกใช้ categorical ('home_ownership',) และ numerical ['loan_amnt', 'int_rate', 'installment', 'pub_rec', 'total_acc'] ได้ Model ที่มี {'PPV': 0.5864988061645322, 'Sensitivity': 0.7132110333905239, 'NPV': 0.690632118451025, 'Specificity': 0.5600969864911673, 'Accuracy': 0.6315432935090528}\n",
      "รอบแรกใช้ categorical ('home_ownership',) และ numerical ['loan_amnt', 'int_rate', 'annual_inc', 'pub_rec', 'total_acc'] ได้ Model ที่มี {'PPV': 0.6201414617716403, 'Sensitivity': 0.6074963705952224, 'NPV': 0.662639668765243, 'Specificity': 0.6744602239926105, 'Accuracy': 0.6432134499322577}\n",
      "รอบแรกใช้ categorical ('home_ownership',) และ numerical ['loan_amnt', 'installment', 'annual_inc', 'pub_rec', 'total_acc'] ได้ Model ที่มี {'PPV': 0.5436489411365276, 'Sensitivity': 0.42266068364788173, 'NPV': 0.5772306651525768, 'Specificity': 0.6896143632375015, 'Accuracy': 0.5650480354723488}\n",
      "รอบแรกใช้ categorical ('home_ownership',) และ numerical ['int_rate', 'installment', 'annual_inc', 'pub_rec', 'total_acc'] ได้ Model ที่มี {'PPV': 0.5870801881632206, 'Sensitivity': 0.7082618450574106, 'NPV': 0.6885303649429336, 'Specificity': 0.5641958203440711, 'Accuracy': 0.6314201256312354}\n",
      "รอบแรกใช้ categorical ('home_ownership',) และ numerical ['loan_amnt', 'int_rate', 'installment', 'annual_inc', 'pub_rec', 'total_acc'] ได้ Model ที่มี {'PPV': 0.6188365844296333, 'Sensitivity': 0.58512603932955, 'NPV': 0.6535610965697755, 'Specificity': 0.6847073086248701, 'Accuracy': 0.6382405468653775}\n",
      "รอบแรกใช้ categorical ('verification_status',) และ numerical ['loan_amnt'] ได้ Model ที่มี {'PPV': 0.5414483944495542, 'Sensitivity': 0.44674673353570016, 'NPV': 0.5802228063587432, 'Specificity': 0.6690047338644498, 'Accuracy': 0.5652943712279838}\n",
      "รอบแรกใช้ categorical ('verification_status',) และ numerical ['int_rate'] ได้ Model ที่มี {'PPV': 0.6154423812124522, 'Sensitivity': 0.594892437640227, 'NPV': 0.6556540273726722, 'Specificity': 0.674806604318208, 'Accuracy': 0.6375169355831999}\n",
      "รอบแรกใช้ categorical ('verification_status',) และ numerical ['installment'] ได้ Model ที่มี 0\n",
      "รอบแรกใช้ categorical ('verification_status',) และ numerical ['annual_inc'] ได้ Model ที่มี {'PPV': 0.5487476502565666, 'Sensitivity': 0.35637455457305, 'NPV': 0.5690870131878327, 'Specificity': 0.7436208290035793, 'Accuracy': 0.5629233895799975}\n",
      "รอบแรกใช้ categorical ('verification_status',) และ numerical ['pub_rec'] ได้ Model ที่มี {'PPV': 0.5470611401004234, 'Sensitivity': 0.3666688663059258, 'NPV': 0.5699852143913258, 'Specificity': 0.7344128853481122, 'Accuracy': 0.5628156176869072}\n",
      "รอบแรกใช้ categorical ('verification_status',) และ numerical ['total_acc'] ได้ Model ที่มี {'PPV': 0.543416572077185, 'Sensitivity': 0.3791078263164841, 'NPV': 0.5704437545653762, 'Specificity': 0.7213370280568063, 'Accuracy': 0.5616455228476414}\n",
      "รอบแรกใช้ categorical ('verification_status',) และ numerical ['loan_amnt', 'int_rate'] ได้ Model ที่มี {'PPV': 0.614685617281896, 'Sensitivity': 0.6093110729840306, 'NPV': 0.6608038041765734, 'Specificity': 0.6658584459069391, 'Accuracy': 0.6394722256435522}\n",
      "รอบแรกใช้ categorical ('verification_status',) และ numerical ['loan_amnt', 'installment'] ได้ Model ที่มี {'PPV': 0.5382069159799986, 'Sensitivity': 0.5042892965553649, 'NPV': 0.5889916288231111, 'Specificity': 0.6214640341761921, 'Accuracy': 0.5667877817465206}\n",
      "รอบแรกใช้ categorical ('verification_status',) และ numerical ['loan_amnt', 'annual_inc'] ได้ Model ที่มี {'PPV': 0.543829229761492, 'Sensitivity': 0.46568562755708065, 'NPV': 0.5847585835534245, 'Specificity': 0.6582669437709271, 'Accuracy': 0.5684043601428748}\n"
     ]
    },
    {
     "name": "stdout",
     "output_type": "stream",
     "text": [
      "รอบแรกใช้ categorical ('verification_status',) และ numerical ['loan_amnt', 'pub_rec'] ได้ Model ที่มี {'PPV': 0.552230522945571, 'Sensitivity': 0.42681800184769697, 'NPV': 0.5816697570255497, 'Specificity': 0.6972347304006465, 'Accuracy': 0.5710524695159502}\n",
      "รอบแรกใช้ categorical ('verification_status',) และ numerical ['loan_amnt', 'total_acc'] ได้ Model ที่มี {'PPV': 0.5437412205400344, 'Sensitivity': 0.45977959614623204, 'NPV': 0.5836384904892686, 'Specificity': 0.6624812377323634, 'Accuracy': 0.5678962926468777}\n",
      "รอบแรกใช้ categorical ('verification_status',) และ numerical ['int_rate', 'installment'] ได้ Model ที่มี {'PPV': 0.6107906122984136, 'Sensitivity': 0.6148211693282302, 'NPV': 0.6610730461038207, 'Specificity': 0.6572566678212678, 'Accuracy': 0.6374553516442911}\n",
      "รอบแรกใช้ categorical ('verification_status',) และ numerical ['int_rate', 'annual_inc'] ได้ Model ที่มี {'PPV': 0.6138054050415643, 'Sensitivity': 0.6017553121288108, 'NPV': 0.6574817673600273, 'Specificity': 0.6687738136473849, 'Accuracy': 0.6375015395984727}\n",
      "รอบแรกใช้ categorical ('verification_status',) และ numerical ['int_rate', 'pub_rec'] ได้ Model ที่มี {'PPV': 0.6160772813524237, 'Sensitivity': 0.5891843737627029, 'NPV': 0.6538215586509857, 'Specificity': 0.6787899780625793, 'Accuracy': 0.6369780761177485}\n",
      "รอบแรกใช้ categorical ('verification_status',) และ numerical ['int_rate', 'total_acc'] ได้ Model ที่มี {'PPV': 0.6139509573853008, 'Sensitivity': 0.5956183185957503, 'NPV': 0.6552364342175588, 'Specificity': 0.6723530770118924, 'Accuracy': 0.6365469885453874}\n",
      "รอบแรกใช้ categorical ('verification_status',) และ numerical ['installment', 'annual_inc'] ได้ Model ที่มี {'PPV': 0.5535095003174914, 'Sensitivity': 0.3738946812722713, 'NPV': 0.5733717035005284, 'Specificity': 0.7361447869760998, 'Accuracy': 0.5671110974257914}\n",
      "รอบแรกใช้ categorical ('verification_status',) และ numerical ['installment', 'pub_rec'] ได้ Model ที่มี {'PPV': 0.5592173017507724, 'Sensitivity': 0.35832123531740795, 'NPV': 0.5728718264078011, 'Specificity': 0.7529153677404457, 'Accuracy': 0.5687892597610543}\n",
      "รอบแรกใช้ categorical ('verification_status',) และ numerical ['installment', 'total_acc'] ได้ Model ที่มี {'PPV': 0.5406981007552981, 'Sensitivity': 0.4865712023228191, 'NPV': 0.5870003715696163, 'Specificity': 0.6384078051033368, 'Accuracy': 0.5675575809828797}\n",
      "รอบแรกใช้ categorical ('verification_status',) และ numerical ['annual_inc', 'pub_rec'] ได้ Model ที่มี {'PPV': 0.5483936353501571, 'Sensitivity': 0.3570674409396859, 'NPV': 0.5690654164270865, 'Specificity': 0.7427548781895855, 'Accuracy': 0.5627848257174529}\n",
      "รอบแรกใช้ categorical ('verification_status',) และ numerical ['annual_inc', 'total_acc'] ได้ Model ที่มี {'PPV': 0.546256157635468, 'Sensitivity': 0.3658769961726277, 'NPV': 0.5695825494938637, 'Specificity': 0.7341242350767809, 'Accuracy': 0.5622921542061831}\n",
      "รอบแรกใช้ categorical ('verification_status',) และ numerical ['pub_rec', 'total_acc'] ได้ Model ที่มี {'PPV': 0.542797300442169, 'Sensitivity': 0.38478289560512074, 'NPV': 0.5710308970023236, 'Specificity': 0.7164588384713082, 'Accuracy': 0.5616917108018229}\n",
      "รอบแรกใช้ categorical ('verification_status',) และ numerical ['loan_amnt', 'int_rate', 'installment'] ได้ Model ที่มี {'PPV': 0.6141990819847891, 'Sensitivity': 0.6048568034842285, 'NPV': 0.6588520153824241, 'Specificity': 0.6676192125620598, 'Accuracy': 0.6383329227737407}\n",
      "รอบแรกใช้ categorical ('verification_status',) และ numerical ['loan_amnt', 'int_rate', 'annual_inc'] ได้ Model ที่มี {'PPV': 0.6172645125958379, 'Sensitivity': 0.5950244159957767, 'NPV': 0.6565368256100291, 'Specificity': 0.6772312665973906, 'Accuracy': 0.638871782239192}\n",
      "รอบแรกใช้ categorical ('verification_status',) และ numerical ['loan_amnt', 'int_rate', 'pub_rec'] ได้ Model ที่มี {'PPV': 0.6189883913764511, 'Sensitivity': 0.5911310545070608, 'NPV': 0.6558542546100866, 'Specificity': 0.6816764807758919, 'Accuracy': 0.6394260376893706}\n",
      "รอบแรกใช้ categorical ('verification_status',) และ numerical ['loan_amnt', 'int_rate', 'total_acc'] ได้ Model ที่มี {'PPV': 0.6170437508518468, 'Sensitivity': 0.5974990101623334, 'NPV': 0.6573699584316369, 'Specificity': 0.6755859600508024, 'Accuracy': 0.6391489099642813}\n",
      "รอบแรกใช้ categorical ('verification_status',) และ numerical ['loan_amnt', 'installment', 'annual_inc'] ได้ Model ที่มี {'PPV': 0.5450090887536553, 'Sensitivity': 0.4550613699353306, 'NPV': 0.5834132068808959, 'Specificity': 0.667648077589193, 'Accuracy': 0.5684505480970563}\n",
      "รอบแรกใช้ categorical ('verification_status',) และ numerical ['loan_amnt', 'installment', 'pub_rec'] ได้ Model ที่มี {'PPV': 0.5336897706776604, 'Sensitivity': 0.5467203378645902, 'NPV': 0.5947970740915526, 'Specificity': 0.5820921371666089, 'Accuracy': 0.5655868949378002}\n",
      "รอบแรกใช้ categorical ('verification_status',) และ numerical ['loan_amnt', 'installment', 'total_acc'] ได้ Model ที่มี {'PPV': 0.5509127789046653, 'Sensitivity': 0.40325986538207736, 'NPV': 0.5771038417471415, 'Specificity': 0.7124177346726706, 'Accuracy': 0.5681580243872398}\n",
      "รอบแรกใช้ categorical ('verification_status',) และ numerical ['loan_amnt', 'annual_inc', 'pub_rec'] ได้ Model ที่มี {'PPV': 0.5475342289368642, 'Sensitivity': 0.42091197043684836, 'NPV': 0.5786377931961684, 'Specificity': 0.6957048839625909, 'Accuracy': 0.5674806010592437}\n",
      "รอบแรกใช้ categorical ('verification_status',) และ numerical ['loan_amnt', 'annual_inc', 'total_acc'] ได้ Model ที่มี {'PPV': 0.5461233224842837, 'Sensitivity': 0.4041507192820377, 'NPV': 0.5753121839945441, 'Specificity': 0.7061540237847823, 'Accuracy': 0.565232787289075}\n",
      "รอบแรกใช้ categorical ('verification_status',) และ numerical ['loan_amnt', 'pub_rec', 'total_acc'] ได้ Model ที่มี {'PPV': 0.5481475265388327, 'Sensitivity': 0.43104130922528705, 'NPV': 0.5806318247039082, 'Specificity': 0.6891525228033715, 'Accuracy': 0.5687122798374185}\n",
      "รอบแรกใช้ categorical ('verification_status',) และ numerical ['int_rate', 'installment', 'annual_inc'] ได้ Model ที่มี {'PPV': 0.6065718201396594, 'Sensitivity': 0.6133364128282962, 'NPV': 0.6583979478808372, 'Specificity': 0.6519743678559058, 'Accuracy': 0.6339450671264935}\n",
      "รอบแรกใช้ categorical ('verification_status',) และ numerical ['int_rate', 'installment', 'pub_rec'] ได้ Model ที่มี {'PPV': 0.6039333684896238, 'Sensitivity': 0.6423716510492279, 'NPV': 0.6686840898670334, 'Specificity': 0.6314513335642535, 'Accuracy': 0.6365469885453874}\n",
      "รอบแรกใช้ categorical ('verification_status',) และ numerical ['int_rate', 'installment', 'total_acc'] ได้ Model ที่มี {'PPV': 0.6000122077763536, 'Sensitivity': 0.6486736175267256, 'NPV': 0.6691729323308271, 'Specificity': 0.6216949543932572, 'Accuracy': 0.6342837787904915}\n",
      "รอบแรกใช้ categorical ('verification_status',) และ numerical ['int_rate', 'annual_inc', 'pub_rec'] ได้ Model ที่มี {'PPV': 0.616234124792932, 'Sensitivity': 0.5891513791738155, 'NPV': 0.6538803646875695, 'Specificity': 0.6790208982796444, 'Accuracy': 0.6370858480108388}\n",
      "รอบแรกใช้ categorical ('verification_status',) และ numerical ['int_rate', 'annual_inc', 'total_acc'] ได้ Model ที่มี {'PPV': 0.6145734113484828, 'Sensitivity': 0.5960802428401742, 'NPV': 0.6556980537743278, 'Specificity': 0.672959242581688, 'Accuracy': 0.6370858480108388}\n",
      "รอบแรกใช้ categorical ('verification_status',) และ numerical ['int_rate', 'pub_rec', 'total_acc'] ได้ Model ที่มี {'PPV': 0.6137363753300386, 'Sensitivity': 0.5982248911178567, 'NPV': 0.6561140920643886, 'Specificity': 0.6706211753839049, 'Accuracy': 0.6368395122552039}\n",
      "รอบแรกใช้ categorical ('verification_status',) และ numerical ['installment', 'annual_inc', 'pub_rec'] ได้ Model ที่มี {'PPV': 0.5367373676569527, 'Sensitivity': 0.5001319783555497, 'NPV': 0.5873171528969519, 'Specificity': 0.622358850017319, 'Accuracy': 0.5653251631974381}\n",
      "รอบแรกใช้ categorical ('verification_status',) และ numerical ['installment', 'annual_inc', 'total_acc'] ได้ Model ที่มี {'PPV': 0.5402272466429473, 'Sensitivity': 0.4659165896792926, 'NPV': 0.5829490119289928, 'Specificity': 0.6531001039140977, 'Accuracy': 0.5657562507697992}\n",
      "รอบแรกใช้ categorical ('verification_status',) และ numerical ['installment', 'pub_rec', 'total_acc'] ได้ Model ที่มี {'PPV': 0.5449809099586382, 'Sensitivity': 0.45212485152435, 'NPV': 0.5828727893890675, 'Specificity': 0.6697552245699111, 'Accuracy': 0.5682042123414214}\n"
     ]
    },
    {
     "name": "stdout",
     "output_type": "stream",
     "text": [
      "รอบแรกใช้ categorical ('verification_status',) และ numerical ['annual_inc', 'pub_rec', 'total_acc'] ได้ Model ที่มี {'PPV': 0.5394319059469664, 'Sensitivity': 0.4148079714926752, 'NPV': 0.5741247658838784, 'Specificity': 0.6901627987530309, 'Accuracy': 0.5616763148170957}\n",
      "รอบแรกใช้ categorical ('verification_status',) และ numerical ['loan_amnt', 'int_rate', 'installment', 'annual_inc'] ได้ Model ที่มี {'PPV': 0.6156267104542966, 'Sensitivity': 0.5937706216180546, 'NPV': 0.6553191489361702, 'Specificity': 0.6756725551322018, 'Accuracy': 0.6374553516442911}\n",
      "รอบแรกใช้ categorical ('verification_status',) และ numerical ['loan_amnt', 'int_rate', 'installment', 'pub_rec'] ได้ Model ที่มี {'PPV': 0.6064197847257816, 'Sensitivity': 0.6245875676389072, 'NPV': 0.6627341712117619, 'Specificity': 0.64536427664242, 'Accuracy': 0.635669417415938}\n",
      "รอบแรกใช้ categorical ('verification_status',) และ numerical ['loan_amnt', 'int_rate', 'installment', 'total_acc'] ได้ Model ที่มี {'PPV': 0.60971468522156, 'Sensitivity': 0.6042629008842549, 'NPV': 0.6564800229127882, 'Specificity': 0.6616152869183697, 'Accuracy': 0.6348534302253972}\n",
      "รอบแรกใช้ categorical ('verification_status',) และ numerical ['loan_amnt', 'int_rate', 'annual_inc', 'pub_rec'] ได้ Model ที่มี {'PPV': 0.6169216677409506, 'Sensitivity': 0.6000065989177775, 'NPV': 0.6582663847780127, 'Specificity': 0.6740561136127468, 'Accuracy': 0.6395030176130065}\n",
      "รอบแรกใช้ categorical ('verification_status',) และ numerical ['loan_amnt', 'int_rate', 'annual_inc', 'total_acc'] ได้ Model ที่มี {'PPV': 0.6108777072138089, 'Sensitivity': 0.6188795037613831, 'NPV': 0.6627149823342191, 'Specificity': 0.6551206558134165, 'Accuracy': 0.6382097548959231}\n",
      "รอบแรกใช้ categorical ('verification_status',) และ numerical ['loan_amnt', 'int_rate', 'pub_rec', 'total_acc'] ได้ Model ที่มี {'PPV': 0.6171337015067839, 'Sensitivity': 0.5973010426290088, 'NPV': 0.657336178336796, 'Specificity': 0.6758168802678675, 'Accuracy': 0.6391797019337356}\n",
      "รอบแรกใช้ categorical ('verification_status',) และ numerical ['loan_amnt', 'installment', 'annual_inc', 'pub_rec'] ได้ Model ที่มี 0\n",
      "รอบแรกใช้ categorical ('verification_status',) และ numerical ['loan_amnt', 'installment', 'annual_inc', 'total_acc'] ได้ Model ที่มี {'PPV': 0.5403196774425805, 'Sensitivity': 0.49521578461132376, 'NPV': 0.5884489159089686, 'Specificity': 0.6314224685371205, 'Accuracy': 0.5678655006774234}\n",
      "รอบแรกใช้ categorical ('verification_status',) และ numerical ['loan_amnt', 'installment', 'pub_rec', 'total_acc'] ได้ Model ที่มี {'PPV': 0.5427325238712719, 'Sensitivity': 0.45572126171307903, 'NPV': 0.5824114624205756, 'Specificity': 0.6640976792518185, 'Accuracy': 0.5668647616701564}\n",
      "รอบแรกใช้ categorical ('verification_status',) และ numerical ['loan_amnt', 'annual_inc', 'pub_rec', 'total_acc'] ได้ Model ที่มี {'PPV': 0.543945568058619, 'Sensitivity': 0.4800712683119968, 'NPV': 0.5875193047666414, 'Specificity': 0.647875534003002, 'Accuracy': 0.5695744549821407}\n",
      "รอบแรกใช้ categorical ('verification_status',) และ numerical ['int_rate', 'installment', 'annual_inc', 'pub_rec'] ได้ Model ที่มี {'PPV': 0.6162359110566282, 'Sensitivity': 0.5971030750956843, 'NPV': 0.6568497962624701, 'Specificity': 0.6746911442096756, 'Accuracy': 0.6384868826210124}\n",
      "รอบแรกใช้ categorical ('verification_status',) และ numerical ['int_rate', 'installment', 'annual_inc', 'total_acc'] ได้ Model ที่มี {'PPV': 0.6077591799662644, 'Sensitivity': 0.6181866173947472, 'NPV': 0.6608838354237487, 'Specificity': 0.6509640919062464, 'Accuracy': 0.635669417415938}\n",
      "รอบแรกใช้ categorical ('verification_status',) และ numerical ['int_rate', 'installment', 'pub_rec', 'total_acc'] ได้ Model ที่มี {'PPV': 0.6012180422508405, 'Sensitivity': 0.6253794377722054, 'NPV': 0.6603242984503082, 'Specificity': 0.6371088788823461, 'Accuracy': 0.6316356694174159}\n",
      "รอบแรกใช้ categorical ('verification_status',) และ numerical ['int_rate', 'annual_inc', 'pub_rec', 'total_acc'] ได้ Model ที่มี {'PPV': 0.6138804457953394, 'Sensitivity': 0.5997426422066781, 'NPV': 0.656754003734933, 'Specificity': 0.669986144786976, 'Accuracy': 0.6372090158886562}\n",
      "รอบแรกใช้ categorical ('verification_status',) และ numerical ['installment', 'annual_inc', 'pub_rec', 'total_acc'] ได้ Model ที่มี {'PPV': 0.5435660479925448, 'Sensitivity': 0.46189124983502705, 'NPV': 0.5839328537170264, 'Specificity': 0.6606916060501097, 'Accuracy': 0.567927084616332}\n",
      "รอบแรกใช้ categorical ('verification_status',) และ numerical ['loan_amnt', 'int_rate', 'installment', 'annual_inc', 'pub_rec'] ได้ Model ที่มี {'PPV': 0.6125961186378616, 'Sensitivity': 0.6071994192952356, 'NPV': 0.6589900031508693, 'Specificity': 0.6640688142246853, 'Accuracy': 0.6375323315679271}\n",
      "รอบแรกใช้ categorical ('verification_status',) และ numerical ['loan_amnt', 'int_rate', 'installment', 'annual_inc', 'total_acc'] ได้ Model ที่มี {'PPV': 0.5939343875383526, 'Sensitivity': 0.664247063481589, 'NPV': 0.6723338485316847, 'Specificity': 0.6027017665396606, 'Accuracy': 0.6314201256312354}\n",
      "รอบแรกใช้ categorical ('verification_status',) และ numerical ['loan_amnt', 'int_rate', 'installment', 'pub_rec', 'total_acc'] ได้ Model ที่มี {'PPV': 0.6025340215861098, 'Sensitivity': 0.6354757819717566, 'NPV': 0.6650801831024343, 'Specificity': 0.6332698302736405, 'Accuracy': 0.6342991747752186}\n",
      "รอบแรกใช้ categorical ('verification_status',) และ numerical ['loan_amnt', 'int_rate', 'annual_inc', 'pub_rec', 'total_acc'] ได้ Model ที่มี {'PPV': 0.6172839506172839, 'Sensitivity': 0.5972020588623466, 'NPV': 0.6573673870333988, 'Specificity': 0.6760766655120656, 'Accuracy': 0.6392720778420988}\n",
      "รอบแรกใช้ categorical ('verification_status',) และ numerical ['loan_amnt', 'installment', 'annual_inc', 'pub_rec', 'total_acc'] ได้ Model ที่มี {'PPV': 0.5468435866505831, 'Sensitivity': 0.4487264088689455, 'NPV': 0.5831545332069258, 'Specificity': 0.6746911442096756, 'Accuracy': 0.5692511393028699}\n",
      "รอบแรกใช้ categorical ('verification_status',) และ numerical ['int_rate', 'installment', 'annual_inc', 'pub_rec', 'total_acc'] ได้ Model ที่มี {'PPV': 0.6018846069561407, 'Sensitivity': 0.6343539659495843, 'NPV': 0.6642733799872762, 'Specificity': 0.632923449948043, 'Accuracy': 0.6335909594777682}\n",
      "รอบแรกใช้ categorical ('verification_status',) และ numerical ['loan_amnt', 'int_rate', 'installment', 'annual_inc', 'pub_rec', 'total_acc'] ได้ Model ที่มี {'PPV': 0.6124103109221366, 'Sensitivity': 0.6082882407285205, 'NPV': 0.6593204775022957, 'Specificity': 0.6632028634106916, 'Accuracy': 0.6375785195221086}\n",
      "รอบแรกใช้ categorical ('grade',) และ numerical ['loan_amnt'] ได้ Model ที่มี {'PPV': 0.6075984728559456, 'Sensitivity': 0.6458690774712947, 'NPV': 0.6721246372384299, 'Specificity': 0.6350883269830274, 'Accuracy': 0.6401188570020938}\n",
      "รอบแรกใช้ categorical ('grade',) และ numerical ['int_rate'] ได้ Model ที่มี {'PPV': 0.612574369944515, 'Sensitivity': 0.6046918305397915, 'NPV': 0.6580179254438545, 'Specificity': 0.6654254704999423, 'Accuracy': 0.6370858480108388}\n",
      "รอบแรกใช้ categorical ('grade',) และ numerical ['installment'] ได้ Model ที่มี {'PPV': 0.5834005044332926, 'Sensitivity': 0.7402995908670978, 'NPV': 0.7029026535311215, 'Specificity': 0.5375245352730632, 'Accuracy': 0.632143736913413}\n",
      "รอบแรกใช้ categorical ('grade',) และ numerical ['annual_inc'] ได้ Model ที่มี {'PPV': 0.5848982064315625, 'Sensitivity': 0.732743830011878, 'NPV': 0.699810992106141, 'Specificity': 0.5450583073548089, 'Accuracy': 0.6326364084246828}\n",
      "รอบแรกใช้ categorical ('grade',) และ numerical ['pub_rec'] ได้ Model ที่มี {'PPV': 0.5849866940689801, 'Sensitivity': 0.7325458624785535, 'NPV': 0.6997666580243713, 'Specificity': 0.5453469576261402, 'Accuracy': 0.6326979923635916}\n",
      "รอบแรกใช้ categorical ('grade',) และ numerical ['total_acc'] ได้ Model ที่มี {'PPV': 0.5821632865314612, 'Sensitivity': 0.738748845189389, 'NPV': 0.7011173184357542, 'Specificity': 0.5361390139706731, 'Accuracy': 0.6306811183643306}\n",
      "รอบแรกใช้ categorical ('grade',) และ numerical ['loan_amnt', 'int_rate'] ได้ Model ที่มี {'PPV': 0.6150971347766069, 'Sensitivity': 0.602778144384321, 'NPV': 0.6584777736801792, 'Specificity': 0.6700150098141092, 'Accuracy': 0.6386408424682842}\n",
      "รอบแรกใช้ categorical ('grade',) และ numerical ['loan_amnt', 'installment'] ได้ Model ที่มี {'PPV': 0.58665920179157, 'Sensitivity': 0.7260459284677313, 'NPV': 0.6974456145465145, 'Specificity': 0.5524766193280222, 'Accuracy': 0.6334677915999507}\n"
     ]
    },
    {
     "name": "stdout",
     "output_type": "stream",
     "text": [
      "รอบแรกใช้ categorical ('grade',) และ numerical ['loan_amnt', 'annual_inc'] ได้ Model ที่มี {'PPV': 0.6095000158122766, 'Sensitivity': 0.6359047116272931, 'NPV': 0.6689268248777415, 'Specificity': 0.6435746449601663, 'Accuracy': 0.6399956891242764}\n",
      "รอบแรกใช้ categorical ('grade',) และ numerical ['loan_amnt', 'pub_rec'] ได้ Model ที่มี {'PPV': 0.6116454548398588, 'Sensitivity': 0.623168800316748, 'NPV': 0.6648079124233264, 'Specificity': 0.653850594619559, 'Accuracy': 0.6395338095824609}\n",
      "รอบแรกใช้ categorical ('grade',) และ numerical ['loan_amnt', 'total_acc'] ได้ Model ที่มี {'PPV': 0.6078764924894081, 'Sensitivity': 0.6248845189388941, 'NPV': 0.663599242513907, 'Specificity': 0.6473559635146057, 'Accuracy': 0.6368703042246582}\n",
      "รอบแรกใช้ categorical ('grade',) และ numerical ['int_rate', 'installment'] ได้ Model ที่มี {'PPV': 0.613566831944298, 'Sensitivity': 0.5756895869077471, 'NPV': 0.6478159660413528, 'Specificity': 0.6828022168340838, 'Accuracy': 0.632821160241409}\n",
      "รอบแรกใช้ categorical ('grade',) และ numerical ['int_rate', 'annual_inc'] ได้ Model ที่มี {'PPV': 0.6011490777139401, 'Sensitivity': 0.6559324270819585, 'NPV': 0.6729188884009786, 'Specificity': 0.6192702921140746, 'Accuracy': 0.6363776327133883}\n",
      "รอบแรกใช้ categorical ('grade',) และ numerical ['int_rate', 'pub_rec'] ได้ Model ที่มี {'PPV': 0.612861995896539, 'Sensitivity': 0.6011944041177247, 'NPV': 0.656824053831521, 'Specificity': 0.6677635376977255, 'Accuracy': 0.6367009483926592}\n",
      "รอบแรกใช้ categorical ('grade',) และ numerical ['int_rate', 'total_acc'] ได้ Model ที่มี {'PPV': 0.6037582211086753, 'Sensitivity': 0.6360696845717302, 'NPV': 0.6659802555871843, 'Specificity': 0.6347996767116961, 'Accuracy': 0.6353922896908486}\n",
      "รอบแรกใช้ categorical ('grade',) และ numerical ['installment', 'annual_inc'] ได้ Model ที่มี {'PPV': 0.5834178301224553, 'Sensitivity': 0.74039857463376, 'NPV': 0.7029710445845445, 'Specificity': 0.53749567024593, 'Accuracy': 0.6321745288828674}\n",
      "รอบแรกใช้ categorical ('grade',) และ numerical ['installment', 'pub_rec'] ได้ Model ที่มี {'PPV': 0.5799135792999411, 'Sensitivity': 0.7483502705556289, 'NPV': 0.7048488835571379, 'Specificity': 0.5257476042027479, 'Accuracy': 0.6296187954181549}\n",
      "รอบแรกใช้ categorical ('grade',) และ numerical ['installment', 'total_acc'] ได้ Model ที่มี {'PPV': 0.5833940087372582, 'Sensitivity': 0.740233601689323, 'NPV': 0.7028608091787439, 'Specificity': 0.5375534003001963, 'Accuracy': 0.6321283409286858}\n",
      "รอบแรกใช้ categorical ('grade',) และ numerical ['annual_inc', 'pub_rec'] ได้ Model ที่มี {'PPV': 0.5846688245046183, 'Sensitivity': 0.7330737759007523, 'NPV': 0.6998256094393529, 'Specificity': 0.5444232767578802, 'Accuracy': 0.6324516566079567}\n",
      "รอบแรกใช้ categorical ('grade',) และ numerical ['annual_inc', 'total_acc'] ได้ Model ที่มี {'PPV': 0.5874696668872711, 'Sensitivity': 0.7029167216576482, 'NPV': 0.6861405465699945, 'Specificity': 0.5681791940884424, 'Accuracy': 0.631050621997783}\n",
      "รอบแรกใช้ categorical ('grade',) และ numerical ['pub_rec', 'total_acc'] ได้ Model ที่มี {'PPV': 0.5885086724390716, 'Sensitivity': 0.7019268839910254, 'NPV': 0.6863521160990175, 'Specificity': 0.5706327213947581, 'Accuracy': 0.631897401157778}\n",
      "รอบแรกใช้ categorical ('grade',) และ numerical ['loan_amnt', 'int_rate', 'installment'] ได้ Model ที่มี {'PPV': 0.6184922657914034, 'Sensitivity': 0.5844331529629141, 'NPV': 0.6531545176658496, 'Specificity': 0.6846207135434708, 'Accuracy': 0.6378710432319251}\n",
      "รอบแรกใช้ categorical ('grade',) และ numerical ['loan_amnt', 'int_rate', 'annual_inc'] ได้ Model ที่มี {'PPV': 0.6117555569956581, 'Sensitivity': 0.6229378381945361, 'NPV': 0.6647697271927251, 'Specificity': 0.6541392448908901, 'Accuracy': 0.6395799975366424}\n",
      "รอบแรกใช้ categorical ('grade',) และ numerical ['loan_amnt', 'int_rate', 'pub_rec'] ได้ Model ที่มี {'PPV': 0.6124401913875598, 'Sensitivity': 0.612379569750561, 'NPV': 0.6609230236384103, 'Specificity': 0.660980256321441, 'Accuracy': 0.6383021308042862}\n",
      "รอบแรกใช้ categorical ('grade',) และ numerical ['loan_amnt', 'int_rate', 'total_acc'] ได้ Model ที่มี {'PPV': 0.613301233824857, 'Sensitivity': 0.6051867493731028, 'NPV': 0.6585532886289057, 'Specificity': 0.6661759612054036, 'Accuracy': 0.6377170833846533}\n",
      "รอบแรกใช้ categorical ('grade',) และ numerical ['loan_amnt', 'installment', 'annual_inc'] ได้ Model ที่มี {'PPV': 0.6070201504317949, 'Sensitivity': 0.647056882671242, 'NPV': 0.6723234798590902, 'Specificity': 0.6335296155178386, 'Accuracy': 0.6398417292770046}\n",
      "รอบแรกใช้ categorical ('grade',) และ numerical ['loan_amnt', 'installment', 'pub_rec'] ได้ Model ที่มี {'PPV': 0.5841109315539801, 'Sensitivity': 0.7394087369671374, 'NPV': 0.7029263522154517, 'Specificity': 0.5394296270638494, 'Accuracy': 0.6327441803177731}\n",
      "รอบแรกใช้ categorical ('grade',) และ numerical ['loan_amnt', 'installment', 'total_acc'] ได้ Model ที่มี {'PPV': 0.5834004834810637, 'Sensitivity': 0.7405305529893097, 'NPV': 0.7030323628261772, 'Specificity': 0.5373802101373976, 'Accuracy': 0.6321745288828674}\n",
      "รอบแรกใช้ categorical ('grade',) และ numerical ['loan_amnt', 'annual_inc', 'pub_rec'] ได้ Model ที่มี {'PPV': 0.6126793460126794, 'Sensitivity': 0.6058466411508513, 'NPV': 0.6585100909038935, 'Specificity': 0.6649347650386791, 'Accuracy': 0.637362975735928}\n",
      "รอบแรกใช้ categorical ('grade',) และ numerical ['loan_amnt', 'annual_inc', 'total_acc'] ได้ Model ที่มี {'PPV': 0.6081580624601657, 'Sensitivity': 0.6296687343275703, 'NPV': 0.6656737757655189, 'Specificity': 0.6450756263710888, 'Accuracy': 0.6378864392166523}\n",
      "รอบแรกใช้ categorical ('grade',) และ numerical ['loan_amnt', 'pub_rec', 'total_acc'] ได้ Model ที่มี {'PPV': 0.6085552075176194, 'Sensitivity': 0.6153820773393164, 'NPV': 0.6601854011194029, 'Specificity': 0.6537062694838933, 'Accuracy': 0.6358233772632098}\n",
      "รอบแรกใช้ categorical ('grade',) และ numerical ['int_rate', 'installment', 'annual_inc'] ได้ Model ที่มี {'PPV': 0.6129535435740929, 'Sensitivity': 0.5964101887290484, 'NPV': 0.6550673960859511, 'Specificity': 0.6705345803025055, 'Accuracy': 0.6359465451410272}\n",
      "รอบแรกใช้ categorical ('grade',) และ numerical ['int_rate', 'installment', 'pub_rec'] ได้ Model ที่มี {'PPV': 0.618027542078175, 'Sensitivity': 0.586379833707272, 'NPV': 0.6536633882196928, 'Specificity': 0.6829465419697495, 'Accuracy': 0.6378864392166523}\n",
      "รอบแรกใช้ categorical ('grade',) และ numerical ['int_rate', 'installment', 'total_acc'] ได้ Model ที่มี {'PPV': 0.6094226451764233, 'Sensitivity': 0.6000725880955523, 'NPV': 0.6547608875217181, 'Specificity': 0.6635492437362891, 'Accuracy': 0.6339296711417662}\n",
      "รอบแรกใช้ categorical ('grade',) และ numerical ['int_rate', 'annual_inc', 'pub_rec'] ได้ Model ที่มี {'PPV': 0.611670086714768, 'Sensitivity': 0.6097729972284546, 'NPV': 0.6595371063388796, 'Specificity': 0.6613266366470385, 'Accuracy': 0.637270599827565}\n",
      "รอบแรกใช้ categorical ('grade',) และ numerical ['int_rate', 'annual_inc', 'total_acc'] ได้ Model ที่มี {'PPV': 0.6083636599948011, 'Sensitivity': 0.6177576877392108, 'NPV': 0.6610194288389513, 'Specificity': 0.6520898279644383, 'Accuracy': 0.6360697130188447}\n",
      "รอบแรกใช้ categorical ('grade',) และ numerical ['int_rate', 'pub_rec', 'total_acc'] ได้ Model ที่มี {'PPV': 0.6104059652029826, 'Sensitivity': 0.6077273327174343, 'NPV': 0.6581361244500675, 'Specificity': 0.6606627410229765, 'Accuracy': 0.6359619411257544}\n",
      "รอบแรกใช้ categorical ('grade',) และ numerical ['installment', 'annual_inc', 'pub_rec'] ได้ Model ที่มี 0\n",
      "รอบแรกใช้ categorical ('grade',) และ numerical ['installment', 'annual_inc', 'total_acc'] ได้ Model ที่มี {'PPV': 0.5832422586520947, 'Sensitivity': 0.7395407153226871, 'NPV': 0.7023603046527411, 'Specificity': 0.5376977254358619, 'Accuracy': 0.6318820051730508}\n",
      "รอบแรกใช้ categorical ('grade',) และ numerical ['installment', 'pub_rec', 'total_acc'] ได้ Model ที่มี {'PPV': 0.5843612740327714, 'Sensitivity': 0.7330737759007523, 'NPV': 0.6996026883517137, 'Specificity': 0.5438459762152177, 'Accuracy': 0.632143736913413}\n",
      "รอบแรกใช้ categorical ('grade',) และ numerical ['annual_inc', 'pub_rec', 'total_acc'] ได้ Model ที่มี {'PPV': 0.591586503948313, 'Sensitivity': 0.6797545202586776, 'NPV': 0.6778305174760182, 'Specificity': 0.589452719085556, 'Accuracy': 0.6315894814632343}\n"
     ]
    },
    {
     "name": "stdout",
     "output_type": "stream",
     "text": [
      "รอบแรกใช้ categorical ('grade',) และ numerical ['loan_amnt', 'int_rate', 'installment', 'annual_inc'] ได้ Model ที่มี {'PPV': 0.6167092276899717, 'Sensitivity': 0.5896462980071269, 'NPV': 0.6542780897314727, 'Specificity': 0.679396143632375, 'Accuracy': 0.6375169355831999}\n",
      "รอบแรกใช้ categorical ('grade',) และ numerical ['loan_amnt', 'int_rate', 'installment', 'pub_rec'] ได้ Model ที่มี {'PPV': 0.6044294837512191, 'Sensitivity': 0.6339250362940477, 'NPV': 0.6654605759083371, 'Specificity': 0.6370511488280799, 'Accuracy': 0.635592437492302}\n",
      "รอบแรกใช้ categorical ('grade',) และ numerical ['loan_amnt', 'int_rate', 'installment', 'total_acc'] ได้ Model ที่มี {'PPV': 0.6080817588919518, 'Sensitivity': 0.5968061237956975, 'NPV': 0.6529000738510481, 'Specificity': 0.6634915136820229, 'Accuracy': 0.6323746766843207}\n",
      "รอบแรกใช้ categorical ('grade',) และ numerical ['loan_amnt', 'int_rate', 'annual_inc', 'pub_rec'] ได้ Model ที่มี {'PPV': 0.6105100463678517, 'Sensitivity': 0.6255774053055299, 'NPV': 0.6652112343639367, 'Specificity': 0.6508486317977139, 'Accuracy': 0.6390565340559182}\n",
      "รอบแรกใช้ categorical ('grade',) และ numerical ['loan_amnt', 'int_rate', 'annual_inc', 'total_acc'] ได้ Model ที่มี {'PPV': 0.6125306962235348, 'Sensitivity': 0.6090141216840438, 'NPV': 0.6596587971738755, 'Specificity': 0.6629719431936266, 'Accuracy': 0.6377940633082892}\n",
      "รอบแรกใช้ categorical ('grade',) และ numerical ['loan_amnt', 'int_rate', 'pub_rec', 'total_acc'] ได้ Model ที่มี {'PPV': 0.611981385593498, 'Sensitivity': 0.616140952883727, 'NPV': 0.6621755038039375, 'Specificity': 0.658238078743794, 'Accuracy': 0.6385946545141027}\n",
      "รอบแรกใช้ categorical ('grade',) และ numerical ['loan_amnt', 'installment', 'annual_inc', 'pub_rec'] ได้ Model ที่มี {'PPV': 0.5834351522083864, 'Sensitivity': 0.7404975584004223, 'NPV': 0.7030394562960166, 'Specificity': 0.5374668052187969, 'Accuracy': 0.6322053208523217}\n",
      "รอบแรกใช้ categorical ('grade',) และ numerical ['loan_amnt', 'installment', 'annual_inc', 'total_acc'] ได้ Model ที่มี {'PPV': 0.5827186237456015, 'Sensitivity': 0.7376270291672166, 'NPV': 0.7009064580434047, 'Specificity': 0.5378997806257938, 'Accuracy': 0.6310968099519645}\n",
      "รอบแรกใช้ categorical ('grade',) และ numerical ['loan_amnt', 'installment', 'pub_rec', 'total_acc'] ได้ Model ที่มี {'PPV': 0.5829397489758109, 'Sensitivity': 0.7370991157450179, 'NPV': 0.7007773480040558, 'Specificity': 0.5386502713312551, 'Accuracy': 0.6312507697992363}\n",
      "รอบแรกใช้ categorical ('grade',) และ numerical ['loan_amnt', 'annual_inc', 'pub_rec', 'total_acc'] ได้ Model ที่มี {'PPV': 0.6053820157291305, 'Sensitivity': 0.6324072852052264, 'NPV': 0.6653449881349314, 'Specificity': 0.6393603509987299, 'Accuracy': 0.6361159009730263}\n",
      "รอบแรกใช้ categorical ('grade',) และ numerical ['int_rate', 'installment', 'annual_inc', 'pub_rec'] ได้ Model ที่มี {'PPV': 0.6025447418308004, 'Sensitivity': 0.6187475254058334, 'NPV': 0.6584291584143782, 'Specificity': 0.6429396143632375, 'Accuracy': 0.6316510654021431}\n",
      "รอบแรกใช้ categorical ('grade',) และ numerical ['int_rate', 'installment', 'annual_inc', 'total_acc'] ได้ Model ที่มี {'PPV': 0.6033112582781457, 'Sensitivity': 0.6312194800052792, 'NPV': 0.6637687263100897, 'Specificity': 0.6369068236924142, 'Accuracy': 0.634252986821037}\n",
      "รอบแรกใช้ categorical ('grade',) และ numerical ['int_rate', 'installment', 'pub_rec', 'total_acc'] ได้ Model ที่มี {'PPV': 0.6111436545949485, 'Sensitivity': 0.5851920285073248, 'NPV': 0.650107149814923, 'Specificity': 0.6742581688026786, 'Accuracy': 0.6326979923635916}\n",
      "รอบแรกใช้ categorical ('grade',) และ numerical ['int_rate', 'annual_inc', 'pub_rec', 'total_acc'] ได้ Model ที่มี {'PPV': 0.606158524995248, 'Sensitivity': 0.6313184637719415, 'NPV': 0.6653088120769185, 'Specificity': 0.6411499826809837, 'Accuracy': 0.6365623845301146}\n",
      "รอบแรกใช้ categorical ('grade',) และ numerical ['installment', 'annual_inc', 'pub_rec', 'total_acc'] ได้ Model ที่มี {'PPV': 0.5808533430878164, 'Sensitivity': 0.7335027055562887, 'NPV': 0.697252520709172, 'Specificity': 0.5369472347304006, 'Accuracy': 0.6286642443650696}\n",
      "รอบแรกใช้ categorical ('grade',) และ numerical ['loan_amnt', 'int_rate', 'installment', 'annual_inc', 'pub_rec'] ได้ Model ที่มี {'PPV': 0.5819514887131106, 'Sensitivity': 0.7306651709119705, 'NPV': 0.6965314695713596, 'Specificity': 0.5408151483662395, 'Accuracy': 0.6294032516319744}\n",
      "รอบแรกใช้ categorical ('grade',) และ numerical ['loan_amnt', 'int_rate', 'installment', 'annual_inc', 'total_acc'] ได้ Model ที่มี {'PPV': 0.6163406612428596, 'Sensitivity': 0.5874026659627821, 'NPV': 0.6532841655807248, 'Specificity': 0.6801177693107031, 'Accuracy': 0.6368549082399311}\n",
      "รอบแรกใช้ categorical ('grade',) และ numerical ['loan_amnt', 'int_rate', 'installment', 'pub_rec', 'total_acc'] ได้ Model ที่มี {'PPV': 0.6147230218352875, 'Sensitivity': 0.5777682460076548, 'NPV': 0.6490703669171283, 'Specificity': 0.6832063272139476, 'Accuracy': 0.6340066510654021}\n",
      "รอบแรกใช้ categorical ('grade',) และ numerical ['loan_amnt', 'int_rate', 'annual_inc', 'pub_rec', 'total_acc'] ได้ Model ที่มี {'PPV': 0.619506405557301, 'Sensitivity': 0.5855549689850864, 'NPV': 0.654014598540146, 'Specificity': 0.6853712042489319, 'Accuracy': 0.6387948023155561}\n",
      "รอบแรกใช้ categorical ('grade',) และ numerical ['loan_amnt', 'installment', 'annual_inc', 'pub_rec', 'total_acc'] ได้ Model ที่มี {'PPV': 0.5819792823745189, 'Sensitivity': 0.7433350930447407, 'NPV': 0.7035555047444838, 'Specificity': 0.5329061309317631, 'Accuracy': 0.6310968099519645}\n",
      "รอบแรกใช้ categorical ('grade',) และ numerical ['int_rate', 'installment', 'annual_inc', 'pub_rec', 'total_acc'] ได้ Model ที่มี {'PPV': 0.5914106939704209, 'Sensitivity': 0.6860894813250626, 'NPV': 0.6806525241675617, 'Specificity': 0.585325020205519, 'Accuracy': 0.6323438847148664}\n",
      "รอบแรกใช้ categorical ('grade',) และ numerical ['loan_amnt', 'int_rate', 'installment', 'annual_inc', 'pub_rec', 'total_acc'] ได้ Model ที่มี {'PPV': 0.5982202923368601, 'Sensitivity': 0.6454731424046456, 'NPV': 0.6668217054263565, 'Specificity': 0.620742408497864, 'Accuracy': 0.6322823007759576}\n",
      "รอบแรกใช้ categorical ('addr_state',) และ numerical ['loan_amnt'] ได้ Model ที่มี {'PPV': 0.5298131836221082, 'Sensitivity': 0.3611917645506137, 'NPV': 0.5628584330548656, 'Specificity': 0.7195762614016857, 'Accuracy': 0.5523463480724227}\n",
      "รอบแรกใช้ categorical ('addr_state',) และ numerical ['int_rate'] ได้ Model ที่มี {'PPV': 0.6180329006732839, 'Sensitivity': 0.5875676389072192, 'NPV': 0.6541037135425314, 'Specificity': 0.6823115113728206, 'Accuracy': 0.6381019830028328}\n",
      "รอบแรกใช้ categorical ('addr_state',) และ numerical ['installment'] ได้ Model ที่มี {'PPV': 0.5182101470445029, 'Sensitivity': 0.3511614095288373, 'NPV': 0.55723420543072, 'Specificity': 0.7143805565177231, 'Accuracy': 0.5448946914644661}\n",
      "รอบแรกใช้ categorical ('addr_state',) และ numerical ['annual_inc'] ได้ Model ที่มี {'PPV': 0.5103747290182719, 'Sensitivity': 0.16312524745941664, 'NPV': 0.5410476793630689, 'Specificity': 0.8630931763075858, 'Accuracy': 0.5364730878186968}\n",
      "รอบแรกใช้ categorical ('addr_state',) และ numerical ['pub_rec'] ได้ Model ที่มี {'PPV': 0.5096476912738792, 'Sensitivity': 0.17516827240332586, 'NPV': 0.5415971394517283, 'Specificity': 0.8525574414039949, 'Accuracy': 0.5364730878186968}\n",
      "รอบแรกใช้ categorical ('addr_state',) และ numerical ['total_acc'] ได้ Model ที่มี {'PPV': 0.5051588939331407, 'Sensitivity': 0.16154150719282037, 'NPV': 0.5401375316684763, 'Specificity': 0.8615633298695301, 'Accuracy': 0.5349180933612514}\n",
      "รอบแรกใช้ categorical ('addr_state',) และ numerical ['loan_amnt', 'int_rate'] ได้ Model ที่มี {'PPV': 0.6173030384511966, 'Sensitivity': 0.605978619506401, 'NPV': 0.6607386363636364, 'Specificity': 0.671342801062233, 'Accuracy': 0.6408424682842715}\n",
      "รอบแรกใช้ categorical ('addr_state',) และ numerical ['loan_amnt', 'installment'] ได้ Model ที่มี {'PPV': 0.5131298793470547, 'Sensitivity': 0.3101161409528837, 'NPV': 0.5516457596226011, 'Specificity': 0.7425816880267867, 'Accuracy': 0.5407839635423082}\n",
      "รอบแรกใช้ categorical ('addr_state',) และ numerical ['loan_amnt', 'annual_inc'] ได้ Model ที่มี {'PPV': 0.5251193167545842, 'Sensitivity': 0.41385112841493993, 'NPV': 0.5674036916183705, 'Specificity': 0.6725839972289573, 'Accuracy': 0.5518536765611528}\n"
     ]
    },
    {
     "name": "stdout",
     "output_type": "stream",
     "text": [
      "รอบแรกใช้ categorical ('addr_state',) และ numerical ['loan_amnt', 'pub_rec'] ได้ Model ที่มี {'PPV': 0.5413884056344351, 'Sensitivity': 0.3182987989969645, 'NPV': 0.5616447075297563, 'Specificity': 0.7641149982680984, 'Accuracy': 0.5560875723611283}\n",
      "รอบแรกใช้ categorical ('addr_state',) และ numerical ['loan_amnt', 'total_acc'] ได้ Model ที่มี {'PPV': 0.5362971985383679, 'Sensitivity': 0.2905503497426422, 'NPV': 0.5569521140690679, 'Specificity': 0.7802216834083824, 'Accuracy': 0.5517305086833354}\n",
      "รอบแรกใช้ categorical ('addr_state',) และ numerical ['int_rate', 'installment'] ได้ Model ที่มี {'PPV': 0.5867626696206037, 'Sensitivity': 0.6990893493467072, 'NPV': 0.6837944664031621, 'Specificity': 0.5692760651195012, 'Accuracy': 0.6298497351890627}\n",
      "รอบแรกใช้ categorical ('addr_state',) และ numerical ['int_rate', 'annual_inc'] ได้ Model ที่มี {'PPV': 0.614907457081545, 'Sensitivity': 0.6050877656064405, 'NPV': 0.6592746526987019, 'Specificity': 0.6684851633760536, 'Accuracy': 0.6389025742086464}\n",
      "รอบแรกใช้ categorical ('addr_state',) และ numerical ['int_rate', 'pub_rec'] ได้ Model ที่มี {'PPV': 0.6123037592999246, 'Sensitivity': 0.6164049095948264, 'NPV': 0.6624372114630818, 'Specificity': 0.6585555940422584, 'Accuracy': 0.6388871782239192}\n",
      "รอบแรกใช้ categorical ('addr_state',) และ numerical ['int_rate', 'total_acc'] ได้ Model ที่มี {'PPV': 0.6158065406375052, 'Sensitivity': 0.5889864062293784, 'NPV': 0.6536258480702926, 'Specificity': 0.6785301928183812, 'Accuracy': 0.6367471363468408}\n",
      "รอบแรกใช้ categorical ('addr_state',) และ numerical ['installment', 'annual_inc'] ได้ Model ที่มี {'PPV': 0.51355435072438, 'Sensitivity': 0.381285469183054, 'NPV': 0.5582567726737339, 'Specificity': 0.6840434130008082, 'Accuracy': 0.5427700455721148}\n",
      "รอบแรกใช้ categorical ('addr_state',) และ numerical ['installment', 'pub_rec'] ได้ Model ที่มี {'PPV': 0.5202198852772466, 'Sensitivity': 0.3590801108618187, 'NPV': 0.5588435683139535, 'Specificity': 0.7102817226648193, 'Accuracy': 0.54640349796773}\n",
      "รอบแรกใช้ categorical ('addr_state',) และ numerical ['installment', 'total_acc'] ได้ Model ที่มี {'PPV': 0.5708415222440593, 'Sensitivity': 0.10541771149531477, 'NPV': 0.543206132592031, 'Specificity': 0.9306662048262325, 'Accuracy': 0.5455875107771893}\n",
      "รอบแรกใช้ categorical ('addr_state',) และ numerical ['annual_inc', 'pub_rec'] ได้ Model ที่มี {'PPV': 0.515564738292011, 'Sensitivity': 0.24699749241124455, 'NPV': 0.5474698604060914, 'Specificity': 0.7969633991455952, 'Accuracy': 0.5403374799852199}\n",
      "รอบแรกใช้ categorical ('addr_state',) และ numerical ['annual_inc', 'total_acc'] ได้ Model ที่มี {'PPV': 0.5094745067395976, 'Sensitivity': 0.17209977563679557, 'NPV': 0.5413970830134883, 'Specificity': 0.8550398337374437, 'Accuracy': 0.5363653159256067}\n",
      "รอบแรกใช้ categorical ('addr_state',) และ numerical ['pub_rec', 'total_acc'] ได้ Model ที่มี {'PPV': 0.512135152284264, 'Sensitivity': 0.21304606044608684, 'NPV': 0.5443412807580621, 'Specificity': 0.822451218104145, 'Accuracy': 0.5380896662150512}\n",
      "รอบแรกใช้ categorical ('addr_state',) และ numerical ['loan_amnt', 'int_rate', 'installment'] ได้ Model ที่มี {'PPV': 0.6038004750593824, 'Sensitivity': 0.6290418371387092, 'NPV': 0.6631512718338975, 'Specificity': 0.6388985105645999, 'Accuracy': 0.6342991747752186}\n",
      "รอบแรกใช้ categorical ('addr_state',) และ numerical ['loan_amnt', 'int_rate', 'annual_inc'] ได้ Model ที่มี {'PPV': 0.6183841150290996, 'Sensitivity': 0.595981259073512, 'NPV': 0.657405853058027, 'Specificity': 0.67824154254705, 'Accuracy': 0.6398571252617318}\n",
      "รอบแรกใช้ categorical ('addr_state',) และ numerical ['loan_amnt', 'int_rate', 'pub_rec'] ได้ Model ที่มี {'PPV': 0.6166627662064124, 'Sensitivity': 0.6085851920285074, 'NPV': 0.6614537256356839, 'Specificity': 0.669033598891583, 'Accuracy': 0.6408270722995443}\n",
      "รอบแรกใช้ categorical ('addr_state',) และ numerical ['loan_amnt', 'int_rate', 'total_acc'] ได้ Model ที่มี {'PPV': 0.6160850803574462, 'Sensitivity': 0.5982578857067441, 'NPV': 0.6572168576335126, 'Specificity': 0.6738540584228149, 'Accuracy': 0.6385792585293756}\n",
      "รอบแรกใช้ categorical ('addr_state',) และ numerical ['loan_amnt', 'installment', 'annual_inc'] ได้ Model ที่มี {'PPV': 0.5186118284310638, 'Sensitivity': 0.27167744489903656, 'NPV': 0.5501986754966888, 'Specificity': 0.7793845976215218, 'Accuracy': 0.5424775218622984}\n",
      "รอบแรกใช้ categorical ('addr_state',) และ numerical ['loan_amnt', 'installment', 'pub_rec'] ได้ Model ที่มี {'PPV': 0.526177230280151, 'Sensitivity': 0.34951168008446615, 'NPV': 0.5601294065149487, 'Specificity': 0.7246565061771159, 'Accuracy': 0.5496058627909841}\n",
      "รอบแรกใช้ categorical ('addr_state',) และ numerical ['loan_amnt', 'installment', 'total_acc'] ได้ Model ที่มี {'PPV': 0.5371307698118909, 'Sensitivity': 0.23459152698957372, 'NPV': 0.5514260852750653, 'Specificity': 0.8231439787553401, 'Accuracy': 0.5485127478753541}\n",
      "รอบแรกใช้ categorical ('addr_state',) และ numerical ['loan_amnt', 'annual_inc', 'pub_rec'] ได้ Model ที่มี {'PPV': 0.5384656854816972, 'Sensitivity': 0.32954995380757557, 'NPV': 0.5620972781932203, 'Specificity': 0.7528865027133126, 'Accuracy': 0.5553485650942235}\n",
      "รอบแรกใช้ categorical ('addr_state',) และ numerical ['loan_amnt', 'annual_inc', 'total_acc'] ได้ Model ที่มี {'PPV': 0.5322777101096224, 'Sensitivity': 0.3172099775636796, 'NPV': 0.5586692258477287, 'Specificity': 0.7561482507793558, 'Accuracy': 0.5513302130804286}\n",
      "รอบแรกใช้ categorical ('addr_state',) และ numerical ['loan_amnt', 'pub_rec', 'total_acc'] ได้ Model ที่มี {'PPV': 0.5342777637237541, 'Sensitivity': 0.3484228586511812, 'NPV': 0.5629716511386018, 'Specificity': 0.7342974252395797, 'Accuracy': 0.5542400541938662}\n",
      "รอบแรกใช้ categorical ('addr_state',) และ numerical ['int_rate', 'installment', 'annual_inc'] ได้ Model ที่มี {'PPV': 0.6089315121573186, 'Sensitivity': 0.6222119572390128, 'NPV': 0.6630668275314128, 'Specificity': 0.650415656390717, 'Accuracy': 0.6372552038428377}\n",
      "รอบแรกใช้ categorical ('addr_state',) และ numerical ['int_rate', 'installment', 'pub_rec'] ได้ Model ที่มี {'PPV': 0.6059424446521221, 'Sensitivity': 0.6203972548502046, 'NPV': 0.6608295745998054, 'Specificity': 0.6470384482161413, 'Accuracy': 0.6346070944697623}\n",
      "รอบแรกใช้ categorical ('addr_state',) และ numerical ['int_rate', 'installment', 'total_acc'] ได้ Model ที่มี {'PPV': 0.5969522438204944, 'Sensitivity': 0.656592318859707, 'NPV': 0.6707995951417004, 'Specificity': 0.6121694954393258, 'Accuracy': 0.632898140165045}\n",
      "รอบแรกใช้ categorical ('addr_state',) และ numerical ['int_rate', 'annual_inc', 'pub_rec'] ได้ Model ที่มี {'PPV': 0.6128681557620083, 'Sensitivity': 0.61379833707272, 'NPV': 0.6616856465691658, 'Specificity': 0.6608070661586422, 'Accuracy': 0.638871782239192}\n",
      "รอบแรกใช้ categorical ('addr_state',) และ numerical ['int_rate', 'annual_inc', 'total_acc'] ได้ Model ที่มี {'PPV': 0.6105137008486105, 'Sensitivity': 0.621915005939026, 'NPV': 0.6637420036387112, 'Specificity': 0.6528980487241658, 'Accuracy': 0.6384406946668308}\n",
      "รอบแรกใช้ categorical ('addr_state',) และ numerical ['int_rate', 'pub_rec', 'total_acc'] ได้ Model ที่มี {'PPV': 0.6133824065784674, 'Sensitivity': 0.6103668998284282, 'NPV': 0.660592647946426, 'Specificity': 0.6634337836277566, 'Accuracy': 0.6386716344377387}\n",
      "รอบแรกใช้ categorical ('addr_state',) และ numerical ['installment', 'annual_inc', 'pub_rec'] ได้ Model ที่มี {'PPV': 0.5244919086797799, 'Sensitivity': 0.3176059126303286, 'NPV': 0.5561707332775382, 'Specificity': 0.7480949082092138, 'Accuracy': 0.5472194851582707}\n",
      "รอบแรกใช้ categorical ('addr_state',) และ numerical ['installment', 'annual_inc', 'total_acc'] ได้ Model ที่มี {'PPV': 0.5421242547850643, 'Sensitivity': 0.22802560380097664, 'NPV': 0.5518159528005517, 'Specificity': 0.8315148366239464, 'Accuracy': 0.5499137824855278}\n",
      "รอบแรกใช้ categorical ('addr_state',) และ numerical ['installment', 'pub_rec', 'total_acc'] ได้ Model ที่มี {'PPV': 0.5187438832390111, 'Sensitivity': 0.4022370331265672, 'NPV': 0.5629297242527321, 'Specificity': 0.6735365431243505, 'Accuracy': 0.5469423574331814}\n",
      "รอบแรกใช้ categorical ('addr_state',) และ numerical ['annual_inc', 'pub_rec', 'total_acc'] ได้ Model ที่มี {'PPV': 0.5181853481749935, 'Sensitivity': 0.26418767322159165, 'NPV': 0.5494747474747474, 'Specificity': 0.7850998729938806, 'Accuracy': 0.54203103830521}\n"
     ]
    },
    {
     "name": "stdout",
     "output_type": "stream",
     "text": [
      "รอบแรกใช้ categorical ('addr_state',) และ numerical ['loan_amnt', 'int_rate', 'installment', 'annual_inc'] ได้ Model ที่มี 0\n",
      "รอบแรกใช้ categorical ('addr_state',) และ numerical ['loan_amnt', 'int_rate', 'installment', 'pub_rec'] ได้ Model ที่มี 0\n",
      "รอบแรกใช้ categorical ('addr_state',) และ numerical ['loan_amnt', 'int_rate', 'installment', 'total_acc'] ได้ Model ที่มี {'PPV': 0.6116120083225999, 'Sensitivity': 0.6110267916061766, 'NPV': 0.6599948086407291, 'Specificity': 0.660547280914444, 'Accuracy': 0.637439955659564}\n",
      "รอบแรกใช้ categorical ('addr_state',) และ numerical ['loan_amnt', 'int_rate', 'annual_inc', 'pub_rec'] ได้ Model ที่มี {'PPV': 0.6195644800217082, 'Sensitivity': 0.6026791606176587, 'NPV': 0.6605018325345362, 'Specificity': 0.6762498556748643, 'Accuracy': 0.6419201872151743}\n",
      "รอบแรกใช้ categorical ('addr_state',) และ numerical ['loan_amnt', 'int_rate', 'annual_inc', 'total_acc'] ได้ Model ที่มี {'PPV': 0.6124856251026778, 'Sensitivity': 0.6150521314504421, 'NPV': 0.6619926413071819, 'Specificity': 0.6595658699919178, 'Accuracy': 0.6387948023155561}\n",
      "รอบแรกใช้ categorical ('addr_state',) และ numerical ['loan_amnt', 'int_rate', 'pub_rec', 'total_acc'] ได้ Model ที่มี {'PPV': 0.6162449887140787, 'Sensitivity': 0.6035370199287317, 'NPV': 0.6593042048257677, 'Specificity': 0.6711984759265673, 'Accuracy': 0.639626185490824}\n",
      "รอบแรกใช้ categorical ('addr_state',) และ numerical ['loan_amnt', 'installment', 'annual_inc', 'pub_rec'] ได้ Model ที่มี {'PPV': 0.5304631294964028, 'Sensitivity': 0.1557014649597466, 'NPV': 0.5435100613672043, 'Specificity': 0.8794307816649347, 'Accuracy': 0.5417231186106664}\n",
      "รอบแรกใช้ categorical ('addr_state',) และ numerical ['loan_amnt', 'installment', 'annual_inc', 'total_acc'] ได้ Model ที่มี {'PPV': 0.5113318727808416, 'Sensitivity': 0.44664774976903787, 'NPV': 0.5641405478455221, 'Specificity': 0.6265731439787553, 'Accuracy': 0.542616085724843}\n",
      "รอบแรกใช้ categorical ('addr_state',) และ numerical ['loan_amnt', 'installment', 'pub_rec', 'total_acc'] ได้ Model ที่มี {'PPV': 0.5111498125922841, 'Sensitivity': 0.44545994456909066, 'NPV': 0.5638963128259685, 'Specificity': 0.6272947696570835, 'Accuracy': 0.5424467298928439}\n",
      "รอบแรกใช้ categorical ('addr_state',) และ numerical ['loan_amnt', 'annual_inc', 'pub_rec', 'total_acc'] ได้ Model ที่มี {'PPV': 0.5351966873706004, 'Sensitivity': 0.3411640490959483, 'NPV': 0.5624123422159888, 'Specificity': 0.7407920563445329, 'Accuracy': 0.5543170341175021}\n",
      "รอบแรกใช้ categorical ('addr_state',) และ numerical ['int_rate', 'installment', 'annual_inc', 'pub_rec'] ได้ Model ที่มี {'PPV': 0.6031279620853081, 'Sensitivity': 0.6298337072720074, 'NPV': 0.6631133265269353, 'Specificity': 0.6374263941808105, 'Accuracy': 0.6338834831875847}\n",
      "รอบแรกใช้ categorical ('addr_state',) และ numerical ['int_rate', 'installment', 'annual_inc', 'total_acc'] ได้ Model ที่มี {'PPV': 0.5834377248860577, 'Sensitivity': 0.7222515507456777, 'NPV': 0.6931432945722306, 'Specificity': 0.5488684909363815, 'Accuracy': 0.6297727552654268}\n",
      "รอบแรกใช้ categorical ('addr_state',) และ numerical ['int_rate', 'installment', 'pub_rec', 'total_acc'] ได้ Model ที่มี {'PPV': 0.5648802296059168, 'Sensitivity': 0.6753662399366503, 'NPV': 0.6573687143056136, 'Specificity': 0.5448851171920102, 'Accuracy': 0.6057704150757482}\n",
      "รอบแรกใช้ categorical ('addr_state',) และ numerical ['int_rate', 'annual_inc', 'pub_rec', 'total_acc'] ได้ Model ที่มี {'PPV': 0.6131959855586102, 'Sensitivity': 0.6108288240728521, 'NPV': 0.6606829492822416, 'Specificity': 0.6629142131393604, 'Accuracy': 0.6386100504988299}\n",
      "รอบแรกใช้ categorical ('addr_state',) และ numerical ['installment', 'annual_inc', 'pub_rec', 'total_acc'] ได้ Model ที่มี {'PPV': 0.5344709897610922, 'Sensitivity': 0.2583476309885179, 'NPV': 0.5531390401972088, 'Specificity': 0.803140514952084, 'Accuracy': 0.5489284394629881}\n",
      "รอบแรกใช้ categorical ('addr_state',) และ numerical ['loan_amnt', 'int_rate', 'installment', 'annual_inc', 'pub_rec'] ได้ Model ที่มี {'PPV': 0.6097339477313242, 'Sensitivity': 0.5981259073511944, 'NPV': 0.6541835836574771, 'Specificity': 0.6650790901743447, 'Accuracy': 0.6338372952334032}\n",
      "รอบแรกใช้ categorical ('addr_state',) และ numerical ['loan_amnt', 'int_rate', 'installment', 'annual_inc', 'total_acc'] ได้ Model ที่มี {'PPV': 0.600380006742055, 'Sensitivity': 0.6463969908934935, 'NPV': 0.6684199127502243, 'Specificity': 0.6236000461840434, 'Accuracy': 0.6342375908363099}\n",
      "รอบแรกใช้ categorical ('addr_state',) และ numerical ['loan_amnt', 'int_rate', 'installment', 'pub_rec', 'total_acc'] ได้ Model ที่มี {'PPV': 0.6014185337398913, 'Sensitivity': 0.598719809951168, 'NPV': 0.650316273720529, 'Specificity': 0.6528691836970327, 'Accuracy': 0.6276019214188939}\n",
      "รอบแรกใช้ categorical ('addr_state',) และ numerical ['loan_amnt', 'int_rate', 'annual_inc', 'pub_rec', 'total_acc'] ได้ Model ที่มี {'PPV': 0.6147099860474388, 'Sensitivity': 0.6105318727728652, 'NPV': 0.6612912482065997, 'Specificity': 0.6652234153100104, 'Accuracy': 0.6397031654144599}\n",
      "รอบแรกใช้ categorical ('addr_state',) และ numerical ['loan_amnt', 'installment', 'annual_inc', 'pub_rec', 'total_acc'] ได้ Model ที่มี {'PPV': 0.5344044708347887, 'Sensitivity': 0.3028903259865382, 'NPV': 0.5577510779922134, 'Specificity': 0.7691375129892623, 'Accuracy': 0.5515765488360636}\n",
      "รอบแรกใช้ categorical ('addr_state',) และ numerical ['int_rate', 'installment', 'annual_inc', 'pub_rec', 'total_acc'] ได้ Model ที่มี {'PPV': 0.5973790951638066, 'Sensitivity': 0.6317143988385905, 'NPV': 0.6607501063765121, 'Specificity': 0.6275256898741485, 'Accuracy': 0.6294802315556103}\n",
      "รอบแรกใช้ categorical ('addr_state',) และ numerical ['loan_amnt', 'int_rate', 'installment', 'annual_inc', 'pub_rec', 'total_acc'] ได้ Model ที่มี {'PPV': 0.6024765688039228, 'Sensitivity': 0.6405239540715323, 'NPV': 0.6671249618087381, 'Specificity': 0.6302678674517954, 'Accuracy': 0.6350535780268506}\n",
      "รอบแรกใช้ categorical ('emp_length', 'home_ownership') และ numerical ['loan_amnt'] ได้ Model ที่มี {'PPV': 0.5711663011882299, 'Sensitivity': 0.36953939553913157, 'NPV': 0.5785898595152504, 'Specificity': 0.7572739868375477, 'Accuracy': 0.5763486882621013}\n",
      "รอบแรกใช้ categorical ('emp_length', 'home_ownership') และ numerical ['int_rate'] ได้ Model ที่มี {'PPV': 0.6187323564995295, 'Sensitivity': 0.6074633760063349, 'NPV': 0.6619786339356745, 'Specificity': 0.6725262671746911, 'Accuracy': 0.6421665229708092}\n",
      "รอบแรกใช้ categorical ('emp_length', 'home_ownership') และ numerical ['installment'] ได้ Model ที่มี {'PPV': 0.5576084053067403, 'Sensitivity': 0.4132572258149663, 'NPV': 0.5814779948223111, 'Specificity': 0.7131682253781318, 'Accuracy': 0.5732233033624831}\n",
      "รอบแรกใช้ categorical ('emp_length', 'home_ownership') และ numerical ['annual_inc'] ได้ Model ที่มี {'PPV': 0.533305769937523, 'Sensitivity': 0.3830341823940874, 'NPV': 0.5669924045942942, 'Specificity': 0.706760189354578, 'Accuracy': 0.5557026727429486}\n",
      "รอบแรกใช้ categorical ('emp_length', 'home_ownership') และ numerical ['pub_rec'] ได้ Model ที่มี {'PPV': 0.5361731207289294, 'Sensitivity': 0.388313316616075, 'NPV': 0.5688805171852472, 'Specificity': 0.7061251587576493, 'Accuracy': 0.5578273186352999}\n",
      "รอบแรกใช้ categorical ('emp_length', 'home_ownership') และ numerical ['total_acc'] ได้ Model ที่มี {'PPV': 0.5263523391812865, 'Sensitivity': 0.4751550745677709, 'NPV': 0.5768514577569696, 'Specificity': 0.6259381133818266, 'Accuracy': 0.5555795048651312}\n",
      "รอบแรกใช้ categorical ('emp_length', 'home_ownership') และ numerical ['loan_amnt', 'int_rate'] ได้ Model ที่มี {'PPV': 0.6228436473165389, 'Sensitivity': 0.6004025339844266, 'NPV': 0.6610980523841504, 'Specificity': 0.68193626602009, 'Accuracy': 0.6438908732602537}\n",
      "รอบแรกใช้ categorical ('emp_length', 'home_ownership') และ numerical ['loan_amnt', 'installment'] ได้ Model ที่มี 0\n",
      "รอบแรกใช้ categorical ('emp_length', 'home_ownership') และ numerical ['loan_amnt', 'annual_inc'] ได้ Model ที่มี {'PPV': 0.5739692373424482, 'Sensitivity': 0.3545928467731292, 'NPV': 0.5768581811888899, 'Specificity': 0.7697436785590579, 'Accuracy': 0.5760253725828304}\n",
      "รอบแรกใช้ categorical ('emp_length', 'home_ownership') และ numerical ['loan_amnt', 'pub_rec'] ได้ Model ที่มี {'PPV': 0.5698118613312959, 'Sensitivity': 0.3937244291936122, 'NPV': 0.5824812542603953, 'Specificity': 0.7399549705576723, 'Accuracy': 0.5783963542308166}\n"
     ]
    },
    {
     "name": "stdout",
     "output_type": "stream",
     "text": [
      "รอบแรกใช้ categorical ('emp_length', 'home_ownership') และ numerical ['loan_amnt', 'total_acc'] ได้ Model ที่มี {'PPV': 0.5574903509559286, 'Sensitivity': 0.4098587831595618, 'NPV': 0.5808296226857277, 'Specificity': 0.7153908324673826, 'Accuracy': 0.5728230077595763}\n",
      "รอบแรกใช้ categorical ('emp_length', 'home_ownership') และ numerical ['int_rate', 'installment'] ได้ Model ที่มี 0\n",
      "รอบแรกใช้ categorical ('emp_length', 'home_ownership') และ numerical ['int_rate', 'annual_inc'] ได้ Model ที่มี {'PPV': 0.620209296004349, 'Sensitivity': 0.6022832255510097, 'NPV': 0.6606418918918919, 'Specificity': 0.6773467267059231, 'Accuracy': 0.6423204828180811}\n",
      "รอบแรกใช้ categorical ('emp_length', 'home_ownership') และ numerical ['int_rate', 'pub_rec'] ได้ Model ที่มี {'PPV': 0.6190119250425894, 'Sensitivity': 0.5994456909066913, 'NPV': 0.65900792090332, 'Specificity': 0.6772312665973906, 'Accuracy': 0.6409348441926346}\n",
      "รอบแรกใช้ categorical ('emp_length', 'home_ownership') และ numerical ['int_rate', 'total_acc'] ได้ Model ที่มี {'PPV': 0.6169310767396416, 'Sensitivity': 0.6145902072060182, 'NPV': 0.6639431514140223, 'Specificity': 0.6661470961782704, 'Accuracy': 0.6420895430471733}\n",
      "รอบแรกใช้ categorical ('emp_length', 'home_ownership') และ numerical ['installment', 'annual_inc'] ได้ Model ที่มี {'PPV': 0.5403168875990274, 'Sensitivity': 0.45456645110201926, 'NPV': 0.5810057281897907, 'Specificity': 0.6616730169726359, 'Accuracy': 0.5650326394876216}\n",
      "รอบแรกใช้ categorical ('emp_length', 'home_ownership') และ numerical ['installment', 'pub_rec'] ได้ Model ที่มี {'PPV': 0.557032626016942, 'Sensitivity': 0.43826712419163255, 'NPV': 0.5858268865858999, 'Specificity': 0.6950987183927952, 'Accuracy': 0.5752555733464713}\n",
      "รอบแรกใช้ categorical ('emp_length', 'home_ownership') และ numerical ['installment', 'total_acc'] ได้ Model ที่มี {'PPV': 0.546911252900232, 'Sensitivity': 0.24887818397782763, 'NPV': 0.5550234558248631, 'Specificity': 0.8196224454450988, 'Accuracy': 0.5533008991255081}\n",
      "รอบแรกใช้ categorical ('emp_length', 'home_ownership') และ numerical ['annual_inc', 'pub_rec'] ได้ Model ที่มี {'PPV': 0.5343270495396756, 'Sensitivity': 0.402138049359905, 'NPV': 0.5700251530539604, 'Specificity': 0.6933956817919409, 'Accuracy': 0.5574886069713019}\n",
      "รอบแรกใช้ categorical ('emp_length', 'home_ownership') และ numerical ['annual_inc', 'total_acc'] ได้ Model ที่มี {'PPV': 0.5271577770791854, 'Sensitivity': 0.4979543354889798, 'NPV': 0.5810918701649093, 'Specificity': 0.60925412769888, 'Accuracy': 0.5573192511393029}\n",
      "รอบแรกใช้ categorical ('emp_length', 'home_ownership') และ numerical ['pub_rec', 'total_acc'] ได้ Model ที่มี {'PPV': 0.5292481354565611, 'Sensitivity': 0.4331529629140821, 'NPV': 0.572072633073455, 'Specificity': 0.6629430781664934, 'Accuracy': 0.5557180687276758}\n",
      "รอบแรกใช้ categorical ('emp_length', 'home_ownership') และ numerical ['loan_amnt', 'int_rate', 'installment'] ได้ Model ที่มี {'PPV': 0.6099996829523477, 'Sensitivity': 0.6348158901940082, 'NPV': 0.6687318547783664, 'Specificity': 0.6449313012354232, 'Accuracy': 0.640211232910457}\n",
      "รอบแรกใช้ categorical ('emp_length', 'home_ownership') และ numerical ['loan_amnt', 'int_rate', 'annual_inc'] ได้ Model ที่มี {'PPV': 0.6268149302358524, 'Sensitivity': 0.5840042233073776, 'NPV': 0.6565887672277605, 'Specificity': 0.6958203440711235, 'Accuracy': 0.6436445375046188}\n",
      "รอบแรกใช้ categorical ('emp_length', 'home_ownership') และ numerical ['loan_amnt', 'int_rate', 'pub_rec'] ได้ Model ที่มี {'PPV': 0.627259644073151, 'Sensitivity': 0.5896133034182394, 'NPV': 0.6588870910237775, 'Specificity': 0.6934822768733403, 'Accuracy': 0.6450147801453381}\n",
      "รอบแรกใช้ categorical ('emp_length', 'home_ownership') และ numerical ['loan_amnt', 'int_rate', 'total_acc'] ได้ Model ที่มี {'PPV': 0.6224207173521673, 'Sensitivity': 0.593176719018081, 'NPV': 0.6581457247421537, 'Specificity': 0.6851980140861332, 'Accuracy': 0.6422588988791723}\n",
      "รอบแรกใช้ categorical ('emp_length', 'home_ownership') และ numerical ['loan_amnt', 'installment', 'annual_inc'] ได้ Model ที่มี 0\n",
      "รอบแรกใช้ categorical ('emp_length', 'home_ownership') และ numerical ['loan_amnt', 'installment', 'pub_rec'] ได้ Model ที่มี 0\n",
      "รอบแรกใช้ categorical ('emp_length', 'home_ownership') และ numerical ['loan_amnt', 'installment', 'total_acc'] ได้ Model ที่มี {'PPV': 0.5414579855314413, 'Sensitivity': 0.4494522898244688, 'NPV': 0.5806905563652812, 'Specificity': 0.6670130469922642, 'Accuracy': 0.5654945190294371}\n",
      "รอบแรกใช้ categorical ('emp_length', 'home_ownership') และ numerical ['loan_amnt', 'annual_inc', 'pub_rec'] ได้ Model ที่มี {'PPV': 0.5674903585202113, 'Sensitivity': 0.39326250494918835, 'NPV': 0.5815831987075929, 'Specificity': 0.7377900935226879, 'Accuracy': 0.5770261115900973}\n",
      "รอบแรกใช้ categorical ('emp_length', 'home_ownership') และ numerical ['loan_amnt', 'annual_inc', 'total_acc'] ได้ Model ที่มี {'PPV': 0.5661518468536012, 'Sensitivity': 0.37372970832783425, 'NPV': 0.5776838357993103, 'Specificity': 0.7494515644844706, 'Accuracy': 0.5741316664613869}\n",
      "รอบแรกใช้ categorical ('emp_length', 'home_ownership') และ numerical ['loan_amnt', 'pub_rec', 'total_acc'] ได้ Model ที่มี {'PPV': 0.5664563508481589, 'Sensitivity': 0.3613897320839382, 'NPV': 0.5756971238162049, 'Specificity': 0.758024477543009, 'Accuracy': 0.5729461756373938}\n",
      "รอบแรกใช้ categorical ('emp_length', 'home_ownership') และ numerical ['int_rate', 'installment', 'annual_inc'] ได้ Model ที่มี {'PPV': 0.6097857610627748, 'Sensitivity': 0.6451761911046588, 'NPV': 0.6729816025543561, 'Specificity': 0.6388119154832006, 'Accuracy': 0.6417816233526297}\n",
      "รอบแรกใช้ categorical ('emp_length', 'home_ownership') และ numerical ['int_rate', 'installment', 'pub_rec'] ได้ Model ที่มี {'PPV': 0.615746334454495, 'Sensitivity': 0.622145968061238, 'NPV': 0.6664044976550438, 'Specificity': 0.6603452257245122, 'Accuracy': 0.6425206306195345}\n",
      "รอบแรกใช้ categorical ('emp_length', 'home_ownership') และ numerical ['int_rate', 'installment', 'total_acc'] ได้ Model ที่มี {'PPV': 0.6052785202937291, 'Sensitivity': 0.6499934010822225, 'NPV': 0.6726431106310754, 'Specificity': 0.6291709964207366, 'Accuracy': 0.6388871782239192}\n",
      "รอบแรกใช้ categorical ('emp_length', 'home_ownership') และ numerical ['int_rate', 'annual_inc', 'pub_rec'] ได้ Model ที่มี {'PPV': 0.6200694870222767, 'Sensitivity': 0.6006334961066385, 'NPV': 0.659942686969714, 'Specificity': 0.6780394873571182, 'Accuracy': 0.6419201872151743}\n",
      "รอบแรกใช้ categorical ('emp_length', 'home_ownership') และ numerical ['int_rate', 'annual_inc', 'total_acc'] ได้ Model ที่มี {'PPV': 0.6140768778959734, 'Sensitivity': 0.6209251682724033, 'NPV': 0.6651023144639422, 'Specificity': 0.6586133240965246, 'Accuracy': 0.6410272201009977}\n",
      "รอบแรกใช้ categorical ('emp_length', 'home_ownership') และ numerical ['int_rate', 'pub_rec', 'total_acc'] ได้ Model ที่มี {'PPV': 0.6158810418815076, 'Sensitivity': 0.6108618186617395, 'NPV': 0.6619758677022728, 'Specificity': 0.6666955316937998, 'Accuracy': 0.6406423204828181}\n",
      "รอบแรกใช้ categorical ('emp_length', 'home_ownership') และ numerical ['installment', 'annual_inc', 'pub_rec'] ได้ Model ที่มี {'PPV': 0.5485591433414644, 'Sensitivity': 0.43777220535832123, 'NPV': 0.5819943579050656, 'Specificity': 0.6848227687334026, 'Accuracy': 0.5695436630126863}\n",
      "รอบแรกใช้ categorical ('emp_length', 'home_ownership') และ numerical ['installment', 'annual_inc', 'total_acc'] ได้ Model ที่มี {'PPV': 0.5504344374365986, 'Sensitivity': 0.4117724693150323, 'NPV': 0.5783249367298186, 'Specificity': 0.7057787784320517, 'Accuracy': 0.5685891119596009}\n",
      "รอบแรกใช้ categorical ('emp_length', 'home_ownership') และ numerical ['installment', 'pub_rec', 'total_acc'] ได้ Model ที่มี {'PPV': 0.5430529545363988, 'Sensitivity': 0.44968325194668074, 'NPV': 0.5815079663781206, 'Specificity': 0.6689758688373167, 'Accuracy': 0.5666492178839758}\n",
      "รอบแรกใช้ categorical ('emp_length', 'home_ownership') และ numerical ['annual_inc', 'pub_rec', 'total_acc'] ได้ Model ที่มี {'PPV': 0.5287470413071695, 'Sensitivity': 0.45697505609080113, 'NPV': 0.575365085917746, 'Specificity': 0.6436901050686987, 'Accuracy': 0.5565648478876709}\n",
      "รอบแรกใช้ categorical ('emp_length', 'home_ownership') และ numerical ['loan_amnt', 'int_rate', 'installment', 'annual_inc'] ได้ Model ที่มี {'PPV': 0.6188619099294629, 'Sensitivity': 0.6021182526065725, 'NPV': 0.659965034965035, 'Specificity': 0.6755859600508024, 'Accuracy': 0.6413043478260869}\n"
     ]
    },
    {
     "name": "stdout",
     "output_type": "stream",
     "text": [
      "รอบแรกใช้ categorical ('emp_length', 'home_ownership') และ numerical ['loan_amnt', 'int_rate', 'installment', 'pub_rec'] ได้ Model ที่มี {'PPV': 0.615255882451384, 'Sensitivity': 0.6065065329285997, 'NPV': 0.6599857448325018, 'Specificity': 0.6681965131047223, 'Accuracy': 0.6394106417046435}\n",
      "รอบแรกใช้ categorical ('emp_length', 'home_ownership') และ numerical ['loan_amnt', 'int_rate', 'installment', 'total_acc'] ได้ Model ที่มี {'PPV': 0.6130931882361044, 'Sensitivity': 0.5874026659627821, 'NPV': 0.6518070947262906, 'Specificity': 0.675701420159335, 'Accuracy': 0.634499322576672}\n",
      "รอบแรกใช้ categorical ('emp_length', 'home_ownership') และ numerical ['loan_amnt', 'int_rate', 'annual_inc', 'pub_rec'] ได้ Model ที่มี {'PPV': 0.6237826755509995, 'Sensitivity': 0.602316220139897, 'NPV': 0.6622579650853252, 'Specificity': 0.6821960512642882, 'Accuracy': 0.644922404236975}\n",
      "รอบแรกใช้ categorical ('emp_length', 'home_ownership') และ numerical ['loan_amnt', 'int_rate', 'annual_inc', 'total_acc'] ได้ Model ที่มี {'PPV': 0.6200695280117663, 'Sensitivity': 0.6120496238616867, 'NPV': 0.6644023290329947, 'Specificity': 0.6719201016048955, 'Accuracy': 0.6439832491686168}\n",
      "รอบแรกใช้ categorical ('emp_length', 'home_ownership') และ numerical ['loan_amnt', 'int_rate', 'pub_rec', 'total_acc'] ได้ Model ที่มี {'PPV': 0.6215542225517288, 'Sensitivity': 0.6085521974396199, 'NPV': 0.663699756222008, 'Specificity': 0.6758457452950006, 'Accuracy': 0.6444451287104324}\n",
      "รอบแรกใช้ categorical ('emp_length', 'home_ownership') และ numerical ['loan_amnt', 'installment', 'annual_inc', 'pub_rec'] ได้ Model ที่มี 0\n",
      "รอบแรกใช้ categorical ('emp_length', 'home_ownership') และ numerical ['loan_amnt', 'installment', 'annual_inc', 'total_acc'] ได้ Model ที่มี {'PPV': 0.5466169870437801, 'Sensitivity': 0.425960142536624, 'NPV': 0.5790874340736439, 'Specificity': 0.6909132894584921, 'Accuracy': 0.5672804532577904}\n",
      "รอบแรกใช้ categorical ('emp_length', 'home_ownership') และ numerical ['loan_amnt', 'installment', 'pub_rec', 'total_acc'] ได้ Model ที่มี {'PPV': 0.5484227565241423, 'Sensitivity': 0.4583278342351854, 'NPV': 0.5856699391767408, 'Specificity': 0.6698418196513105, 'Accuracy': 0.5711448454243133}\n",
      "รอบแรกใช้ categorical ('emp_length', 'home_ownership') และ numerical ['loan_amnt', 'annual_inc', 'pub_rec', 'total_acc'] ได้ Model ที่มี {'PPV': 0.5646100667645249, 'Sensitivity': 0.3934274778936254, 'NPV': 0.5805899664636233, 'Specificity': 0.7345860755109109, 'Accuracy': 0.5753941372090159}\n",
      "รอบแรกใช้ categorical ('emp_length', 'home_ownership') และ numerical ['int_rate', 'installment', 'annual_inc', 'pub_rec'] ได้ Model ที่มี 0\n",
      "รอบแรกใช้ categorical ('emp_length', 'home_ownership') และ numerical ['int_rate', 'installment', 'annual_inc', 'total_acc'] ได้ Model ที่มี {'PPV': 0.5949352616686198, 'Sensitivity': 0.6867823676916985, 'NPV': 0.6831970632404472, 'Specificity': 0.5909248354693454, 'Accuracy': 0.6356540214312107}\n",
      "รอบแรกใช้ categorical ('emp_length', 'home_ownership') และ numerical ['int_rate', 'installment', 'pub_rec', 'total_acc'] ได้ Model ที่มี 0\n",
      "รอบแรกใช้ categorical ('emp_length', 'home_ownership') และ numerical ['int_rate', 'annual_inc', 'pub_rec', 'total_acc'] ได้ Model ที่มี {'PPV': 0.6175428136076054, 'Sensitivity': 0.615118120628217, 'NPV': 0.6644420792221615, 'Specificity': 0.6667243967209329, 'Accuracy': 0.6426437984973519}\n",
      "รอบแรกใช้ categorical ('emp_length', 'home_ownership') และ numerical ['installment', 'annual_inc', 'pub_rec', 'total_acc'] ได้ Model ที่มี {'PPV': 0.547694413551202, 'Sensitivity': 0.4224627161145572, 'NPV': 0.5789676239957666, 'Specificity': 0.6947812030943309, 'Accuracy': 0.5677115408301515}\n",
      "รอบแรกใช้ categorical ('emp_length', 'home_ownership') และ numerical ['loan_amnt', 'int_rate', 'installment', 'annual_inc', 'pub_rec'] ได้ Model ที่มี {'PPV': 0.6151450907645422, 'Sensitivity': 0.6127095156394351, 'NPV': 0.6623518582441607, 'Specificity': 0.6646461147673479, 'Accuracy': 0.6404113807119103}\n",
      "รอบแรกใช้ categorical ('emp_length', 'home_ownership') และ numerical ['loan_amnt', 'int_rate', 'installment', 'annual_inc', 'total_acc'] ได้ Model ที่มี {'PPV': 0.6055433186490455, 'Sensitivity': 0.6530948924376402, 'NPV': 0.6741259608232085, 'Specificity': 0.6278143401454798, 'Accuracy': 0.6396107895060968}\n",
      "รอบแรกใช้ categorical ('emp_length', 'home_ownership') และ numerical ['loan_amnt', 'int_rate', 'installment', 'pub_rec', 'total_acc'] ได้ Model ที่มี {'PPV': 0.6074810016195341, 'Sensitivity': 0.6435594562491751, 'NPV': 0.6710814760686884, 'Specificity': 0.6362140630412193, 'Accuracy': 0.6396415814755512}\n",
      "รอบแรกใช้ categorical ('emp_length', 'home_ownership') และ numerical ['loan_amnt', 'int_rate', 'annual_inc', 'pub_rec', 'total_acc'] ได้ Model ที่มี {'PPV': 0.6208581926045775, 'Sensitivity': 0.6077273327174343, 'NPV': 0.6630579566387984, 'Specificity': 0.6753261748066043, 'Accuracy': 0.6437831013671634}\n",
      "รอบแรกใช้ categorical ('emp_length', 'home_ownership') และ numerical ['loan_amnt', 'installment', 'annual_inc', 'pub_rec', 'total_acc'] ได้ Model ที่มี 0\n",
      "รอบแรกใช้ categorical ('emp_length', 'home_ownership') และ numerical ['int_rate', 'installment', 'annual_inc', 'pub_rec', 'total_acc'] ได้ Model ที่มี {'PPV': 0.6096057939709666, 'Sensitivity': 0.6331991553385244, 'NPV': 0.6678617310507604, 'Specificity': 0.6452488165338875, 'Accuracy': 0.639626185490824}\n",
      "รอบแรกใช้ categorical ('emp_length', 'home_ownership') และ numerical ['loan_amnt', 'int_rate', 'installment', 'annual_inc', 'pub_rec', 'total_acc'] ได้ Model ที่มี {'PPV': 0.6044855708908407, 'Sensitivity': 0.6358387224495183, 'NPV': 0.6662735849056604, 'Specificity': 0.6360408728784205, 'Accuracy': 0.6359465451410272}\n",
      "รอบแรกใช้ categorical ('emp_length', 'verification_status') และ numerical ['loan_amnt'] ได้ Model ที่มี {'PPV': 0.5587249016766715, 'Sensitivity': 0.44529497162465353, 'NPV': 0.5879108757996911, 'Specificity': 0.6923276757880152, 'Accuracy': 0.5770569035595516}\n",
      "รอบแรกใช้ categorical ('emp_length', 'verification_status') และ numerical ['int_rate'] ได้ Model ที่มี {'PPV': 0.6176262029377005, 'Sensitivity': 0.6035040253398443, 'NPV': 0.6599315165407363, 'Specificity': 0.6731324327444868, 'Accuracy': 0.6406423204828181}\n",
      "รอบแรกใช้ categorical ('emp_length', 'verification_status') และ numerical ['installment'] ได้ Model ที่มี {'PPV': 0.5451167728237792, 'Sensitivity': 0.5082816418107431, 'NPV': 0.5938351684290853, 'Specificity': 0.6289400762036716, 'Accuracy': 0.5726382559428501}\n",
      "รอบแรกใช้ categorical ('emp_length', 'verification_status') และ numerical ['annual_inc'] ได้ Model ที่มี {'PPV': 0.5507486709262059, 'Sensitivity': 0.37257489771677443, 'NPV': 0.5721838511552566, 'Specificity': 0.7341242350767809, 'Accuracy': 0.5654175391058012}\n",
      "รอบแรกใช้ categorical ('emp_length', 'verification_status') และ numerical ['pub_rec'] ได้ Model ที่มี {'PPV': 0.5473855470691915, 'Sensitivity': 0.3996304606044609, 'NPV': 0.5751079976649154, 'Specificity': 0.7109167532617481, 'Accuracy': 0.5656638748614361}\n",
      "รอบแรกใช้ categorical ('emp_length', 'verification_status') และ numerical ['total_acc'] ได้ Model ที่มี {'PPV': 0.54567611482217, 'Sensitivity': 0.39890457964893755, 'NPV': 0.5743060099074679, 'Specificity': 0.7094446368779587, 'Accuracy': 0.5645399679763518}\n",
      "รอบแรกใช้ categorical ('emp_length', 'verification_status') และ numerical ['loan_amnt', 'int_rate'] ได้ Model ที่มี {'PPV': 0.6213239078960914, 'Sensitivity': 0.5974000263956711, 'NPV': 0.6592667057607997, 'Specificity': 0.68147442558596, 'Accuracy': 0.6422435028944451}\n",
      "รอบแรกใช้ categorical ('emp_length', 'verification_status') และ numerical ['loan_amnt', 'installment'] ได้ Model ที่มี {'PPV': 0.5384589726484323, 'Sensitivity': 0.5326316484096608, 'NPV': 0.5949616836326204, 'Specificity': 0.6005946195589423, 'Accuracy': 0.5688816356694174}\n",
      "รอบแรกใช้ categorical ('emp_length', 'verification_status') และ numerical ['loan_amnt', 'annual_inc'] ได้ Model ที่มี {'PPV': 0.5556995868103378, 'Sensitivity': 0.4526197703576613, 'NPV': 0.5879898673819103, 'Specificity': 0.6834083824038795, 'Accuracy': 0.5757174528882867}\n",
      "รอบแรกใช้ categorical ('emp_length', 'verification_status') และ numerical ['loan_amnt', 'pub_rec'] ได้ Model ที่มี {'PPV': 0.5557665118157948, 'Sensitivity': 0.45393955391315827, 'NPV': 0.5882777321690673, 'Specificity': 0.6825712966170189, 'Accuracy': 0.5758868087202857}\n"
     ]
    },
    {
     "name": "stdout",
     "output_type": "stream",
     "text": [
      "รอบแรกใช้ categorical ('emp_length', 'verification_status') และ numerical ['loan_amnt', 'total_acc'] ได้ Model ที่มี {'PPV': 0.5456774746020007, 'Sensitivity': 0.4625511416127755, 'NPV': 0.58510990550419, 'Specificity': 0.6630874033021591, 'Accuracy': 0.5695128710432319}\n",
      "รอบแรกใช้ categorical ('emp_length', 'verification_status') และ numerical ['int_rate', 'installment'] ได้ Model ที่มี {'PPV': 0.611871393239901, 'Sensitivity': 0.6122145968061238, 'NPV': 0.6605827822219655, 'Specificity': 0.6602586306431129, 'Accuracy': 0.6378402512624708}\n",
      "รอบแรกใช้ categorical ('emp_length', 'verification_status') และ numerical ['int_rate', 'annual_inc'] ได้ Model ที่มี {'PPV': 0.6186553645281471, 'Sensitivity': 0.5972020588623466, 'NPV': 0.6579913153102676, 'Specificity': 0.6779528922757188, 'Accuracy': 0.6402728168493657}\n",
      "รอบแรกใช้ categorical ('emp_length', 'verification_status') และ numerical ['int_rate', 'pub_rec'] ได้ Model ที่มี {'PPV': 0.6179197401366989, 'Sensitivity': 0.602547182262109, 'NPV': 0.6596982880388722, 'Specificity': 0.6740561136127468, 'Accuracy': 0.6406885084369996}\n",
      "รอบแรกใช้ categorical ('emp_length', 'verification_status') และ numerical ['int_rate', 'total_acc'] ได้ Model ที่มี {'PPV': 0.6155232815210367, 'Sensitivity': 0.5971030750956843, 'NPV': 0.6565216168321566, 'Specificity': 0.6737097332871493, 'Accuracy': 0.6379634191402882}\n",
      "รอบแรกใช้ categorical ('emp_length', 'verification_status') และ numerical ['installment', 'annual_inc'] ได้ Model ที่มี {'PPV': 0.5402526711914521, 'Sensitivity': 0.5305199947208658, 'NPV': 0.5956521739130435, 'Specificity': 0.6050398337374437, 'Accuracy': 0.5702672742948639}\n",
      "รอบแรกใช้ categorical ('emp_length', 'verification_status') และ numerical ['installment', 'pub_rec'] ได้ Model ที่มี {'PPV': 0.5420782707465667, 'Sensitivity': 0.5196317803880164, 'NPV': 0.5944455277305775, 'Specificity': 0.6159796790208982, 'Accuracy': 0.5710216775464959}\n",
      "รอบแรกใช้ categorical ('emp_length', 'verification_status') และ numerical ['installment', 'total_acc'] ได้ Model ที่มี {'PPV': 0.5479414202818458, 'Sensitivity': 0.4579978883463112, 'NPV': 0.5853757035765668, 'Specificity': 0.6694377092714467, 'Accuracy': 0.570775341790861}\n",
      "รอบแรกใช้ categorical ('emp_length', 'verification_status') และ numerical ['annual_inc', 'pub_rec'] ได้ Model ที่มี {'PPV': 0.5457330043393176, 'Sensitivity': 0.42325458624785534, 'NPV': 0.5782463928967814, 'Specificity': 0.6917792402724858, 'Accuracy': 0.5664798620519769}\n",
      "รอบแรกใช้ categorical ('emp_length', 'verification_status') และ numerical ['annual_inc', 'total_acc'] ได้ Model ที่มี {'PPV': 0.5437061384027716, 'Sensitivity': 0.40388676257093836, 'NPV': 0.5742730571657477, 'Specificity': 0.7034695762614017, 'Accuracy': 0.5636777928316296}\n",
      "รอบแรกใช้ categorical ('emp_length', 'verification_status') และ numerical ['pub_rec', 'total_acc'] ได้ Model ที่มี {'PPV': 0.5443189368770764, 'Sensitivity': 0.4054375082486472, 'NPV': 0.5747693324208887, 'Specificity': 0.703065465881538, 'Accuracy': 0.5641858603276265}\n",
      "รอบแรกใช้ categorical ('emp_length', 'verification_status') และ numerical ['loan_amnt', 'int_rate', 'installment'] ได้ Model ที่มี 0\n",
      "รอบแรกใช้ categorical ('emp_length', 'verification_status') และ numerical ['loan_amnt', 'int_rate', 'annual_inc'] ได้ Model ที่มี {'PPV': 0.619804318488529, 'Sensitivity': 0.606143592450838, 'NPV': 0.6619562754870866, 'Specificity': 0.6747200092368086, 'Accuracy': 0.6427207784209878}\n",
      "รอบแรกใช้ categorical ('emp_length', 'verification_status') และ numerical ['loan_amnt', 'int_rate', 'pub_rec'] ได้ Model ที่มี {'PPV': 0.6212871287128713, 'Sensitivity': 0.6045598521842418, 'NPV': 0.6620135363790186, 'Specificity': 0.6776065119501212, 'Accuracy': 0.6435213696268013}\n",
      "รอบแรกใช้ categorical ('emp_length', 'verification_status') และ numerical ['loan_amnt', 'int_rate', 'total_acc'] ได้ Model ที่มี {'PPV': 0.6228885870511615, 'Sensitivity': 0.5901082222515508, 'NPV': 0.657192527387621, 'Specificity': 0.687449486202517, 'Accuracy': 0.6420279591082646}\n",
      "รอบแรกใช้ categorical ('emp_length', 'verification_status') และ numerical ['loan_amnt', 'installment', 'annual_inc'] ได้ Model ที่มี {'PPV': 0.5406248825055457, 'Sensitivity': 0.4744291936122476, 'NPV': 0.5846956068309217, 'Specificity': 0.6473270984874726, 'Accuracy': 0.5666492178839758}\n",
      "รอบแรกใช้ categorical ('emp_length', 'verification_status') และ numerical ['loan_amnt', 'installment', 'pub_rec'] ได้ Model ที่มี {'PPV': 0.5482932996207333, 'Sensitivity': 0.4292925960142537, 'NPV': 0.5803939643879482, 'Specificity': 0.6905957741600277, 'Accuracy': 0.5686660918832368}\n",
      "รอบแรกใช้ categorical ('emp_length', 'verification_status') และ numerical ['loan_amnt', 'installment', 'total_acc'] ได้ Model ที่มี 0\n",
      "รอบแรกใช้ categorical ('emp_length', 'verification_status') และ numerical ['loan_amnt', 'annual_inc', 'pub_rec'] ได้ Model ที่มี {'PPV': 0.5562362362362362, 'Sensitivity': 0.45836082882407286, 'NPV': 0.5893638842334342, 'Specificity': 0.68008890428357, 'Accuracy': 0.5766258159871905}\n",
      "รอบแรกใช้ categorical ('emp_length', 'verification_status') และ numerical ['loan_amnt', 'annual_inc', 'total_acc'] ได้ Model ที่มี {'PPV': 0.5528196019860332, 'Sensitivity': 0.45186089481325065, 'NPV': 0.5865252992856965, 'Specificity': 0.6802332294192357, 'Accuracy': 0.5736697869195714}\n",
      "รอบแรกใช้ categorical ('emp_length', 'verification_status') และ numerical ['loan_amnt', 'pub_rec', 'total_acc'] ได้ Model ที่มี {'PPV': 0.5520968439256377, 'Sensitivity': 0.46347499010162335, 'NPV': 0.5884228909868637, 'Specificity': 0.6710541507909017, 'Accuracy': 0.5741932504002956}\n",
      "รอบแรกใช้ categorical ('emp_length', 'verification_status') และ numerical ['int_rate', 'installment', 'annual_inc'] ได้ Model ที่มี {'PPV': 0.6085556724363266, 'Sensitivity': 0.6298996964497823, 'NPV': 0.6659718293082397, 'Specificity': 0.6455374668052188, 'Accuracy': 0.6382405468653775}\n",
      "รอบแรกใช้ categorical ('emp_length', 'verification_status') และ numerical ['int_rate', 'installment', 'pub_rec'] ได้ Model ที่มี {'PPV': 0.6022969343336112, 'Sensitivity': 0.6436914346047248, 'NPV': 0.668345566782347, 'Specificity': 0.6281607204710773, 'Accuracy': 0.6354076856755758}\n",
      "รอบแรกใช้ categorical ('emp_length', 'verification_status') และ numerical ['int_rate', 'installment', 'total_acc'] ได้ Model ที่มี {'PPV': 0.610290584051517, 'Sensitivity': 0.6285139237165105, 'NPV': 0.6662912356619936, 'Specificity': 0.6488858099526613, 'Accuracy': 0.639379849735189}\n",
      "รอบแรกใช้ categorical ('emp_length', 'verification_status') และ numerical ['int_rate', 'annual_inc', 'pub_rec'] ได้ Model ที่มี {'PPV': 0.6180242986226269, 'Sensitivity': 0.602547182262109, 'NPV': 0.6597463491794481, 'Specificity': 0.6742004387484124, 'Accuracy': 0.6407654883606355}\n",
      "รอบแรกใช้ categorical ('emp_length', 'verification_status') และ numerical ['int_rate', 'annual_inc', 'total_acc'] ได้ Model ที่มี {'PPV': 0.6178130451140678, 'Sensitivity': 0.595981259073512, 'NPV': 0.6571468570628587, 'Specificity': 0.6774621868144556, 'Accuracy': 0.6394414336740978}\n",
      "รอบแรกใช้ categorical ('emp_length', 'verification_status') และ numerical ['int_rate', 'pub_rec', 'total_acc'] ได้ Model ที่มี {'PPV': 0.6159606044252564, 'Sensitivity': 0.602547182262109, 'NPV': 0.6587922048493089, 'Specificity': 0.671342801062233, 'Accuracy': 0.6392412858726444}\n",
      "รอบแรกใช้ categorical ('emp_length', 'verification_status') และ numerical ['installment', 'annual_inc', 'pub_rec'] ได้ Model ที่มี {'PPV': 0.5430494734175383, 'Sensitivity': 0.49508380625577403, 'NPV': 0.5899627555531738, 'Specificity': 0.6355501674171574, 'Accuracy': 0.5700055425545018}\n",
      "รอบแรกใช้ categorical ('emp_length', 'verification_status') และ numerical ['installment', 'annual_inc', 'total_acc'] ได้ Model ที่มี {'PPV': 0.5533595094189792, 'Sensitivity': 0.41385112841493993, 'NPV': 0.5798746600449332, 'Specificity': 0.7077704653042374, 'Accuracy': 0.5706213819435891}\n",
      "รอบแรกใช้ categorical ('emp_length', 'verification_status') และ numerical ['installment', 'pub_rec', 'total_acc'] ได้ Model ที่มี {'PPV': 0.5306762348073442, 'Sensitivity': 0.5416721657648146, 'NPV': 0.5916333490122295, 'Specificity': 0.5809086710541508, 'Accuracy': 0.5626000739007266}\n",
      "รอบแรกใช้ categorical ('emp_length', 'verification_status') และ numerical ['annual_inc', 'pub_rec', 'total_acc'] ได้ Model ที่มี {'PPV': 0.5421079603689785, 'Sensitivity': 0.41883331133694074, 'NPV': 0.5759341294298922, 'Specificity': 0.6905091790786283, 'Accuracy': 0.5637393767705382}\n"
     ]
    },
    {
     "name": "stdout",
     "output_type": "stream",
     "text": [
      "รอบแรกใช้ categorical ('emp_length', 'verification_status') และ numerical ['loan_amnt', 'int_rate', 'installment', 'annual_inc'] ได้ Model ที่มี {'PPV': 0.6144959697157589, 'Sensitivity': 0.6212881087501649, 'NPV': 0.6654522137048587, 'Specificity': 0.6590174344763884, 'Accuracy': 0.6414121197191772}\n",
      "รอบแรกใช้ categorical ('emp_length', 'verification_status') และ numerical ['loan_amnt', 'int_rate', 'installment', 'pub_rec'] ได้ Model ที่มี {'PPV': 0.61468256611818, 'Sensitivity': 0.6088821433284941, 'NPV': 0.6606355568279416, 'Specificity': 0.6660893661240042, 'Accuracy': 0.6393952457199162}\n",
      "รอบแรกใช้ categorical ('emp_length', 'verification_status') และ numerical ['loan_amnt', 'int_rate', 'installment', 'total_acc'] ได้ Model ที่มี {'PPV': 0.6050294475086473, 'Sensitivity': 0.6406229378381946, 'NPV': 0.6685432579653693, 'Specificity': 0.6341357810876342, 'Accuracy': 0.6371628279344747}\n",
      "รอบแรกใช้ categorical ('emp_length', 'verification_status') และ numerical ['loan_amnt', 'int_rate', 'annual_inc', 'pub_rec'] ได้ Model ที่มี {'PPV': 0.6221771560169113, 'Sensitivity': 0.597235053451234, 'NPV': 0.6595833681920856, 'Specificity': 0.6827156217526844, 'Accuracy': 0.642828550314078}\n",
      "รอบแรกใช้ categorical ('emp_length', 'verification_status') และ numerical ['loan_amnt', 'int_rate', 'annual_inc', 'total_acc'] ได้ Model ที่มี {'PPV': 0.6201313211179483, 'Sensitivity': 0.5951893889402138, 'NPV': 0.6578925354822519, 'Specificity': 0.6810414501789631, 'Accuracy': 0.6409810321468161}\n",
      "รอบแรกใช้ categorical ('emp_length', 'verification_status') และ numerical ['loan_amnt', 'int_rate', 'pub_rec', 'total_acc'] ได้ Model ที่มี {'PPV': 0.6162655986230181, 'Sensitivity': 0.6142932559060315, 'NPV': 0.6635099738061656, 'Specificity': 0.665367740445676, 'Accuracy': 0.6415352875969947}\n",
      "รอบแรกใช้ categorical ('emp_length', 'verification_status') และ numerical ['loan_amnt', 'installment', 'annual_inc', 'pub_rec'] ได้ Model ที่มี {'PPV': 0.5505211574362165, 'Sensitivity': 0.467038405701465, 'NPV': 0.5883537206931703, 'Specificity': 0.6664068814224685, 'Accuracy': 0.5733772632097549}\n",
      "รอบแรกใช้ categorical ('emp_length', 'verification_status') และ numerical ['loan_amnt', 'installment', 'annual_inc', 'total_acc'] ได้ Model ที่มี {'PPV': 0.5451928879810594, 'Sensitivity': 0.3874884518938894, 'NPV': 0.5723664508995416, 'Specificity': 0.7172093291767694, 'Accuracy': 0.5633544771523586}\n",
      "รอบแรกใช้ categorical ('emp_length', 'verification_status') และ numerical ['loan_amnt', 'installment', 'pub_rec', 'total_acc'] ได้ Model ที่มี {'PPV': 0.5514427412082957, 'Sensitivity': 0.40355681668206417, 'NPV': 0.5773636958758066, 'Specificity': 0.7128218450525343, 'Accuracy': 0.5685121320359651}\n",
      "รอบแรกใช้ categorical ('emp_length', 'verification_status') และ numerical ['loan_amnt', 'annual_inc', 'pub_rec', 'total_acc'] ได้ Model ที่มี {'PPV': 0.5508707607699358, 'Sensitivity': 0.49574369803352253, 'NPV': 0.5943679167661969, 'Specificity': 0.6464034176192126, 'Accuracy': 0.5761023525064664}\n",
      "รอบแรกใช้ categorical ('emp_length', 'verification_status') และ numerical ['int_rate', 'installment', 'annual_inc', 'pub_rec'] ได้ Model ที่มี {'PPV': 0.6057501544866166, 'Sensitivity': 0.6145242180282434, 'NPV': 0.6584417482824149, 'Specificity': 0.6500981410922526, 'Accuracy': 0.6334985835694051}\n",
      "รอบแรกใช้ categorical ('emp_length', 'verification_status') และ numerical ['int_rate', 'installment', 'annual_inc', 'total_acc'] ได้ Model ที่มี {'PPV': 0.6030843168268646, 'Sensitivity': 0.6541837138709252, 'NPV': 0.673244793615164, 'Specificity': 0.6233402609398453, 'Accuracy': 0.6377324793693805}\n",
      "รอบแรกใช้ categorical ('emp_length', 'verification_status') และ numerical ['int_rate', 'installment', 'pub_rec', 'total_acc'] ได้ Model ที่มี {'PPV': 0.6080779313246384, 'Sensitivity': 0.6199353306057807, 'NPV': 0.6617331806301942, 'Specificity': 0.6504445214178501, 'Accuracy': 0.6362082768813894}\n",
      "รอบแรกใช้ categorical ('emp_length', 'verification_status') และ numerical ['int_rate', 'annual_inc', 'pub_rec', 'total_acc'] ได้ Model ที่มี {'PPV': 0.6135878981740637, 'Sensitivity': 0.6075953543618846, 'NPV': 0.6596164854035489, 'Specificity': 0.6652522803371436, 'Accuracy': 0.6383483187584678}\n",
      "รอบแรกใช้ categorical ('emp_length', 'verification_status') และ numerical ['installment', 'annual_inc', 'pub_rec', 'total_acc'] ได้ Model ที่มี {'PPV': 0.5504989048430275, 'Sensitivity': 0.4478025603800977, 'NPV': 0.5846940294803712, 'Specificity': 0.6801177693107031, 'Accuracy': 0.5717144968592192}\n",
      "รอบแรกใช้ categorical ('emp_length', 'verification_status') และ numerical ['loan_amnt', 'int_rate', 'installment', 'annual_inc', 'pub_rec'] ได้ Model ที่มี 0\n",
      "รอบแรกใช้ categorical ('emp_length', 'verification_status') และ numerical ['loan_amnt', 'int_rate', 'installment', 'annual_inc', 'total_acc'] ได้ Model ที่มี {'PPV': 0.6005522319374137, 'Sensitivity': 0.6458690774712947, 'NPV': 0.6682943412553698, 'Specificity': 0.6241773467267059, 'Accuracy': 0.6342991747752186}\n",
      "รอบแรกใช้ categorical ('emp_length', 'verification_status') และ numerical ['loan_amnt', 'int_rate', 'installment', 'pub_rec', 'total_acc'] ได้ Model ที่มี {'PPV': 0.6021263482280431, 'Sensitivity': 0.6446812722713475, 'NPV': 0.6686665435973171, 'Specificity': 0.6273236346842166, 'Accuracy': 0.635423081660303}\n",
      "รอบแรกใช้ categorical ('emp_length', 'verification_status') และ numerical ['loan_amnt', 'int_rate', 'annual_inc', 'pub_rec', 'total_acc'] ได้ Model ที่มี {'PPV': 0.6181556195965417, 'Sensitivity': 0.6086511812062821, 'NPV': 0.662176018228425, 'Specificity': 0.6710830158180349, 'Accuracy': 0.6419509791846286}\n",
      "รอบแรกใช้ categorical ('emp_length', 'verification_status') และ numerical ['loan_amnt', 'installment', 'annual_inc', 'pub_rec', 'total_acc'] ได้ Model ที่มี {'PPV': 0.5425572852894875, 'Sensitivity': 0.5117130790550349, 'NPV': 0.5930651414744136, 'Specificity': 0.6225609052072509, 'Accuracy': 0.5708369257297696}\n",
      "รอบแรกใช้ categorical ('emp_length', 'verification_status') และ numerical ['int_rate', 'installment', 'annual_inc', 'pub_rec', 'total_acc'] ได้ Model ที่มี {'PPV': 0.603493747866828, 'Sensitivity': 0.6417447538603669, 'NPV': 0.6681844574152737, 'Specificity': 0.6311338182657892, 'Accuracy': 0.6360851090035718}\n",
      "รอบแรกใช้ categorical ('emp_length', 'verification_status') และ numerical ['loan_amnt', 'int_rate', 'installment', 'annual_inc', 'pub_rec', 'total_acc'] ได้ Model ที่มี {'PPV': 0.6014332128867701, 'Sensitivity': 0.6535238220931767, 'NPV': 0.6720384771541897, 'Specificity': 0.6211176538505946, 'Accuracy': 0.6362390688508437}\n",
      "รอบแรกใช้ categorical ('emp_length', 'grade') และ numerical ['loan_amnt'] ได้ Model ที่มี {'PPV': 0.6186264308012487, 'Sensitivity': 0.5884584928071797, 'NPV': 0.6546979679973424, 'Specificity': 0.6826290266712851, 'Accuracy': 0.6386870304224658}\n",
      "รอบแรกใช้ categorical ('emp_length', 'grade') และ numerical ['int_rate'] ได้ Model ที่มี {'PPV': 0.6141216727535945, 'Sensitivity': 0.6158440015837403, 'NPV': 0.6630978905639631, 'Specificity': 0.661470961782704, 'Accuracy': 0.6401804409410026}\n",
      "รอบแรกใช้ categorical ('emp_length', 'grade') และ numerical ['installment'] ได้ Model ที่มี {'PPV': 0.5797907128842381, 'Sensitivity': 0.7604922792662003, 'NPV': 0.7119215810778633, 'Specificity': 0.5178097217411385, 'Accuracy': 0.631050621997783}\n",
      "รอบแรกใช้ categorical ('emp_length', 'grade') และ numerical ['annual_inc'] ได้ Model ที่มี {'PPV': 0.6083009079118028, 'Sensitivity': 0.6035040253398443, 'NPV': 0.6555055471146404, 'Specificity': 0.6600277104260478, 'Accuracy': 0.633652543416677}\n",
      "รอบแรกใช้ categorical ('emp_length', 'grade') และ numerical ['pub_rec'] ได้ Model ที่มี {'PPV': 0.6053972629082401, 'Sensitivity': 0.6232347894945229, 'NPV': 0.6616692838730704, 'Specificity': 0.6446137859369587, 'Accuracy': 0.6346378864392167}\n",
      "รอบแรกใช้ categorical ('emp_length', 'grade') และ numerical ['total_acc'] ได้ Model ที่มี {'PPV': 0.5976945765364473, 'Sensitivity': 0.6552395407153226, 'NPV': 0.6706486793166488, 'Specificity': 0.6141611823115114, 'Accuracy': 0.6333292277374061}\n",
      "รอบแรกใช้ categorical ('emp_length', 'grade') และ numerical ['loan_amnt', 'int_rate'] ได้ Model ที่มี {'PPV': 0.6167998942987382, 'Sensitivity': 0.6161079582948397, 'NPV': 0.6644846876982525, 'Specificity': 0.665136820228611, 'Accuracy': 0.6422588988791723}\n"
     ]
    },
    {
     "name": "stdout",
     "output_type": "stream",
     "text": [
      "รอบแรกใช้ categorical ('emp_length', 'grade') และ numerical ['loan_amnt', 'installment'] ได้ Model ที่มี {'PPV': 0.5970820668693009, 'Sensitivity': 0.6481457041045269, 'NPV': 0.6672906526893797, 'Specificity': 0.6173652003232883, 'Accuracy': 0.6317280453257791}\n",
      "รอบแรกใช้ categorical ('emp_length', 'grade') และ numerical ['loan_amnt', 'annual_inc'] ได้ Model ที่มี {'PPV': 0.6201395462992181, 'Sensitivity': 0.5835752936518411, 'NPV': 0.6535642721857758, 'Specificity': 0.6872762960397183, 'Accuracy': 0.6388871782239192}\n",
      "รอบแรกใช้ categorical ('emp_length', 'grade') และ numerical ['loan_amnt', 'pub_rec'] ได้ Model ที่มี {'PPV': 0.6172568646943882, 'Sensitivity': 0.5941005675069289, 'NPV': 0.6561862440960287, 'Specificity': 0.6777219720586537, 'Accuracy': 0.638702426407193}\n",
      "รอบแรกใช้ categorical ('emp_length', 'grade') และ numerical ['loan_amnt', 'total_acc'] ได้ Model ที่มี {'PPV': 0.6099870298313879, 'Sensitivity': 0.6206942061501913, 'NPV': 0.6629924953095685, 'Specificity': 0.6528114536427664, 'Accuracy': 0.6378248552777436}\n",
      "รอบแรกใช้ categorical ('emp_length', 'grade') และ numerical ['int_rate', 'installment'] ได้ Model ที่มี {'PPV': 0.6131668106025377, 'Sensitivity': 0.6090801108618187, 'NPV': 0.6599896688285599, 'Specificity': 0.6638378940076204, 'Accuracy': 0.6382867348195591}\n",
      "รอบแรกใช้ categorical ('emp_length', 'grade') และ numerical ['int_rate', 'annual_inc'] ได้ Model ที่มี {'PPV': 0.6130483320199632, 'Sensitivity': 0.6160419691170648, 'NPV': 0.6626565398886828, 'Specificity': 0.6598256552361159, 'Accuracy': 0.6393952457199162}\n",
      "รอบแรกใช้ categorical ('emp_length', 'grade') และ numerical ['int_rate', 'pub_rec'] ได้ Model ที่มี {'PPV': 0.6133386133386134, 'Sensitivity': 0.6132374290616339, 'NPV': 0.6616929781523276, 'Specificity': 0.6617884770811685, 'Accuracy': 0.6391335139795541}\n",
      "รอบแรกใช้ categorical ('emp_length', 'grade') และ numerical ['int_rate', 'total_acc'] ได้ Model ที่มี {'PPV': 0.6099115504682622, 'Sensitivity': 0.6188465091724957, 'NPV': 0.6622222222222223, 'Specificity': 0.6537351345110265, 'Accuracy': 0.6374553516442911}\n",
      "รอบแรกใช้ categorical ('emp_length', 'grade') และ numerical ['installment', 'annual_inc'] ได้ Model ที่มี 0\n",
      "รอบแรกใช้ categorical ('emp_length', 'grade') และ numerical ['installment', 'pub_rec'] ได้ Model ที่มี 0\n",
      "รอบแรกใช้ categorical ('emp_length', 'grade') และ numerical ['installment', 'total_acc'] ได้ Model ที่มี {'PPV': 0.5797699645131251, 'Sensitivity': 0.7600633496106638, 'NPV': 0.7116459812046473, 'Specificity': 0.5180406419582034, 'Accuracy': 0.6309736420741471}\n",
      "รอบแรกใช้ categorical ('emp_length', 'grade') และ numerical ['annual_inc', 'pub_rec'] ได้ Model ที่มี {'PPV': 0.6019989347369741, 'Sensitivity': 0.6339580308829352, 'NPV': 0.6641743605267141, 'Specificity': 0.6333275603279067, 'Accuracy': 0.6336217514472225}\n",
      "รอบแรกใช้ categorical ('emp_length', 'grade') และ numerical ['annual_inc', 'total_acc'] ได้ Model ที่มี {'PPV': 0.602234109502832, 'Sensitivity': 0.6314834367163785, 'NPV': 0.6633003738092367, 'Specificity': 0.6351171920101605, 'Accuracy': 0.6334216036457692}\n",
      "รอบแรกใช้ categorical ('emp_length', 'grade') และ numerical ['pub_rec', 'total_acc'] ได้ Model ที่มี {'PPV': 0.6011845073953371, 'Sensitivity': 0.6330011878052, 'NPV': 0.6633474576271187, 'Specificity': 0.6326347996767117, 'Accuracy': 0.6328057642566819}\n",
      "รอบแรกใช้ categorical ('emp_length', 'grade') และ numerical ['loan_amnt', 'int_rate', 'installment'] ได้ Model ที่มี {'PPV': 0.613322203672788, 'Sensitivity': 0.6060776032730633, 'NPV': 0.6589052054168333, 'Specificity': 0.6657141207712736, 'Accuracy': 0.6378864392166523}\n",
      "รอบแรกใช้ categorical ('emp_length', 'grade') และ numerical ['loan_amnt', 'int_rate', 'annual_inc'] ได้ Model ที่มี {'PPV': 0.619300394718933, 'Sensitivity': 0.6005015177510888, 'NPV': 0.6595433584523676, 'Specificity': 0.6770580764345918, 'Accuracy': 0.6413351397955414}\n",
      "รอบแรกใช้ categorical ('emp_length', 'grade') และ numerical ['loan_amnt', 'int_rate', 'pub_rec'] ได้ Model ที่มี {'PPV': 0.6158314462931969, 'Sensitivity': 0.6191434604724825, 'NPV': 0.6652359270322786, 'Specificity': 0.6621059923796329, 'Accuracy': 0.6420587510777189}\n",
      "รอบแรกใช้ categorical ('emp_length', 'grade') และ numerical ['loan_amnt', 'int_rate', 'total_acc'] ได้ Model ที่มี {'PPV': 0.6143247065013647, 'Sensitivity': 0.616371915005939, 'NPV': 0.6634050314101265, 'Specificity': 0.661470961782704, 'Accuracy': 0.6404267766966375}\n",
      "รอบแรกใช้ categorical ('emp_length', 'grade') และ numerical ['loan_amnt', 'installment', 'annual_inc'] ได้ Model ที่มี {'PPV': 0.5610643134108838, 'Sensitivity': 0.6922594694470107, 'NPV': 0.6615379032550713, 'Specificity': 0.5262094446368779, 'Accuracy': 0.6036919571375785}\n",
      "รอบแรกใช้ categorical ('emp_length', 'grade') และ numerical ['loan_amnt', 'installment', 'pub_rec'] ได้ Model ที่มี {'PPV': 0.5873749895534446, 'Sensitivity': 0.6956909066913026, 'NPV': 0.6825675443125108, 'Specificity': 0.572451218104145, 'Accuracy': 0.6299575070821529}\n",
      "รอบแรกใช้ categorical ('emp_length', 'grade') และ numerical ['loan_amnt', 'installment', 'total_acc'] ได้ Model ที่มี {'PPV': 0.5873675979242198, 'Sensitivity': 0.5452355813646562, 'NPV': 0.6256450649139008, 'Specificity': 0.664905900011546, 'Accuracy': 0.6090651558073654}\n",
      "รอบแรกใช้ categorical ('emp_length', 'grade') และ numerical ['loan_amnt', 'annual_inc', 'pub_rec'] ได้ Model ที่มี {'PPV': 0.6179078924841637, 'Sensitivity': 0.5954203510624257, 'NPV': 0.6569782079615073, 'Specificity': 0.6778951622214525, 'Accuracy': 0.6394106417046435}\n",
      "รอบแรกใช้ categorical ('emp_length', 'grade') และ numerical ['loan_amnt', 'annual_inc', 'total_acc'] ได้ Model ที่มี 0\n",
      "รอบแรกใช้ categorical ('emp_length', 'grade') และ numerical ['loan_amnt', 'pub_rec', 'total_acc'] ได้ Model ที่มี 0\n",
      "รอบแรกใช้ categorical ('emp_length', 'grade') และ numerical ['int_rate', 'installment', 'annual_inc'] ได้ Model ที่มี {'PPV': 0.610516819177729, 'Sensitivity': 0.6251814702388808, 'NPV': 0.6650548413728034, 'Specificity': 0.6510795520147789, 'Accuracy': 0.6389949501170095}\n",
      "รอบแรกใช้ categorical ('emp_length', 'grade') และ numerical ['int_rate', 'installment', 'pub_rec'] ได้ Model ที่มี {'PPV': 0.6124883379981341, 'Sensitivity': 0.6065065329285997, 'NPV': 0.6586720091585575, 'Specificity': 0.6642997344417504, 'Accuracy': 0.6373321837664737}\n",
      "รอบแรกใช้ categorical ('emp_length', 'grade') และ numerical ['int_rate', 'installment', 'total_acc'] ได้ Model ที่มี {'PPV': 0.6056435188226792, 'Sensitivity': 0.6083212353174079, 'NPV': 0.6560127499275572, 'Specificity': 0.6534753492668283, 'Accuracy': 0.6324054686537751}\n",
      "รอบแรกใช้ categorical ('emp_length', 'grade') และ numerical ['int_rate', 'annual_inc', 'pub_rec'] ได้ Model ที่มี {'PPV': 0.6130648297683003, 'Sensitivity': 0.6137323478949452, 'NPV': 0.6617549334026754, 'Specificity': 0.6611245814571066, 'Accuracy': 0.6390103461017367}\n",
      "รอบแรกใช้ categorical ('emp_length', 'grade') และ numerical ['int_rate', 'annual_inc', 'total_acc'] ได้ Model ที่มี {'PPV': 0.6133868808567604, 'Sensitivity': 0.6047248251286789, 'NPV': 0.6584169708029197, 'Specificity': 0.6665512065581342, 'Accuracy': 0.637701687399926}\n",
      "รอบแรกใช้ categorical ('emp_length', 'grade') และ numerical ['int_rate', 'pub_rec', 'total_acc'] ได้ Model ที่มี {'PPV': 0.6120999966975992, 'Sensitivity': 0.6115547050283754, 'NPV': 0.6604366761847077, 'Specificity': 0.6609513912943078, 'Accuracy': 0.6379018352013794}\n",
      "รอบแรกใช้ categorical ('emp_length', 'grade') และ numerical ['installment', 'annual_inc', 'pub_rec'] ได้ Model ที่มี {'PPV': 0.5797447965167493, 'Sensitivity': 0.7600303550217764, 'NPV': 0.7116063285617986, 'Specificity': 0.5180117769310704, 'Accuracy': 0.6309428501046926}\n",
      "รอบแรกใช้ categorical ('emp_length', 'grade') และ numerical ['installment', 'annual_inc', 'total_acc'] ได้ Model ที่มี {'PPV': 0.59300360522758, 'Sensitivity': 0.6946680744357925, 'NPV': 0.6857511545775604, 'Specificity': 0.5829003579263364, 'Accuracy': 0.6350535780268506}\n",
      "รอบแรกใช้ categorical ('emp_length', 'grade') และ numerical ['installment', 'pub_rec', 'total_acc'] ได้ Model ที่มี {'PPV': 0.579088471849866, 'Sensitivity': 0.762570938366108, 'NPV': 0.7126312846931033, 'Specificity': 0.5150964091906246, 'Accuracy': 0.6305733464712403}\n",
      "รอบแรกใช้ categorical ('emp_length', 'grade') และ numerical ['annual_inc', 'pub_rec', 'total_acc'] ได้ Model ที่มี 0\n"
     ]
    },
    {
     "name": "stdout",
     "output_type": "stream",
     "text": [
      "รอบแรกใช้ categorical ('emp_length', 'grade') และ numerical ['loan_amnt', 'int_rate', 'installment', 'annual_inc'] ได้ Model ที่มี {'PPV': 0.6096993210475267, 'Sensitivity': 0.6222119572390128, 'NPV': 0.6634530597848451, 'Specificity': 0.6515413924489089, 'Accuracy': 0.6378556472471979}\n",
      "รอบแรกใช้ categorical ('emp_length', 'grade') และ numerical ['loan_amnt', 'int_rate', 'installment', 'pub_rec'] ได้ Model ที่มี {'PPV': 0.6094556243550051, 'Sensitivity': 0.6235317407945097, 'NPV': 0.663858119255244, 'Specificity': 0.6504445214178501, 'Accuracy': 0.6378864392166523}\n",
      "รอบแรกใช้ categorical ('emp_length', 'grade') และ numerical ['loan_amnt', 'int_rate', 'installment', 'total_acc'] ได้ Model ที่มี {'PPV': 0.5931148664078557, 'Sensitivity': 0.6855615679028639, 'NPV': 0.6814839572192514, 'Specificity': 0.588557903244429, 'Accuracy': 0.6338218992486759}\n",
      "รอบแรกใช้ categorical ('emp_length', 'grade') และ numerical ['loan_amnt', 'int_rate', 'annual_inc', 'pub_rec'] ได้ Model ที่มี {'PPV': 0.6182192798757009, 'Sensitivity': 0.6038999604064933, 'NPV': 0.6603576076500877, 'Specificity': 0.6737385983142824, 'Accuracy': 0.6411503879788151}\n",
      "รอบแรกใช้ categorical ('emp_length', 'grade') และ numerical ['loan_amnt', 'int_rate', 'annual_inc', 'total_acc'] ได้ Model ที่มี {'PPV': 0.6166733413429448, 'Sensitivity': 0.6096740134617923, 'NPV': 0.6618840745398422, 'Specificity': 0.6684562983489204, 'Accuracy': 0.6410272201009977}\n",
      "รอบแรกใช้ categorical ('emp_length', 'grade') และ numerical ['loan_amnt', 'int_rate', 'pub_rec', 'total_acc'] ได้ Model ที่มี {'PPV': 0.6162786847246597, 'Sensitivity': 0.6140622937838195, 'NPV': 0.663424740310189, 'Specificity': 0.6655120655813417, 'Accuracy': 0.6415044956275403}\n",
      "รอบแรกใช้ categorical ('emp_length', 'grade') และ numerical ['loan_amnt', 'installment', 'annual_inc', 'pub_rec'] ได้ Model ที่มี {'PPV': 0.5830416180474524, 'Sensitivity': 0.7418833311336941, 'NPV': 0.7035282525486035, 'Specificity': 0.5358503636993419, 'Accuracy': 0.6319897770661411}\n",
      "รอบแรกใช้ categorical ('emp_length', 'grade') และ numerical ['loan_amnt', 'installment', 'annual_inc', 'total_acc'] ได้ Model ที่มี 0\n",
      "รอบแรกใช้ categorical ('emp_length', 'grade') และ numerical ['loan_amnt', 'installment', 'pub_rec', 'total_acc'] ได้ Model ที่มี 0\n",
      "รอบแรกใช้ categorical ('emp_length', 'grade') และ numerical ['loan_amnt', 'annual_inc', 'pub_rec', 'total_acc'] ได้ Model ที่มี {'PPV': 0.6145175986231566, 'Sensitivity': 0.6008314636399631, 'NPV': 0.6574648206347858, 'Specificity': 0.6702747950583073, 'Accuracy': 0.6378710432319251}\n",
      "รอบแรกใช้ categorical ('emp_length', 'grade') และ numerical ['int_rate', 'installment', 'annual_inc', 'pub_rec'] ได้ Model ที่มี {'PPV': 0.6054657179818888, 'Sensitivity': 0.6176916985614359, 'NPV': 0.6595263281617302, 'Specificity': 0.647875534003002, 'Accuracy': 0.6337911072792216}\n",
      "รอบแรกใช้ categorical ('emp_length', 'grade') และ numerical ['int_rate', 'installment', 'annual_inc', 'total_acc'] ได้ Model ที่มี 0\n",
      "รอบแรกใช้ categorical ('emp_length', 'grade') และ numerical ['int_rate', 'installment', 'pub_rec', 'total_acc'] ได้ Model ที่มี 0\n",
      "รอบแรกใช้ categorical ('emp_length', 'grade') และ numerical ['int_rate', 'annual_inc', 'pub_rec', 'total_acc'] ได้ Model ที่มี {'PPV': 0.6100426307396921, 'Sensitivity': 0.6185165632836215, 'NPV': 0.6621570288986939, 'Specificity': 0.6541103798637571, 'Accuracy': 0.6375015395984727}\n",
      "รอบแรกใช้ categorical ('emp_length', 'grade') และ numerical ['installment', 'annual_inc', 'pub_rec', 'total_acc'] ได้ Model ที่มี 0\n",
      "รอบแรกใช้ categorical ('emp_length', 'grade') และ numerical ['loan_amnt', 'int_rate', 'installment', 'annual_inc', 'pub_rec'] ได้ Model ที่มี {'PPV': 0.5941520806769445, 'Sensitivity': 0.6764880559588228, 'NPV': 0.6779332545000657, 'Specificity': 0.5957452950005773, 'Accuracy': 0.6334216036457692}\n",
      "รอบแรกใช้ categorical ('emp_length', 'grade') และ numerical ['loan_amnt', 'int_rate', 'installment', 'annual_inc', 'total_acc'] ได้ Model ที่มี {'PPV': 0.6093765389540038, 'Sensitivity': 0.6124125643394484, 'NPV': 0.6594381468703795, 'Specificity': 0.6565639071700727, 'Accuracy': 0.6359619411257544}\n",
      "รอบแรกใช้ categorical ('emp_length', 'grade') และ numerical ['loan_amnt', 'int_rate', 'installment', 'pub_rec', 'total_acc'] ได้ Model ที่มี {'PPV': 0.6116945027836117, 'Sensitivity': 0.6054177114953148, 'NPV': 0.6578744099556573, 'Specificity': 0.6637801639533542, 'Accuracy': 0.6365469885453874}\n",
      "รอบแรกใช้ categorical ('emp_length', 'grade') และ numerical ['loan_amnt', 'int_rate', 'annual_inc', 'pub_rec', 'total_acc'] ได้ Model ที่มี {'PPV': 0.616223448737247, 'Sensitivity': 0.6078263164840966, 'NPV': 0.6609521636192487, 'Specificity': 0.6688315437016511, 'Accuracy': 0.6403651927577287}\n",
      "รอบแรกใช้ categorical ('emp_length', 'grade') และ numerical ['loan_amnt', 'installment', 'annual_inc', 'pub_rec', 'total_acc'] ได้ Model ที่มี {'PPV': 0.5955707882942262, 'Sensitivity': 0.6708129866701861, 'NPV': 0.6762291092000648, 'Specificity': 0.6014894354000693, 'Accuracy': 0.6338372952334032}\n",
      "รอบแรกใช้ categorical ('emp_length', 'grade') และ numerical ['int_rate', 'installment', 'annual_inc', 'pub_rec', 'total_acc'] ได้ Model ที่มี {'PPV': 0.6078046867339936, 'Sensitivity': 0.6136003695393956, 'NPV': 0.6591180323097074, 'Specificity': 0.6536196744024939, 'Accuracy': 0.6349458061337603}\n",
      "รอบแรกใช้ categorical ('emp_length', 'grade') และ numerical ['loan_amnt', 'int_rate', 'installment', 'annual_inc', 'pub_rec', 'total_acc'] ได้ Model ที่มี {'PPV': 0.6119536128456735, 'Sensitivity': 0.588491487396067, 'NPV': 0.6516784896386081, 'Specificity': 0.6735365431243505, 'Accuracy': 0.6338526912181303}\n",
      "รอบแรกใช้ categorical ('emp_length', 'addr_state') และ numerical ['loan_amnt'] ได้ Model ที่มี {'PPV': 0.5397711543785181, 'Sensitivity': 0.3860036953939554, 'NPV': 0.5700124774712325, 'Specificity': 0.7120713543470731, 'Accuracy': 0.5599211725581968}\n",
      "รอบแรกใช้ categorical ('emp_length', 'addr_state') และ numerical ['int_rate'] ได้ Model ที่มี {'PPV': 0.6149968906490361, 'Sensitivity': 0.619968325194668, 'NPV': 0.6651646850199133, 'Specificity': 0.6604606858330447, 'Accuracy': 0.6415660795664491}\n",
      "รอบแรกใช้ categorical ('emp_length', 'addr_state') และ numerical ['installment'] ได้ Model ที่มี 0\n",
      "รอบแรกใช้ categorical ('emp_length', 'addr_state') และ numerical ['annual_inc'] ได้ Model ที่มี {'PPV': 0.5336038549327923, 'Sensitivity': 0.20826184505741058, 'NPV': 0.5482935828172355, 'Specificity': 0.8407516453065466, 'Accuracy': 0.5456183027466437}\n",
      "รอบแรกใช้ categorical ('emp_length', 'addr_state') และ numerical ['pub_rec'] ได้ Model ที่มี {'PPV': 0.533385985066054, 'Sensitivity': 0.24511680084466148, 'NPV': 0.5516031671370335, 'Specificity': 0.8124061886618174, 'Accuracy': 0.5476967606848134}\n",
      "รอบแรกใช้ categorical ('emp_length', 'addr_state') และ numerical ['total_acc'] ได้ Model ที่มี {'PPV': 0.5401651651651652, 'Sensitivity': 0.1899168536360037, 'NPV': 0.5478119935170178, 'Specificity': 0.858561367047685, 'Accuracy': 0.5465574578150019}\n",
      "รอบแรกใช้ categorical ('emp_length', 'addr_state') และ numerical ['loan_amnt', 'int_rate'] ได้ Model ที่มี {'PPV': 0.6221380557545979, 'Sensitivity': 0.6015903391843738, 'NPV': 0.6612428110534437, 'Specificity': 0.6803486895277682, 'Accuracy': 0.6435983495504373}\n",
      "รอบแรกใช้ categorical ('emp_length', 'addr_state') และ numerical ['loan_amnt', 'installment'] ได้ Model ที่มี {'PPV': 0.5334509560822087, 'Sensitivity': 0.3691104658835951, 'NPV': 0.5652440826720629, 'Specificity': 0.7175845745295001, 'Accuracy': 0.554979061460771}\n",
      "รอบแรกใช้ categorical ('emp_length', 'addr_state') และ numerical ['loan_amnt', 'annual_inc'] ได้ Model ที่มี 0\n",
      "รอบแรกใช้ categorical ('emp_length', 'addr_state') และ numerical ['loan_amnt', 'pub_rec'] ได้ Model ที่มี {'PPV': 0.5466481692513502, 'Sensitivity': 0.36402929919493204, 'NPV': 0.5694565435904309, 'Specificity': 0.7358850017319016, 'Accuracy': 0.5623691341298189}\n",
      "รอบแรกใช้ categorical ('emp_length', 'addr_state') และ numerical ['loan_amnt', 'total_acc'] ได้ Model ที่มี {'PPV': 0.5435336430391129, 'Sensitivity': 0.35901412168404384, 'NPV': 0.5676451605724078, 'Specificity': 0.7362313820574992, 'Accuracy': 0.5602136962680133}\n",
      "รอบแรกใช้ categorical ('emp_length', 'addr_state') และ numerical ['int_rate', 'installment'] ได้ Model ที่มี 0\n"
     ]
    },
    {
     "name": "stdout",
     "output_type": "stream",
     "text": [
      "รอบแรกใช้ categorical ('emp_length', 'addr_state') และ numerical ['int_rate', 'annual_inc'] ได้ Model ที่มี {'PPV': 0.6195648449546, 'Sensitivity': 0.596608156262373, 'NPV': 0.6581765314395952, 'Specificity': 0.6795116037409075, 'Accuracy': 0.6408270722995443}\n",
      "รอบแรกใช้ categorical ('emp_length', 'addr_state') และ numerical ['int_rate', 'pub_rec'] ได้ Model ที่มี {'PPV': 0.6193303982799222, 'Sensitivity': 0.5987528045400554, 'NPV': 0.6588875487363608, 'Specificity': 0.6780394873571182, 'Accuracy': 0.6410426160857249}\n",
      "รอบแรกใช้ categorical ('emp_length', 'addr_state') และ numerical ['int_rate', 'total_acc'] ได้ Model ที่มี {'PPV': 0.6118473101265823, 'Sensitivity': 0.6124125643394484, 'NPV': 0.6606482551421308, 'Specificity': 0.6601143055074472, 'Accuracy': 0.6378556472471979}\n",
      "รอบแรกใช้ categorical ('emp_length', 'addr_state') และ numerical ['installment', 'annual_inc'] ได้ Model ที่มี {'PPV': 0.5212595490963294, 'Sensitivity': 0.4615283093572654, 'NPV': 0.5718445837815148, 'Specificity': 0.6291709964207366, 'Accuracy': 0.5509453134622491}\n",
      "รอบแรกใช้ categorical ('emp_length', 'addr_state') และ numerical ['installment', 'pub_rec'] ได้ Model ที่มี {'PPV': 0.5312435468549952, 'Sensitivity': 0.42440939685891516, 'NPV': 0.571786249048823, 'Specificity': 0.6723819420390256, 'Accuracy': 0.5566726197807612}\n",
      "รอบแรกใช้ categorical ('emp_length', 'addr_state') และ numerical ['installment', 'total_acc'] ได้ Model ที่มี {'PPV': 0.5271349943777002, 'Sensitivity': 0.2938828032202719, 'NPV': 0.5546561231921756, 'Specificity': 0.7693684332063272, 'Accuracy': 0.54749661288336}\n",
      "รอบแรกใช้ categorical ('emp_length', 'addr_state') และ numerical ['annual_inc', 'pub_rec'] ได้ Model ที่มี {'PPV': 0.5353869478326787, 'Sensitivity': 0.2563349610663851, 'NPV': 0.5531611189310284, 'Specificity': 0.8053919870684678, 'Accuracy': 0.5491901712033501}\n",
      "รอบแรกใช้ categorical ('emp_length', 'addr_state') และ numerical ['annual_inc', 'total_acc'] ได้ Model ที่มี {'PPV': 0.538739358500301, 'Sensitivity': 0.20671109937970172, 'NPV': 0.5491063893629391, 'Specificity': 0.8451679944579148, 'Accuracy': 0.5472502771277251}\n",
      "รอบแรกใช้ categorical ('emp_length', 'addr_state') และ numerical ['pub_rec', 'total_acc'] ได้ Model ที่มี {'PPV': 0.5316184351554126, 'Sensitivity': 0.2945756895869078, 'NPV': 0.556044686241123, 'Specificity': 0.7729476965708347, 'Accuracy': 0.5497290306688015}\n",
      "รอบแรกใช้ categorical ('emp_length', 'addr_state') และ numerical ['loan_amnt', 'int_rate', 'installment'] ได้ Model ที่มี {'PPV': 0.6169232932574, 'Sensitivity': 0.5790220403853767, 'NPV': 0.6504958089081246, 'Specificity': 0.6854577993303314, 'Accuracy': 0.6357925852937554}\n",
      "รอบแรกใช้ categorical ('emp_length', 'addr_state') และ numerical ['loan_amnt', 'int_rate', 'annual_inc'] ได้ Model ที่มี {'PPV': 0.6212532188841202, 'Sensitivity': 0.597004091329022, 'NPV': 0.6590839311134061, 'Specificity': 0.6815898856944925, 'Accuracy': 0.6421203350166277}\n",
      "รอบแรกใช้ categorical ('emp_length', 'addr_state') และ numerical ['loan_amnt', 'int_rate', 'pub_rec'] ได้ Model ที่มี {'PPV': 0.6208144178584838, 'Sensitivity': 0.6001055826844397, 'NPV': 0.6600757257046698, 'Specificity': 0.6793384135781088, 'Accuracy': 0.6423666707722626}\n",
      "รอบแรกใช้ categorical ('emp_length', 'addr_state') และ numerical ['loan_amnt', 'int_rate', 'total_acc'] ได้ Model ที่มี {'PPV': 0.6183767942185366, 'Sensitivity': 0.6126435264616603, 'NPV': 0.6638511095204008, 'Specificity': 0.6692356540815149, 'Accuracy': 0.642828550314078}\n",
      "รอบแรกใช้ categorical ('emp_length', 'addr_state') และ numerical ['loan_amnt', 'installment', 'annual_inc'] ได้ Model ที่มี {'PPV': 0.5282166123778501, 'Sensitivity': 0.42803880163653163, 'NPV': 0.5708308575955635, 'Specificity': 0.6655409306084747, 'Accuracy': 0.5547173297204089}\n",
      "รอบแรกใช้ categorical ('emp_length', 'addr_state') และ numerical ['loan_amnt', 'installment', 'pub_rec'] ได้ Model ที่มี {'PPV': 0.5329629969699752, 'Sensitivity': 0.3830341823940874, 'NPV': 0.5668519805420431, 'Specificity': 0.7063560789747142, 'Accuracy': 0.5554871289567681}\n",
      "รอบแรกใช้ categorical ('emp_length', 'addr_state') และ numerical ['loan_amnt', 'installment', 'total_acc'] ได้ Model ที่มี {'PPV': 0.5365853658536586, 'Sensitivity': 0.29253002507588755, 'NPV': 0.5572487559107147, 'Specificity': 0.778980487241658, 'Accuracy': 0.5519922404236975}\n",
      "รอบแรกใช้ categorical ('emp_length', 'addr_state') และ numerical ['loan_amnt', 'annual_inc', 'pub_rec'] ได้ Model ที่มี {'PPV': 0.5460917263446594, 'Sensitivity': 0.3547578197175663, 'NPV': 0.5679473300488258, 'Specificity': 0.7420332525112574, 'Accuracy': 0.5613222071683704}\n",
      "รอบแรกใช้ categorical ('emp_length', 'addr_state') และ numerical ['loan_amnt', 'annual_inc', 'total_acc'] ได้ Model ที่มี {'PPV': 0.5394190871369294, 'Sensitivity': 0.39461528309357263, 'NPV': 0.5711079943899018, 'Specificity': 0.7052303429165223, 'Accuracy': 0.5602906761916492}\n",
      "รอบแรกใช้ categorical ('emp_length', 'addr_state') และ numerical ['loan_amnt', 'pub_rec', 'total_acc'] ได้ Model ที่มี {'PPV': 0.5447472629862566, 'Sensitivity': 0.38580572786063083, 'NPV': 0.57194103985099, 'Specificity': 0.7179309548550976, 'Accuracy': 0.5629541815494519}\n",
      "รอบแรกใช้ categorical ('emp_length', 'addr_state') และ numerical ['int_rate', 'installment', 'annual_inc'] ได้ Model ที่มี {'PPV': 0.6035982847554534, 'Sensitivity': 0.6409198891381813, 'NPV': 0.6678974671956057, 'Specificity': 0.6317688488627179, 'Accuracy': 0.6360389210493903}\n",
      "รอบแรกใช้ categorical ('emp_length', 'addr_state') และ numerical ['int_rate', 'installment', 'pub_rec'] ได้ Model ที่มี {'PPV': 0.6181811939991074, 'Sensitivity': 0.5941335620958162, 'NPV': 0.6566172570694805, 'Specificity': 0.6789631682253782, 'Accuracy': 0.639379849735189}\n",
      "รอบแรกใช้ categorical ('emp_length', 'addr_state') และ numerical ['int_rate', 'installment', 'total_acc'] ได้ Model ที่มี {'PPV': 0.6065679330328396, 'Sensitivity': 0.6216180546390392, 'NPV': 0.6616310633777883, 'Specificity': 0.6472693684332064, 'Accuracy': 0.6352999137824855}\n",
      "รอบแรกใช้ categorical ('emp_length', 'addr_state') และ numerical ['int_rate', 'annual_inc', 'pub_rec'] ได้ Model ที่มี {'PPV': 0.6178565400843882, 'Sensitivity': 0.6039329549953808, 'NPV': 0.6602032439776941, 'Specificity': 0.6732190278258862, 'Accuracy': 0.640888656238453}\n",
      "รอบแรกใช้ categorical ('emp_length', 'addr_state') และ numerical ['int_rate', 'annual_inc', 'total_acc'] ได้ Model ที่มี {'PPV': 0.6138594164456234, 'Sensitivity': 0.6108618186617395, 'NPV': 0.6610140262129225, 'Specificity': 0.6638378940076204, 'Accuracy': 0.639118117994827}\n",
      "รอบแรกใช้ categorical ('emp_length', 'addr_state') และ numerical ['int_rate', 'pub_rec', 'total_acc'] ได้ Model ที่มี {'PPV': 0.6135646163559632, 'Sensitivity': 0.6092120892173684, 'NPV': 0.6602312171892482, 'Specificity': 0.6643285994688835, 'Accuracy': 0.6386100504988299}\n",
      "รอบแรกใช้ categorical ('emp_length', 'addr_state') และ numerical ['installment', 'annual_inc', 'pub_rec'] ได้ Model ที่มี {'PPV': 0.5362097669256382, 'Sensitivity': 0.38257225814966345, 'NPV': 0.5681083825701625, 'Specificity': 0.7105126428818843, 'Accuracy': 0.5574886069713019}\n",
      "รอบแรกใช้ categorical ('emp_length', 'addr_state') และ numerical ['installment', 'annual_inc', 'total_acc'] ได้ Model ที่มี {'PPV': 0.568242640499554, 'Sensitivity': 0.10508776560644055, 'NPV': 0.5429760560769711, 'Specificity': 0.9301466343378363, 'Accuracy': 0.5451564232048282}\n",
      "รอบแรกใช้ categorical ('emp_length', 'addr_state') และ numerical ['installment', 'pub_rec', 'total_acc'] ได้ Model ที่มี {'PPV': 0.5331397896581945, 'Sensitivity': 0.32113633364128286, 'NPV': 0.5593841014219634, 'Specificity': 0.7539833737443713, 'Accuracy': 0.5520076364084247}\n",
      "รอบแรกใช้ categorical ('emp_length', 'addr_state') และ numerical ['annual_inc', 'pub_rec', 'total_acc'] ได้ Model ที่มี {'PPV': 0.5285606368760533, 'Sensitivity': 0.30011878051999474, 'NPV': 0.5557045011834195, 'Specificity': 0.7658180348689527, 'Accuracy': 0.5485127478753541}\n",
      "รอบแรกใช้ categorical ('emp_length', 'addr_state') และ numerical ['loan_amnt', 'int_rate', 'installment', 'annual_inc'] ได้ Model ที่มี {'PPV': 0.6065857885615251, 'Sensitivity': 0.6351458360828824, 'NPV': 0.6670981726224524, 'Specificity': 0.639620136242928, 'Accuracy': 0.6375323315679271}\n"
     ]
    },
    {
     "name": "stdout",
     "output_type": "stream",
     "text": [
      "รอบแรกใช้ categorical ('emp_length', 'addr_state') และ numerical ['loan_amnt', 'int_rate', 'installment', 'pub_rec'] ได้ Model ที่มี {'PPV': 0.5989504580627947, 'Sensitivity': 0.6665566847037085, 'NPV': 0.6763283476924062, 'Specificity': 0.6095427779702113, 'Accuracy': 0.6361466929424806}\n",
      "รอบแรกใช้ categorical ('emp_length', 'addr_state') และ numerical ['loan_amnt', 'int_rate', 'installment', 'total_acc'] ได้ Model ที่มี {'PPV': 0.5896830364764126, 'Sensitivity': 0.6838128546918305, 'NPV': 0.6784875528417097, 'Specificity': 0.5837374437131971, 'Accuracy': 0.6304347826086957}\n",
      "รอบแรกใช้ categorical ('emp_length', 'addr_state') และ numerical ['loan_amnt', 'int_rate', 'annual_inc', 'pub_rec'] ได้ Model ที่มี {'PPV': 0.619627362615188, 'Sensitivity': 0.6078923056618715, 'NPV': 0.6625589187347379, 'Specificity': 0.6735365431243505, 'Accuracy': 0.642905530237714}\n",
      "รอบแรกใช้ categorical ('emp_length', 'addr_state') และ numerical ['loan_amnt', 'int_rate', 'annual_inc', 'total_acc'] ได้ Model ที่มี {'PPV': 0.6161987259429034, 'Sensitivity': 0.6032070740398575, 'NPV': 0.6591559674630842, 'Specificity': 0.6713139360350999, 'Accuracy': 0.6395338095824609}\n",
      "รอบแรกใช้ categorical ('emp_length', 'addr_state') และ numerical ['loan_amnt', 'int_rate', 'pub_rec', 'total_acc'] ได้ Model ที่มี {'PPV': 0.6143051454732442, 'Sensitivity': 0.6109608024284018, 'NPV': 0.6612657646011089, 'Specificity': 0.6644151945502829, 'Accuracy': 0.6394722256435522}\n",
      "รอบแรกใช้ categorical ('emp_length', 'addr_state') และ numerical ['loan_amnt', 'installment', 'annual_inc', 'pub_rec'] ได้ Model ที่มี {'PPV': 0.5206320336478345, 'Sensitivity': 0.45334565131318466, 'NPV': 0.5703430927621171, 'Specificity': 0.6348285417388292, 'Accuracy': 0.5501447222564355}\n",
      "รอบแรกใช้ categorical ('emp_length', 'addr_state') และ numerical ['loan_amnt', 'installment', 'annual_inc', 'total_acc'] ได้ Model ที่มี {'PPV': 0.5422094691535151, 'Sensitivity': 0.31173287580836745, 'NPV': 0.5610915900435542, 'Specificity': 0.7697436785590579, 'Accuracy': 0.5560259884222195}\n",
      "รอบแรกใช้ categorical ('emp_length', 'addr_state') และ numerical ['loan_amnt', 'installment', 'pub_rec', 'total_acc'] ได้ Model ที่มี {'PPV': 0.5572259941804074, 'Sensitivity': 0.15164313052659364, 'NPV': 0.5465575620767494, 'Specificity': 0.8945849209098257, 'Accuracy': 0.5479123044709939}\n",
      "รอบแรกใช้ categorical ('emp_length', 'addr_state') และ numerical ['loan_amnt', 'annual_inc', 'pub_rec', 'total_acc'] ได้ Model ที่มี {'PPV': 0.5454289732770745, 'Sensitivity': 0.38385904711627294, 'NPV': 0.5719132547796983, 'Specificity': 0.7201246969172151, 'Accuracy': 0.563215913289814}\n",
      "รอบแรกใช้ categorical ('emp_length', 'addr_state') และ numerical ['int_rate', 'installment', 'annual_inc', 'pub_rec'] ได้ Model ที่มี {'PPV': 0.611842326724341, 'Sensitivity': 0.5997096476177907, 'NPV': 0.6557809618385586, 'Specificity': 0.6671573721279298, 'Accuracy': 0.6356848134006651}\n",
      "รอบแรกใช้ categorical ('emp_length', 'addr_state') และ numerical ['int_rate', 'installment', 'annual_inc', 'total_acc'] ได้ Model ที่มี {'PPV': 0.5782666598371152, 'Sensitivity': 0.7449848224891118, 'NPV': 0.7016521269204046, 'Specificity': 0.5246795981988223, 'Accuracy': 0.6274787535410765}\n",
      "รอบแรกใช้ categorical ('emp_length', 'addr_state') และ numerical ['int_rate', 'installment', 'pub_rec', 'total_acc'] ได้ Model ที่มี {'PPV': 0.5889035442283964, 'Sensitivity': 0.45667810479081433, 'NPV': 0.6027165914738595, 'Specificity': 0.7211061078397414, 'Accuracy': 0.5977183150634314}\n",
      "รอบแรกใช้ categorical ('emp_length', 'addr_state') และ numerical ['int_rate', 'annual_inc', 'pub_rec', 'total_acc'] ได้ Model ที่มี {'PPV': 0.6109060018949913, 'Sensitivity': 0.6169328230170252, 'NPV': 0.6619595283156209, 'Specificity': 0.6562463918716084, 'Accuracy': 0.6379018352013794}\n",
      "รอบแรกใช้ categorical ('emp_length', 'addr_state') และ numerical ['installment', 'annual_inc', 'pub_rec', 'total_acc'] ได้ Model ที่มี {'PPV': 0.5392937640871526, 'Sensitivity': 0.35525273855087763, 'NPV': 0.5656300709093738, 'Specificity': 0.7344994804295116, 'Accuracy': 0.5575347949254834}\n",
      "รอบแรกใช้ categorical ('emp_length', 'addr_state') และ numerical ['loan_amnt', 'int_rate', 'installment', 'annual_inc', 'pub_rec'] ได้ Model ที่มี {'PPV': 0.6077234445387478, 'Sensitivity': 0.614260261317144, 'NPV': 0.6593332944810304, 'Specificity': 0.6531289689412308, 'Accuracy': 0.6349919940879418}\n",
      "รอบแรกใช้ categorical ('emp_length', 'addr_state') และ numerical ['loan_amnt', 'int_rate', 'installment', 'annual_inc', 'total_acc'] ได้ Model ที่มี {'PPV': 0.5912820170757738, 'Sensitivity': 0.5849610663851128, 'NPV': 0.6402711050102952, 'Specificity': 0.646259092483547, 'Accuracy': 0.6176561152851336}\n",
      "รอบแรกใช้ categorical ('emp_length', 'addr_state') และ numerical ['loan_amnt', 'int_rate', 'installment', 'pub_rec', 'total_acc'] ได้ Model ที่มี {'PPV': 0.5822682024600764, 'Sensitivity': 0.6388082354493863, 'NPV': 0.6546796631021103, 'Specificity': 0.5990647731208867, 'Accuracy': 0.6176099273309521}\n",
      "รอบแรกใช้ categorical ('emp_length', 'addr_state') และ numerical ['loan_amnt', 'int_rate', 'annual_inc', 'pub_rec', 'total_acc'] ได้ Model ที่มี {'PPV': 0.6192778416390561, 'Sensitivity': 0.6043618846509172, 'NPV': 0.6610222197093911, 'Specificity': 0.6749509294538737, 'Accuracy': 0.6420125631235374}\n",
      "รอบแรกใช้ categorical ('emp_length', 'addr_state') และ numerical ['loan_amnt', 'installment', 'annual_inc', 'pub_rec', 'total_acc'] ได้ Model ที่มี {'PPV': 0.5506264501160093, 'Sensitivity': 0.19575689586907746, 'NPV': 0.5500858297801651, 'Specificity': 0.8602355386214063, 'Accuracy': 0.5501755142258898}\n",
      "รอบแรกใช้ categorical ('emp_length', 'addr_state') และ numerical ['int_rate', 'installment', 'annual_inc', 'pub_rec', 'total_acc'] ได้ Model ที่มี {'PPV': 0.5681397684622297, 'Sensitivity': 0.7092186881351459, 'NPV': 0.6750129065565307, 'Specificity': 0.5283743216718624, 'Accuracy': 0.6127601921418894}\n",
      "รอบแรกใช้ categorical ('emp_length', 'addr_state') และ numerical ['loan_amnt', 'int_rate', 'installment', 'annual_inc', 'pub_rec', 'total_acc'] ได้ Model ที่มี {'PPV': 0.6115756043813598, 'Sensitivity': 0.6226738814834367, 'NPV': 0.6645744119199859, 'Specificity': 0.6540237847823577, 'Accuracy': 0.6393952457199162}\n",
      "รอบแรกใช้ categorical ('home_ownership', 'verification_status') และ numerical ['loan_amnt'] ได้ Model ที่มี {'PPV': 0.5634268856641684, 'Sensitivity': 0.46631252474594165, 'NPV': 0.5942861442761112, 'Specificity': 0.6838990878651426, 'Accuracy': 0.5823685182904299}\n",
      "รอบแรกใช้ categorical ('home_ownership', 'verification_status') และ numerical ['int_rate'] ได้ Model ที่มี {'PPV': 0.6193956286753458, 'Sensitivity': 0.6012273987066121, 'NPV': 0.6598654771620747, 'Specificity': 0.6767982911903937, 'Accuracy': 0.6415352875969947}\n",
      "รอบแรกใช้ categorical ('home_ownership', 'verification_status') และ numerical ['installment'] ได้ Model ที่มี {'PPV': 0.5541939809296782, 'Sensitivity': 0.49092648805595884, 'NPV': 0.5950818811673315, 'Specificity': 0.6545144902436209, 'Accuracy': 0.578180810444636}\n",
      "รอบแรกใช้ categorical ('home_ownership', 'verification_status') และ numerical ['annual_inc'] ได้ Model ที่มี {'PPV': 0.5510074997741032, 'Sensitivity': 0.40240200607100435, 'NPV': 0.577000326965295, 'Specificity': 0.7131393603509987, 'Accuracy': 0.5681426284025126}\n",
      "รอบแรกใช้ categorical ('home_ownership', 'verification_status') และ numerical ['pub_rec'] ได้ Model ที่มี {'PPV': 0.5500167560321716, 'Sensitivity': 0.43321895209185696, 'NPV': 0.581840311587147, 'Specificity': 0.6899318785359658, 'Accuracy': 0.5701441064170464}\n",
      "รอบแรกใช้ categorical ('home_ownership', 'verification_status') และ numerical ['total_acc'] ได้ Model ที่มี {'PPV': 0.5481105377060097, 'Sensitivity': 0.43453873564735385, 'NPV': 0.5812237317955234, 'Specificity': 0.6865835353885232, 'Accuracy': 0.5689740115777805}\n",
      "รอบแรกใช้ categorical ('home_ownership', 'verification_status') และ numerical ['loan_amnt', 'int_rate'] ได้ Model ที่มี {'PPV': 0.6220007508788696, 'Sensitivity': 0.6012933878843869, 'NPV': 0.6610663899251115, 'Specificity': 0.680319824500635, 'Accuracy': 0.6434443897031654}\n",
      "รอบแรกใช้ categorical ('home_ownership', 'verification_status') และ numerical ['loan_amnt', 'installment'] ได้ Model ที่มี {'PPV': 0.543579968809565, 'Sensitivity': 0.5175201266992213, 'NPV': 0.5948970828600715, 'Specificity': 0.6198475926567371, 'Accuracy': 0.5720993964773987}\n"
     ]
    },
    {
     "name": "stdout",
     "output_type": "stream",
     "text": [
      "รอบแรกใช้ categorical ('home_ownership', 'verification_status') และ numerical ['loan_amnt', 'annual_inc'] ได้ Model ที่มี {'PPV': 0.5645052914496892, 'Sensitivity': 0.4435132638247327, 'NPV': 0.590034030140982, 'Specificity': 0.7006696686294885, 'Accuracy': 0.5806749599704397}\n",
      "รอบแรกใช้ categorical ('home_ownership', 'verification_status') และ numerical ['loan_amnt', 'pub_rec'] ได้ Model ที่มี {'PPV': 0.567183242506812, 'Sensitivity': 0.43955391315824205, 'NPV': 0.5903434304456878, 'Specificity': 0.7065581341646461, 'Accuracy': 0.5819682226875231}\n",
      "รอบแรกใช้ categorical ('home_ownership', 'verification_status') และ numerical ['loan_amnt', 'total_acc'] ได้ Model ที่มี {'PPV': 0.555976654286364, 'Sensitivity': 0.48403061897848754, 'NPV': 0.5945133018721154, 'Specificity': 0.6618173421083016, 'Accuracy': 0.5788582337726321}\n",
      "รอบแรกใช้ categorical ('home_ownership', 'verification_status') และ numerical ['int_rate', 'installment'] ได้ Model ที่มี {'PPV': 0.6020417354751538, 'Sensitivity': 0.6615745017817078, 'NPV': 0.6758934496160773, 'Specificity': 0.6174229303775546, 'Accuracy': 0.638025003079197}\n",
      "รอบแรกใช้ categorical ('home_ownership', 'verification_status') และ numerical ['int_rate', 'annual_inc'] ได้ Model ที่มี {'PPV': 0.6205904514007808, 'Sensitivity': 0.5978619506400951, 'NPV': 0.6591150640487777, 'Specificity': 0.6802332294192357, 'Accuracy': 0.6417970193373568}\n",
      "รอบแรกใช้ categorical ('home_ownership', 'verification_status') และ numerical ['int_rate', 'pub_rec'] ได้ Model ที่มี {'PPV': 0.6202338068374906, 'Sensitivity': 0.6021842417843474, 'NPV': 0.660614761020098, 'Specificity': 0.6774333217873225, 'Accuracy': 0.6423204828180811}\n",
      "รอบแรกใช้ categorical ('home_ownership', 'verification_status') และ numerical ['int_rate', 'total_acc'] ได้ Model ที่มี {'PPV': 0.6178952719877987, 'Sensitivity': 0.6015243500065989, 'NPV': 0.6592941574745395, 'Specificity': 0.6745756841011431, 'Accuracy': 0.6404883606355463}\n",
      "รอบแรกใช้ categorical ('home_ownership', 'verification_status') และ numerical ['installment', 'annual_inc'] ได้ Model ที่มี {'PPV': 0.5529738418822154, 'Sensitivity': 0.4994060974000264, 'NPV': 0.5962746141564662, 'Specificity': 0.6468075279990764, 'Accuracy': 0.5780268505973643}\n",
      "รอบแรกใช้ categorical ('home_ownership', 'verification_status') และ numerical ['installment', 'pub_rec'] ได้ Model ที่มี {'PPV': 0.5353679233846527, 'Sensitivity': 0.5828494126963178, 'NPV': 0.6043622480911253, 'Specificity': 0.5574702690220529, 'Accuracy': 0.5693127232417785}\n",
      "รอบแรกใช้ categorical ('home_ownership', 'verification_status') และ numerical ['installment', 'total_acc'] ได้ Model ที่มี {'PPV': 0.5433528070675406, 'Sensitivity': 0.5032664642998548, 'NPV': 0.5917841648590022, 'Specificity': 0.6299792171804641, 'Accuracy': 0.5708523217144968}\n",
      "รอบแรกใช้ categorical ('home_ownership', 'verification_status') และ numerical ['annual_inc', 'pub_rec'] ได้ Model ที่มี {'PPV': 0.5479412847037658, 'Sensitivity': 0.44216048568034844, 'NPV': 0.582491665637733, 'Specificity': 0.6808682600161644, 'Accuracy': 0.5694820790737776}\n",
      "รอบแรกใช้ categorical ('home_ownership', 'verification_status') และ numerical ['annual_inc', 'total_acc'] ได้ Model ที่มี {'PPV': 0.5511601712097319, 'Sensitivity': 0.403622805859839, 'NPV': 0.5772622026802628, 'Specificity': 0.7124465996998037, 'Accuracy': 0.568342776203966}\n",
      "รอบแรกใช้ categorical ('home_ownership', 'verification_status') และ numerical ['pub_rec', 'total_acc'] ได้ Model ที่มี {'PPV': 0.5492032547889473, 'Sensitivity': 0.4275768773921077, 'NPV': 0.5804961795144599, 'Specificity': 0.692962706384944, 'Accuracy': 0.5691279714250523}\n",
      "รอบแรกใช้ categorical ('home_ownership', 'verification_status') และ numerical ['loan_amnt', 'int_rate', 'installment'] ได้ Model ที่มี {'PPV': 0.6179823546905462, 'Sensitivity': 0.6170648013725749, 'NPV': 0.6654270806307475, 'Specificity': 0.666291421313936, 'Accuracy': 0.6433212218253479}\n",
      "รอบแรกใช้ categorical ('home_ownership', 'verification_status') และ numerical ['loan_amnt', 'int_rate', 'annual_inc'] ได้ Model ที่มี {'PPV': 0.6228612657184086, 'Sensitivity': 0.5981589019400818, 'NPV': 0.6602410310773866, 'Specificity': 0.6831485971596813, 'Accuracy': 0.643490577657347}\n",
      "รอบแรกใช้ categorical ('home_ownership', 'verification_status') และ numerical ['loan_amnt', 'int_rate', 'pub_rec'] ได้ Model ที่มี {'PPV': 0.6251423837630734, 'Sensitivity': 0.5975649993401082, 'NPV': 0.6610155359773213, 'Specificity': 0.686525805334257, 'Accuracy': 0.6450147801453381}\n",
      "รอบแรกใช้ categorical ('home_ownership', 'verification_status') และ numerical ['loan_amnt', 'int_rate', 'total_acc'] ได้ Model ที่มี {'PPV': 0.6203190482628093, 'Sensitivity': 0.6055826844397518, 'NPV': 0.6619726275308223, 'Specificity': 0.675730285186468, 'Accuracy': 0.6429979061460771}\n",
      "รอบแรกใช้ categorical ('home_ownership', 'verification_status') และ numerical ['loan_amnt', 'installment', 'annual_inc'] ได้ Model ที่มี {'PPV': 0.5615547176065968, 'Sensitivity': 0.4471426686023492, 'NPV': 0.5895048874298734, 'Specificity': 0.694579147904399, 'Accuracy': 0.5791199655129942}\n",
      "รอบแรกใช้ categorical ('home_ownership', 'verification_status') และ numerical ['loan_amnt', 'installment', 'pub_rec'] ได้ Model ที่มี {'PPV': 0.5575532614159223, 'Sensitivity': 0.4757819717566319, 'NPV': 0.5935429404691857, 'Specificity': 0.6696974945156449, 'Accuracy': 0.5792123414213574}\n",
      "รอบแรกใช้ categorical ('home_ownership', 'verification_status') และ numerical ['loan_amnt', 'installment', 'total_acc'] ได้ Model ที่มี {'PPV': 0.5477985074626865, 'Sensitivity': 0.4843935594562492, 'NPV': 0.5904015516879849, 'Specificity': 0.650184736173652, 'Accuracy': 0.5728230077595763}\n",
      "รอบแรกใช้ categorical ('home_ownership', 'verification_status') และ numerical ['loan_amnt', 'annual_inc', 'pub_rec'] ได้ Model ที่มี {'PPV': 0.5653398343911563, 'Sensitivity': 0.44377722053583213, 'NPV': 0.590437550108112, 'Specificity': 0.7015067544163491, 'Accuracy': 0.5812446114053454}\n",
      "รอบแรกใช้ categorical ('home_ownership', 'verification_status') และ numerical ['loan_amnt', 'annual_inc', 'total_acc'] ได้ Model ที่มี {'PPV': 0.5630593978844589, 'Sensitivity': 0.43381285469183056, 'NPV': 0.5875099156270281, 'Specificity': 0.7054901281607204, 'Accuracy': 0.5787196699100875}\n",
      "รอบแรกใช้ categorical ('home_ownership', 'verification_status') และ numerical ['loan_amnt', 'pub_rec', 'total_acc'] ได้ Model ที่มี {'PPV': 0.5589842494374799, 'Sensitivity': 0.4590207206018213, 'NPV': 0.5907547923322684, 'Specificity': 0.6831774621868144, 'Accuracy': 0.5785811060475428}\n",
      "รอบแรกใช้ categorical ('home_ownership', 'verification_status') และ numerical ['int_rate', 'installment', 'annual_inc'] ได้ Model ที่มี {'PPV': 0.6197946282235676, 'Sensitivity': 0.6113897320839382, 'NPV': 0.6640136927685066, 'Specificity': 0.6718912365777624, 'Accuracy': 0.643659933489346}\n",
      "รอบแรกใช้ categorical ('home_ownership', 'verification_status') และ numerical ['int_rate', 'installment', 'pub_rec'] ได้ Model ที่มี {'PPV': 0.6123349436392914, 'Sensitivity': 0.6273261185165633, 'NPV': 0.6668338151141525, 'Specificity': 0.6525516683985683, 'Accuracy': 0.6407808843453627}\n",
      "รอบแรกใช้ categorical ('home_ownership', 'verification_status') และ numerical ['int_rate', 'installment', 'total_acc'] ได้ Model ที่มี {'PPV': 0.5911704484896082, 'Sensitivity': 0.6954269499802033, 'NPV': 0.6849380524932591, 'Specificity': 0.5792633645075627, 'Accuracy': 0.6334677915999507}\n",
      "รอบแรกใช้ categorical ('home_ownership', 'verification_status') และ numerical ['int_rate', 'annual_inc', 'pub_rec'] ได้ Model ที่มี {'PPV': 0.6227821884708319, 'Sensitivity': 0.5952883727068761, 'NPV': 0.6591073314434995, 'Specificity': 0.6845629834892045, 'Accuracy': 0.642905530237714}\n",
      "รอบแรกใช้ categorical ('home_ownership', 'verification_status') และ numerical ['int_rate', 'annual_inc', 'total_acc'] ได้ Model ที่มี {'PPV': 0.6186472157498396, 'Sensitivity': 0.6044608684175795, 'NPV': 0.6607713857211579, 'Specificity': 0.6740272485856137, 'Accuracy': 0.6415660795664491}\n",
      "รอบแรกใช้ categorical ('home_ownership', 'verification_status') และ numerical ['int_rate', 'pub_rec', 'total_acc'] ได้ Model ที่มี {'PPV': 0.6202855463753587, 'Sensitivity': 0.5920219084070213, 'NPV': 0.65676613462873, 'Specificity': 0.6829465419697495, 'Accuracy': 0.6405191526050006}\n"
     ]
    },
    {
     "name": "stdout",
     "output_type": "stream",
     "text": [
      "รอบแรกใช้ categorical ('home_ownership', 'verification_status') และ numerical ['installment', 'annual_inc', 'pub_rec'] ได้ Model ที่มี 0\n",
      "รอบแรกใช้ categorical ('home_ownership', 'verification_status') และ numerical ['installment', 'annual_inc', 'total_acc'] ได้ Model ที่มี {'PPV': 0.5417073252801238, 'Sensitivity': 0.5311798864986143, 'NPV': 0.5967133085459654, 'Specificity': 0.6068583304468306, 'Accuracy': 0.5715451410272201}\n",
      "รอบแรกใช้ categorical ('home_ownership', 'verification_status') และ numerical ['installment', 'pub_rec', 'total_acc'] ได้ Model ที่มี {'PPV': 0.553065523754177, 'Sensitivity': 0.5024086049887818, 'NPV': 0.5969802244788883, 'Specificity': 0.6448158411268906, 'Accuracy': 0.5783655622613623}\n",
      "รอบแรกใช้ categorical ('home_ownership', 'verification_status') และ numerical ['annual_inc', 'pub_rec', 'total_acc'] ได้ Model ที่มี {'PPV': 0.5470395931710861, 'Sensitivity': 0.4472086577801241, 'NPV': 0.582974486621033, 'Specificity': 0.6760478004849324, 'Accuracy': 0.569266535287597}\n",
      "รอบแรกใช้ categorical ('home_ownership', 'verification_status') และ numerical ['loan_amnt', 'int_rate', 'installment', 'annual_inc'] ได้ Model ที่มี {'PPV': 0.6159045725646123, 'Sensitivity': 0.6133034182394087, 'NPV': 0.6629471988956632, 'Specificity': 0.6653966054728091, 'Accuracy': 0.6410888040399064}\n",
      "รอบแรกใช้ categorical ('home_ownership', 'verification_status') และ numerical ['loan_amnt', 'int_rate', 'installment', 'pub_rec'] ได้ Model ที่มี {'PPV': 0.6168168168168168, 'Sensitivity': 0.6099379701728916, 'NPV': 0.6620547710250986, 'Specificity': 0.6685140284031867, 'Accuracy': 0.6411811799482695}\n",
      "รอบแรกใช้ categorical ('home_ownership', 'verification_status') และ numerical ['loan_amnt', 'int_rate', 'installment', 'total_acc'] ได้ Model ที่มี {'PPV': 0.6053101706400542, 'Sensitivity': 0.6484096608156262, 'NPV': 0.6719817767653758, 'Specificity': 0.6301235423161298, 'Accuracy': 0.6386562384530114}\n",
      "รอบแรกใช้ categorical ('home_ownership', 'verification_status') และ numerical ['loan_amnt', 'int_rate', 'annual_inc', 'pub_rec'] ได้ Model ที่มี {'PPV': 0.6222124014141963, 'Sensitivity': 0.6038999604064933, 'NPV': 0.662173570463755, 'Specificity': 0.6792229534695763, 'Accuracy': 0.6440756250769799}\n",
      "รอบแรกใช้ categorical ('home_ownership', 'verification_status') และ numerical ['loan_amnt', 'int_rate', 'annual_inc', 'total_acc'] ได้ Model ที่มี {'PPV': 0.6201906707524685, 'Sensitivity': 0.6009964365844002, 'NPV': 0.6601371479961778, 'Specificity': 0.678010622329985, 'Accuracy': 0.6420741470624461}\n",
      "รอบแรกใช้ categorical ('home_ownership', 'verification_status') และ numerical ['loan_amnt', 'int_rate', 'pub_rec', 'total_acc'] ได้ Model ที่มี {'PPV': 0.6198321943297923, 'Sensitivity': 0.6044938630064669, 'NPV': 0.6613267785500367, 'Specificity': 0.6756436901050688, 'Accuracy': 0.6424436506958985}\n",
      "รอบแรกใช้ categorical ('home_ownership', 'verification_status') และ numerical ['loan_amnt', 'installment', 'annual_inc', 'pub_rec'] ได้ Model ที่มี {'PPV': 0.5173485492290882, 'Sensitivity': 0.7030157054243105, 'NPV': 0.6212816089535911, 'Specificity': 0.4262209906477312, 'Accuracy': 0.5553793570636778}\n",
      "รอบแรกใช้ categorical ('home_ownership', 'verification_status') และ numerical ['loan_amnt', 'installment', 'annual_inc', 'total_acc'] ได้ Model ที่มี {'PPV': 0.5374621983583288, 'Sensitivity': 0.574666754652237, 'NPV': 0.6039144595341978, 'Specificity': 0.5673421083015818, 'Accuracy': 0.5707599458061338}\n",
      "รอบแรกใช้ categorical ('home_ownership', 'verification_status') และ numerical ['loan_amnt', 'installment', 'pub_rec', 'total_acc'] ได้ Model ที่มี {'PPV': 0.5557456072150521, 'Sensitivity': 0.47169064273459155, 'NPV': 0.5918221678392984, 'Specificity': 0.6701304699226417, 'Accuracy': 0.5775341790860944}\n",
      "รอบแรกใช้ categorical ('home_ownership', 'verification_status') และ numerical ['loan_amnt', 'annual_inc', 'pub_rec', 'total_acc'] ได้ Model ที่มี {'PPV': 0.563216005312967, 'Sensitivity': 0.4477035766134354, 'NPV': 0.590332843857073, 'Specificity': 0.6962533194781203, 'Accuracy': 0.5802746643675329}\n",
      "รอบแรกใช้ categorical ('home_ownership', 'verification_status') และ numerical ['int_rate', 'installment', 'annual_inc', 'pub_rec'] ได้ Model ที่มี {'PPV': 0.5981654719961123, 'Sensitivity': 0.649795433548898, 'NPV': 0.6686024728362683, 'Specificity': 0.6181156910287495, 'Accuracy': 0.632898140165045}\n",
      "รอบแรกใช้ categorical ('home_ownership', 'verification_status') และ numerical ['int_rate', 'installment', 'annual_inc', 'total_acc'] ได้ Model ที่มี {'PPV': 0.5998116206510862, 'Sensitivity': 0.6723637323478949, 'NPV': 0.6794499322099554, 'Specificity': 0.6075510910980256, 'Accuracy': 0.6377940633082892}\n",
      "รอบแรกใช้ categorical ('home_ownership', 'verification_status') และ numerical ['int_rate', 'installment', 'pub_rec', 'total_acc'] ได้ Model ที่มี {'PPV': 0.6041736686119343, 'Sensitivity': 0.6524350006598918, 'NPV': 0.6730906495360457, 'Specificity': 0.6260535734903591, 'Accuracy': 0.638363714743195}\n",
      "รอบแรกใช้ categorical ('home_ownership', 'verification_status') และ numerical ['int_rate', 'annual_inc', 'pub_rec', 'total_acc'] ได้ Model ที่มี {'PPV': 0.618434794326719, 'Sensitivity': 0.6056816682064141, 'NPV': 0.6611471830786243, 'Specificity': 0.6730747026902205, 'Accuracy': 0.6416276635053578}\n",
      "รอบแรกใช้ categorical ('home_ownership', 'verification_status') และ numerical ['installment', 'annual_inc', 'pub_rec', 'total_acc'] ได้ Model ที่มี {'PPV': 0.5580308459261567, 'Sensitivity': 0.472746469578989, 'NPV': 0.5931357572054181, 'Specificity': 0.6724396720932918, 'Accuracy': 0.5792585293755389}\n",
      "รอบแรกใช้ categorical ('home_ownership', 'verification_status') และ numerical ['loan_amnt', 'int_rate', 'installment', 'annual_inc', 'pub_rec'] ได้ Model ที่มี {'PPV': 0.6096523257659946, 'Sensitivity': 0.6335291012273987, 'NPV': 0.6680216397166512, 'Specificity': 0.6451333564253551, 'Accuracy': 0.6397185613991871}\n",
      "รอบแรกใช้ categorical ('home_ownership', 'verification_status') และ numerical ['loan_amnt', 'int_rate', 'installment', 'annual_inc', 'total_acc'] ได้ Model ที่มี {'PPV': 0.6055842686320683, 'Sensitivity': 0.6533588491487397, 'NPV': 0.6742628592689052, 'Specificity': 0.6277277450640804, 'Accuracy': 0.6396877694297327}\n",
      "รอบแรกใช้ categorical ('home_ownership', 'verification_status') และ numerical ['loan_amnt', 'int_rate', 'installment', 'pub_rec', 'total_acc'] ได้ Model ที่มี {'PPV': 0.6062001992031872, 'Sensitivity': 0.6426026131714399, 'NPV': 0.6699975627589568, 'Specificity': 0.6347996767116961, 'Accuracy': 0.6384406946668308}\n",
      "รอบแรกใช้ categorical ('home_ownership', 'verification_status') และ numerical ['loan_amnt', 'int_rate', 'annual_inc', 'pub_rec', 'total_acc'] ได้ Model ที่มี {'PPV': 0.6197038119272148, 'Sensitivity': 0.6157780124059654, 'NPV': 0.6657193707658744, 'Specificity': 0.6694088442443136, 'Accuracy': 0.6443835447715236}\n",
      "รอบแรกใช้ categorical ('home_ownership', 'verification_status') และ numerical ['loan_amnt', 'installment', 'annual_inc', 'pub_rec', 'total_acc'] ได้ Model ที่มี {'PPV': 0.503048485435014, 'Sensitivity': 0.6860234921472879, 'NPV': 0.597121083827265, 'Specificity': 0.40711234268560215, 'Accuracy': 0.5372582830397832}\n",
      "รอบแรกใช้ categorical ('home_ownership', 'verification_status') และ numerical ['int_rate', 'installment', 'annual_inc', 'pub_rec', 'total_acc'] ได้ Model ที่มี {'PPV': 0.5971964606075348, 'Sensitivity': 0.6480137257489772, 'NPV': 0.6673007952596289, 'Specificity': 0.6176249855674865, 'Accuracy': 0.631805025249415}\n",
      "รอบแรกใช้ categorical ('home_ownership', 'verification_status') และ numerical ['loan_amnt', 'int_rate', 'installment', 'annual_inc', 'pub_rec', 'total_acc'] ได้ Model ที่มี {'PPV': 0.6098364811763215, 'Sensitivity': 0.6349478685495579, 'NPV': 0.6687028386633129, 'Specificity': 0.6446137859369587, 'Accuracy': 0.6401034610173667}\n",
      "รอบแรกใช้ categorical ('home_ownership', 'grade') และ numerical ['loan_amnt'] ได้ Model ที่มี {'PPV': 0.6194199843606568, 'Sensitivity': 0.6011284149399498, 'NPV': 0.659838487295647, 'Specificity': 0.6768848862717931, 'Accuracy': 0.6415352875969947}\n",
      "รอบแรกใช้ categorical ('home_ownership', 'grade') และ numerical ['int_rate'] ได้ Model ที่มี {'PPV': 0.6182425659873038, 'Sensitivity': 0.6105318727728652, 'NPV': 0.6629547141796585, 'Specificity': 0.6701881999769079, 'Accuracy': 0.6423512747875354}\n"
     ]
    },
    {
     "name": "stdout",
     "output_type": "stream",
     "text": [
      "รอบแรกใช้ categorical ('home_ownership', 'grade') และ numerical ['installment'] ได้ Model ที่มี {'PPV': 0.6149347431025938, 'Sensitivity': 0.6140622937838195, 'NPV': 0.662784328422752, 'Specificity': 0.6636069737905553, 'Accuracy': 0.6404883606355463}\n",
      "รอบแรกใช้ categorical ('home_ownership', 'grade') และ numerical ['annual_inc'] ได้ Model ที่มี {'PPV': 0.6184542909810883, 'Sensitivity': 0.5977629668734328, 'NPV': 0.6581131863817377, 'Specificity': 0.6773755917330563, 'Accuracy': 0.6402266288951841}\n",
      "รอบแรกใช้ categorical ('home_ownership', 'grade') และ numerical ['pub_rec'] ได้ Model ที่มี {'PPV': 0.6184232988493974, 'Sensitivity': 0.5976309885178831, 'NPV': 0.6580489583041247, 'Specificity': 0.6774044567601893, 'Accuracy': 0.6401804409410026}\n",
      "รอบแรกใช้ categorical ('home_ownership', 'grade') และ numerical ['total_acc'] ได้ Model ที่มี {'PPV': 0.6186550827746614, 'Sensitivity': 0.5967731292068101, 'NPV': 0.6578284242356367, 'Specificity': 0.6781838124927837, 'Accuracy': 0.6401958369257298}\n",
      "รอบแรกใช้ categorical ('home_ownership', 'grade') และ numerical ['loan_amnt', 'int_rate'] ได้ Model ที่มี {'PPV': 0.6192252125121795, 'Sensitivity': 0.608090273195196, 'NPV': 0.6624513342237631, 'Specificity': 0.6728726475002886, 'Accuracy': 0.6426437984973519}\n",
      "รอบแรกใช้ categorical ('home_ownership', 'grade') และ numerical ['loan_amnt', 'installment'] ได้ Model ที่มี 0\n",
      "รอบแรกใช้ categorical ('home_ownership', 'grade') และ numerical ['loan_amnt', 'annual_inc'] ได้ Model ที่มี {'PPV': 0.6219694079289654, 'Sensitivity': 0.5916589679292596, 'NPV': 0.6573738268597215, 'Specificity': 0.6854000692760651, 'Accuracy': 0.6416584554748122}\n",
      "รอบแรกใช้ categorical ('home_ownership', 'grade') และ numerical ['loan_amnt', 'pub_rec'] ได้ Model ที่มี {'PPV': 0.6213036127117767, 'Sensitivity': 0.5941005675069289, 'NPV': 0.6580022796141336, 'Specificity': 0.6832063272139476, 'Accuracy': 0.6416276635053578}\n",
      "รอบแรกใช้ categorical ('home_ownership', 'grade') และ numerical ['loan_amnt', 'total_acc'] ได้ Model ที่มี 0\n",
      "รอบแรกใช้ categorical ('home_ownership', 'grade') และ numerical ['int_rate', 'installment'] ได้ Model ที่มี {'PPV': 0.5207361580046449, 'Sensitivity': 0.8803616206942062, 'NPV': 0.7355793772332823, 'Specificity': 0.291161528691837, 'Accuracy': 0.5660949624337973}\n",
      "รอบแรกใช้ categorical ('home_ownership', 'grade') และ numerical ['int_rate', 'annual_inc'] ได้ Model ที่มี {'PPV': 0.6211288189853156, 'Sensitivity': 0.588953411640491, 'NPV': 0.6559893963660463, 'Specificity': 0.6857175845745295, 'Accuracy': 0.6405653405591821}\n",
      "รอบแรกใช้ categorical ('home_ownership', 'grade') และ numerical ['int_rate', 'pub_rec'] ได้ Model ที่มี {'PPV': 0.6197051495016611, 'Sensitivity': 0.5908341032070741, 'NPV': 0.6560627912136676, 'Specificity': 0.6828022168340838, 'Accuracy': 0.6398879172311861}\n",
      "รอบแรกใช้ categorical ('home_ownership', 'grade') และ numerical ['int_rate', 'total_acc'] ได้ Model ที่มี {'PPV': 0.6161833985800544, 'Sensitivity': 0.6128084994060974, 'NPV': 0.6628842286699225, 'Specificity': 0.666060501096871, 'Accuracy': 0.6412119719177238}\n",
      "รอบแรกใช้ categorical ('home_ownership', 'grade') และ numerical ['installment', 'annual_inc'] ได้ Model ที่มี {'PPV': 0.6152227640104202, 'Sensitivity': 0.6077933218952092, 'NPV': 0.6604684375892602, 'Specificity': 0.6674460223992611, 'Accuracy': 0.6396107895060968}\n",
      "รอบแรกใช้ categorical ('home_ownership', 'grade') และ numerical ['installment', 'pub_rec'] ได้ Model ที่มี {'PPV': 0.6163950949101293, 'Sensitivity': 0.60535172231754, 'NPV': 0.6600733225338904, 'Specificity': 0.670419120193973, 'Accuracy': 0.6400572730631852}\n",
      "รอบแรกใช้ categorical ('home_ownership', 'grade') และ numerical ['installment', 'total_acc'] ได้ Model ที่มี {'PPV': 0.6043283220174588, 'Sensitivity': 0.657846113237429, 'NPV': 0.675531914893617, 'Specificity': 0.6231959358041796, 'Accuracy': 0.6393644537504619}\n",
      "รอบแรกใช้ categorical ('home_ownership', 'grade') และ numerical ['annual_inc', 'pub_rec'] ได้ Model ที่มี {'PPV': 0.6173161640121992, 'Sensitivity': 0.6010624257621751, 'NPV': 0.6588510806387902, 'Specificity': 0.6740272485856137, 'Accuracy': 0.6399802931395492}\n",
      "รอบแรกใช้ categorical ('home_ownership', 'grade') และ numerical ['annual_inc', 'total_acc'] ได้ Model ที่มี 0\n",
      "รอบแรกใช้ categorical ('home_ownership', 'grade') และ numerical ['pub_rec', 'total_acc'] ได้ Model ที่มี 0\n",
      "รอบแรกใช้ categorical ('home_ownership', 'grade') และ numerical ['loan_amnt', 'int_rate', 'installment'] ได้ Model ที่มี {'PPV': 0.609153361745436, 'Sensitivity': 0.6319453609608024, 'NPV': 0.6671142942405253, 'Specificity': 0.6452776815610207, 'Accuracy': 0.6390565340559182}\n",
      "รอบแรกใช้ categorical ('home_ownership', 'grade') และ numerical ['loan_amnt', 'int_rate', 'annual_inc'] ได้ Model ที่มี {'PPV': 0.6200284572125483, 'Sensitivity': 0.6038669658176059, 'NPV': 0.6611728847999097, 'Specificity': 0.6762498556748643, 'Accuracy': 0.6424744426653529}\n",
      "รอบแรกใช้ categorical ('home_ownership', 'grade') และ numerical ['loan_amnt', 'int_rate', 'pub_rec'] ได้ Model ที่มี {'PPV': 0.6221000171850833, 'Sensitivity': 0.5972020588623466, 'NPV': 0.6595364921772596, 'Specificity': 0.6826290266712851, 'Accuracy': 0.6427669663751694}\n",
      "รอบแรกใช้ categorical ('home_ownership', 'grade') และ numerical ['loan_amnt', 'int_rate', 'total_acc'] ได้ Model ที่มี {'PPV': 0.617268383328909, 'Sensitivity': 0.6137653424838326, 'NPV': 0.6637752757352942, 'Specificity': 0.6670707770465304, 'Accuracy': 0.6421973149402636}\n",
      "รอบแรกใช้ categorical ('home_ownership', 'grade') และ numerical ['loan_amnt', 'installment', 'annual_inc'] ได้ Model ที่มี {'PPV': 0.5834351522083864, 'Sensitivity': 0.7404975584004223, 'NPV': 0.7030394562960166, 'Specificity': 0.5374668052187969, 'Accuracy': 0.6322053208523217}\n",
      "รอบแรกใช้ categorical ('home_ownership', 'grade') และ numerical ['loan_amnt', 'installment', 'pub_rec'] ได้ Model ที่มี {'PPV': 0.5903346947726213, 'Sensitivity': 0.7105714662795302, 'NPV': 0.6918970180183345, 'Specificity': 0.5686121694954394, 'Accuracy': 0.6348534302253972}\n",
      "รอบแรกใช้ categorical ('home_ownership', 'grade') และ numerical ['loan_amnt', 'installment', 'total_acc'] ได้ Model ที่มี 0\n",
      "รอบแรกใช้ categorical ('home_ownership', 'grade') และ numerical ['loan_amnt', 'annual_inc', 'pub_rec'] ได้ Model ที่มี {'PPV': 0.6190329955300782, 'Sensitivity': 0.5985878315956183, 'NPV': 0.6586898583251508, 'Specificity': 0.6777219720586537, 'Accuracy': 0.64079628033009}\n",
      "รอบแรกใช้ categorical ('home_ownership', 'grade') และ numerical ['loan_amnt', 'annual_inc', 'total_acc'] ได้ Model ที่มี {'PPV': 0.6158894759295114, 'Sensitivity': 0.6192424442391448, 'NPV': 0.6653035180834711, 'Specificity': 0.6621348574067659, 'Accuracy': 0.6421203350166277}\n",
      "รอบแรกใช้ categorical ('home_ownership', 'grade') และ numerical ['loan_amnt', 'pub_rec', 'total_acc'] ได้ Model ที่มี {'PPV': 0.6147035676810073, 'Sensitivity': 0.6185165632836215, 'NPV': 0.664441606686789, 'Specificity': 0.6608359311857753, 'Accuracy': 0.6410888040399064}\n",
      "รอบแรกใช้ categorical ('home_ownership', 'grade') และ numerical ['int_rate', 'installment', 'annual_inc'] ได้ Model ที่มี {'PPV': 0.6134190516594328, 'Sensitivity': 0.62019928731688, 'NPV': 0.6644903669591069, 'Specificity': 0.6580648885809952, 'Accuracy': 0.6403959847271832}\n",
      "รอบแรกใช้ categorical ('home_ownership', 'grade') และ numerical ['int_rate', 'installment', 'pub_rec'] ได้ Model ที่มี {'PPV': 0.5975221882288795, 'Sensitivity': 0.6508512603932955, 'NPV': 0.6686809230094868, 'Specificity': 0.6164703844821614, 'Accuracy': 0.6325132405468654}\n",
      "รอบแรกใช้ categorical ('home_ownership', 'grade') และ numerical ['int_rate', 'installment', 'total_acc'] ได้ Model ที่มี {'PPV': 0.6069301391951035, 'Sensitivity': 0.6085521974396199, 'NPV': 0.6567427595984144, 'Specificity': 0.6552072508948158, 'Accuracy': 0.6334369996304964}\n",
      "รอบแรกใช้ categorical ('home_ownership', 'grade') และ numerical ['int_rate', 'annual_inc', 'pub_rec'] ได้ Model ที่มี {'PPV': 0.6189421307341013, 'Sensitivity': 0.5992147287844793, 'NPV': 0.658887952822241, 'Specificity': 0.6772601316245237, 'Accuracy': 0.6408424682842715}\n",
      "รอบแรกใช้ categorical ('home_ownership', 'grade') และ numerical ['int_rate', 'annual_inc', 'total_acc'] ได้ Model ที่มี {'PPV': 0.613631227197882, 'Sensitivity': 0.6270951563943513, 'NPV': 0.6673827952558934, 'Specificity': 0.6545722202978871, 'Accuracy': 0.6417508313831752}\n"
     ]
    },
    {
     "name": "stdout",
     "output_type": "stream",
     "text": [
      "รอบแรกใช้ categorical ('home_ownership', 'grade') และ numerical ['int_rate', 'pub_rec', 'total_acc'] ได้ Model ที่มี {'PPV': 0.613116239924902, 'Sensitivity': 0.6249505081166689, 'NPV': 0.6662556152558795, 'Specificity': 0.6550051957048839, 'Accuracy': 0.6409810321468161}\n",
      "รอบแรกใช้ categorical ('home_ownership', 'grade') และ numerical ['installment', 'annual_inc', 'pub_rec'] ได้ Model ที่มี 0\n",
      "รอบแรกใช้ categorical ('home_ownership', 'grade') และ numerical ['installment', 'annual_inc', 'total_acc'] ได้ Model ที่มี 0\n",
      "รอบแรกใช้ categorical ('home_ownership', 'grade') และ numerical ['installment', 'pub_rec', 'total_acc'] ได้ Model ที่มี 0\n",
      "รอบแรกใช้ categorical ('home_ownership', 'grade') และ numerical ['annual_inc', 'pub_rec', 'total_acc'] ได้ Model ที่มี {'PPV': 0.6261385994316112, 'Sensitivity': 0.5670120100303551, 'NPV': 0.6501093158427985, 'Specificity': 0.7038159565869991, 'Accuracy': 0.6399802931395492}\n",
      "รอบแรกใช้ categorical ('home_ownership', 'grade') และ numerical ['loan_amnt', 'int_rate', 'installment', 'annual_inc'] ได้ Model ที่มี {'PPV': 0.6129932374761998, 'Sensitivity': 0.6161079582948397, 'NPV': 0.6626558422731227, 'Specificity': 0.6597101951275834, 'Accuracy': 0.6393644537504619}\n",
      "รอบแรกใช้ categorical ('home_ownership', 'grade') และ numerical ['loan_amnt', 'int_rate', 'installment', 'pub_rec'] ได้ Model ที่มี {'PPV': 0.615022685262981, 'Sensitivity': 0.6038009766398311, 'NPV': 0.6588345597636163, 'Specificity': 0.6693511141900473, 'Accuracy': 0.6387640103461018}\n",
      "รอบแรกใช้ categorical ('home_ownership', 'grade') และ numerical ['loan_amnt', 'int_rate', 'installment', 'total_acc'] ได้ Model ที่มี {'PPV': 0.6036851668845038, 'Sensitivity': 0.6248185297611192, 'NPV': 0.6614060685465861, 'Specificity': 0.6411499826809837, 'Accuracy': 0.6335293755388595}\n",
      "รอบแรกใช้ categorical ('home_ownership', 'grade') และ numerical ['loan_amnt', 'int_rate', 'annual_inc', 'pub_rec'] ได้ Model ที่มี {'PPV': 0.6225126737248681, 'Sensitivity': 0.5955853240068629, 'NPV': 0.6591016548463356, 'Specificity': 0.6840434130008082, 'Accuracy': 0.6427669663751694}\n",
      "รอบแรกใช้ categorical ('home_ownership', 'grade') และ numerical ['loan_amnt', 'int_rate', 'annual_inc', 'total_acc'] ได้ Model ที่มี {'PPV': 0.6212583576204355, 'Sensitivity': 0.5978289560512076, 'NPV': 0.6594014586302288, 'Specificity': 0.6811569102874957, 'Accuracy': 0.6422742948638995}\n",
      "รอบแรกใช้ categorical ('home_ownership', 'grade') และ numerical ['loan_amnt', 'int_rate', 'pub_rec', 'total_acc'] ได้ Model ที่มี {'PPV': 0.6176850471932439, 'Sensitivity': 0.6153820773393164, 'NPV': 0.6646143222947896, 'Specificity': 0.6667821267751992, 'Accuracy': 0.6427977583446237}\n",
      "รอบแรกใช้ categorical ('home_ownership', 'grade') และ numerical ['loan_amnt', 'installment', 'annual_inc', 'pub_rec'] ได้ Model ที่มี 0\n",
      "รอบแรกใช้ categorical ('home_ownership', 'grade') และ numerical ['loan_amnt', 'installment', 'annual_inc', 'total_acc'] ได้ Model ที่มี {'PPV': 0.6071114461615781, 'Sensitivity': 0.6377194140161013, 'NPV': 0.6684382171759874, 'Specificity': 0.6389562406188661, 'Accuracy': 0.6383791107279222}\n",
      "รอบแรกใช้ categorical ('home_ownership', 'grade') และ numerical ['loan_amnt', 'installment', 'pub_rec', 'total_acc'] ได้ Model ที่มี {'PPV': 0.5629978276611152, 'Sensitivity': 0.4617592714794774, 'NPV': 0.5931311418167307, 'Specificity': 0.6864392102528576, 'Accuracy': 0.5815987190540707}\n",
      "รอบแรกใช้ categorical ('home_ownership', 'grade') และ numerical ['loan_amnt', 'annual_inc', 'pub_rec', 'total_acc'] ได้ Model ที่มี {'PPV': 0.6151892052390221, 'Sensitivity': 0.6152500989837667, 'NPV': 0.6633757685979043, 'Specificity': 0.6633183235192242, 'Accuracy': 0.640888656238453}\n",
      "รอบแรกใช้ categorical ('home_ownership', 'grade') และ numerical ['int_rate', 'installment', 'annual_inc', 'pub_rec'] ได้ Model ที่มี {'PPV': 0.6095796228391828, 'Sensitivity': 0.6143262504949188, 'NPV': 0.6602824924436178, 'Specificity': 0.6557845514374784, 'Accuracy': 0.6364392166522971}\n",
      "รอบแรกใช้ categorical ('home_ownership', 'grade') และ numerical ['int_rate', 'installment', 'annual_inc', 'total_acc'] ได้ Model ที่มี {'PPV': 0.6033143611836106, 'Sensitivity': 0.6330341823940874, 'NPV': 0.6645048414829116, 'Specificity': 0.6358676827156218, 'Accuracy': 0.6345455105308535}\n",
      "รอบแรกใช้ categorical ('home_ownership', 'grade') และ numerical ['int_rate', 'installment', 'pub_rec', 'total_acc'] ได้ Model ที่มี {'PPV': 0.6125941803065731, 'Sensitivity': 0.6223769301834499, 'NPV': 0.6649590163934426, 'Specificity': 0.6556690913289458, 'Accuracy': 0.640134252986821}\n",
      "รอบแรกใช้ categorical ('home_ownership', 'grade') และ numerical ['int_rate', 'annual_inc', 'pub_rec', 'total_acc'] ได้ Model ที่มี {'PPV': 0.615617095364804, 'Sensitivity': 0.6183185957502969, 'NPV': 0.6648025267306076, 'Specificity': 0.6622503175152985, 'Accuracy': 0.6417508313831752}\n",
      "รอบแรกใช้ categorical ('home_ownership', 'grade') และ numerical ['installment', 'annual_inc', 'pub_rec', 'total_acc'] ได้ Model ที่มี {'PPV': 0.5933587543692406, 'Sensitivity': 0.6161079582948397, 'NPV': 0.6524998506660296, 'Specificity': 0.6306142477773929, 'Accuracy': 0.6238453011454612}\n",
      "รอบแรกใช้ categorical ('home_ownership', 'grade') และ numerical ['loan_amnt', 'int_rate', 'installment', 'annual_inc', 'pub_rec'] ได้ Model ที่มี {'PPV': 0.5967386896831374, 'Sensitivity': 0.6797875148475649, 'NPV': 0.6810293827647407, 'Specificity': 0.5981122272254936, 'Accuracy': 0.6362236728661165}\n",
      "รอบแรกใช้ categorical ('home_ownership', 'grade') และ numerical ['loan_amnt', 'int_rate', 'installment', 'annual_inc', 'total_acc'] ได้ Model ที่มี {'PPV': 0.6051800181425756, 'Sensitivity': 0.6383463112049624, 'NPV': 0.6676772883000334, 'Specificity': 0.6356656275256899, 'Accuracy': 0.6369164921788397}\n",
      "รอบแรกใช้ categorical ('home_ownership', 'grade') และ numerical ['loan_amnt', 'int_rate', 'installment', 'pub_rec', 'total_acc'] ได้ Model ที่มี {'PPV': 0.5883235196089324, 'Sensitivity': 0.6988913818133826, 'NPV': 0.6847450601077795, 'Specificity': 0.5721625678328137, 'Accuracy': 0.6312969577534179}\n",
      "รอบแรกใช้ categorical ('home_ownership', 'grade') และ numerical ['loan_amnt', 'int_rate', 'annual_inc', 'pub_rec', 'total_acc'] ได้ Model ที่มี {'PPV': 0.6190348255364879, 'Sensitivity': 0.6081892569618582, 'NPV': 0.6624022743425728, 'Specificity': 0.6725551322018243, 'Accuracy': 0.6425206306195345}\n",
      "รอบแรกใช้ categorical ('home_ownership', 'grade') และ numerical ['loan_amnt', 'installment', 'annual_inc', 'pub_rec', 'total_acc'] ได้ Model ที่มี {'PPV': 0.5812222392403125, 'Sensitivity': 0.6260393295499538, 'NPV': 0.649178196675643, 'Specificity': 0.6053862140630413, 'Accuracy': 0.6150234018967853}\n",
      "รอบแรกใช้ categorical ('home_ownership', 'grade') และ numerical ['int_rate', 'installment', 'annual_inc', 'pub_rec', 'total_acc'] ได้ Model ที่มี {'PPV': 0.6094498754073222, 'Sensitivity': 0.6294377722053583, 'NPV': 0.6662407132243685, 'Specificity': 0.6471250432975407, 'Accuracy': 0.638871782239192}\n",
      "รอบแรกใช้ categorical ('home_ownership', 'grade') และ numerical ['loan_amnt', 'int_rate', 'installment', 'annual_inc', 'pub_rec', 'total_acc'] ได้ Model ที่มี 0\n",
      "รอบแรกใช้ categorical ('home_ownership', 'addr_state') และ numerical ['loan_amnt'] ได้ Model ที่มี {'PPV': 0.5579251582041955, 'Sensitivity': 0.36944041177246933, 'NPV': 0.5742040416193214, 'Specificity': 0.7439094792749105, 'Accuracy': 0.5691741593792339}\n",
      "รอบแรกใช้ categorical ('home_ownership', 'addr_state') และ numerical ['int_rate'] ได้ Model ที่มี {'PPV': 0.619563025210084, 'Sensitivity': 0.6081562623729708, 'NPV': 0.6626328049542639, 'Specificity': 0.6733056229072856, 'Accuracy': 0.642905530237714}\n",
      "รอบแรกใช้ categorical ('home_ownership', 'addr_state') และ numerical ['installment'] ได้ Model ที่มี {'PPV': 0.5438381361128142, 'Sensitivity': 0.40972680480401213, 'NPV': 0.5752409896006458, 'Specificity': 0.6993418773813648, 'Accuracy': 0.5642012563123537}\n",
      "รอบแรกใช้ categorical ('home_ownership', 'addr_state') และ numerical ['annual_inc'] ได้ Model ที่มี {'PPV': 0.5244601824410146, 'Sensitivity': 0.44958426818001845, 'NPV': 0.5719381078237664, 'Specificity': 0.6433725897702344, 'Accuracy': 0.5529467914767828}\n",
      "รอบแรกใช้ categorical ('home_ownership', 'addr_state') และ numerical ['pub_rec'] ได้ Model ที่มี {'PPV': 0.5296737175644429, 'Sensitivity': 0.4081430645374159, 'NPV': 0.5687773450646666, 'Specificity': 0.6829465419697495, 'Accuracy': 0.5547173297204089}\n"
     ]
    },
    {
     "name": "stdout",
     "output_type": "stream",
     "text": [
      "รอบแรกใช้ categorical ('home_ownership', 'addr_state') และ numerical ['total_acc'] ได้ Model ที่มี {'PPV': 0.5227722772277228, 'Sensitivity': 0.4616602877128151, 'NPV': 0.5727341765522298, 'Specificity': 0.6313070084285879, 'Accuracy': 0.5521462002709693}\n",
      "รอบแรกใช้ categorical ('home_ownership', 'addr_state') และ numerical ['loan_amnt', 'int_rate'] ได้ Model ที่มี {'PPV': 0.623985291056685, 'Sensitivity': 0.5934736703180679, 'NPV': 0.658943697060289, 'Specificity': 0.6871319709040526, 'Accuracy': 0.6434289937184382}\n",
      "รอบแรกใช้ categorical ('home_ownership', 'addr_state') และ numerical ['loan_amnt', 'installment'] ได้ Model ที่มี {'PPV': 0.5450035435861091, 'Sensitivity': 0.43133826052527385, 'NPV': 0.579274990845844, 'Specificity': 0.6849670938690683, 'Accuracy': 0.5666184259145215}\n",
      "รอบแรกใช้ categorical ('home_ownership', 'addr_state') และ numerical ['loan_amnt', 'annual_inc'] ได้ Model ที่มี 0\n",
      "รอบแรกใช้ categorical ('home_ownership', 'addr_state') และ numerical ['loan_amnt', 'pub_rec'] ได้ Model ที่มี 0\n",
      "รอบแรกใช้ categorical ('home_ownership', 'addr_state') และ numerical ['loan_amnt', 'total_acc'] ได้ Model ที่มี {'PPV': 0.538038315389487, 'Sensitivity': 0.44849544674673353, 'NPV': 0.5788399516226567, 'Specificity': 0.6631162683292923, 'Accuracy': 0.5629695775341791}\n",
      "รอบแรกใช้ categorical ('home_ownership', 'addr_state') และ numerical ['int_rate', 'installment'] ได้ Model ที่มี {'PPV': 0.6140701136978884, 'Sensitivity': 0.5987528045400554, 'NPV': 0.6564689265536723, 'Specificity': 0.6707943655467036, 'Accuracy': 0.6371782239192019}\n",
      "รอบแรกใช้ categorical ('home_ownership', 'addr_state') และ numerical ['int_rate', 'annual_inc'] ได้ Model ที่มี {'PPV': 0.6228942281137807, 'Sensitivity': 0.595354361884651, 'NPV': 0.659181858603824, 'Specificity': 0.684678443597737, 'Accuracy': 0.6429979061460771}\n",
      "รอบแรกใช้ categorical ('home_ownership', 'addr_state') และ numerical ['int_rate', 'pub_rec'] ได้ Model ที่มี {'PPV': 0.6231924167992804, 'Sensitivity': 0.5943645242180282, 'NPV': 0.6589358042501249, 'Specificity': 0.685602124465997, 'Accuracy': 0.6430286981155314}\n",
      "รอบแรกใช้ categorical ('home_ownership', 'addr_state') และ numerical ['int_rate', 'total_acc'] ได้ Model ที่มี {'PPV': 0.6198896932092381, 'Sensitivity': 0.5933416919625182, 'NPV': 0.657086417005175, 'Specificity': 0.6817053458030251, 'Accuracy': 0.640472964650819}\n",
      "รอบแรกใช้ categorical ('home_ownership', 'addr_state') และ numerical ['installment', 'annual_inc'] ได้ Model ที่มี {'PPV': 0.5502340823970038, 'Sensitivity': 0.3877854031938762, 'NPV': 0.5743485043127179, 'Specificity': 0.7226936843320633, 'Accuracy': 0.5664182781130681}\n",
      "รอบแรกใช้ categorical ('home_ownership', 'addr_state') และ numerical ['installment', 'pub_rec'] ได้ Model ที่มี {'PPV': 0.5413084823126664, 'Sensitivity': 0.4695459944569091, 'NPV': 0.5841653302984843, 'Specificity': 0.6519166378016396, 'Accuracy': 0.5668185737159749}\n",
      "รอบแรกใช้ categorical ('home_ownership', 'addr_state') และ numerical ['installment', 'total_acc'] ได้ Model ที่มี {'PPV': 0.5606961409577343, 'Sensitivity': 0.17114293255906032, 'NPV': 0.5490027109028564, 'Specificity': 0.8826925297309779, 'Accuracy': 0.5506681857371597}\n",
      "รอบแรกใช้ categorical ('home_ownership', 'addr_state') และ numerical ['annual_inc', 'pub_rec'] ได้ Model ที่มี 0\n",
      "รอบแรกใช้ categorical ('home_ownership', 'addr_state') และ numerical ['annual_inc', 'total_acc'] ได้ Model ที่มี {'PPV': 0.5243280027220143, 'Sensitivity': 0.45760195327966213, 'NPV': 0.5730240772966936, 'Specificity': 0.636820228611015, 'Accuracy': 0.5531931272324178}\n",
      "รอบแรกใช้ categorical ('home_ownership', 'addr_state') และ numerical ['pub_rec', 'total_acc'] ได้ Model ที่มี {'PPV': 0.5233731199881748, 'Sensitivity': 0.46730236241256434, 'NPV': 0.5739093716185901, 'Specificity': 0.6276988800369472, 'Accuracy': 0.5528544155684197}\n",
      "รอบแรกใช้ categorical ('home_ownership', 'addr_state') และ numerical ['loan_amnt', 'int_rate', 'installment'] ได้ Model ที่มี {'PPV': 0.612171569728273, 'Sensitivity': 0.6296027451497954, 'NPV': 0.6676830170806074, 'Specificity': 0.6510506869876458, 'Accuracy': 0.6410426160857249}\n",
      "รอบแรกใช้ categorical ('home_ownership', 'addr_state') และ numerical ['loan_amnt', 'int_rate', 'annual_inc'] ได้ Model ที่มี {'PPV': 0.624496678941391, 'Sensitivity': 0.598719809951168, 'NPV': 0.6611784371082323, 'Specificity': 0.6850536889504676, 'Accuracy': 0.6447684443897032}\n",
      "รอบแรกใช้ categorical ('home_ownership', 'addr_state') และ numerical ['loan_amnt', 'int_rate', 'pub_rec'] ได้ Model ที่มี {'PPV': 0.6268390704176131, 'Sensitivity': 0.5918239408736967, 'NPV': 0.6595481189971655, 'Specificity': 0.6917792402724858, 'Accuracy': 0.6451379480231556}\n",
      "รอบแรกใช้ categorical ('home_ownership', 'addr_state') และ numerical ['loan_amnt', 'int_rate', 'total_acc'] ได้ Model ที่มี {'PPV': 0.6160770219921528, 'Sensitivity': 0.6165038933614887, 'NPV': 0.6642982988187043, 'Specificity': 0.6638956240618866, 'Accuracy': 0.6417816233526297}\n",
      "รอบแรกใช้ categorical ('home_ownership', 'addr_state') และ numerical ['loan_amnt', 'installment', 'annual_inc'] ได้ Model ที่มี {'PPV': 0.5388778352566653, 'Sensitivity': 0.446812722713475, 'NPV': 0.5789764451810557, 'Specificity': 0.6655120655813417, 'Accuracy': 0.563462249045449}\n",
      "รอบแรกใช้ categorical ('home_ownership', 'addr_state') และ numerical ['loan_amnt', 'installment', 'pub_rec'] ได้ Model ที่มี {'PPV': 0.5386211299074369, 'Sensitivity': 0.44542694998020327, 'NPV': 0.5786201363818693, 'Specificity': 0.6662048262325366, 'Accuracy': 0.5631851213203597}\n",
      "รอบแรกใช้ categorical ('home_ownership', 'addr_state') และ numerical ['loan_amnt', 'installment', 'total_acc'] ได้ Model ที่มี {'PPV': 0.5368885172374472, 'Sensitivity': 0.4660485680348423, 'NPV': 0.5812178143518878, 'Specificity': 0.6483085094099988, 'Accuracy': 0.5632621012439956}\n",
      "รอบแรกใช้ categorical ('home_ownership', 'addr_state') และ numerical ['loan_amnt', 'annual_inc', 'pub_rec'] ได้ Model ที่มี {'PPV': 0.5584299732381802, 'Sensitivity': 0.41309225287052925, 'NPV': 0.5817737233142105, 'Specificity': 0.7142362313820575, 'Accuracy': 0.5737159748737529}\n",
      "รอบแรกใช้ categorical ('home_ownership', 'addr_state') และ numerical ['loan_amnt', 'annual_inc', 'total_acc'] ได้ Model ที่มี {'PPV': 0.54631507775524, 'Sensitivity': 0.4265540451365976, 'NPV': 0.5790544468126332, 'Specificity': 0.6901050686987645, 'Accuracy': 0.5671264934105186}\n",
      "รอบแรกใช้ categorical ('home_ownership', 'addr_state') และ numerical ['loan_amnt', 'pub_rec', 'total_acc'] ได้ Model ที่มี {'PPV': 0.5426747697129534, 'Sensitivity': 0.4684571730236241, 'NPV': 0.5846760679574106, 'Specificity': 0.6546299503521533, 'Accuracy': 0.5677577287843331}\n",
      "รอบแรกใช้ categorical ('home_ownership', 'addr_state') และ numerical ['int_rate', 'installment', 'annual_inc'] ได้ Model ที่มี {'PPV': 0.6076352737024767, 'Sensitivity': 0.6354427873828692, 'NPV': 0.6677691914484168, 'Specificity': 0.6410345225724512, 'Accuracy': 0.6384252986821037}\n",
      "รอบแรกใช้ categorical ('home_ownership', 'addr_state') และ numerical ['int_rate', 'installment', 'pub_rec'] ได้ Model ที่มี {'PPV': 0.6058990322381803, 'Sensitivity': 0.6486406229378382, 'NPV': 0.6723989417338337, 'Specificity': 0.6309028980487241, 'Accuracy': 0.6391797019337356}\n",
      "รอบแรกใช้ categorical ('home_ownership', 'addr_state') และ numerical ['int_rate', 'installment', 'total_acc'] ได้ Model ที่มี {'PPV': 0.6149459783913566, 'Sensitivity': 0.6084532136729577, 'NPV': 0.6605937535751059, 'Specificity': 0.6666955316937998, 'Accuracy': 0.6395184135977338}\n",
      "รอบแรกใช้ categorical ('home_ownership', 'addr_state') และ numerical ['int_rate', 'annual_inc', 'pub_rec'] ได้ Model ที่มี {'PPV': 0.6220182855571595, 'Sensitivity': 0.5971030750956843, 'NPV': 0.6594623236097942, 'Specificity': 0.6825712966170189, 'Accuracy': 0.6426899864515334}\n",
      "รอบแรกใช้ categorical ('home_ownership', 'addr_state') และ numerical ['int_rate', 'annual_inc', 'total_acc'] ได้ Model ที่มี {'PPV': 0.6172077812615893, 'Sensitivity': 0.604031938762043, 'NPV': 0.6599416281771556, 'Specificity': 0.672266481930493, 'Accuracy': 0.6404267766966375}\n",
      "รอบแรกใช้ categorical ('home_ownership', 'addr_state') และ numerical ['int_rate', 'pub_rec', 'total_acc'] ได้ Model ที่มี {'PPV': 0.6162567128555327, 'Sensitivity': 0.6133694074171836, 'NPV': 0.6631403438164779, 'Specificity': 0.6658584459069391, 'Accuracy': 0.6413659317649957}\n"
     ]
    },
    {
     "name": "stdout",
     "output_type": "stream",
     "text": [
      "รอบแรกใช้ categorical ('home_ownership', 'addr_state') และ numerical ['installment', 'annual_inc', 'pub_rec'] ได้ Model ที่มี {'PPV': 0.5413077525450274, 'Sensitivity': 0.45615019136861557, 'NPV': 0.5817771237186644, 'Specificity': 0.6618462071354347, 'Accuracy': 0.5658640226628895}\n",
      "รอบแรกใช้ categorical ('home_ownership', 'addr_state') และ numerical ['installment', 'annual_inc', 'total_acc'] ได้ Model ที่มี {'PPV': 0.5393195538320074, 'Sensitivity': 0.445097004091329, 'NPV': 0.5789078344475325, 'Specificity': 0.6673882923449947, 'Accuracy': 0.5636623968469023}\n",
      "รอบแรกใช้ categorical ('home_ownership', 'addr_state') และ numerical ['installment', 'pub_rec', 'total_acc'] ได้ Model ที่มี {'PPV': 0.539491675380037, 'Sensitivity': 0.44262240992477236, 'NPV': 0.578581050740907, 'Specificity': 0.6694665742985798, 'Accuracy': 0.5636162088927208}\n",
      "รอบแรกใช้ categorical ('home_ownership', 'addr_state') และ numerical ['annual_inc', 'pub_rec', 'total_acc'] ได้ Model ที่มี {'PPV': 0.5236323448148831, 'Sensitivity': 0.4689850864458229, 'NPV': 0.5743116354114317, 'Specificity': 0.6267463341415541, 'Accuracy': 0.553131543293509}\n",
      "รอบแรกใช้ categorical ('home_ownership', 'addr_state') และ numerical ['loan_amnt', 'int_rate', 'installment', 'annual_inc'] ได้ Model ที่มี {'PPV': 0.6060089296787796, 'Sensitivity': 0.644879239804672, 'NPV': 0.6708562691131499, 'Specificity': 0.6332121002193742, 'Accuracy': 0.6386562384530114}\n",
      "รอบแรกใช้ categorical ('home_ownership', 'addr_state') และ numerical ['loan_amnt', 'int_rate', 'installment', 'pub_rec'] ได้ Model ที่มี {'PPV': 0.6121816818285565, 'Sensitivity': 0.6194734063613567, 'NPV': 0.6635942012075956, 'Specificity': 0.6566793672786052, 'Accuracy': 0.6393182657962804}\n",
      "รอบแรกใช้ categorical ('home_ownership', 'addr_state') และ numerical ['loan_amnt', 'int_rate', 'installment', 'total_acc'] ได้ Model ที่มี {'PPV': 0.607334947944516, 'Sensitivity': 0.6370925168272403, 'NPV': 0.6682951838113332, 'Specificity': 0.6396490012700612, 'Accuracy': 0.6384560906515581}\n",
      "รอบแรกใช้ categorical ('home_ownership', 'addr_state') และ numerical ['loan_amnt', 'int_rate', 'annual_inc', 'pub_rec'] ได้ Model ที่มี {'PPV': 0.6269477222591827, 'Sensitivity': 0.5907681140292992, 'NPV': 0.6591927018932212, 'Specificity': 0.6924720009236809, 'Accuracy': 0.6450147801453381}\n",
      "รอบแรกใช้ categorical ('home_ownership', 'addr_state') และ numerical ['loan_amnt', 'int_rate', 'annual_inc', 'total_acc'] ได้ Model ที่มี {'PPV': 0.6159786060504764, 'Sensitivity': 0.6079912894285338, 'NPV': 0.6609013328766732, 'Specificity': 0.6683985682946542, 'Accuracy': 0.640211232910457}\n",
      "รอบแรกใช้ categorical ('home_ownership', 'addr_state') และ numerical ['loan_amnt', 'int_rate', 'pub_rec', 'total_acc'] ได้ Model ที่มี {'PPV': 0.6218180577356173, 'Sensitivity': 0.6012603932954995, 'NPV': 0.6609717780396117, 'Specificity': 0.68008890428357, 'Accuracy': 0.6433058258406208}\n",
      "รอบแรกใช้ categorical ('home_ownership', 'addr_state') และ numerical ['loan_amnt', 'installment', 'annual_inc', 'pub_rec'] ได้ Model ที่มี {'PPV': 0.5399750642873841, 'Sensitivity': 0.45727200739078794, 'NPV': 0.5813012269001679, 'Specificity': 0.6591906246391872, 'Accuracy': 0.5649710555487129}\n",
      "รอบแรกใช้ categorical ('home_ownership', 'addr_state') และ numerical ['loan_amnt', 'installment', 'annual_inc', 'total_acc'] ได้ Model ที่มี {'PPV': 0.5496770224546293, 'Sensitivity': 0.4127293123927676, 'NPV': 0.5781727692854604, 'Specificity': 0.7041912019397298, 'Accuracy': 0.5681888163566942}\n",
      "รอบแรกใช้ categorical ('home_ownership', 'addr_state') และ numerical ['loan_amnt', 'installment', 'pub_rec', 'total_acc'] ได้ Model ที่มี {'PPV': 0.5414044687642499, 'Sensitivity': 0.3917447538603669, 'NPV': 0.5714983031937149, 'Specificity': 0.7097044221221568, 'Accuracy': 0.5613376031530977}\n",
      "รอบแรกใช้ categorical ('home_ownership', 'addr_state') และ numerical ['loan_amnt', 'annual_inc', 'pub_rec', 'total_acc'] ได้ Model ที่มี {'PPV': 0.5525631738185537, 'Sensitivity': 0.42784083410320706, 'NPV': 0.5819934916234784, 'Specificity': 0.6969172151021822, 'Accuracy': 0.5713603892104939}\n",
      "รอบแรกใช้ categorical ('home_ownership', 'addr_state') และ numerical ['int_rate', 'installment', 'annual_inc', 'pub_rec'] ได้ Model ที่มี {'PPV': 0.6101358912869704, 'Sensitivity': 0.6296027451497954, 'NPV': 0.6666567687145529, 'Specificity': 0.6480487241658007, 'Accuracy': 0.6394414336740978}\n",
      "รอบแรกใช้ categorical ('home_ownership', 'addr_state') และ numerical ['int_rate', 'installment', 'annual_inc', 'total_acc'] ได้ Model ที่มี {'PPV': 0.603672342669272, 'Sensitivity': 0.6421736835159034, 'NPV': 0.6684601510195347, 'Specificity': 0.6311626832929222, 'Accuracy': 0.6363006527897525}\n",
      "รอบแรกใช้ categorical ('home_ownership', 'addr_state') และ numerical ['int_rate', 'installment', 'pub_rec', 'total_acc'] ได้ Model ที่มี {'PPV': 0.6006992171158788, 'Sensitivity': 0.6632902204038538, 'NPV': 0.67588769611891, 'Specificity': 0.6142766424200439, 'Accuracy': 0.6371474319497475}\n",
      "รอบแรกใช้ categorical ('home_ownership', 'addr_state') และ numerical ['int_rate', 'annual_inc', 'pub_rec', 'total_acc'] ได้ Model ที่มี {'PPV': 0.6137752933869439, 'Sensitivity': 0.6195064009502441, 'NPV': 0.6643869503215856, 'Specificity': 0.6589597044221222, 'Accuracy': 0.640549944574455}\n",
      "รอบแรกใช้ categorical ('home_ownership', 'addr_state') และ numerical ['installment', 'annual_inc', 'pub_rec', 'total_acc'] ได้ Model ที่มี {'PPV': 0.5414801616618139, 'Sensitivity': 0.41111257753728386, 'NPV': 0.5744498223695191, 'Specificity': 0.6954450987183928, 'Accuracy': 0.5627694297327257}\n",
      "รอบแรกใช้ categorical ('home_ownership', 'addr_state') และ numerical ['loan_amnt', 'int_rate', 'installment', 'annual_inc', 'pub_rec'] ได้ Model ที่มี {'PPV': 0.5979134905688578, 'Sensitivity': 0.6599577669262241, 'NPV': 0.6728150100003175, 'Specificity': 0.6117365200323288, 'Accuracy': 0.6342375908363099}\n",
      "รอบแรกใช้ categorical ('home_ownership', 'addr_state') และ numerical ['loan_amnt', 'int_rate', 'installment', 'annual_inc', 'total_acc'] ได้ Model ที่มี {'PPV': 0.6058234478508704, 'Sensitivity': 0.6487396067045005, 'NPV': 0.6724005292796258, 'Specificity': 0.6307297078859254, 'Accuracy': 0.6391335139795541}\n",
      "รอบแรกใช้ categorical ('home_ownership', 'addr_state') และ numerical ['loan_amnt', 'int_rate', 'installment', 'pub_rec', 'total_acc'] ได้ Model ที่มี {'PPV': 0.603416477702192, 'Sensitivity': 0.6585060050151775, 'NPV': 0.6753144900712112, 'Specificity': 0.6213774390947927, 'Accuracy': 0.638702426407193}\n",
      "รอบแรกใช้ categorical ('home_ownership', 'addr_state') และ numerical ['loan_amnt', 'int_rate', 'annual_inc', 'pub_rec', 'total_acc'] ได้ Model ที่มี {'PPV': 0.6248993734906023, 'Sensitivity': 0.5890853899960407, 'NPV': 0.657678458536049, 'Specificity': 0.690653504214294, 'Accuracy': 0.6432596378864393}\n",
      "รอบแรกใช้ categorical ('home_ownership', 'addr_state') และ numerical ['loan_amnt', 'installment', 'annual_inc', 'pub_rec', 'total_acc'] ได้ Model ที่มี {'PPV': 0.5518634721429929, 'Sensitivity': 0.3830341823940874, 'NPV': 0.5742098551780672, 'Specificity': 0.7278893892160259, 'Accuracy': 0.5669725335632467}\n",
      "รอบแรกใช้ categorical ('home_ownership', 'addr_state') และ numerical ['int_rate', 'installment', 'annual_inc', 'pub_rec', 'total_acc'] ได้ Model ที่มี {'PPV': 0.6063034020844418, 'Sensitivity': 0.6391711759271479, 'NPV': 0.6686161025423472, 'Specificity': 0.6369068236924142, 'Accuracy': 0.6379634191402882}\n",
      "รอบแรกใช้ categorical ('home_ownership', 'addr_state') และ numerical ['loan_amnt', 'int_rate', 'installment', 'annual_inc', 'pub_rec', 'total_acc'] ได้ Model ที่มี {'PPV': 0.5938619617386601, 'Sensitivity': 0.5797149267520126, 'NPV': 0.6398235593507889, 'Specificity': 0.6531578339683639, 'Accuracy': 0.6188877940633083}\n",
      "รอบแรกใช้ categorical ('verification_status', 'grade') และ numerical ['loan_amnt'] ได้ Model ที่มี {'PPV': 0.6131963259102623, 'Sensitivity': 0.6123465751616735, 'NPV': 0.6612754425416595, 'Specificity': 0.6620771273524997, 'Accuracy': 0.638871782239192}\n",
      "รอบแรกใช้ categorical ('verification_status', 'grade') และ numerical ['int_rate'] ได้ Model ที่มี {'PPV': 0.6103070604341874, 'Sensitivity': 0.6177576877392108, 'NPV': 0.661988679465484, 'Specificity': 0.6549186006234846, 'Accuracy': 0.6375785195221086}\n"
     ]
    },
    {
     "name": "stdout",
     "output_type": "stream",
     "text": [
      "รอบแรกใช้ categorical ('verification_status', 'grade') และ numerical ['installment'] ได้ Model ที่มี 0\n",
      "รอบแรกใช้ categorical ('verification_status', 'grade') และ numerical ['annual_inc'] ได้ Model ที่มี {'PPV': 0.6001562593905884, 'Sensitivity': 0.6589679292596015, 'NPV': 0.6736755698680306, 'Specificity': 0.615921948966632, 'Accuracy': 0.636008129079936}\n",
      "รอบแรกใช้ categorical ('verification_status', 'grade') และ numerical ['pub_rec'] ได้ Model ที่มี {'PPV': 0.5970706658108187, 'Sensitivity': 0.6752012669922133, 'NPV': 0.6791185866092966, 'Specificity': 0.6013739752915368, 'Accuracy': 0.6358233772632098}\n",
      "รอบแรกใช้ categorical ('verification_status', 'grade') และ numerical ['total_acc'] ได้ Model ที่มี {'PPV': 0.6003031681067151, 'Sensitivity': 0.6533258545598521, 'NPV': 0.6713172959614603, 'Specificity': 0.6194434822768733, 'Accuracy': 0.635253725828304}\n",
      "รอบแรกใช้ categorical ('verification_status', 'grade') และ numerical ['loan_amnt', 'int_rate'] ได้ Model ที่มี {'PPV': 0.6140165638301383, 'Sensitivity': 0.6139963046060446, 'NPV': 0.6623177947755808, 'Specificity': 0.6623369125966978, 'Accuracy': 0.6397801453380958}\n",
      "รอบแรกใช้ categorical ('verification_status', 'grade') และ numerical ['loan_amnt', 'installment'] ได้ Model ที่มี {'PPV': 0.5824927293211413, 'Sensitivity': 0.7335357001451762, 'NPV': 0.6984879596789247, 'Specificity': 0.5400357926336451, 'Accuracy': 0.6303270107156054}\n",
      "รอบแรกใช้ categorical ('verification_status', 'grade') และ numerical ['loan_amnt', 'annual_inc'] ได้ Model ที่มี {'PPV': 0.6118081898647991, 'Sensitivity': 0.6226078923056618, 'NPV': 0.6646632853499076, 'Specificity': 0.6543990301350884, 'Accuracy': 0.6395646015519153}\n",
      "รอบแรกใช้ categorical ('verification_status', 'grade') และ numerical ['loan_amnt', 'pub_rec'] ได้ Model ที่มี {'PPV': 0.6161034000613853, 'Sensitivity': 0.5960802428401742, 'NPV': 0.6564034915377922, 'Specificity': 0.6750663895624062, 'Accuracy': 0.6382097548959231}\n",
      "รอบแรกใช้ categorical ('verification_status', 'grade') และ numerical ['loan_amnt', 'total_acc'] ได้ Model ที่มี {'PPV': 0.6042838265572662, 'Sensitivity': 0.6488055958822753, 'NPV': 0.6715929776927586, 'Specificity': 0.6283050456067428, 'Accuracy': 0.6378710432319251}\n",
      "รอบแรกใช้ categorical ('verification_status', 'grade') และ numerical ['int_rate', 'installment'] ได้ Model ที่มี {'PPV': 0.6084275436793423, 'Sensitivity': 0.605516695261977, 'NPV': 0.6563281497024922, 'Specificity': 0.6590751645306546, 'Accuracy': 0.6340836309890381}\n",
      "รอบแรกใช้ categorical ('verification_status', 'grade') และ numerical ['int_rate', 'annual_inc'] ได้ Model ที่มี {'PPV': 0.6092227546065537, 'Sensitivity': 0.6250824864722185, 'NPV': 0.6643627233791168, 'Specificity': 0.6492321902782588, 'Accuracy': 0.6379634191402882}\n",
      "รอบแรกใช้ categorical ('verification_status', 'grade') และ numerical ['int_rate', 'pub_rec'] ได้ Model ที่มี {'PPV': 0.6098146765765473, 'Sensitivity': 0.6199353306057807, 'NPV': 0.6626050789373481, 'Specificity': 0.6529846438055652, 'Accuracy': 0.6375631235373814}\n",
      "รอบแรกใช้ categorical ('verification_status', 'grade') และ numerical ['int_rate', 'total_acc'] ได้ Model ที่มี {'PPV': 0.6049075503197152, 'Sensitivity': 0.633628084994061, 'NPV': 0.6655925312452944, 'Specificity': 0.6379459646692068, 'Accuracy': 0.6359311491563}\n",
      "รอบแรกใช้ categorical ('verification_status', 'grade') และ numerical ['installment', 'annual_inc'] ได้ Model ที่มี 0\n",
      "รอบแรกใช้ categorical ('verification_status', 'grade') และ numerical ['installment', 'pub_rec'] ได้ Model ที่มี 0\n",
      "รอบแรกใช้ categorical ('verification_status', 'grade') และ numerical ['installment', 'total_acc'] ได้ Model ที่มี {'PPV': 0.5819803931739198, 'Sensitivity': 0.74039857463376, 'NPV': 0.7019019474122907, 'Specificity': 0.5347534926682831, 'Accuracy': 0.6307119103337849}\n",
      "รอบแรกใช้ categorical ('verification_status', 'grade') และ numerical ['annual_inc', 'pub_rec'] ได้ Model ที่มี {'PPV': 0.5969089268562447, 'Sensitivity': 0.6766530289032598, 'NPV': 0.6796862232390913, 'Specificity': 0.6002482392333449, 'Accuracy': 0.6359003571868457}\n",
      "รอบแรกใช้ categorical ('verification_status', 'grade') และ numerical ['annual_inc', 'total_acc'] ได้ Model ที่มี {'PPV': 0.6055634347601857, 'Sensitivity': 0.6198693414280058, 'NPV': 0.6604279651025702, 'Specificity': 0.6467786629719432, 'Accuracy': 0.6342221948515827}\n",
      "รอบแรกใช้ categorical ('verification_status', 'grade') และ numerical ['pub_rec', 'total_acc'] ได้ Model ที่มี {'PPV': 0.605629752699853, 'Sensitivity': 0.6254124323610928, 'NPV': 0.6626552564331134, 'Specificity': 0.6437189700958319, 'Accuracy': 0.6351767459046681}\n",
      "รอบแรกใช้ categorical ('verification_status', 'grade') และ numerical ['loan_amnt', 'int_rate', 'installment'] ได้ Model ที่มี 0\n",
      "รอบแรกใช้ categorical ('verification_status', 'grade') และ numerical ['loan_amnt', 'int_rate', 'annual_inc'] ได้ Model ที่มี {'PPV': 0.6146508338541495, 'Sensitivity': 0.6165368879503761, 'NPV': 0.663627680819658, 'Specificity': 0.6618462071354347, 'Accuracy': 0.6407039044217269}\n",
      "รอบแรกใช้ categorical ('verification_status', 'grade') และ numerical ['loan_amnt', 'int_rate', 'pub_rec'] ได้ Model ที่มี {'PPV': 0.6143173334214265, 'Sensitivity': 0.6135673749505082, 'NPV': 0.6622934748132984, 'Specificity': 0.6630008082207597, 'Accuracy': 0.6399341051853676}\n",
      "รอบแรกใช้ categorical ('verification_status', 'grade') และ numerical ['loan_amnt', 'int_rate', 'total_acc'] ได้ Model ที่มี {'PPV': 0.6142681181131197, 'Sensitivity': 0.6088161541507193, 'NPV': 0.6604130266662848, 'Specificity': 0.6655409306084747, 'Accuracy': 0.6390719300406454}\n",
      "รอบแรกใช้ categorical ('verification_status', 'grade') และ numerical ['loan_amnt', 'installment', 'annual_inc'] ได้ Model ที่มี {'PPV': 0.6116004436615123, 'Sensitivity': 0.6185825524613964, 'NPV': 0.6629541081112601, 'Specificity': 0.6563329869530078, 'Accuracy': 0.6387178223919202}\n",
      "รอบแรกใช้ categorical ('verification_status', 'grade') และ numerical ['loan_amnt', 'installment', 'pub_rec'] ได้ Model ที่มี {'PPV': 0.5842794299712878, 'Sensitivity': 0.7318529761119177, 'NPV': 0.6988773203897884, 'Specificity': 0.5444521417850133, 'Accuracy': 0.631897401157778}\n",
      "รอบแรกใช้ categorical ('verification_status', 'grade') และ numerical ['loan_amnt', 'installment', 'total_acc'] ได้ Model ที่มี {'PPV': 0.5805181677927329, 'Sensitivity': 0.7200739078791079, 'NPV': 0.6898896118137291, 'Specificity': 0.5447985221106108, 'Accuracy': 0.6265857864268999}\n",
      "รอบแรกใช้ categorical ('verification_status', 'grade') และ numerical ['loan_amnt', 'annual_inc', 'pub_rec'] ได้ Model ที่มี {'PPV': 0.6155930366456682, 'Sensitivity': 0.5997096476177907, 'NPV': 0.6575396601366228, 'Specificity': 0.6723819420390256, 'Accuracy': 0.6384714866362853}\n",
      "รอบแรกใช้ categorical ('verification_status', 'grade') และ numerical ['loan_amnt', 'annual_inc', 'total_acc'] ได้ Model ที่มี {'PPV': 0.6114664305159238, 'Sensitivity': 0.615118120628217, 'NPV': 0.6615210515625454, 'Specificity': 0.6580648885809952, 'Accuracy': 0.638025003079197}\n",
      "รอบแรกใช้ categorical ('verification_status', 'grade') และ numerical ['loan_amnt', 'pub_rec', 'total_acc'] ได้ Model ที่มี {'PPV': 0.6147170190664477, 'Sensitivity': 0.6052857331397651, 'NPV': 0.6592611581076078, 'Specificity': 0.668109918023323, 'Accuracy': 0.6387948023155561}\n",
      "รอบแรกใช้ categorical ('verification_status', 'grade') และ numerical ['int_rate', 'installment', 'annual_inc'] ได้ Model ที่มี {'PPV': 0.600114158680566, 'Sensitivity': 0.6590999076151511, 'NPV': 0.6737091425864519, 'Specificity': 0.6157776238309663, 'Accuracy': 0.6359927330952088}\n",
      "รอบแรกใช้ categorical ('verification_status', 'grade') และ numerical ['int_rate', 'installment', 'pub_rec'] ได้ Model ที่มี {'PPV': 0.6032097226550327, 'Sensitivity': 0.6386762570938366, 'NPV': 0.6667579575193232, 'Specificity': 0.632461609513913, 'Accuracy': 0.6353614977213943}\n",
      "รอบแรกใช้ categorical ('verification_status', 'grade') และ numerical ['int_rate', 'installment', 'total_acc'] ได้ Model ที่มี {'PPV': 0.6036614136076248, 'Sensitivity': 0.6331991553385244, 'NPV': 0.6647567926178342, 'Specificity': 0.6363006581226186, 'Accuracy': 0.6348534302253972}\n",
      "รอบแรกใช้ categorical ('verification_status', 'grade') และ numerical ['int_rate', 'annual_inc', 'pub_rec'] ได้ Model ที่มี {'PPV': 0.6154841345499115, 'Sensitivity': 0.5964761779068233, 'NPV': 0.6562675660483418, 'Specificity': 0.6739983835584805, 'Accuracy': 0.6378248552777436}\n"
     ]
    },
    {
     "name": "stdout",
     "output_type": "stream",
     "text": [
      "รอบแรกใช้ categorical ('verification_status', 'grade') และ numerical ['int_rate', 'annual_inc', 'total_acc'] ได้ Model ที่มี {'PPV': 0.6107940487579586, 'Sensitivity': 0.6108948132506269, 'NPV': 0.659545598891423, 'Specificity': 0.6594504098833853, 'Accuracy': 0.6367933243010223}\n",
      "รอบแรกใช้ categorical ('verification_status', 'grade') และ numerical ['int_rate', 'pub_rec', 'total_acc'] ได้ Model ที่มี {'PPV': 0.6056207732550721, 'Sensitivity': 0.6264022700277154, 'NPV': 0.6630460659445304, 'Specificity': 0.6431416695531694, 'Accuracy': 0.6353307057519398}\n",
      "รอบแรกใช้ categorical ('verification_status', 'grade') และ numerical ['installment', 'annual_inc', 'pub_rec'] ได้ Model ที่มี 0\n",
      "รอบแรกใช้ categorical ('verification_status', 'grade') และ numerical ['installment', 'annual_inc', 'total_acc'] ได้ Model ที่มี {'PPV': 0.6135842129417164, 'Sensitivity': 0.5734789494522898, 'NPV': 0.6470443686006826, 'Specificity': 0.6840434130008082, 'Accuracy': 0.6324516566079567}\n",
      "รอบแรกใช้ categorical ('verification_status', 'grade') และ numerical ['installment', 'pub_rec', 'total_acc'] ได้ Model ที่มี {'PPV': 0.5958326949593994, 'Sensitivity': 0.6415797809159298, 'NPV': 0.6638611257233035, 'Specificity': 0.6192702921140746, 'Accuracy': 0.6296803793570637}\n",
      "รอบแรกใช้ categorical ('verification_status', 'grade') และ numerical ['annual_inc', 'pub_rec', 'total_acc'] ได้ Model ที่มี {'PPV': 0.6075129533678757, 'Sensitivity': 0.6189784875280454, 'NPV': 0.6610706738671049, 'Specificity': 0.6501558711465188, 'Accuracy': 0.6356078334770292}\n",
      "รอบแรกใช้ categorical ('verification_status', 'grade') และ numerical ['loan_amnt', 'int_rate', 'installment', 'annual_inc'] ได้ Model ที่มี {'PPV': 0.614354894500173, 'Sensitivity': 0.5860168932295103, 'NPV': 0.6518783641307364, 'Specificity': 0.6781838124927837, 'Accuracy': 0.6351767459046681}\n",
      "รอบแรกใช้ categorical ('verification_status', 'grade') และ numerical ['loan_amnt', 'int_rate', 'installment', 'pub_rec'] ได้ Model ที่มี {'PPV': 0.6094114554237455, 'Sensitivity': 0.6118846509172495, 'NPV': 0.6592508907621448, 'Specificity': 0.6569102874956703, 'Accuracy': 0.6359003571868457}\n",
      "รอบแรกใช้ categorical ('verification_status', 'grade') และ numerical ['loan_amnt', 'int_rate', 'installment', 'total_acc'] ได้ Model ที่มี {'PPV': 0.5902838335818167, 'Sensitivity': 0.692358453213673, 'NPV': 0.6828895010713193, 'Specificity': 0.579580879806027, 'Accuracy': 0.6322053208523217}\n",
      "รอบแรกใช้ categorical ('verification_status', 'grade') และ numerical ['loan_amnt', 'int_rate', 'annual_inc', 'pub_rec'] ได้ Model ที่มี {'PPV': 0.612401832460733, 'Sensitivity': 0.6174937310281113, 'NPV': 0.6629157943707839, 'Specificity': 0.6580937536081284, 'Accuracy': 0.6391489099642813}\n",
      "รอบแรกใช้ categorical ('verification_status', 'grade') และ numerical ['loan_amnt', 'int_rate', 'annual_inc', 'total_acc'] ได้ Model ที่มี {'PPV': 0.6162237006517848, 'Sensitivity': 0.6020522634287977, 'NPV': 0.6587249936334569, 'Specificity': 0.6719778316591618, 'Accuracy': 0.6393490577657347}\n",
      "รอบแรกใช้ categorical ('verification_status', 'grade') และ numerical ['loan_amnt', 'int_rate', 'pub_rec', 'total_acc'] ได้ Model ที่มี {'PPV': 0.616805233746763, 'Sensitivity': 0.5972680480401215, 'NPV': 0.6571733513088417, 'Specificity': 0.6753839048608705, 'Accuracy': 0.6389333661781007}\n",
      "รอบแรกใช้ categorical ('verification_status', 'grade') และ numerical ['loan_amnt', 'installment', 'annual_inc', 'pub_rec'] ได้ Model ที่มี 0\n",
      "รอบแรกใช้ categorical ('verification_status', 'grade') และ numerical ['loan_amnt', 'installment', 'annual_inc', 'total_acc'] ได้ Model ที่มี 0\n",
      "รอบแรกใช้ categorical ('verification_status', 'grade') และ numerical ['loan_amnt', 'installment', 'pub_rec', 'total_acc'] ได้ Model ที่มี 0\n",
      "รอบแรกใช้ categorical ('verification_status', 'grade') และ numerical ['loan_amnt', 'annual_inc', 'pub_rec', 'total_acc'] ได้ Model ที่มี {'PPV': 0.6184908177955687, 'Sensitivity': 0.5811666886630592, 'NPV': 0.6519617251117265, 'Specificity': 0.6863814801985914, 'Accuracy': 0.6372859958122922}\n",
      "รอบแรกใช้ categorical ('verification_status', 'grade') และ numerical ['int_rate', 'installment', 'annual_inc', 'pub_rec'] ได้ Model ที่มี {'PPV': 0.5953055801594331, 'Sensitivity': 0.6652698957370992, 'NPV': 0.6736053021041117, 'Specificity': 0.6043470730862487, 'Accuracy': 0.6327749722872275}\n",
      "รอบแรกใช้ categorical ('verification_status', 'grade') และ numerical ['int_rate', 'installment', 'annual_inc', 'total_acc'] ได้ Model ที่มี {'PPV': 0.5857409259209211, 'Sensitivity': 0.715091724957107, 'NPV': 0.6910665092483275, 'Specificity': 0.5575568641034523, 'Accuracy': 0.6310660179825102}\n",
      "รอบแรกใช้ categorical ('verification_status', 'grade') และ numerical ['int_rate', 'installment', 'pub_rec', 'total_acc'] ได้ Model ที่มี {'PPV': 0.617398379736088, 'Sensitivity': 0.5758215652632969, 'NPV': 0.6495570396619872, 'Specificity': 0.6878247315552477, 'Accuracy': 0.6355616455228477}\n",
      "รอบแรกใช้ categorical ('verification_status', 'grade') และ numerical ['int_rate', 'annual_inc', 'pub_rec', 'total_acc'] ได้ Model ที่มี {'PPV': 0.6115293185419969, 'Sensitivity': 0.6111257753728389, 'NPV': 0.6599930763904915, 'Specificity': 0.6603740907516453, 'Accuracy': 0.6373937677053825}\n",
      "รอบแรกใช้ categorical ('verification_status', 'grade') และ numerical ['installment', 'annual_inc', 'pub_rec', 'total_acc'] ได้ Model ที่มี 0\n",
      "รอบแรกใช้ categorical ('verification_status', 'grade') และ numerical ['loan_amnt', 'int_rate', 'installment', 'annual_inc', 'pub_rec'] ได้ Model ที่มี {'PPV': 0.6101784709115592, 'Sensitivity': 0.6080242840174211, 'NPV': 0.6581393341198815, 'Specificity': 0.6601720355617134, 'Accuracy': 0.6358387732479369}\n",
      "รอบแรกใช้ categorical ('verification_status', 'grade') และ numerical ['loan_amnt', 'int_rate', 'installment', 'annual_inc', 'total_acc'] ได้ Model ที่มี {'PPV': 0.5903953876895862, 'Sensitivity': 0.5946614755180151, 'NPV': 0.6431372549019608, 'Specificity': 0.6390717007273987, 'Accuracy': 0.6183489345978569}\n",
      "รอบแรกใช้ categorical ('verification_status', 'grade') และ numerical ['loan_amnt', 'int_rate', 'installment', 'pub_rec', 'total_acc'] ได้ Model ที่มี {'PPV': 0.6022108562943409, 'Sensitivity': 0.60215124719546, 'NPV': 0.6519756400265535, 'Specificity': 0.652032097910172, 'Accuracy': 0.6287566202734327}\n",
      "รอบแรกใช้ categorical ('verification_status', 'grade') และ numerical ['loan_amnt', 'int_rate', 'annual_inc', 'pub_rec', 'total_acc'] ได้ Model ที่มี {'PPV': 0.61409951038772, 'Sensitivity': 0.6124785535172231, 'NPV': 0.6617613178205276, 'Specificity': 0.663289458492091, 'Accuracy': 0.6395799975366424}\n",
      "รอบแรกใช้ categorical ('verification_status', 'grade') และ numerical ['loan_amnt', 'installment', 'annual_inc', 'pub_rec', 'total_acc'] ได้ Model ที่มี {'PPV': 0.5933263031033443, 'Sensitivity': 0.5197967533324535, 'NPV': 0.6209895833333333, 'Specificity': 0.6883154370165108, 'Accuracy': 0.6096809951964528}\n",
      "รอบแรกใช้ categorical ('verification_status', 'grade') และ numerical ['int_rate', 'installment', 'annual_inc', 'pub_rec', 'total_acc'] ได้ Model ที่มี {'PPV': 0.5973360350427606, 'Sensitivity': 0.6614095288372707, 'NPV': 0.6731118402191572, 'Specificity': 0.609946888350075, 'Accuracy': 0.6339604631112206}\n",
      "รอบแรกใช้ categorical ('verification_status', 'grade') และ numerical ['loan_amnt', 'int_rate', 'installment', 'annual_inc', 'pub_rec', 'total_acc'] ได้ Model ที่มี {'PPV': 0.6117849130678632, 'Sensitivity': 0.5758545598521843, 'NPV': 0.647073358225346, 'Specificity': 0.680319824500635, 'Accuracy': 0.6315740854785072}\n",
      "รอบแรกใช้ categorical ('verification_status', 'addr_state') และ numerical ['loan_amnt'] ได้ Model ที่มี {'PPV': 0.5573962281810099, 'Sensitivity': 0.39299854823808894, 'NPV': 0.5778858729321066, 'Specificity': 0.7269945733748989, 'Accuracy': 0.5711448454243133}\n",
      "รอบแรกใช้ categorical ('verification_status', 'addr_state') และ numerical ['int_rate'] ได้ Model ที่มี {'PPV': 0.6182464779099986, 'Sensitivity': 0.5965421670845982, 'NPV': 0.6575557298084462, 'Specificity': 0.6777508370857869, 'Accuracy': 0.6398571252617318}\n",
      "รอบแรกใช้ categorical ('verification_status', 'addr_state') และ numerical ['installment'] ได้ Model ที่มี {'PPV': 0.5402483564645727, 'Sensitivity': 0.48805595882275304, 'NPV': 0.5870328968380709, 'Specificity': 0.6366470384482161, 'Accuracy': 0.5673112452272447}\n"
     ]
    },
    {
     "name": "stdout",
     "output_type": "stream",
     "text": [
      "รอบแรกใช้ categorical ('verification_status', 'addr_state') และ numerical ['annual_inc'] ได้ Model ที่มี {'PPV': 0.5511021077509285, 'Sensitivity': 0.3769961726276891, 'NPV': 0.5729889866347045, 'Specificity': 0.7313531924720009, 'Accuracy': 0.5660025865254341}\n",
      "รอบแรกใช้ categorical ('verification_status', 'addr_state') และ numerical ['pub_rec'] ได้ Model ที่มี {'PPV': 0.5494406947656582, 'Sensitivity': 0.3840900092384849, 'NPV': 0.5734719524734376, 'Specificity': 0.724454450987184, 'Accuracy': 0.5656330828919818}\n",
      "รอบแรกใช้ categorical ('verification_status', 'addr_state') และ numerical ['total_acc'] ได้ Model ที่มี {'PPV': 0.5463057466163745, 'Sensitivity': 0.40619638379305795, 'NPV': 0.5757125680741212, 'Specificity': 0.7048839625909248, 'Accuracy': 0.5655099150141643}\n",
      "รอบแรกใช้ categorical ('verification_status', 'addr_state') และ numerical ['loan_amnt', 'int_rate'] ได้ Model ที่มี {'PPV': 0.6188163884673749, 'Sensitivity': 0.6054837006730897, 'NPV': 0.6612459982434767, 'Specificity': 0.6737097332871493, 'Accuracy': 0.6418739992609928}\n",
      "รอบแรกใช้ categorical ('verification_status', 'addr_state') และ numerical ['loan_amnt', 'installment'] ได้ Model ที่มี {'PPV': 0.531387340111512, 'Sensitivity': 0.5345783291540187, 'NPV': 0.5906795891126458, 'Specificity': 0.5875764923219028, 'Accuracy': 0.5628464096563616}\n",
      "รอบแรกใช้ categorical ('verification_status', 'addr_state') และ numerical ['loan_amnt', 'annual_inc'] ได้ Model ที่มี {'PPV': 0.5526670031970385, 'Sensitivity': 0.4334829088029563, 'NPV': 0.5830500242836328, 'Specificity': 0.6930493014663434, 'Accuracy': 0.5719300406453997}\n",
      "รอบแรกใช้ categorical ('verification_status', 'addr_state') และ numerical ['loan_amnt', 'pub_rec'] ได้ Model ที่มี {'PPV': 0.553060712493728, 'Sensitivity': 0.4364194272139369, 'NPV': 0.5837557266790135, 'Specificity': 0.6914617249740215, 'Accuracy': 0.572453504126124}\n",
      "รอบแรกใช้ categorical ('verification_status', 'addr_state') และ numerical ['loan_amnt', 'total_acc'] ได้ Model ที่มี {'PPV': 0.5474019883699118, 'Sensitivity': 0.48142404645638115, 'NPV': 0.589602318719482, 'Specificity': 0.6517723126659739, 'Accuracy': 0.5722841482941249}\n",
      "รอบแรกใช้ categorical ('verification_status', 'addr_state') และ numerical ['int_rate', 'installment'] ได้ Model ที่มี {'PPV': 0.6068675318000771, 'Sensitivity': 0.6233667678500726, 'NPV': 0.6624778237729154, 'Specificity': 0.646720932917677, 'Accuracy': 0.6358233772632098}\n",
      "รอบแรกใช้ categorical ('verification_status', 'addr_state') และ numerical ['int_rate', 'annual_inc'] ได้ Model ที่มี {'PPV': 0.6179014026964456, 'Sensitivity': 0.5988187937178303, 'NPV': 0.6582630691399662, 'Specificity': 0.6760478004849324, 'Accuracy': 0.6400110851090036}\n",
      "รอบแรกใช้ categorical ('verification_status', 'addr_state') และ numerical ['int_rate', 'pub_rec'] ได้ Model ที่มี {'PPV': 0.6157948785901216, 'Sensitivity': 0.6133364128282962, 'NPV': 0.6629080972242197, 'Specificity': 0.6652234153100104, 'Accuracy': 0.6410118241162704}\n",
      "รอบแรกใช้ categorical ('verification_status', 'addr_state') และ numerical ['int_rate', 'total_acc'] ได้ Model ที่มี {'PPV': 0.6103988835156275, 'Sensitivity': 0.6205292332057543, 'NPV': 0.6631323042675962, 'Specificity': 0.6535042142939614, 'Accuracy': 0.63811737898756}\n",
      "รอบแรกใช้ categorical ('verification_status', 'addr_state') และ numerical ['installment', 'annual_inc'] ได้ Model ที่มี {'PPV': 0.5523325358851675, 'Sensitivity': 0.426587039725485, 'NPV': 0.5816724436741768, 'Specificity': 0.6975233806719778, 'Accuracy': 0.5710986574701318}\n",
      "รอบแรกใช้ categorical ('verification_status', 'addr_state') และ numerical ['installment', 'pub_rec'] ได้ Model ที่มี {'PPV': 0.5549824037024539, 'Sensitivity': 0.3798337072720074, 'NPV': 0.5748377027302133, 'Specificity': 0.7335469345341185, 'Accuracy': 0.5684967360512378}\n",
      "รอบแรกใช้ categorical ('verification_status', 'addr_state') และ numerical ['installment', 'total_acc'] ได้ Model ที่มี {'PPV': 0.5414587408678989, 'Sensitivity': 0.4475056090801109, 'NPV': 0.580357366614039, 'Specificity': 0.6684562983489204, 'Accuracy': 0.5653559551668925}\n",
      "รอบแรกใช้ categorical ('verification_status', 'addr_state') และ numerical ['annual_inc', 'pub_rec'] ได้ Model ที่มี {'PPV': 0.5540217282966211, 'Sensitivity': 0.3668008446614755, 'NPV': 0.5724502071915519, 'Specificity': 0.7416868721856599, 'Accuracy': 0.5667569897770661}\n",
      "รอบแรกใช้ categorical ('verification_status', 'addr_state') และ numerical ['annual_inc', 'total_acc'] ได้ Model ที่มี {'PPV': 0.5483662245228081, 'Sensitivity': 0.39148079714926753, 'NPV': 0.5742121666859056, 'Specificity': 0.7179309548550976, 'Accuracy': 0.5656022909225275}\n",
      "รอบแรกใช้ categorical ('verification_status', 'addr_state') และ numerical ['pub_rec', 'total_acc'] ได้ Model ที่มี {'PPV': 0.544028164116829, 'Sensitivity': 0.41299326910386697, 'NPV': 0.575839214190349, 'Specificity': 0.6971770003463803, 'Accuracy': 0.5645707599458062}\n",
      "รอบแรกใช้ categorical ('verification_status', 'addr_state') และ numerical ['loan_amnt', 'int_rate', 'installment'] ได้ Model ที่มี {'PPV': 0.5972023383440707, 'Sensitivity': 0.66065065329286, 'NPV': 0.6727023930753564, 'Specificity': 0.6101778085671401, 'Accuracy': 0.6337295233403129}\n",
      "รอบแรกใช้ categorical ('verification_status', 'addr_state') และ numerical ['loan_amnt', 'int_rate', 'annual_inc'] ได้ Model ที่มี {'PPV': 0.6194149571628494, 'Sensitivity': 0.5987528045400554, 'NPV': 0.658925816855981, 'Specificity': 0.6781549474656506, 'Accuracy': 0.6411042000246335}\n",
      "รอบแรกใช้ categorical ('verification_status', 'addr_state') และ numerical ['loan_amnt', 'int_rate', 'pub_rec'] ได้ Model ที่มี {'PPV': 0.6227594831179658, 'Sensitivity': 0.5915269895737099, 'NPV': 0.6576706116580024, 'Specificity': 0.686525805334257, 'Accuracy': 0.6421973149402636}\n",
      "รอบแรกใช้ categorical ('verification_status', 'addr_state') และ numerical ['loan_amnt', 'int_rate', 'total_acc'] ได้ Model ที่มี {'PPV': 0.6180794814941156, 'Sensitivity': 0.5978289560512076, 'NPV': 0.6579678424109774, 'Specificity': 0.6768271562175269, 'Accuracy': 0.6399648971548221}\n",
      "รอบแรกใช้ categorical ('verification_status', 'addr_state') และ numerical ['loan_amnt', 'installment', 'annual_inc'] ได้ Model ที่มี {'PPV': 0.5500172920629431, 'Sensitivity': 0.419790154414676, 'NPV': 0.579507412721186, 'Specificity': 0.6995439325712967, 'Accuracy': 0.5690048035472349}\n",
      "รอบแรกใช้ categorical ('verification_status', 'addr_state') และ numerical ['loan_amnt', 'installment', 'pub_rec'] ได้ Model ที่มี {'PPV': 0.5455026655072025, 'Sensitivity': 0.4760459284677313, 'NPV': 0.5875646053554269, 'Specificity': 0.6530135088326983, 'Accuracy': 0.570436630126863}\n",
      "รอบแรกใช้ categorical ('verification_status', 'addr_state') และ numerical ['loan_amnt', 'installment', 'total_acc'] ได้ Model ที่มี {'PPV': 0.5542929292929293, 'Sensitivity': 0.17381549425894152, 'NPV': 0.548405713461261, 'Specificity': 0.8777277450640804, 'Accuracy': 0.5492671511269861}\n",
      "รอบแรกใช้ categorical ('verification_status', 'addr_state') และ numerical ['loan_amnt', 'annual_inc', 'pub_rec'] ได้ Model ที่มี 0\n",
      "รอบแรกใช้ categorical ('verification_status', 'addr_state') และ numerical ['loan_amnt', 'annual_inc', 'total_acc'] ได้ Model ที่มี {'PPV': 0.5436174398225974, 'Sensitivity': 0.501484756499934, 'NPV': 0.5915713783688806, 'Specificity': 0.6316822537813186, 'Accuracy': 0.5709293016381328}\n",
      "รอบแรกใช้ categorical ('verification_status', 'addr_state') และ numerical ['loan_amnt', 'pub_rec', 'total_acc'] ได้ Model ที่มี {'PPV': 0.546544454628781, 'Sensitivity': 0.49185033654480664, 'NPV': 0.5912360325928285, 'Specificity': 0.6429973444175038, 'Accuracy': 0.572468900110851}\n",
      "รอบแรกใช้ categorical ('verification_status', 'addr_state') และ numerical ['int_rate', 'installment', 'annual_inc'] ได้ Model ที่มี {'PPV': 0.6115941067162198, 'Sensitivity': 0.6081232677840834, 'NPV': 0.6588637408088235, 'Specificity': 0.6621348574067659, 'Accuracy': 0.6369318881635669}\n",
      "รอบแรกใช้ categorical ('verification_status', 'addr_state') และ numerical ['int_rate', 'installment', 'pub_rec'] ได้ Model ที่มี {'PPV': 0.6057852016672413, 'Sensitivity': 0.6377854031938762, 'NPV': 0.6677662439851103, 'Specificity': 0.6369068236924142, 'Accuracy': 0.6373167877817465}\n",
      "รอบแรกใช้ categorical ('verification_status', 'addr_state') และ numerical ['int_rate', 'installment', 'total_acc'] ได้ Model ที่มี {'PPV': 0.6054842135753596, 'Sensitivity': 0.6207272007390788, 'NPV': 0.6607242997550249, 'Specificity': 0.6461724974021475, 'Accuracy': 0.6342991747752186}\n"
     ]
    },
    {
     "name": "stdout",
     "output_type": "stream",
     "text": [
      "รอบแรกใช้ categorical ('verification_status', 'addr_state') และ numerical ['int_rate', 'annual_inc', 'pub_rec'] ได้ Model ที่มี {'PPV': 0.6186295942068588, 'Sensitivity': 0.5975649993401082, 'NPV': 0.6581175019621034, 'Specificity': 0.6777219720586537, 'Accuracy': 0.6403190048035472}\n",
      "รอบแรกใช้ categorical ('verification_status', 'addr_state') และ numerical ['int_rate', 'annual_inc', 'total_acc'] ได้ Model ที่มี {'PPV': 0.6176308539944904, 'Sensitivity': 0.5917909462848093, 'NPV': 0.6554912007128536, 'Specificity': 0.6794827387137744, 'Accuracy': 0.6385638625446484}\n",
      "รอบแรกใช้ categorical ('verification_status', 'addr_state') และ numerical ['int_rate', 'pub_rec', 'total_acc'] ได้ Model ที่มี {'PPV': 0.6163690678253785, 'Sensitivity': 0.5990827504289297, 'NPV': 0.6576604496534626, 'Specificity': 0.6737963283685486, 'Accuracy': 0.6389333661781007}\n",
      "รอบแรกใช้ categorical ('verification_status', 'addr_state') และ numerical ['installment', 'annual_inc', 'pub_rec'] ได้ Model ที่มี {'PPV': 0.553411131059246, 'Sensitivity': 0.40682328098191894, 'NPV': 0.5786932883389576, 'Specificity': 0.7127929800254013, 'Accuracy': 0.570020938539229}\n",
      "รอบแรกใช้ categorical ('verification_status', 'addr_state') และ numerical ['installment', 'annual_inc', 'total_acc'] ได้ Model ที่มี {'PPV': 0.520728583625842, 'Sensitivity': 0.3622145968061238, 'NPV': 0.5593799863232277, 'Specificity': 0.7083477658468998, 'Accuracy': 0.5468345855400911}\n",
      "รอบแรกใช้ categorical ('verification_status', 'addr_state') และ numerical ['installment', 'pub_rec', 'total_acc'] ได้ Model ที่มี {'PPV': 0.551967116852613, 'Sensitivity': 0.3721789626501254, 'NPV': 0.5725581813280618, 'Specificity': 0.7357118115691029, 'Accuracy': 0.5660795664490701}\n",
      "รอบแรกใช้ categorical ('verification_status', 'addr_state') และ numerical ['annual_inc', 'pub_rec', 'total_acc'] ได้ Model ที่มี {'PPV': 0.5451227889404088, 'Sensitivity': 0.418932295103603, 'NPV': 0.57726836293807, 'Specificity': 0.6941750375245352, 'Accuracy': 0.5657408547850721}\n",
      "รอบแรกใช้ categorical ('verification_status', 'addr_state') และ numerical ['loan_amnt', 'int_rate', 'installment', 'annual_inc'] ได้ Model ที่มี {'PPV': 0.6081935839631516, 'Sensitivity': 0.6186485416391712, 'NPV': 0.6612841778272719, 'Specificity': 0.651339337258977, 'Accuracy': 0.6360851090035718}\n",
      "รอบแรกใช้ categorical ('verification_status', 'addr_state') และ numerical ['loan_amnt', 'int_rate', 'installment', 'pub_rec'] ได้ Model ที่มี {'PPV': 0.5981403414357043, 'Sensitivity': 0.6600897452817738, 'NPV': 0.6730042850341216, 'Specificity': 0.6120251703036601, 'Accuracy': 0.6344531346224904}\n",
      "รอบแรกใช้ categorical ('verification_status', 'addr_state') และ numerical ['loan_amnt', 'int_rate', 'installment', 'total_acc'] ได้ Model ที่มี {'PPV': 0.6011187870636425, 'Sensitivity': 0.6488385904711628, 'NPV': 0.6698616539487561, 'Specificity': 0.6233402609398453, 'Accuracy': 0.6352383298435768}\n",
      "รอบแรกใช้ categorical ('verification_status', 'addr_state') และ numerical ['loan_amnt', 'int_rate', 'annual_inc', 'pub_rec'] ได้ Model ที่มี {'PPV': 0.6222648083623693, 'Sensitivity': 0.5892503629404777, 'NPV': 0.656598256647909, 'Specificity': 0.6870742408497864, 'Accuracy': 0.6414275157039044}\n",
      "รอบแรกใช้ categorical ('verification_status', 'addr_state') และ numerical ['loan_amnt', 'int_rate', 'annual_inc', 'total_acc'] ได้ Model ที่มี {'PPV': 0.6164035503760418, 'Sensitivity': 0.6003365448066517, 'NPV': 0.6581531862053395, 'Specificity': 0.6731612977716199, 'Accuracy': 0.6391797019337356}\n",
      "รอบแรกใช้ categorical ('verification_status', 'addr_state') และ numerical ['loan_amnt', 'int_rate', 'pub_rec', 'total_acc'] ได้ Model ที่มี {'PPV': 0.6198649213201504, 'Sensitivity': 0.5874686551405569, 'NPV': 0.6548802031577785, 'Specificity': 0.6848227687334026, 'Accuracy': 0.6393952457199162}\n",
      "รอบแรกใช้ categorical ('verification_status', 'addr_state') และ numerical ['loan_amnt', 'installment', 'annual_inc', 'pub_rec'] ได้ Model ที่มี {'PPV': 0.53867240362261, 'Sensitivity': 0.5122079978883463, 'NPV': 0.5908449339938561, 'Specificity': 0.6162394642650965, 'Accuracy': 0.5676961448454243}\n",
      "รอบแรกใช้ categorical ('verification_status', 'addr_state') และ numerical ['loan_amnt', 'installment', 'annual_inc', 'total_acc'] ได้ Model ที่มี {'PPV': 0.5412805711681604, 'Sensitivity': 0.47027187541243237, 'NPV': 0.5842827550491974, 'Specificity': 0.651339337258977, 'Accuracy': 0.5668493656854292}\n",
      "รอบแรกใช้ categorical ('verification_status', 'addr_state') และ numerical ['loan_amnt', 'installment', 'pub_rec', 'total_acc'] ได้ Model ที่มี {'PPV': 0.5453900988539246, 'Sensitivity': 0.45690906691302624, 'NPV': 0.5839336720507571, 'Specificity': 0.6668109918023323, 'Accuracy': 0.5688662396846902}\n",
      "รอบแรกใช้ categorical ('verification_status', 'addr_state') และ numerical ['loan_amnt', 'annual_inc', 'pub_rec', 'total_acc'] ได้ Model ที่มี {'PPV': 0.5529331895691066, 'Sensitivity': 0.4568430777352514, 'NPV': 0.5875322592768911, 'Specificity': 0.6768560212446599, 'Accuracy': 0.5741932504002956}\n",
      "รอบแรกใช้ categorical ('verification_status', 'addr_state') และ numerical ['int_rate', 'installment', 'annual_inc', 'pub_rec'] ได้ Model ที่มี {'PPV': 0.6062775682413859, 'Sensitivity': 0.6258413620166293, 'NPV': 0.6631616467652824, 'Specificity': 0.64444059577416, 'Accuracy': 0.635761793324301}\n",
      "รอบแรกใช้ categorical ('verification_status', 'addr_state') และ numerical ['int_rate', 'installment', 'annual_inc', 'total_acc'] ได้ Model ที่มี {'PPV': 0.5972901325478646, 'Sensitivity': 0.6690642734591526, 'NPV': 0.6764724856460873, 'Specificity': 0.6053573490359081, 'Accuracy': 0.6350843699963049}\n",
      "รอบแรกใช้ categorical ('verification_status', 'addr_state') และ numerical ['int_rate', 'installment', 'pub_rec', 'total_acc'] ได้ Model ที่มี {'PPV': 0.6094419164882227, 'Sensitivity': 0.6009964365844002, 'NPV': 0.6551163586584531, 'Specificity': 0.663058538275026, 'Accuracy': 0.6340990269737652}\n",
      "รอบแรกใช้ categorical ('verification_status', 'addr_state') และ numerical ['int_rate', 'annual_inc', 'pub_rec', 'total_acc'] ได้ Model ที่มี {'PPV': 0.6129725796315285, 'Sensitivity': 0.6114557212617131, 'NPV': 0.6608197240703937, 'Specificity': 0.6622503175152985, 'Accuracy': 0.6385484665599211}\n",
      "รอบแรกใช้ categorical ('verification_status', 'addr_state') และ numerical ['installment', 'annual_inc', 'pub_rec', 'total_acc'] ได้ Model ที่มี {'PPV': 0.5421291230264186, 'Sensitivity': 0.4577009370463244, 'NPV': 0.5824611319987806, 'Specificity': 0.6618173421083016, 'Accuracy': 0.56657223796034}\n",
      "รอบแรกใช้ categorical ('verification_status', 'addr_state') และ numerical ['loan_amnt', 'int_rate', 'installment', 'annual_inc', 'pub_rec'] ได้ Model ที่มี {'PPV': 0.6058220373956382, 'Sensitivity': 0.6296687343275703, 'NPV': 0.6644644405249469, 'Specificity': 0.6415829580879806, 'Accuracy': 0.6360235250646631}\n",
      "รอบแรกใช้ categorical ('verification_status', 'addr_state') และ numerical ['loan_amnt', 'int_rate', 'installment', 'annual_inc', 'total_acc'] ได้ Model ที่มี {'PPV': 0.6052732136033626, 'Sensitivity': 0.6271611455721262, 'NPV': 0.6631691904137356, 'Specificity': 0.6421891236577763, 'Accuracy': 0.6351767459046681}\n",
      "รอบแรกใช้ categorical ('verification_status', 'addr_state') และ numerical ['loan_amnt', 'int_rate', 'installment', 'pub_rec', 'total_acc'] ได้ Model ที่มี {'PPV': 0.6055765595463138, 'Sensitivity': 0.6341889930051472, 'NPV': 0.6661748765506443, 'Specificity': 0.6386387253204018, 'Accuracy': 0.6365623845301146}\n",
      "รอบแรกใช้ categorical ('verification_status', 'addr_state') และ numerical ['loan_amnt', 'int_rate', 'annual_inc', 'pub_rec', 'total_acc'] ได้ Model ที่มี {'PPV': 0.6130210711722878, 'Sensitivity': 0.6201003035502177, 'NPV': 0.6642561380999592, 'Specificity': 0.657545318092599, 'Accuracy': 0.6400726690479123}\n",
      "รอบแรกใช้ categorical ('verification_status', 'addr_state') และ numerical ['loan_amnt', 'installment', 'annual_inc', 'pub_rec', 'total_acc'] ได้ Model ที่มี {'PPV': 0.5336800873306363, 'Sensitivity': 0.5484360564867362, 'NPV': 0.5951606223747263, 'Specificity': 0.5807643459184851, 'Accuracy': 0.5656792708461633}\n",
      "รอบแรกใช้ categorical ('verification_status', 'addr_state') และ numerical ['int_rate', 'installment', 'annual_inc', 'pub_rec', 'total_acc'] ได้ Model ที่มี {'PPV': 0.5970565313830106, 'Sensitivity': 0.657219216048568, 'NPV': 0.6711301044634378, 'Specificity': 0.6119674402493939, 'Accuracy': 0.6330828919817711}\n"
     ]
    },
    {
     "name": "stdout",
     "output_type": "stream",
     "text": [
      "รอบแรกใช้ categorical ('verification_status', 'addr_state') และ numerical ['loan_amnt', 'int_rate', 'installment', 'annual_inc', 'pub_rec', 'total_acc'] ได้ Model ที่มี {'PPV': 0.602891341520286, 'Sensitivity': 0.6398310677048964, 'NPV': 0.6670631652789215, 'Specificity': 0.6313070084285879, 'Accuracy': 0.6352845177977583}\n",
      "รอบแรกใช้ categorical ('grade', 'addr_state') และ numerical ['loan_amnt'] ได้ Model ที่มี {'PPV': 0.6098216238168129, 'Sensitivity': 0.6440873696713739, 'NPV': 0.6725357457272092, 'Specificity': 0.6394758111072625, 'Accuracy': 0.6416276635053578}\n",
      "รอบแรกใช้ categorical ('grade', 'addr_state') และ numerical ['int_rate'] ได้ Model ที่มี {'PPV': 0.6109522126168975, 'Sensitivity': 0.6272601293387884, 'NPV': 0.6661149697059258, 'Specificity': 0.6505599815263826, 'Accuracy': 0.6396877694297327}\n",
      "รอบแรกใช้ categorical ('grade', 'addr_state') และ numerical ['installment'] ได้ Model ที่มี {'PPV': 0.5833809994280069, 'Sensitivity': 0.7403325854559852, 'NPV': 0.7029067572668931, 'Specificity': 0.5374668052187969, 'Accuracy': 0.6321283409286858}\n",
      "รอบแรกใช้ categorical ('grade', 'addr_state') และ numerical ['annual_inc'] ได้ Model ที่มี {'PPV': 0.5987731488211181, 'Sensitivity': 0.6795565527253531, 'NPV': 0.6821469481263296, 'Specificity': 0.6016337605357349, 'Accuracy': 0.6379942111097425}\n",
      "รอบแรกใช้ categorical ('grade', 'addr_state') และ numerical ['pub_rec'] ได้ Model ที่มี {'PPV': 0.6040140952964609, 'Sensitivity': 0.6503893361488716, 'NPV': 0.6721230312219575, 'Specificity': 0.6269772543586191, 'Accuracy': 0.6379018352013794}\n",
      "รอบแรกใช้ categorical ('grade', 'addr_state') และ numerical ['total_acc'] ได้ Model ที่มี {'PPV': 0.6038802518309135, 'Sensitivity': 0.6202982710835423, 'NPV': 0.6597279716144293, 'Specificity': 0.6440364853942963, 'Accuracy': 0.6329597241039537}\n",
      "รอบแรกใช้ categorical ('grade', 'addr_state') และ numerical ['loan_amnt', 'int_rate'] ได้ Model ที่มี {'PPV': 0.6152726310217046, 'Sensitivity': 0.6135673749505082, 'NPV': 0.6627505183137526, 'Specificity': 0.6643574644960166, 'Accuracy': 0.6406577164675452}\n",
      "รอบแรกใช้ categorical ('grade', 'addr_state') และ numerical ['loan_amnt', 'installment'] ได้ Model ที่มี {'PPV': 0.5834199854424457, 'Sensitivity': 0.7404975584004223, 'NPV': 0.7030282434677542, 'Specificity': 0.5374379401916638, 'Accuracy': 0.6321899248675945}\n",
      "รอบแรกใช้ categorical ('grade', 'addr_state') และ numerical ['loan_amnt', 'annual_inc'] ได้ Model ที่มี {'PPV': 0.6122067543181232, 'Sensitivity': 0.626831199683252, 'NPV': 0.6665683962264151, 'Specificity': 0.6526382634799677, 'Accuracy': 0.6405961325286366}\n",
      "รอบแรกใช้ categorical ('grade', 'addr_state') และ numerical ['loan_amnt', 'pub_rec'] ได้ Model ที่มี {'PPV': 0.6140990976316903, 'Sensitivity': 0.6219809951168008, 'NPV': 0.6655378776820902, 'Specificity': 0.6580648885809952, 'Accuracy': 0.641227367902451}\n",
      "รอบแรกใช้ categorical ('grade', 'addr_state') และ numerical ['loan_amnt', 'total_acc'] ได้ Model ที่มี {'PPV': 0.6151009832580387, 'Sensitivity': 0.6109608024284018, 'NPV': 0.661644857667585, 'Specificity': 0.6655409306084747, 'Accuracy': 0.6400726690479123}\n",
      "รอบแรกใช้ categorical ('grade', 'addr_state') และ numerical ['int_rate', 'installment'] ได้ Model ที่มี {'PPV': 0.6080597014925373, 'Sensitivity': 0.604889798073116, 'NPV': 0.6559105798517326, 'Specificity': 0.6589019743678559, 'Accuracy': 0.6336987313708585}\n",
      "รอบแรกใช้ categorical ('grade', 'addr_state') และ numerical ['int_rate', 'annual_inc'] ได้ Model ที่มี {'PPV': 0.6081322749662724, 'Sensitivity': 0.6395341164049096, 'NPV': 0.6697300402067777, 'Specificity': 0.6394758111072625, 'Accuracy': 0.6395030176130065}\n",
      "รอบแรกใช้ categorical ('grade', 'addr_state') และ numerical ['int_rate', 'pub_rec'] ได้ Model ที่มี {'PPV': 0.6112020542449045, 'Sensitivity': 0.6282829615942985, 'NPV': 0.6666568038583306, 'Specificity': 0.6503579263364507, 'Accuracy': 0.6400572730631852}\n",
      "รอบแรกใช้ categorical ('grade', 'addr_state') และ numerical ['int_rate', 'total_acc'] ได้ Model ที่มี {'PPV': 0.6185310892613457, 'Sensitivity': 0.5832453477629669, 'NPV': 0.6527369202430374, 'Specificity': 0.6853134741946657, 'Accuracy': 0.637686291415199}\n",
      "รอบแรกใช้ categorical ('grade', 'addr_state') และ numerical ['installment', 'annual_inc'] ได้ Model ที่มี 0\n",
      "รอบแรกใช้ categorical ('grade', 'addr_state') และ numerical ['installment', 'pub_rec'] ได้ Model ที่มี 0\n",
      "รอบแรกใช้ categorical ('grade', 'addr_state') และ numerical ['installment', 'total_acc'] ได้ Model ที่มี {'PPV': 0.5959616700889802, 'Sensitivity': 0.5745677708855748, 'NPV': 0.6391469830963842, 'Specificity': 0.6592194896663203, 'Accuracy': 0.6197191772385762}\n",
      "รอบแรกใช้ categorical ('grade', 'addr_state') และ numerical ['annual_inc', 'pub_rec'] ได้ Model ที่มี {'PPV': 0.6042283950617284, 'Sensitivity': 0.6459350666490695, 'NPV': 0.6703428360776603, 'Specificity': 0.6298637570719317, 'Accuracy': 0.637362975735928}\n",
      "รอบแรกใช้ categorical ('grade', 'addr_state') และ numerical ['annual_inc', 'total_acc'] ได้ Model ที่มี {'PPV': 0.6059188061211584, 'Sensitivity': 0.6323083014385641, 'NPV': 0.6655863641819709, 'Specificity': 0.6402263018127237, 'Accuracy': 0.6365315925606602}\n",
      "รอบแรกใช้ categorical ('grade', 'addr_state') และ numerical ['pub_rec', 'total_acc'] ได้ Model ที่มี {'PPV': 0.6011363636363637, 'Sensitivity': 0.6632572258149664, 'NPV': 0.6761233815689262, 'Specificity': 0.614998268098372, 'Accuracy': 0.6375169355831999}\n",
      "รอบแรกใช้ categorical ('grade', 'addr_state') และ numerical ['loan_amnt', 'int_rate', 'installment'] ได้ Model ที่มี {'PPV': 0.5905106599558898, 'Sensitivity': 0.6890589943249307, 'NPV': 0.6814709659974312, 'Specificity': 0.5819766770580764, 'Accuracy': 0.6319435891119596}\n",
      "รอบแรกใช้ categorical ('grade', 'addr_state') และ numerical ['loan_amnt', 'int_rate', 'annual_inc'] ได้ Model ที่มี {'PPV': 0.6147072353289085, 'Sensitivity': 0.6172627689058995, 'NPV': 0.6639434497943102, 'Specificity': 0.6615286918369703, 'Accuracy': 0.6408732602537258}\n",
      "รอบแรกใช้ categorical ('grade', 'addr_state') และ numerical ['loan_amnt', 'int_rate', 'pub_rec'] ได้ Model ที่มี {'PPV': 0.6149292995725091, 'Sensitivity': 0.6169988121948, 'NPV': 0.6639453419026113, 'Specificity': 0.6619905322711004, 'Accuracy': 0.6409964281315433}\n",
      "รอบแรกใช้ categorical ('grade', 'addr_state') และ numerical ['loan_amnt', 'int_rate', 'total_acc'] ได้ Model ที่มี {'PPV': 0.6117102237766767, 'Sensitivity': 0.6232347894945229, 'NPV': 0.6648666099257476, 'Specificity': 0.6539083246738252, 'Accuracy': 0.6395953935213696}\n",
      "รอบแรกใช้ categorical ('grade', 'addr_state') และ numerical ['loan_amnt', 'installment', 'annual_inc'] ได้ Model ที่มี 0\n",
      "รอบแรกใช้ categorical ('grade', 'addr_state') และ numerical ['loan_amnt', 'installment', 'pub_rec'] ได้ Model ที่มี 0\n",
      "รอบแรกใช้ categorical ('grade', 'addr_state') และ numerical ['loan_amnt', 'installment', 'total_acc'] ได้ Model ที่มี {'PPV': 0.590155410480097, 'Sensitivity': 0.674079450970041, 'NPV': 0.6743588053009824, 'Specificity': 0.5904629950352154, 'Accuracy': 0.6294802315556103}\n",
      "รอบแรกใช้ categorical ('grade', 'addr_state') และ numerical ['loan_amnt', 'annual_inc', 'pub_rec'] ได้ Model ที่มี {'PPV': 0.6135824532900082, 'Sensitivity': 0.6230368219611984, 'NPV': 0.6657108581794774, 'Specificity': 0.6567370973328714, 'Accuracy': 0.6410118241162704}\n",
      "รอบแรกใช้ categorical ('grade', 'addr_state') และ numerical ['loan_amnt', 'annual_inc', 'total_acc'] ได้ Model ที่มี {'PPV': 0.6097568788237933, 'Sensitivity': 0.628084994060974, 'NPV': 0.6658465004594907, 'Specificity': 0.648337374437132, 'Accuracy': 0.6388871782239192}\n",
      "รอบแรกใช้ categorical ('grade', 'addr_state') และ numerical ['loan_amnt', 'pub_rec', 'total_acc'] ได้ Model ที่มี {'PPV': 0.6073056429350966, 'Sensitivity': 0.624257621750033, 'NPV': 0.6630569856204509, 'Specificity': 0.6468652580533426, 'Accuracy': 0.6363160487744797}\n",
      "รอบแรกใช้ categorical ('grade', 'addr_state') และ numerical ['int_rate', 'installment', 'annual_inc'] ได้ Model ที่มี {'PPV': 0.6184588209317731, 'Sensitivity': 0.554507060842022, 'NPV': 0.6425962200222352, 'Specificity': 0.7007273986837548, 'Accuracy': 0.6324978445621382}\n",
      "รอบแรกใช้ categorical ('grade', 'addr_state') และ numerical ['int_rate', 'installment', 'pub_rec'] ได้ Model ที่มี {'PPV': 0.6066320969712984, 'Sensitivity': 0.6060116140952884, 'NPV': 0.6556308579668348, 'Specificity': 0.6562175268444752, 'Accuracy': 0.6327903682719547}\n"
     ]
    },
    {
     "name": "stdout",
     "output_type": "stream",
     "text": [
      "รอบแรกใช้ categorical ('grade', 'addr_state') และ numerical ['int_rate', 'installment', 'total_acc'] ได้ Model ที่มี {'PPV': 0.6033195020746888, 'Sensitivity': 0.5996766530289033, 'NPV': 0.6516208688661096, 'Specificity': 0.6550629257591503, 'Accuracy': 0.6292184998152481}\n",
      "รอบแรกใช้ categorical ('grade', 'addr_state') และ numerical ['int_rate', 'annual_inc', 'pub_rec'] ได้ Model ที่มี {'PPV': 0.6092055485498108, 'Sensitivity': 0.6375874356605516, 'NPV': 0.669475204622051, 'Specificity': 0.6421891236577763, 'Accuracy': 0.6400418770784579}\n",
      "รอบแรกใช้ categorical ('grade', 'addr_state') และ numerical ['int_rate', 'annual_inc', 'total_acc'] ได้ Model ที่มี {'PPV': 0.608733539891557, 'Sensitivity': 0.6223109410056751, 'NPV': 0.6630063589260481, 'Specificity': 0.6500692760651196, 'Accuracy': 0.6371166399802931}\n",
      "รอบแรกใช้ categorical ('grade', 'addr_state') และ numerical ['int_rate', 'pub_rec', 'total_acc'] ได้ Model ที่มี {'PPV': 0.6110436295591084, 'Sensitivity': 0.6141282829615943, 'NPV': 0.6609260386767563, 'Specificity': 0.658007158526729, 'Accuracy': 0.6375323315679271}\n",
      "รอบแรกใช้ categorical ('grade', 'addr_state') และ numerical ['installment', 'annual_inc', 'pub_rec'] ได้ Model ที่มี {'PPV': 0.5822398371806545, 'Sensitivity': 0.7173683515903392, 'NPV': 0.6897500905469033, 'Specificity': 0.5497055767232422, 'Accuracy': 0.6279406330828919}\n",
      "รอบแรกใช้ categorical ('grade', 'addr_state') และ numerical ['installment', 'annual_inc', 'total_acc'] ได้ Model ที่มี {'PPV': 0.5882754105515849, 'Sensitivity': 0.7115283093572654, 'NPV': 0.6909945571499257, 'Specificity': 0.5643401454797368, 'Accuracy': 0.6330213080428624}\n",
      "รอบแรกใช้ categorical ('grade', 'addr_state') และ numerical ['installment', 'pub_rec', 'total_acc'] ได้ Model ที่มี {'PPV': 0.5817331300235185, 'Sensitivity': 0.7426752012669923, 'NPV': 0.7029970676720363, 'Specificity': 0.5328484008774969, 'Accuracy': 0.6307580982879665}\n",
      "รอบแรกใช้ categorical ('grade', 'addr_state') และ numerical ['annual_inc', 'pub_rec', 'total_acc'] ได้ Model ที่มี {'PPV': 0.6007833054293231, 'Sensitivity': 0.6630262636927544, 'NPV': 0.6758189436262062, 'Specificity': 0.6145652926913752, 'Accuracy': 0.6371782239192019}\n",
      "รอบแรกใช้ categorical ('grade', 'addr_state') และ numerical ['loan_amnt', 'int_rate', 'installment', 'annual_inc'] ได้ Model ที่มี {'PPV': 0.6078497036268042, 'Sensitivity': 0.5988847828956051, 'NPV': 0.6535578923370665, 'Specificity': 0.6619905322711004, 'Accuracy': 0.6325440325163197}\n",
      "รอบแรกใช้ categorical ('grade', 'addr_state') และ numerical ['loan_amnt', 'int_rate', 'installment', 'pub_rec'] ได้ Model ที่มี {'PPV': 0.6008958845304383, 'Sensitivity': 0.6373564735383397, 'NPV': 0.6649596098155769, 'Specificity': 0.6296617018819998, 'Accuracy': 0.6332522478137702}\n",
      "รอบแรกใช้ categorical ('grade', 'addr_state') และ numerical ['loan_amnt', 'int_rate', 'installment', 'total_acc'] ได้ Model ที่มี {'PPV': 0.5954881483219902, 'Sensitivity': 0.6697571598257885, 'NPV': 0.675706324520477, 'Specificity': 0.6019801408613324, 'Accuracy': 0.6336063554624953}\n",
      "รอบแรกใช้ categorical ('grade', 'addr_state') และ numerical ['loan_amnt', 'int_rate', 'annual_inc', 'pub_rec'] ได้ Model ที่มี {'PPV': 0.6189145512086728, 'Sensitivity': 0.6065395275174872, 'NPV': 0.6617021276595745, 'Specificity': 0.6732767578801524, 'Accuracy': 0.6421357310013548}\n",
      "รอบแรกใช้ categorical ('grade', 'addr_state') และ numerical ['loan_amnt', 'int_rate', 'annual_inc', 'total_acc'] ได้ Model ที่มี {'PPV': 0.6049913409203365, 'Sensitivity': 0.6454731424046456, 'NPV': 0.6705604611233751, 'Specificity': 0.6313070084285879, 'Accuracy': 0.6379172311861067}\n",
      "รอบแรกใช้ categorical ('grade', 'addr_state') และ numerical ['loan_amnt', 'int_rate', 'pub_rec', 'total_acc'] ได้ Model ที่มี {'PPV': 0.6170605612998523, 'Sensitivity': 0.6064735383397123, 'NPV': 0.6608178819246957, 'Specificity': 0.6707366354924373, 'Accuracy': 0.6407500923759084}\n",
      "รอบแรกใช้ categorical ('grade', 'addr_state') และ numerical ['loan_amnt', 'installment', 'annual_inc', 'pub_rec'] ได้ Model ที่มี {'PPV': 0.5812056007412746, 'Sensitivity': 0.7450508116668866, 'NPV': 0.7039463601532567, 'Specificity': 0.5303371435169149, 'Accuracy': 0.6305271585170588}\n",
      "รอบแรกใช้ categorical ('grade', 'addr_state') และ numerical ['loan_amnt', 'installment', 'annual_inc', 'total_acc'] ได้ Model ที่มี {'PPV': 0.5839397021620635, 'Sensitivity': 0.738748845189389, 'NPV': 0.7024315081363448, 'Specificity': 0.5395162221452489, 'Accuracy': 0.632482448577411}\n",
      "รอบแรกใช้ categorical ('grade', 'addr_state') และ numerical ['loan_amnt', 'installment', 'pub_rec', 'total_acc'] ได้ Model ที่มี {'PPV': 0.5859354291470074, 'Sensitivity': 0.7293453873564736, 'NPV': 0.6987071181958422, 'Specificity': 0.5490994111534465, 'Accuracy': 0.6332060598595887}\n",
      "รอบแรกใช้ categorical ('grade', 'addr_state') และ numerical ['loan_amnt', 'annual_inc', 'pub_rec', 'total_acc'] ได้ Model ที่มี {'PPV': 0.6102248702671536, 'Sensitivity': 0.6285469183053979, 'NPV': 0.6662714175609178, 'Specificity': 0.6487703498441288, 'Accuracy': 0.6393336617810075}\n",
      "รอบแรกใช้ categorical ('grade', 'addr_state') และ numerical ['int_rate', 'installment', 'annual_inc', 'pub_rec'] ได้ Model ที่มี {'PPV': 0.613840830449827, 'Sensitivity': 0.5853240068628744, 'NPV': 0.6513924331521136, 'Specificity': 0.6778662971943193, 'Accuracy': 0.6346840743933982}\n",
      "รอบแรกใช้ categorical ('grade', 'addr_state') และ numerical ['int_rate', 'installment', 'annual_inc', 'total_acc'] ได้ Model ที่มี {'PPV': 0.5909943714821764, 'Sensitivity': 0.6963507984690511, 'NPV': 0.6852706815772375, 'Specificity': 0.5783974136935689, 'Accuracy': 0.6334369996304964}\n",
      "รอบแรกใช้ categorical ('grade', 'addr_state') และ numerical ['int_rate', 'installment', 'pub_rec', 'total_acc'] ได้ Model ที่มี {'PPV': 0.6055557554604009, 'Sensitivity': 0.5552659363864326, 'NPV': 0.6372810204246387, 'Specificity': 0.6835815725666782, 'Accuracy': 0.6237067372829166}\n",
      "รอบแรกใช้ categorical ('grade', 'addr_state') และ numerical ['int_rate', 'annual_inc', 'pub_rec', 'total_acc'] ได้ Model ที่มี {'PPV': 0.6133927375050248, 'Sensitivity': 0.6041639171175928, 'NPV': 0.6582051282051282, 'Specificity': 0.6668687218565985, 'Accuracy': 0.637609311491563}\n",
      "รอบแรกใช้ categorical ('grade', 'addr_state') และ numerical ['installment', 'annual_inc', 'pub_rec', 'total_acc'] ได้ Model ที่มี {'PPV': 0.5842522579290065, 'Sensitivity': 0.7342285865118121, 'NPV': 0.700156343061346, 'Specificity': 0.5429222953469576, 'Accuracy': 0.6321899248675945}\n",
      "รอบแรกใช้ categorical ('grade', 'addr_state') และ numerical ['loan_amnt', 'int_rate', 'installment', 'annual_inc', 'pub_rec'] ได้ Model ที่มี {'PPV': 0.5905721993468692, 'Sensitivity': 0.6861884650917249, 'NPV': 0.6801627601977335, 'Specificity': 0.5838240387945964, 'Accuracy': 0.6315894814632343}\n",
      "รอบแรกใช้ categorical ('grade', 'addr_state') และ numerical ['loan_amnt', 'int_rate', 'installment', 'annual_inc', 'total_acc'] ได้ Model ที่มี {'PPV': 0.5977906941359058, 'Sensitivity': 0.6481457041045269, 'NPV': 0.6676949923654607, 'Specificity': 0.6184909363814802, 'Accuracy': 0.6323284887301391}\n",
      "รอบแรกใช้ categorical ('grade', 'addr_state') และ numerical ['loan_amnt', 'int_rate', 'installment', 'pub_rec', 'total_acc'] ได้ Model ที่มี {'PPV': 0.6016204849084612, 'Sensitivity': 0.6418767322159166, 'NPV': 0.6672185430463576, 'Specificity': 0.6281607204710773, 'Accuracy': 0.6345609065155807}\n",
      "รอบแรกใช้ categorical ('grade', 'addr_state') และ numerical ['loan_amnt', 'int_rate', 'annual_inc', 'pub_rec', 'total_acc'] ได้ Model ที่มี {'PPV': 0.6175665167855573, 'Sensitivity': 0.6027121552065461, 'NPV': 0.6595991292793939, 'Specificity': 0.6734788130700843, 'Accuracy': 0.6404575686660919}\n",
      "รอบแรกใช้ categorical ('grade', 'addr_state') และ numerical ['loan_amnt', 'installment', 'annual_inc', 'pub_rec', 'total_acc'] ได้ Model ที่มี {'PPV': 0.5813720194459449, 'Sensitivity': 0.7457436980335225, 'NPV': 0.7044678811121764, 'Specificity': 0.5302216834083824, 'Accuracy': 0.6307888902574209}\n",
      "รอบแรกใช้ categorical ('grade', 'addr_state') และ numerical ['int_rate', 'installment', 'annual_inc', 'pub_rec', 'total_acc'] ได้ Model ที่มี {'PPV': 0.5850773115638729, 'Sensitivity': 0.5580704764418636, 'NPV': 0.6283883139583275, 'Specificity': 0.6537639995381596, 'Accuracy': 0.609111343761547}\n"
     ]
    },
    {
     "name": "stdout",
     "output_type": "stream",
     "text": [
      "รอบแรกใช้ categorical ('grade', 'addr_state') และ numerical ['loan_amnt', 'int_rate', 'installment', 'annual_inc', 'pub_rec', 'total_acc'] ได้ Model ที่มี {'PPV': 0.5951881299323146, 'Sensitivity': 0.6644120364260261, 'NPV': 0.6731578778238375, 'Specificity': 0.604664588384713, 'Accuracy': 0.6325440325163197}\n",
      "รอบแรกใช้ categorical ('emp_length', 'home_ownership', 'verification_status') และ numerical ['loan_amnt'] ได้ Model ที่มี {'PPV': 0.5717177808407995, 'Sensitivity': 0.43793717830275836, 'NPV': 0.5918391796051371, 'Specificity': 0.7129950352153331, 'Accuracy': 0.5846471240300529}\n",
      "รอบแรกใช้ categorical ('emp_length', 'home_ownership', 'verification_status') และ numerical ['int_rate'] ได้ Model ที่มี {'PPV': 0.6159529751740443, 'Sensitivity': 0.6188795037613831, 'NPV': 0.6651884057971015, 'Specificity': 0.6624235076780972, 'Accuracy': 0.6421049390319005}\n",
      "รอบแรกใช้ categorical ('emp_length', 'home_ownership', 'verification_status') และ numerical ['installment'] ได้ Model ที่มี {'PPV': 0.5595398177200059, 'Sensitivity': 0.4942589415335885, 'NPV': 0.5985332634887376, 'Specificity': 0.659623600046184, 'Accuracy': 0.582460894198793}\n",
      "รอบแรกใช้ categorical ('emp_length', 'home_ownership', 'verification_status') และ numerical ['annual_inc'] ได้ Model ที่มี {'PPV': 0.552444698391968, 'Sensitivity': 0.4466147551801505, 'NPV': 0.5853646477132262, 'Specificity': 0.6834661124581457, 'Accuracy': 0.5729461756373938}\n",
      "รอบแรกใช้ categorical ('emp_length', 'home_ownership', 'verification_status') และ numerical ['pub_rec'] ได้ Model ที่มี {'PPV': 0.5577808671474498, 'Sensitivity': 0.423617526725617, 'NPV': 0.5834167978251538, 'Specificity': 0.7061828888119155, 'Accuracy': 0.5743318142628403}\n",
      "รอบแรกใช้ categorical ('emp_length', 'home_ownership', 'verification_status') และ numerical ['total_acc'] ได้ Model ที่มี {'PPV': 0.5507410738727465, 'Sensitivity': 0.46466279530157056, 'NPV': 0.5879992889972322, 'Specificity': 0.6683985682946542, 'Accuracy': 0.5733310752555734}\n",
      "รอบแรกใช้ categorical ('emp_length', 'home_ownership', 'verification_status') และ numerical ['loan_amnt', 'int_rate'] ได้ Model ที่มี {'PPV': 0.6238878774346467, 'Sensitivity': 0.5992477233733667, 'NPV': 0.6611143662286209, 'Specificity': 0.6839568179194089, 'Accuracy': 0.6444297327257051}\n",
      "รอบแรกใช้ categorical ('emp_length', 'home_ownership', 'verification_status') และ numerical ['loan_amnt', 'installment'] ได้ Model ที่มี {'PPV': 0.5507639394139824, 'Sensitivity': 0.5494918833311337, 'NPV': 0.6066716598490522, 'Specificity': 0.6078974714236232, 'Accuracy': 0.5806441680009854}\n",
      "รอบแรกใช้ categorical ('emp_length', 'home_ownership', 'verification_status') และ numerical ['loan_amnt', 'annual_inc'] ได้ Model ที่มี {'PPV': 0.5738357843137255, 'Sensitivity': 0.4325920549029959, 'NPV': 0.5915589967699031, 'Specificity': 0.7189412308047569, 'Accuracy': 0.5853245473580491}\n",
      "รอบแรกใช้ categorical ('emp_length', 'home_ownership', 'verification_status') และ numerical ['loan_amnt', 'pub_rec'] ได้ Model ที่มี {'PPV': 0.5720948143077187, 'Sensitivity': 0.44117064801372574, 'NPV': 0.5926647426647427, 'Specificity': 0.7113208636416118, 'Accuracy': 0.5852629634191403}\n",
      "รอบแรกใช้ categorical ('emp_length', 'home_ownership', 'verification_status') และ numerical ['loan_amnt', 'total_acc'] ได้ Model ที่มี {'PPV': 0.5628735260862543, 'Sensitivity': 0.4599115745017817, 'NPV': 0.5926893600079626, 'Specificity': 0.6875360812839164, 'Accuracy': 0.5813215913289814}\n",
      "รอบแรกใช้ categorical ('emp_length', 'home_ownership', 'verification_status') และ numerical ['int_rate', 'installment'] ได้ Model ที่มี {'PPV': 0.6121093255725674, 'Sensitivity': 0.6384452949716246, 'NPV': 0.6713257348530294, 'Specificity': 0.6460570372936151, 'Accuracy': 0.6425052346348072}\n",
      "รอบแรกใช้ categorical ('emp_length', 'home_ownership', 'verification_status') และ numerical ['int_rate', 'annual_inc'] ได้ Model ที่มี {'PPV': 0.6211023836240607, 'Sensitivity': 0.6026791606176587, 'NPV': 0.6611991109360493, 'Specificity': 0.6783570026555825, 'Accuracy': 0.6430440941002586}\n",
      "รอบแรกใช้ categorical ('emp_length', 'home_ownership', 'verification_status') และ numerical ['int_rate', 'pub_rec'] ได้ Model ที่มี {'PPV': 0.6195557345144621, 'Sensitivity': 0.6092120892173684, 'NPV': 0.6630440967283072, 'Specificity': 0.672728322364623, 'Accuracy': 0.6430902820544402}\n",
      "รอบแรกใช้ categorical ('emp_length', 'home_ownership', 'verification_status') และ numerical ['int_rate', 'total_acc'] ได้ Model ที่มี {'PPV': 0.6193162737591511, 'Sensitivity': 0.6084862082618451, 'NPV': 0.6626485472223802, 'Specificity': 0.6727860524188892, 'Accuracy': 0.6427823623598965}\n",
      "รอบแรกใช้ categorical ('emp_length', 'home_ownership', 'verification_status') และ numerical ['installment', 'annual_inc'] ได้ Model ที่มี 0\n",
      "รอบแรกใช้ categorical ('emp_length', 'home_ownership', 'verification_status') และ numerical ['installment', 'pub_rec'] ได้ Model ที่มี 0\n",
      "รอบแรกใช้ categorical ('emp_length', 'home_ownership', 'verification_status') และ numerical ['installment', 'total_acc'] ได้ Model ที่มี 0\n",
      "รอบแรกใช้ categorical ('emp_length', 'home_ownership', 'verification_status') และ numerical ['annual_inc', 'pub_rec'] ได้ Model ที่มี {'PPV': 0.5543397778691896, 'Sensitivity': 0.4446350798469051, 'NPV': 0.58584715319128, 'Specificity': 0.6872762960397183, 'Accuracy': 0.5740546865377509}\n",
      "รอบแรกใช้ categorical ('emp_length', 'home_ownership', 'verification_status') และ numerical ['annual_inc', 'total_acc'] ได้ Model ที่มี {'PPV': 0.551962676962677, 'Sensitivity': 0.4528177378909859, 'NPV': 0.5863101177409699, 'Specificity': 0.6784435977369818, 'Accuracy': 0.5731617194235743}\n",
      "รอบแรกใช้ categorical ('emp_length', 'home_ownership', 'verification_status') และ numerical ['pub_rec', 'total_acc'] ได้ Model ที่มี {'PPV': 0.5523864479432858, 'Sensitivity': 0.44219348026923583, 'NPV': 0.5845170803637257, 'Specificity': 0.686525805334257, 'Accuracy': 0.5725150880650326}\n",
      "รอบแรกใช้ categorical ('emp_length', 'home_ownership', 'verification_status') และ numerical ['loan_amnt', 'int_rate', 'installment'] ได้ Model ที่มี {'PPV': 0.6154432224725056, 'Sensitivity': 0.613006466939422, 'NPV': 0.662610746749511, 'Specificity': 0.664905900011546, 'Accuracy': 0.6406885084369996}\n",
      "รอบแรกใช้ categorical ('emp_length', 'home_ownership', 'verification_status') และ numerical ['loan_amnt', 'int_rate', 'annual_inc'] ได้ Model ที่มี {'PPV': 0.6252335801785591, 'Sensitivity': 0.596146232017949, 'NPV': 0.6605092361457813, 'Specificity': 0.6873917561482508, 'Accuracy': 0.6448146323438847}\n",
      "รอบแรกใช้ categorical ('emp_length', 'home_ownership', 'verification_status') และ numerical ['loan_amnt', 'int_rate', 'pub_rec'] ได้ Model ที่มี {'PPV': 0.6245819968607111, 'Sensitivity': 0.6039329549953808, 'NPV': 0.6632441227627224, 'Specificity': 0.6824269714813532, 'Accuracy': 0.6457999753664244}\n",
      "รอบแรกใช้ categorical ('emp_length', 'home_ownership', 'verification_status') และ numerical ['loan_amnt', 'int_rate', 'total_acc'] ได้ Model ที่มี {'PPV': 0.6226052347544523, 'Sensitivity': 0.6090471162729313, 'NPV': 0.664372309086789, 'Specificity': 0.6770292114074588, 'Accuracy': 0.6453073038551546}\n",
      "รอบแรกใช้ categorical ('emp_length', 'home_ownership', 'verification_status') และ numerical ['loan_amnt', 'installment', 'annual_inc'] ได้ Model ที่มี {'PPV': 0.5608761904761905, 'Sensitivity': 0.4857793321895209, 'NPV': 0.5973076326804816, 'Specificity': 0.6672728322364623, 'Accuracy': 0.5825840620766104}\n",
      "รอบแรกใช้ categorical ('emp_length', 'home_ownership', 'verification_status') และ numerical ['loan_amnt', 'installment', 'pub_rec'] ได้ Model ที่มี {'PPV': 0.5474120082815735, 'Sensitivity': 0.52342615811007, 'NPV': 0.59846547314578, 'Specificity': 0.6214063041219259, 'Accuracy': 0.5756866609188324}\n",
      "รอบแรกใช้ categorical ('emp_length', 'home_ownership', 'verification_status') และ numerical ['loan_amnt', 'installment', 'total_acc'] ได้ Model ที่มี {'PPV': 0.5430558887023267, 'Sensitivity': 0.5228982446878712, 'NPV': 0.5957393273504991, 'Specificity': 0.6150848631797714, 'Accuracy': 0.5720686045079443}\n",
      "รอบแรกใช้ categorical ('emp_length', 'home_ownership', 'verification_status') และ numerical ['loan_amnt', 'annual_inc', 'pub_rec'] ได้ Model ที่มี {'PPV': 0.5725908975336893, 'Sensitivity': 0.4458228850468523, 'NPV': 0.5938482371717367, 'Specificity': 0.7088673363352962, 'Accuracy': 0.5861251385638625}\n"
     ]
    },
    {
     "name": "stdout",
     "output_type": "stream",
     "text": [
      "รอบแรกใช้ categorical ('emp_length', 'home_ownership', 'verification_status') และ numerical ['loan_amnt', 'annual_inc', 'total_acc'] ได้ Model ที่มี {'PPV': 0.5595776199339082, 'Sensitivity': 0.4860762834895077, 'NPV': 0.5967378640776699, 'Specificity': 0.6653100103914098, 'Accuracy': 0.5816756989777067}\n",
      "รอบแรกใช้ categorical ('emp_length', 'home_ownership', 'verification_status') และ numerical ['loan_amnt', 'pub_rec', 'total_acc'] ได้ Model ที่มี {'PPV': 0.5589814331518902, 'Sensitivity': 0.494687871189125, 'NPV': 0.5983477576711251, 'Specificity': 0.6585555940422584, 'Accuracy': 0.5820913905653405}\n",
      "รอบแรกใช้ categorical ('emp_length', 'home_ownership', 'verification_status') และ numerical ['int_rate', 'installment', 'annual_inc'] ได้ Model ที่มี {'PPV': 0.6105289977387814, 'Sensitivity': 0.6325062689718887, 'NPV': 0.6680475665365243, 'Specificity': 0.6470095831890083, 'Accuracy': 0.6402420248799113}\n",
      "รอบแรกใช้ categorical ('emp_length', 'home_ownership', 'verification_status') และ numerical ['int_rate', 'installment', 'pub_rec'] ได้ Model ที่มี {'PPV': 0.6150317803551537, 'Sensitivity': 0.6193744225946944, 'NPV': 0.6649433633459193, 'Specificity': 0.6608359311857753, 'Accuracy': 0.6414890996428132}\n",
      "รอบแรกใช้ categorical ('emp_length', 'home_ownership', 'verification_status') และ numerical ['int_rate', 'installment', 'total_acc'] ได้ Model ที่มี {'PPV': 0.6096422519901531, 'Sensitivity': 0.629173815494259, 'NPV': 0.666231105039646, 'Specificity': 0.6475580187045376, 'Accuracy': 0.6389795541322822}\n",
      "รอบแรกใช้ categorical ('emp_length', 'home_ownership', 'verification_status') และ numerical ['int_rate', 'annual_inc', 'pub_rec'] ได้ Model ที่มี {'PPV': 0.6200613021657853, 'Sensitivity': 0.6073973868285601, 'NPV': 0.6625641607350481, 'Specificity': 0.6744024939383443, 'Accuracy': 0.6431364700086217}\n",
      "รอบแรกใช้ categorical ('emp_length', 'home_ownership', 'verification_status') และ numerical ['int_rate', 'annual_inc', 'total_acc'] ได้ Model ที่มี {'PPV': 0.6171419042854761, 'Sensitivity': 0.6105648673617526, 'NPV': 0.6624531701318386, 'Specificity': 0.6686294885117192, 'Accuracy': 0.6415352875969947}\n",
      "รอบแรกใช้ categorical ('emp_length', 'home_ownership', 'verification_status') และ numerical ['int_rate', 'pub_rec', 'total_acc'] ได้ Model ที่มี {'PPV': 0.6179977352960767, 'Sensitivity': 0.6122475913950112, 'NPV': 0.6635171505468705, 'Specificity': 0.6689181387830505, 'Accuracy': 0.6424744426653529}\n",
      "รอบแรกใช้ categorical ('emp_length', 'home_ownership', 'verification_status') และ numerical ['installment', 'annual_inc', 'pub_rec'] ได้ Model ที่มี {'PPV': 0.555346888656145, 'Sensitivity': 0.5073577933218952, 'NPV': 0.5993076241848483, 'Specificity': 0.6446137859369587, 'Accuracy': 0.5805671880773494}\n",
      "รอบแรกใช้ categorical ('emp_length', 'home_ownership', 'verification_status') และ numerical ['installment', 'annual_inc', 'total_acc'] ได้ Model ที่มี {'PPV': 0.5487681403982451, 'Sensitivity': 0.5364920153094892, 'NPV': 0.6022875261876451, 'Specificity': 0.614074587230112, 'Accuracy': 0.5778728907500924}\n",
      "รอบแรกใช้ categorical ('emp_length', 'home_ownership', 'verification_status') และ numerical ['installment', 'pub_rec', 'total_acc'] ได้ Model ที่มี {'PPV': 0.5583397726018324, 'Sensitivity': 0.5006598917777485, 'NPV': 0.5993646591661151, 'Specificity': 0.6535330793210946, 'Accuracy': 0.5821991624584308}\n",
      "รอบแรกใช้ categorical ('emp_length', 'home_ownership', 'verification_status') และ numerical ['annual_inc', 'pub_rec', 'total_acc'] ได้ Model ที่มี {'PPV': 0.5495105421686747, 'Sensitivity': 0.4815560248119308, 'NPV': 0.590722025421963, 'Specificity': 0.6546299503521533, 'Accuracy': 0.5738699347210248}\n",
      "รอบแรกใช้ categorical ('emp_length', 'home_ownership', 'verification_status') และ numerical ['loan_amnt', 'int_rate', 'installment', 'annual_inc'] ได้ Model ที่มี {'PPV': 0.6036674370514536, 'Sensitivity': 0.6549755840042233, 'NPV': 0.6739116876637146, 'Specificity': 0.6238021013739753, 'Accuracy': 0.6383483187584678}\n",
      "รอบแรกใช้ categorical ('emp_length', 'home_ownership', 'verification_status') และ numerical ['loan_amnt', 'int_rate', 'installment', 'pub_rec'] ได้ Model ที่มี {'PPV': 0.6172863924050633, 'Sensitivity': 0.6178566715058731, 'NPV': 0.6654148370695632, 'Specificity': 0.6648770349844129, 'Accuracy': 0.6429363222071683}\n",
      "รอบแรกใช้ categorical ('emp_length', 'home_ownership', 'verification_status') และ numerical ['loan_amnt', 'int_rate', 'installment', 'total_acc'] ได้ Model ที่มี {'PPV': 0.6139702336944293, 'Sensitivity': 0.630196647749769, 'NPV': 0.6688236858434536, 'Specificity': 0.6533598891582958, 'Accuracy': 0.6425514225889888}\n",
      "รอบแรกใช้ categorical ('emp_length', 'home_ownership', 'verification_status') และ numerical ['loan_amnt', 'int_rate', 'annual_inc', 'pub_rec'] ได้ Model ที่มี {'PPV': 0.6258375863625317, 'Sensitivity': 0.5947604592846774, 'NPV': 0.6602395640266674, 'Specificity': 0.6889216025863064, 'Accuracy': 0.6449839881758838}\n",
      "รอบแรกใช้ categorical ('emp_length', 'home_ownership', 'verification_status') และ numerical ['loan_amnt', 'int_rate', 'annual_inc', 'total_acc'] ได้ Model ที่มี {'PPV': 0.6262268927964485, 'Sensitivity': 0.5957502969513, 'NPV': 0.6607879509399485, 'Specificity': 0.6889216025863064, 'Accuracy': 0.6454458677176992}\n",
      "รอบแรกใช้ categorical ('emp_length', 'home_ownership', 'verification_status') และ numerical ['loan_amnt', 'int_rate', 'pub_rec', 'total_acc'] ได้ Model ที่มี {'PPV': 0.6241062308478039, 'Sensitivity': 0.6047908143064538, 'NPV': 0.6633691192175819, 'Specificity': 0.6813301004502944, 'Accuracy': 0.6456152235496982}\n",
      "รอบแรกใช้ categorical ('emp_length', 'home_ownership', 'verification_status') และ numerical ['loan_amnt', 'installment', 'annual_inc', 'pub_rec'] ได้ Model ที่มี {'PPV': 0.5520336407646913, 'Sensitivity': 0.5154414675993138, 'NPV': 0.5993233841704635, 'Specificity': 0.634078051033368, 'Accuracy': 0.5787196699100875}\n",
      "รอบแรกใช้ categorical ('emp_length', 'home_ownership', 'verification_status') และ numerical ['loan_amnt', 'installment', 'annual_inc', 'total_acc'] ได้ Model ที่มี 0\n",
      "รอบแรกใช้ categorical ('emp_length', 'home_ownership', 'verification_status') และ numerical ['loan_amnt', 'installment', 'pub_rec', 'total_acc'] ได้ Model ที่มี 0\n",
      "รอบแรกใช้ categorical ('emp_length', 'home_ownership', 'verification_status') และ numerical ['loan_amnt', 'annual_inc', 'pub_rec', 'total_acc'] ได้ Model ที่มี {'PPV': 0.5581157940790433, 'Sensitivity': 0.5050811666886631, 'NPV': 0.6002558362647905, 'Specificity': 0.6501558711465188, 'Accuracy': 0.582460894198793}\n",
      "รอบแรกใช้ categorical ('emp_length', 'home_ownership', 'verification_status') และ numerical ['int_rate', 'installment', 'annual_inc', 'pub_rec'] ได้ Model ที่มี {'PPV': 0.6051297994714752, 'Sensitivity': 0.6422066781047908, 'NPV': 0.6692591575929484, 'Specificity': 0.633385290382173, 'Accuracy': 0.6375015395984727}\n",
      "รอบแรกใช้ categorical ('emp_length', 'home_ownership', 'verification_status') และ numerical ['int_rate', 'installment', 'annual_inc', 'total_acc'] ได้ Model ที่มี 0\n",
      "รอบแรกใช้ categorical ('emp_length', 'home_ownership', 'verification_status') และ numerical ['int_rate', 'installment', 'pub_rec', 'total_acc'] ได้ Model ที่มี 0\n",
      "รอบแรกใช้ categorical ('emp_length', 'home_ownership', 'verification_status') และ numerical ['int_rate', 'annual_inc', 'pub_rec', 'total_acc'] ได้ Model ที่มี {'PPV': 0.6194917230123572, 'Sensitivity': 0.6136663587171703, 'NPV': 0.6647771192991497, 'Specificity': 0.6702459300311743, 'Accuracy': 0.6438446853060722}\n",
      "รอบแรกใช้ categorical ('emp_length', 'home_ownership', 'verification_status') และ numerical ['installment', 'annual_inc', 'pub_rec', 'total_acc'] ได้ Model ที่มี 0\n",
      "รอบแรกใช้ categorical ('emp_length', 'home_ownership', 'verification_status') และ numerical ['loan_amnt', 'int_rate', 'installment', 'annual_inc', 'pub_rec'] ได้ Model ที่มี {'PPV': 0.610327743902439, 'Sensitivity': 0.6340900092384849, 'NPV': 0.6685990915610805, 'Specificity': 0.64582611707655, 'Accuracy': 0.6403497967730016}\n",
      "รอบแรกใช้ categorical ('emp_length', 'home_ownership', 'verification_status') และ numerical ['loan_amnt', 'int_rate', 'installment', 'annual_inc', 'total_acc'] ได้ Model ที่มี {'PPV': 0.6025943035457522, 'Sensitivity': 0.6498944173155603, 'NPV': 0.6711297071129707, 'Specificity': 0.6250432975406996, 'Accuracy': 0.6366393644537505}\n"
     ]
    },
    {
     "name": "stdout",
     "output_type": "stream",
     "text": [
      "รอบแรกใช้ categorical ('emp_length', 'home_ownership', 'verification_status') และ numerical ['loan_amnt', 'int_rate', 'installment', 'pub_rec', 'total_acc'] ได้ Model ที่มี {'PPV': 0.6047401555363535, 'Sensitivity': 0.6465619638379306, 'NPV': 0.6708860759493671, 'Specificity': 0.6302967324789285, 'Accuracy': 0.6378864392166523}\n",
      "รอบแรกใช้ categorical ('emp_length', 'home_ownership', 'verification_status') และ numerical ['loan_amnt', 'int_rate', 'annual_inc', 'pub_rec', 'total_acc'] ได้ Model ที่มี {'PPV': 0.6216715355427958, 'Sensitivity': 0.6108618186617395, 'NPV': 0.6646669130818004, 'Specificity': 0.674777739291075, 'Accuracy': 0.6449531962064293}\n",
      "รอบแรกใช้ categorical ('emp_length', 'home_ownership', 'verification_status') และ numerical ['loan_amnt', 'installment', 'annual_inc', 'pub_rec', 'total_acc'] ได้ Model ที่มี {'PPV': 0.5505161554801923, 'Sensitivity': 0.4873960670450046, 'NPV': 0.5924342191558015, 'Specificity': 0.6518589077473733, 'Accuracy': 0.5751170094839266}\n",
      "รอบแรกใช้ categorical ('emp_length', 'home_ownership', 'verification_status') และ numerical ['int_rate', 'installment', 'annual_inc', 'pub_rec', 'total_acc'] ได้ Model ที่มี {'PPV': 0.583014917560848, 'Sensitivity': 0.7350204566451102, 'NPV': 0.6996858873681848, 'Specificity': 0.5400935226879113, 'Accuracy': 0.631050621997783}\n",
      "รอบแรกใช้ categorical ('emp_length', 'home_ownership', 'verification_status') และ numerical ['loan_amnt', 'int_rate', 'installment', 'annual_inc', 'pub_rec', 'total_acc'] ได้ Model ที่มี {'PPV': 0.5954515569900185, 'Sensitivity': 0.6574171835818926, 'NPV': 0.6702762781835503, 'Specificity': 0.60925412769888, 'Accuracy': 0.6317280453257791}\n",
      "รอบแรกใช้ categorical ('emp_length', 'home_ownership', 'grade') และ numerical ['loan_amnt'] ได้ Model ที่มี {'PPV': 0.6181763446614932, 'Sensitivity': 0.6097729972284546, 'NPV': 0.6626255134641716, 'Specificity': 0.6705057152753724, 'Accuracy': 0.6421665229708092}\n",
      "รอบแรกใช้ categorical ('emp_length', 'home_ownership', 'grade') และ numerical ['int_rate'] ได้ Model ที่มี {'PPV': 0.6183043991235463, 'Sensitivity': 0.6051867493731028, 'NPV': 0.6608949471476748, 'Specificity': 0.6731612977716199, 'Accuracy': 0.6414429116886317}\n",
      "รอบแรกใช้ categorical ('emp_length', 'home_ownership', 'grade') และ numerical ['installment'] ได้ Model ที่มี {'PPV': 0.5734148879149983, 'Sensitivity': 0.6000725880955523, 'NPV': 0.6352941176470588, 'Specificity': 0.6094561828888119, 'Accuracy': 0.605077595763025}\n",
      "รอบแรกใช้ categorical ('emp_length', 'home_ownership', 'grade') และ numerical ['annual_inc'] ได้ Model ที่มี {'PPV': 0.6229861860189986, 'Sensitivity': 0.5907351194404118, 'NPV': 0.657471073923729, 'Specificity': 0.6872474310125851, 'Accuracy': 0.6422127109249908}\n",
      "รอบแรกใช้ categorical ('emp_length', 'home_ownership', 'grade') และ numerical ['pub_rec'] ได้ Model ที่มี {'PPV': 0.6219406653511961, 'Sensitivity': 0.592780783951432, 'NPV': 0.6577845556633856, 'Specificity': 0.6847650386791364, 'Accuracy': 0.6418432072915383}\n",
      "รอบแรกใช้ categorical ('emp_length', 'home_ownership', 'grade') และ numerical ['total_acc'] ได้ Model ที่มี {'PPV': 0.6191826128041578, 'Sensitivity': 0.60535172231754, 'NPV': 0.6613629285694063, 'Specificity': 0.6742870338298118, 'Accuracy': 0.6421203350166277}\n",
      "รอบแรกใช้ categorical ('emp_length', 'home_ownership', 'grade') และ numerical ['loan_amnt', 'int_rate'] ได้ Model ที่มี {'PPV': 0.6243822075782537, 'Sensitivity': 0.6002375610399895, 'NPV': 0.6617154344427072, 'Specificity': 0.6841011430550745, 'Accuracy': 0.6449685921911565}\n",
      "รอบแรกใช้ categorical ('emp_length', 'home_ownership', 'grade') และ numerical ['loan_amnt', 'installment'] ได้ Model ที่มี {'PPV': 0.5894207910092932, 'Sensitivity': 0.7198759403457833, 'NPV': 0.6960910652920962, 'Specificity': 0.5613093176307585, 'Accuracy': 0.6352999137824855}\n",
      "รอบแรกใช้ categorical ('emp_length', 'home_ownership', 'grade') และ numerical ['loan_amnt', 'annual_inc'] ได้ Model ที่มี {'PPV': 0.6187847152512882, 'Sensitivity': 0.6101689322951036, 'NPV': 0.663063936576741, 'Specificity': 0.6711407458723011, 'Accuracy': 0.6426899864515334}\n",
      "รอบแรกใช้ categorical ('emp_length', 'home_ownership', 'grade') และ numerical ['loan_amnt', 'pub_rec'] ได้ Model ที่มี {'PPV': 0.6195765592917971, 'Sensitivity': 0.6073313976507853, 'NPV': 0.662315920892092, 'Specificity': 0.6737674633414156, 'Accuracy': 0.6427669663751694}\n",
      "รอบแรกใช้ categorical ('emp_length', 'home_ownership', 'grade') และ numerical ['loan_amnt', 'total_acc'] ได้ Model ที่มี {'PPV': 0.6166897278777097, 'Sensitivity': 0.6176257093836611, 'NPV': 0.6650384415284121, 'Specificity': 0.6641554093060847, 'Accuracy': 0.6424436506958985}\n",
      "รอบแรกใช้ categorical ('emp_length', 'home_ownership', 'grade') และ numerical ['int_rate', 'installment'] ได้ Model ที่มี {'PPV': 0.6036397002599786, 'Sensitivity': 0.6511812062821697, 'NPV': 0.672257184487088, 'Specificity': 0.6259381133818266, 'Accuracy': 0.6377170833846533}\n",
      "รอบแรกใช้ categorical ('emp_length', 'home_ownership', 'grade') และ numerical ['int_rate', 'annual_inc'] ได้ Model ที่มี {'PPV': 0.6196716881713166, 'Sensitivity': 0.6053187277286525, 'NPV': 0.6615741526622532, 'Specificity': 0.6749797944810069, 'Accuracy': 0.6424744426653529}\n",
      "รอบแรกใช้ categorical ('emp_length', 'home_ownership', 'grade') และ numerical ['int_rate', 'pub_rec'] ได้ Model ที่มี {'PPV': 0.6197211694639957, 'Sensitivity': 0.6042629008842549, 'NPV': 0.6611864406779661, 'Specificity': 0.6756148250779356, 'Accuracy': 0.6423204828180811}\n",
      "รอบแรกใช้ categorical ('emp_length', 'home_ownership', 'grade') และ numerical ['int_rate', 'total_acc'] ได้ Model ที่มี {'PPV': 0.6150362019373822, 'Sensitivity': 0.61379833707272, 'NPV': 0.6627287134418671, 'Specificity': 0.6638956240618866, 'Accuracy': 0.6405191526050006}\n",
      "รอบแรกใช้ categorical ('emp_length', 'home_ownership', 'grade') และ numerical ['installment', 'annual_inc'] ได้ Model ที่มี {'PPV': 0.6169478018329128, 'Sensitivity': 0.6130394615283093, 'NPV': 0.6633367780456999, 'Specificity': 0.6670130469922642, 'Accuracy': 0.6418278113068112}\n",
      "รอบแรกใช้ categorical ('emp_length', 'home_ownership', 'grade') และ numerical ['installment', 'pub_rec'] ได้ Model ที่มี {'PPV': 0.6157936195352501, 'Sensitivity': 0.6190444767058202, 'NPV': 0.6651780535900708, 'Specificity': 0.6621059923796329, 'Accuracy': 0.6420125631235374}\n",
      "รอบแรกใช้ categorical ('emp_length', 'home_ownership', 'grade') และ numerical ['installment', 'total_acc'] ได้ Model ที่มี {'PPV': 0.5737155621742368, 'Sensitivity': 0.6101359377062162, 'NPV': 0.6388753056234718, 'Specificity': 0.6033945271908555, 'Accuracy': 0.6065402143121074}\n",
      "รอบแรกใช้ categorical ('emp_length', 'home_ownership', 'grade') และ numerical ['annual_inc', 'pub_rec'] ได้ Model ที่มี {'PPV': 0.6235929445593856, 'Sensitivity': 0.5867427741850336, 'NPV': 0.6562371346233018, 'Specificity': 0.6901627987530309, 'Accuracy': 0.6419047912304471}\n",
      "รอบแรกใช้ categorical ('emp_length', 'home_ownership', 'grade') และ numerical ['annual_inc', 'total_acc'] ได้ Model ที่มี {'PPV': 0.6162029187859446, 'Sensitivity': 0.6115876996172628, 'NPV': 0.6624128932350664, 'Specificity': 0.666753261748066, 'Accuracy': 0.6410118241162704}\n",
      "รอบแรกใช้ categorical ('emp_length', 'home_ownership', 'grade') และ numerical ['pub_rec', 'total_acc'] ได้ Model ที่มี {'PPV': 0.6191707200925202, 'Sensitivity': 0.6006005015177511, 'NPV': 0.659522403172728, 'Specificity': 0.6768271562175269, 'Accuracy': 0.6412581598719054}\n",
      "รอบแรกใช้ categorical ('emp_length', 'home_ownership', 'grade') และ numerical ['loan_amnt', 'int_rate', 'installment'] ได้ Model ที่มี {'PPV': 0.6117631967160542, 'Sensitivity': 0.6294047776164708, 'NPV': 0.6673970980159906, 'Specificity': 0.6505599815263826, 'Accuracy': 0.6406885084369996}\n",
      "รอบแรกใช้ categorical ('emp_length', 'home_ownership', 'grade') และ numerical ['loan_amnt', 'int_rate', 'annual_inc'] ได้ Model ที่มี {'PPV': 0.6212367643641916, 'Sensitivity': 0.6175267256169988, 'NPV': 0.6671356783919598, 'Specificity': 0.6706211753839049, 'Accuracy': 0.645846163320606}\n",
      "รอบแรกใช้ categorical ('emp_length', 'home_ownership', 'grade') และ numerical ['loan_amnt', 'int_rate', 'pub_rec'] ได้ Model ที่มี {'PPV': 0.6246401644962303, 'Sensitivity': 0.6013923716510492, 'NPV': 0.6622777591412278, 'Specificity': 0.6838413578108763, 'Accuracy': 0.6453688877940633}\n"
     ]
    },
    {
     "name": "stdout",
     "output_type": "stream",
     "text": [
      "รอบแรกใช้ categorical ('emp_length', 'home_ownership', 'grade') และ numerical ['loan_amnt', 'int_rate', 'total_acc'] ได้ Model ที่มี {'PPV': 0.6236409739831186, 'Sensitivity': 0.5923848488847829, 'NPV': 0.6583801122694467, 'Specificity': 0.6872474310125851, 'Accuracy': 0.6429825101613499}\n",
      "รอบแรกใช้ categorical ('emp_length', 'home_ownership', 'grade') และ numerical ['loan_amnt', 'installment', 'annual_inc'] ได้ Model ที่มี {'PPV': 0.5916289914413262, 'Sensitivity': 0.6865184109805992, 'NPV': 0.680992512507135, 'Specificity': 0.5854404803140515, 'Accuracy': 0.6326056164552285}\n",
      "รอบแรกใช้ categorical ('emp_length', 'home_ownership', 'grade') และ numerical ['loan_amnt', 'installment', 'pub_rec'] ได้ Model ที่มี {'PPV': 0.5963695521876873, 'Sensitivity': 0.6894219348026923, 'NPV': 0.6853418017716865, 'Specificity': 0.5917907862833391, 'Accuracy': 0.6373475797512009}\n",
      "รอบแรกใช้ categorical ('emp_length', 'home_ownership', 'grade') และ numerical ['loan_amnt', 'installment', 'total_acc'] ได้ Model ที่มี {'PPV': 0.583733305509182, 'Sensitivity': 0.7383529101227398, 'NPV': 0.7020589119326721, 'Specificity': 0.5393718970095832, 'Accuracy': 0.632220716837049}\n",
      "รอบแรกใช้ categorical ('emp_length', 'home_ownership', 'grade') และ numerical ['loan_amnt', 'annual_inc', 'pub_rec'] ได้ Model ที่มี {'PPV': 0.6275664935336563, 'Sensitivity': 0.5940015837402666, 'NPV': 0.6606921273955605, 'Specificity': 0.6916060501096871, 'Accuracy': 0.6460617071067866}\n",
      "รอบแรกใช้ categorical ('emp_length', 'home_ownership', 'grade') และ numerical ['loan_amnt', 'annual_inc', 'total_acc'] ได้ Model ที่มี {'PPV': 0.616190631630488, 'Sensitivity': 0.6228388544278738, 'NPV': 0.6668997872774427, 'Specificity': 0.6606050109687103, 'Accuracy': 0.6429825101613499}\n",
      "รอบแรกใช้ categorical ('emp_length', 'home_ownership', 'grade') และ numerical ['loan_amnt', 'pub_rec', 'total_acc'] ได้ Model ที่มี {'PPV': 0.6197967005499083, 'Sensitivity': 0.6136003695393956, 'NPV': 0.664892551578104, 'Specificity': 0.6707077704653043, 'Accuracy': 0.6440602290922527}\n",
      "รอบแรกใช้ categorical ('emp_length', 'home_ownership', 'grade') และ numerical ['int_rate', 'installment', 'annual_inc'] ได้ Model ที่มี {'PPV': 0.6110698485484548, 'Sensitivity': 0.6243566055166953, 'NPV': 0.6649992643813447, 'Specificity': 0.6523496132086364, 'Accuracy': 0.6392874738268259}\n",
      "รอบแรกใช้ categorical ('emp_length', 'home_ownership', 'grade') และ numerical ['int_rate', 'installment', 'pub_rec'] ได้ Model ที่มี {'PPV': 0.6038192076384152, 'Sensitivity': 0.6426686023492147, 'NPV': 0.6687465590016517, 'Specificity': 0.631104953238656, 'Accuracy': 0.6365008005912058}\n",
      "รอบแรกใช้ categorical ('emp_length', 'home_ownership', 'grade') และ numerical ['int_rate', 'installment', 'total_acc'] ได้ Model ที่มี {'PPV': 0.6043666247585171, 'Sensitivity': 0.6502903523822093, 'NPV': 0.6722735846139575, 'Specificity': 0.6275834199284147, 'Accuracy': 0.6381789629264688}\n",
      "รอบแรกใช้ categorical ('emp_length', 'home_ownership', 'grade') และ numerical ['int_rate', 'annual_inc', 'pub_rec'] ได้ Model ที่มี {'PPV': 0.6184201770147069, 'Sensitivity': 0.6132374290616339, 'NPV': 0.6641068256060519, 'Specificity': 0.6689758688373167, 'Accuracy': 0.6429671141766228}\n",
      "รอบแรกใช้ categorical ('emp_length', 'home_ownership', 'grade') และ numerical ['int_rate', 'annual_inc', 'total_acc'] ได้ Model ที่มี {'PPV': 0.6172835404345803, 'Sensitivity': 0.613006466939422, 'NPV': 0.6634819532908705, 'Specificity': 0.6675037524535273, 'Accuracy': 0.6420741470624461}\n",
      "รอบแรกใช้ categorical ('emp_length', 'home_ownership', 'grade') และ numerical ['int_rate', 'pub_rec', 'total_acc'] ได้ Model ที่มี {'PPV': 0.6109609703978379, 'Sensitivity': 0.6414807971492675, 'NPV': 0.6720193178388167, 'Specificity': 0.6426509640919063, 'Accuracy': 0.6421049390319005}\n",
      "รอบแรกใช้ categorical ('emp_length', 'home_ownership', 'grade') และ numerical ['installment', 'annual_inc', 'pub_rec'] ได้ Model ที่มี {'PPV': 0.6110392967942089, 'Sensitivity': 0.6238616866833839, 'NPV': 0.6647847565278758, 'Specificity': 0.6525805334257014, 'Accuracy': 0.6391797019337356}\n",
      "รอบแรกใช้ categorical ('emp_length', 'home_ownership', 'grade') และ numerical ['installment', 'annual_inc', 'total_acc'] ได้ Model ที่มี {'PPV': 0.5951660752719447, 'Sensitivity': 0.6751682724033259, 'NPV': 0.6779522407589139, 'Specificity': 0.5982276873340261, 'Accuracy': 0.6341298189432196}\n",
      "รอบแรกใช้ categorical ('emp_length', 'home_ownership', 'grade') และ numerical ['installment', 'pub_rec', 'total_acc'] ได้ Model ที่มี {'PPV': 0.5889874086221752, 'Sensitivity': 0.699155338524482, 'NPV': 0.6853149266609145, 'Specificity': 0.5731728437824731, 'Accuracy': 0.6319589850966868}\n",
      "รอบแรกใช้ categorical ('emp_length', 'home_ownership', 'grade') และ numerical ['annual_inc', 'pub_rec', 'total_acc'] ได้ Model ที่มี {'PPV': 0.622504159733777, 'Sensitivity': 0.5925168272403326, 'NPV': 0.6579326390427653, 'Specificity': 0.6856598545202632, 'Accuracy': 0.6421973149402636}\n",
      "รอบแรกใช้ categorical ('emp_length', 'home_ownership', 'grade') และ numerical ['loan_amnt', 'int_rate', 'installment', 'annual_inc'] ได้ Model ที่มี {'PPV': 0.6033507662369253, 'Sensitivity': 0.6547116272931239, 'NPV': 0.673621506986028, 'Specificity': 0.6234557210483778, 'Accuracy': 0.6380403990639242}\n",
      "รอบแรกใช้ categorical ('emp_length', 'home_ownership', 'grade') และ numerical ['loan_amnt', 'int_rate', 'installment', 'pub_rec'] ได้ Model ที่มี {'PPV': 0.603823975720789, 'Sensitivity': 0.6564603405041574, 'NPV': 0.6746453346665834, 'Specificity': 0.6231959358041796, 'Accuracy': 0.6387178223919202}\n",
      "รอบแรกใช้ categorical ('emp_length', 'home_ownership', 'grade') และ numerical ['loan_amnt', 'int_rate', 'installment', 'total_acc'] ได้ Model ที่มี {'PPV': 0.5838159545224052, 'Sensitivity': 0.7217566319123664, 'NPV': 0.6931557690208493, 'Specificity': 0.5498787668860409, 'Accuracy': 0.6300806749599704}\n",
      "รอบแรกใช้ categorical ('emp_length', 'home_ownership', 'grade') และ numerical ['loan_amnt', 'int_rate', 'annual_inc', 'pub_rec'] ได้ Model ที่มี {'PPV': 0.6242997677278317, 'Sensitivity': 0.6030421010954203, 'NPV': 0.6627704899652428, 'Specificity': 0.6825135665627525, 'Accuracy': 0.6454304717329721}\n",
      "รอบแรกใช้ categorical ('emp_length', 'home_ownership', 'grade') และ numerical ['loan_amnt', 'int_rate', 'annual_inc', 'total_acc'] ได้ Model ที่มี {'PPV': 0.6194200944032366, 'Sensitivity': 0.6061765870397254, 'NPV': 0.6617930409157883, 'Specificity': 0.6741715737212793, 'Accuracy': 0.6424436506958985}\n",
      "รอบแรกใช้ categorical ('emp_length', 'home_ownership', 'grade') และ numerical ['loan_amnt', 'int_rate', 'pub_rec', 'total_acc'] ได้ Model ที่มี {'PPV': 0.6207362377575144, 'Sensitivity': 0.6064405437508249, 'NPV': 0.6624978778790108, 'Specificity': 0.6758457452950006, 'Accuracy': 0.6434597856878926}\n",
      "รอบแรกใช้ categorical ('emp_length', 'home_ownership', 'grade') และ numerical ['loan_amnt', 'installment', 'annual_inc', 'pub_rec'] ได้ Model ที่มี {'PPV': 0.6156887088342917, 'Sensitivity': 0.6217830275834763, 'NPV': 0.6662299091544375, 'Specificity': 0.6604606858330447, 'Accuracy': 0.6424128587264442}\n",
      "รอบแรกใช้ categorical ('emp_length', 'home_ownership', 'grade') และ numerical ['loan_amnt', 'installment', 'annual_inc', 'total_acc'] ได้ Model ที่มี {'PPV': 0.5830417994765348, 'Sensitivity': 0.742345255378118, 'NPV': 0.7037894018131472, 'Specificity': 0.5355617134280106, 'Accuracy': 0.6320513610050499}\n",
      "รอบแรกใช้ categorical ('emp_length', 'home_ownership', 'grade') และ numerical ['loan_amnt', 'installment', 'pub_rec', 'total_acc'] ได้ Model ที่มี {'PPV': 0.5775794684731631, 'Sensitivity': 0.292563019664775, 'NPV': 0.5677217741935484, 'Specificity': 0.8128102990416811, 'Accuracy': 0.5700517305086833}\n",
      "รอบแรกใช้ categorical ('emp_length', 'home_ownership', 'grade') และ numerical ['loan_amnt', 'annual_inc', 'pub_rec', 'total_acc'] ได้ Model ที่มี {'PPV': 0.6175673469387755, 'Sensitivity': 0.624026659627821, 'NPV': 0.6680455618026626, 'Specificity': 0.661932802216834, 'Accuracy': 0.644244980908979}\n",
      "รอบแรกใช้ categorical ('emp_length', 'home_ownership', 'grade') และ numerical ['int_rate', 'installment', 'annual_inc', 'pub_rec'] ได้ Model ที่มี {'PPV': 0.6087944442666496, 'Sensitivity': 0.6276560644054375, 'NPV': 0.665183207239282, 'Specificity': 0.6471539083246738, 'Accuracy': 0.6380557950486513}\n"
     ]
    },
    {
     "name": "stdout",
     "output_type": "stream",
     "text": [
      "รอบแรกใช้ categorical ('emp_length', 'home_ownership', 'grade') และ numerical ['int_rate', 'installment', 'annual_inc', 'total_acc'] ได้ Model ที่มี {'PPV': 0.6087240703154563, 'Sensitivity': 0.5838392503629405, 'NPV': 0.6484965025220857, 'Specificity': 0.6716891813878305, 'Accuracy': 0.6306965143490577}\n",
      "รอบแรกใช้ categorical ('emp_length', 'home_ownership', 'grade') และ numerical ['int_rate', 'installment', 'pub_rec', 'total_acc'] ได้ Model ที่มี {'PPV': 0.6019863438857852, 'Sensitivity': 0.6399630460604461, 'NPV': 0.6666259318098496, 'Specificity': 0.6298348920447985, 'Accuracy': 0.6345609065155807}\n",
      "รอบแรกใช้ categorical ('emp_length', 'home_ownership', 'grade') และ numerical ['int_rate', 'annual_inc', 'pub_rec', 'total_acc'] ได้ Model ที่มี {'PPV': 0.611332135523614, 'Sensitivity': 0.6286788966609476, 'NPV': 0.6668837319441155, 'Specificity': 0.6503290613093177, 'Accuracy': 0.6402266288951841}\n",
      "รอบแรกใช้ categorical ('emp_length', 'home_ownership', 'grade') และ numerical ['installment', 'annual_inc', 'pub_rec', 'total_acc'] ได้ Model ที่มี {'PPV': 0.5957327839905827, 'Sensitivity': 0.6679094628480929, 'NPV': 0.6750290585044556, 'Specificity': 0.6034811222722549, 'Accuracy': 0.6335447715235867}\n",
      "รอบแรกใช้ categorical ('emp_length', 'home_ownership', 'grade') และ numerical ['loan_amnt', 'int_rate', 'installment', 'annual_inc', 'pub_rec'] ได้ Model ที่มี {'PPV': 0.6183518604805964, 'Sensitivity': 0.613006466939422, 'NPV': 0.6639832693519738, 'Specificity': 0.6690047338644498, 'Accuracy': 0.6428747382682597}\n",
      "รอบแรกใช้ categorical ('emp_length', 'home_ownership', 'grade') และ numerical ['loan_amnt', 'int_rate', 'installment', 'annual_inc', 'total_acc'] ได้ Model ที่มี {'PPV': 0.6099351639969489, 'Sensitivity': 0.6331991553385244, 'NPV': 0.6680303392259914, 'Specificity': 0.6457395219951507, 'Accuracy': 0.6398879172311861}\n",
      "รอบแรกใช้ categorical ('emp_length', 'home_ownership', 'grade') และ numerical ['loan_amnt', 'int_rate', 'installment', 'pub_rec', 'total_acc'] ได้ Model ที่มี {'PPV': 0.6069994982438535, 'Sensitivity': 0.6386432625049492, 'NPV': 0.6687636099685459, 'Specificity': 0.6382634799676712, 'Accuracy': 0.6384406946668308}\n",
      "รอบแรกใช้ categorical ('emp_length', 'home_ownership', 'grade') และ numerical ['loan_amnt', 'int_rate', 'annual_inc', 'pub_rec', 'total_acc'] ได้ Model ที่มี {'PPV': 0.6180958944570247, 'Sensitivity': 0.6214200871057146, 'NPV': 0.6672370290884835, 'Specificity': 0.6640976792518185, 'Accuracy': 0.6441833969700702}\n",
      "รอบแรกใช้ categorical ('emp_length', 'home_ownership', 'grade') และ numerical ['loan_amnt', 'installment', 'annual_inc', 'pub_rec', 'total_acc'] ได้ Model ที่มี {'PPV': 0.5631353398445286, 'Sensitivity': 0.7457436980335225, 'NPV': 0.689474532559639, 'Specificity': 0.4938806142477774, 'Accuracy': 0.6114053454858973}\n",
      "รอบแรกใช้ categorical ('emp_length', 'home_ownership', 'grade') และ numerical ['int_rate', 'installment', 'annual_inc', 'pub_rec', 'total_acc'] ได้ Model ที่มี {'PPV': 0.5695054655372395, 'Sensitivity': 0.5346113237429062, 'NPV': 0.6135722308977837, 'Specificity': 0.6464611476734788, 'Accuracy': 0.5942696144845424}\n",
      "รอบแรกใช้ categorical ('emp_length', 'home_ownership', 'grade') และ numerical ['loan_amnt', 'int_rate', 'installment', 'annual_inc', 'pub_rec', 'total_acc'] ได้ Model ที่มี {'PPV': 0.6043765743073047, 'Sensitivity': 0.6333311336940741, 'NPV': 0.6651904073270668, 'Specificity': 0.637310934072278, 'Accuracy': 0.6354538736297574}\n",
      "รอบแรกใช้ categorical ('emp_length', 'home_ownership', 'addr_state') และ numerical ['loan_amnt'] ได้ Model ที่มี {'PPV': 0.5655336474678622, 'Sensitivity': 0.4078791078263165, 'NPV': 0.5835518529691597, 'Specificity': 0.725868837316707, 'Accuracy': 0.5774879911319128}\n",
      "รอบแรกใช้ categorical ('emp_length', 'home_ownership', 'addr_state') และ numerical ['int_rate'] ได้ Model ที่มี {'PPV': 0.6207130040288452, 'Sensitivity': 0.6049227926620034, 'NPV': 0.6618946773965834, 'Specificity': 0.676625101027595, 'Accuracy': 0.6431672619780762}\n",
      "รอบแรกใช้ categorical ('emp_length', 'home_ownership', 'addr_state') และ numerical ['installment'] ได้ Model ที่มี {'PPV': 0.5535500938726745, 'Sensitivity': 0.42803880163653163, 'NPV': 0.5824501397051739, 'Specificity': 0.6979852211061078, 'Accuracy': 0.5720224165537627}\n",
      "รอบแรกใช้ categorical ('emp_length', 'home_ownership', 'addr_state') และ numerical ['annual_inc'] ได้ Model ที่มี {'PPV': 0.535559305689489, 'Sensitivity': 0.439784875280454, 'NPV': 0.5762030750798722, 'Specificity': 0.6663491513682023, 'Accuracy': 0.5606293878556472}\n",
      "รอบแรกใช้ categorical ('emp_length', 'home_ownership', 'addr_state') และ numerical ['pub_rec'] ได้ Model ที่มี {'PPV': 0.5355926571974416, 'Sensitivity': 0.4254982182922001, 'NPV': 0.5740079267994324, 'Specificity': 0.6772312665973906, 'Accuracy': 0.559767212710925}\n",
      "รอบแรกใช้ categorical ('emp_length', 'home_ownership', 'addr_state') และ numerical ['total_acc'] ได้ Model ที่มี {'PPV': 0.5245493476745344, 'Sensitivity': 0.5213474990101623, 'NPV': 0.5834792845042924, 'Specificity': 0.5865950813993766, 'Accuracy': 0.5561491563000369}\n",
      "รอบแรกใช้ categorical ('emp_length', 'home_ownership', 'addr_state') และ numerical ['loan_amnt', 'int_rate'] ได้ Model ที่มี {'PPV': 0.6249745641999593, 'Sensitivity': 0.6080242840174211, 'NPV': 0.6650312975807816, 'Specificity': 0.6808105299618982, 'Accuracy': 0.6468469023278729}\n",
      "รอบแรกใช้ categorical ('emp_length', 'home_ownership', 'addr_state') และ numerical ['loan_amnt', 'installment'] ได้ Model ที่มี {'PPV': 0.5563252229630271, 'Sensitivity': 0.4239804672033786, 'NPV': 0.582883356429493, 'Specificity': 0.7041912019397298, 'Accuracy': 0.5734388471486637}\n",
      "รอบแรกใช้ categorical ('emp_length', 'home_ownership', 'addr_state') และ numerical ['loan_amnt', 'annual_inc'] ได้ Model ที่มี {'PPV': 0.5639814496736517, 'Sensitivity': 0.43335093044740663, 'NPV': 0.5877976190476191, 'Specificity': 0.7069045144902436, 'Accuracy': 0.5792585293755389}\n",
      "รอบแรกใช้ categorical ('emp_length', 'home_ownership', 'addr_state') และ numerical ['loan_amnt', 'pub_rec'] ได้ Model ที่มี {'PPV': 0.5709257629787431, 'Sensitivity': 0.4067572918041441, 'NPV': 0.5853225397264697, 'Specificity': 0.7325655236115922, 'Accuracy': 0.5805363961078951}\n",
      "รอบแรกใช้ categorical ('emp_length', 'home_ownership', 'addr_state') และ numerical ['loan_amnt', 'total_acc'] ได้ Model ที่มี {'PPV': 0.5575869913219311, 'Sensitivity': 0.4367163785139237, 'NPV': 0.585771825107973, 'Specificity': 0.696859485047916, 'Accuracy': 0.5754711171326518}\n",
      "รอบแรกใช้ categorical ('emp_length', 'home_ownership', 'addr_state') และ numerical ['int_rate', 'installment'] ได้ Model ที่มี {'PPV': 0.611925416292751, 'Sensitivity': 0.6074633760063349, 'NPV': 0.658769539652947, 'Specificity': 0.6629719431936266, 'Accuracy': 0.6370704520261116}\n",
      "รอบแรกใช้ categorical ('emp_length', 'home_ownership', 'addr_state') และ numerical ['int_rate', 'annual_inc'] ได้ Model ที่มี {'PPV': 0.6214029385875821, 'Sensitivity': 0.6056156790286393, 'NPV': 0.6624781159993223, 'Specificity': 0.6772024015702575, 'Accuracy': 0.6437984973518907}\n",
      "รอบแรกใช้ categorical ('emp_length', 'home_ownership', 'addr_state') และ numerical ['int_rate', 'pub_rec'] ได้ Model ที่มี {'PPV': 0.6207931476360693, 'Sensitivity': 0.6073973868285601, 'NPV': 0.6628987478044082, 'Specificity': 0.6754127698880037, 'Accuracy': 0.6436753294740731}\n",
      "รอบแรกใช้ categorical ('emp_length', 'home_ownership', 'addr_state') และ numerical ['int_rate', 'total_acc'] ได้ Model ที่มี {'PPV': 0.6153491739616929, 'Sensitivity': 0.6169328230170252, 'NPV': 0.6641208123589655, 'Specificity': 0.6626255628680291, 'Accuracy': 0.6413043478260869}\n",
      "รอบแรกใช้ categorical ('emp_length', 'home_ownership', 'addr_state') และ numerical ['installment', 'annual_inc'] ได้ Model ที่มี {'PPV': 0.5564013511584757, 'Sensitivity': 0.3858717170384057, 'NPV': 0.5763321421255093, 'Specificity': 0.7308624870107377, 'Accuracy': 0.5698823746766843}\n",
      "รอบแรกใช้ categorical ('emp_length', 'home_ownership', 'addr_state') และ numerical ['installment', 'pub_rec'] ได้ Model ที่มี {'PPV': 0.5573165030388032, 'Sensitivity': 0.3933284941269632, 'NPV': 0.5779119416004774, 'Specificity': 0.7266770580764346, 'Accuracy': 0.5711294494395861}\n",
      "รอบแรกใช้ categorical ('emp_length', 'home_ownership', 'addr_state') และ numerical ['installment', 'total_acc'] ได้ Model ที่มี {'PPV': 0.5451232073528247, 'Sensitivity': 0.4540055430909331, 'NPV': 0.5832787710904055, 'Specificity': 0.668571758457453, 'Accuracy': 0.5684505480970563}\n"
     ]
    },
    {
     "name": "stdout",
     "output_type": "stream",
     "text": [
      "รอบแรกใช้ categorical ('emp_length', 'home_ownership', 'addr_state') และ numerical ['annual_inc', 'pub_rec'] ได้ Model ที่มี {'PPV': 0.5342260732571879, 'Sensitivity': 0.4475386036689983, 'NPV': 0.5767655831353319, 'Specificity': 0.6586421891236578, 'Accuracy': 0.5601367163443773}\n",
      "รอบแรกใช้ categorical ('emp_length', 'home_ownership', 'addr_state') และ numerical ['annual_inc', 'total_acc'] ได้ Model ที่มี {'PPV': 0.5306704165399817, 'Sensitivity': 0.46070344463507984, 'NPV': 0.5769927536231884, 'Specificity': 0.6435457799330332, 'Accuracy': 0.5582276142382067}\n",
      "รอบแรกใช้ categorical ('emp_length', 'home_ownership', 'addr_state') และ numerical ['pub_rec', 'total_acc'] ได้ Model ที่มี {'PPV': 0.5290896380301383, 'Sensitivity': 0.4494852844133562, 'NPV': 0.5744056728905214, 'Specificity': 0.6500115460108532, 'Accuracy': 0.5564416800098534}\n",
      "รอบแรกใช้ categorical ('emp_length', 'home_ownership', 'addr_state') และ numerical ['loan_amnt', 'int_rate', 'installment'] ได้ Model ที่มี {'PPV': 0.6089876197447567, 'Sensitivity': 0.6313514583608288, 'NPV': 0.6667859592615788, 'Specificity': 0.64536427664242, 'Accuracy': 0.6388255942850105}\n",
      "รอบแรกใช้ categorical ('emp_length', 'home_ownership', 'addr_state') และ numerical ['loan_amnt', 'int_rate', 'annual_inc'] ได้ Model ที่มี {'PPV': 0.6255467468562056, 'Sensitivity': 0.6039989441731556, 'NPV': 0.6636964806097287, 'Specificity': 0.6836970326752108, 'Accuracy': 0.6465081906638749}\n",
      "รอบแรกใช้ categorical ('emp_length', 'home_ownership', 'addr_state') และ numerical ['loan_amnt', 'int_rate', 'pub_rec'] ได้ Model ที่มี {'PPV': 0.6282911898716567, 'Sensitivity': 0.5960142536623994, 'NPV': 0.6617772989696418, 'Specificity': 0.6915194550282877, 'Accuracy': 0.6469546742209632}\n",
      "รอบแรกใช้ categorical ('emp_length', 'home_ownership', 'addr_state') และ numerical ['loan_amnt', 'int_rate', 'total_acc'] ได้ Model ที่มี {'PPV': 0.6176822380224599, 'Sensitivity': 0.613402402006071, 'NPV': 0.6638262466287944, 'Specificity': 0.6678501327791249, 'Accuracy': 0.6424436506958985}\n",
      "รอบแรกใช้ categorical ('emp_length', 'home_ownership', 'addr_state') และ numerical ['loan_amnt', 'installment', 'annual_inc'] ได้ Model ที่มี {'PPV': 0.5578422600025565, 'Sensitivity': 0.4319651577141349, 'NPV': 0.5849866210254803, 'Specificity': 0.7004676134395567, 'Accuracy': 0.5751785934228353}\n",
      "รอบแรกใช้ categorical ('emp_length', 'home_ownership', 'addr_state') และ numerical ['loan_amnt', 'installment', 'pub_rec'] ได้ Model ที่มี {'PPV': 0.554354552580552, 'Sensitivity': 0.44334829088029565, 'NPV': 0.585611475450102, 'Specificity': 0.6881999769079783, 'Accuracy': 0.5739469146446606}\n",
      "รอบแรกใช้ categorical ('emp_length', 'home_ownership', 'addr_state') และ numerical ['loan_amnt', 'installment', 'total_acc'] ได้ Model ที่มี {'PPV': 0.5457837358912131, 'Sensitivity': 0.46746733535700147, 'NPV': 0.5860795527402354, 'Specificity': 0.6596524650733172, 'Accuracy': 0.5699747505850474}\n",
      "รอบแรกใช้ categorical ('emp_length', 'home_ownership', 'addr_state') และ numerical ['loan_amnt', 'annual_inc', 'pub_rec'] ได้ Model ที่มี {'PPV': 0.5681696188942565, 'Sensitivity': 0.4190972680480401, 'NPV': 0.5866748051460231, 'Specificity': 0.7213370280568063, 'Accuracy': 0.5803054563369873}\n",
      "รอบแรกใช้ categorical ('emp_length', 'home_ownership', 'addr_state') และ numerical ['loan_amnt', 'annual_inc', 'total_acc'] ได้ Model ที่มี {'PPV': 0.557368291279691, 'Sensitivity': 0.4475056090801109, 'NPV': 0.5877443497956572, 'Specificity': 0.6890947927491052, 'Accuracy': 0.5763640842468284}\n",
      "รอบแรกใช้ categorical ('emp_length', 'home_ownership', 'addr_state') และ numerical ['loan_amnt', 'pub_rec', 'total_acc'] ได้ Model ที่มี {'PPV': 0.5498581795410175, 'Sensitivity': 0.4925102283225551, 'NPV': 0.5931490543578891, 'Specificity': 0.6472693684332064, 'Accuracy': 0.5750554255450179}\n",
      "รอบแรกใช้ categorical ('emp_length', 'home_ownership', 'addr_state') และ numerical ['int_rate', 'installment', 'annual_inc'] ได้ Model ที่มี {'PPV': 0.6069238867901158, 'Sensitivity': 0.6466939421934803, 'NPV': 0.6721170922897912, 'Specificity': 0.6335873455721048, 'Accuracy': 0.6397031654144599}\n",
      "รอบแรกใช้ categorical ('emp_length', 'home_ownership', 'addr_state') และ numerical ['int_rate', 'installment', 'pub_rec'] ได้ Model ที่มี {'PPV': 0.6104584344272762, 'Sensitivity': 0.6309225287052923, 'NPV': 0.667360532889259, 'Specificity': 0.6477889389216026, 'Accuracy': 0.6399187092006404}\n",
      "รอบแรกใช้ categorical ('emp_length', 'home_ownership', 'addr_state') และ numerical ['int_rate', 'installment', 'total_acc'] ได้ Model ที่มี {'PPV': 0.5804358763869396, 'Sensitivity': 0.723208393823413, 'NPV': 0.6914561035712972, 'Specificity': 0.5426625101027595, 'Accuracy': 0.6269091021061707}\n",
      "รอบแรกใช้ categorical ('emp_length', 'home_ownership', 'addr_state') และ numerical ['int_rate', 'annual_inc', 'pub_rec'] ได้ Model ที่มี {'PPV': 0.6230942777056129, 'Sensitivity': 0.6014253662399367, 'NPV': 0.6616056921956412, 'Specificity': 0.6817342108301582, 'Accuracy': 0.6442603768937061}\n",
      "รอบแรกใช้ categorical ('emp_length', 'home_ownership', 'addr_state') และ numerical ['int_rate', 'annual_inc', 'total_acc'] ได้ Model ที่มี {'PPV': 0.6176098478372372, 'Sensitivity': 0.5959482644846246, 'NPV': 0.6570420365754613, 'Specificity': 0.6772024015702575, 'Accuracy': 0.6392874738268259}\n",
      "รอบแรกใช้ categorical ('emp_length', 'home_ownership', 'addr_state') และ numerical ['int_rate', 'pub_rec', 'total_acc'] ได้ Model ที่มี {'PPV': 0.6163952688312965, 'Sensitivity': 0.6207272007390788, 'NPV': 0.6661438819668322, 'Specificity': 0.6620482623253666, 'Accuracy': 0.6427669663751694}\n",
      "รอบแรกใช้ categorical ('emp_length', 'home_ownership', 'addr_state') และ numerical ['installment', 'annual_inc', 'pub_rec'] ได้ Model ที่มี {'PPV': 0.5535239629480467, 'Sensitivity': 0.45347762966873434, 'NPV': 0.5871591645481282, 'Specificity': 0.6800023092021706, 'Accuracy': 0.5743010222933859}\n",
      "รอบแรกใช้ categorical ('emp_length', 'home_ownership', 'addr_state') และ numerical ['installment', 'annual_inc', 'total_acc'] ได้ Model ที่มี {'PPV': 0.5550929780738274, 'Sensitivity': 0.2639567110993797, 'NPV': 0.5586070439256035, 'Specificity': 0.8149174460223992, 'Accuracy': 0.5578273186352999}\n",
      "รอบแรกใช้ categorical ('emp_length', 'home_ownership', 'addr_state') และ numerical ['installment', 'pub_rec', 'total_acc'] ได้ Model ที่มี {'PPV': 0.526421611589421, 'Sensitivity': 0.33690774712947075, 'NPV': 0.55884096147514, 'Specificity': 0.7348458607551092, 'Accuracy': 0.5491593792338958}\n",
      "รอบแรกใช้ categorical ('emp_length', 'home_ownership', 'addr_state') และ numerical ['annual_inc', 'pub_rec', 'total_acc'] ได้ Model ที่มี {'PPV': 0.5283200236616385, 'Sensitivity': 0.471492675201267, 'NPV': 0.5774060785141409, 'Specificity': 0.6317399838355848, 'Accuracy': 0.5569651434905777}\n",
      "รอบแรกใช้ categorical ('emp_length', 'home_ownership', 'addr_state') และ numerical ['loan_amnt', 'int_rate', 'installment', 'annual_inc'] ได้ Model ที่มี {'PPV': 0.6093740169864738, 'Sensitivity': 0.6391711759271479, 'NPV': 0.6702249562752548, 'Specificity': 0.6415540930608474, 'Accuracy': 0.6404421726813647}\n",
      "รอบแรกใช้ categorical ('emp_length', 'home_ownership', 'addr_state') และ numerical ['loan_amnt', 'int_rate', 'installment', 'pub_rec'] ได้ Model ที่มี {'PPV': 0.6135450483751728, 'Sensitivity': 0.62980071268312, 'NPV': 0.6684495139032535, 'Specificity': 0.652955778778432, 'Accuracy': 0.642151126986082}\n",
      "รอบแรกใช้ categorical ('emp_length', 'home_ownership', 'addr_state') และ numerical ['loan_amnt', 'int_rate', 'installment', 'total_acc'] ได้ Model ที่มี 0\n",
      "รอบแรกใช้ categorical ('emp_length', 'home_ownership', 'addr_state') และ numerical ['loan_amnt', 'int_rate', 'annual_inc', 'pub_rec'] ได้ Model ที่มี {'PPV': 0.629158615844019, 'Sensitivity': 0.5909000923848489, 'NPV': 0.6601803382026475, 'Specificity': 0.6953007735827271, 'Accuracy': 0.6465851705875107}\n",
      "รอบแรกใช้ categorical ('emp_length', 'home_ownership', 'addr_state') และ numerical ['loan_amnt', 'int_rate', 'annual_inc', 'total_acc'] ได้ Model ที่มี {'PPV': 0.6218811301923804, 'Sensitivity': 0.5962122211957239, 'NPV': 0.6590611505780749, 'Specificity': 0.6828599468883501, 'Accuracy': 0.6424282547111714}\n",
      "รอบแรกใช้ categorical ('emp_length', 'home_ownership', 'addr_state') และ numerical ['loan_amnt', 'int_rate', 'pub_rec', 'total_acc'] ได้ Model ที่มี {'PPV': 0.621299013070152, 'Sensitivity': 0.6148211693282302, 'NPV': 0.6660755148741418, 'Specificity': 0.6721510218219605, 'Accuracy': 0.6453996797635176}\n"
     ]
    },
    {
     "name": "stdout",
     "output_type": "stream",
     "text": [
      "รอบแรกใช้ categorical ('emp_length', 'home_ownership', 'addr_state') และ numerical ['loan_amnt', 'installment', 'annual_inc', 'pub_rec'] ได้ Model ที่มี {'PPV': 0.5500021674108111, 'Sensitivity': 0.4186353438036162, 'NPV': 0.5793042523219445, 'Specificity': 0.7003521533310242, 'Accuracy': 0.5688970316541446}\n",
      "รอบแรกใช้ categorical ('emp_length', 'home_ownership', 'addr_state') และ numerical ['loan_amnt', 'installment', 'annual_inc', 'total_acc'] ได้ Model ที่มี {'PPV': 0.5514974433893353, 'Sensitivity': 0.39857463376006336, 'NPV': 0.5765656941089017, 'Specificity': 0.716429973444175, 'Accuracy': 0.5681118364330583}\n",
      "รอบแรกใช้ categorical ('emp_length', 'home_ownership', 'addr_state') และ numerical ['loan_amnt', 'installment', 'pub_rec', 'total_acc'] ได้ Model ที่มี {'PPV': 0.5132077897037085, 'Sensitivity': 0.5269235845321367, 'NPV': 0.5762250990128274, 'Specificity': 0.5627525689874149, 'Accuracy': 0.5460339943342776}\n",
      "รอบแรกใช้ categorical ('emp_length', 'home_ownership', 'addr_state') และ numerical ['loan_amnt', 'annual_inc', 'pub_rec', 'total_acc'] ได้ Model ที่มี {'PPV': 0.5480732976396954, 'Sensitivity': 0.47960934406757294, 'NPV': 0.5895914650013011, 'Specificity': 0.6540237847823577, 'Accuracy': 0.5726382559428501}\n",
      "รอบแรกใช้ categorical ('emp_length', 'home_ownership', 'addr_state') และ numerical ['int_rate', 'installment', 'annual_inc', 'pub_rec'] ได้ Model ที่มี {'PPV': 0.6078102167086403, 'Sensitivity': 0.6450112181602218, 'NPV': 0.6718716642776541, 'Specificity': 0.6358965477427548, 'Accuracy': 0.6401496489715482}\n",
      "รอบแรกใช้ categorical ('emp_length', 'home_ownership', 'addr_state') และ numerical ['int_rate', 'installment', 'annual_inc', 'total_acc'] ได้ Model ที่มี {'PPV': 0.5999404761904762, 'Sensitivity': 0.665104922792662, 'NPV': 0.67625669813728, 'Specificity': 0.6119963052765269, 'Accuracy': 0.6367779283162951}\n",
      "รอบแรกใช้ categorical ('emp_length', 'home_ownership', 'addr_state') และ numerical ['int_rate', 'installment', 'pub_rec', 'total_acc'] ได้ Model ที่มี {'PPV': 0.6019538242164982, 'Sensitivity': 0.654645638115349, 'NPV': 0.6728142290019068, 'Specificity': 0.6212908440133934, 'Accuracy': 0.6368549082399311}\n",
      "รอบแรกใช้ categorical ('emp_length', 'home_ownership', 'addr_state') และ numerical ['int_rate', 'annual_inc', 'pub_rec', 'total_acc'] ได้ Model ที่มี {'PPV': 0.6168576104746317, 'Sensitivity': 0.6217830275834763, 'NPV': 0.6667926283355619, 'Specificity': 0.6621348574067659, 'Accuracy': 0.6433058258406208}\n",
      "รอบแรกใช้ categorical ('emp_length', 'home_ownership', 'addr_state') และ numerical ['installment', 'annual_inc', 'pub_rec', 'total_acc'] ได้ Model ที่มี {'PPV': 0.5539768565987989, 'Sensitivity': 0.37435660551669525, 'NPV': 0.5736097681635223, 'Specificity': 0.7363179771388985, 'Accuracy': 0.567419017120335}\n",
      "รอบแรกใช้ categorical ('emp_length', 'home_ownership', 'addr_state') และ numerical ['loan_amnt', 'int_rate', 'installment', 'annual_inc', 'pub_rec'] ได้ Model ที่มี {'PPV': 0.6104709734290391, 'Sensitivity': 0.639798073116009, 'NPV': 0.6710558033023984, 'Specificity': 0.6428530192818381, 'Accuracy': 0.6414275157039044}\n",
      "รอบแรกใช้ categorical ('emp_length', 'home_ownership', 'addr_state') และ numerical ['loan_amnt', 'int_rate', 'installment', 'annual_inc', 'total_acc'] ได้ Model ที่มี {'PPV': 0.551719248493442, 'Sensitivity': 0.7702916721657648, 'NPV': 0.6924504130405973, 'Specificity': 0.4524593003117423, 'Accuracy': 0.6007667200394137}\n",
      "รอบแรกใช้ categorical ('emp_length', 'home_ownership', 'addr_state') และ numerical ['loan_amnt', 'int_rate', 'installment', 'pub_rec', 'total_acc'] ได้ Model ที่มี {'PPV': 0.6126129096063823, 'Sensitivity': 0.6131384452949716, 'NPV': 0.6613033681899589, 'Specificity': 0.6608070661586422, 'Accuracy': 0.6385638625446484}\n",
      "รอบแรกใช้ categorical ('emp_length', 'home_ownership', 'addr_state') และ numerical ['loan_amnt', 'int_rate', 'annual_inc', 'pub_rec', 'total_acc'] ได้ Model ที่มี {'PPV': 0.6199369635193133, 'Sensitivity': 0.6100369539395539, 'NPV': 0.663544750626281, 'Specificity': 0.6728149174460224, 'Accuracy': 0.6435213696268013}\n",
      "รอบแรกใช้ categorical ('emp_length', 'home_ownership', 'addr_state') และ numerical ['loan_amnt', 'installment', 'annual_inc', 'pub_rec', 'total_acc'] ได้ Model ที่มี {'PPV': 0.5456559874434493, 'Sensitivity': 0.3899960406493335, 'NPV': 0.572926772926773, 'Specificity': 0.7159104029557788, 'Accuracy': 0.5638317526789013}\n",
      "รอบแรกใช้ categorical ('emp_length', 'home_ownership', 'addr_state') และ numerical ['int_rate', 'installment', 'annual_inc', 'pub_rec', 'total_acc'] ได้ Model ที่มี {'PPV': 0.555797633825653, 'Sensitivity': 0.7238682856011615, 'NPV': 0.6715334196789513, 'Specificity': 0.4938806142477774, 'Accuracy': 0.6011978076117749}\n",
      "รอบแรกใช้ categorical ('emp_length', 'home_ownership', 'addr_state') และ numerical ['loan_amnt', 'int_rate', 'installment', 'annual_inc', 'pub_rec', 'total_acc'] ได้ Model ที่มี {'PPV': 0.5999645306218965, 'Sensitivity': 0.6697241652369011, 'NPV': 0.6783419023136247, 'Specificity': 0.6093407227802794, 'Accuracy': 0.6375169355831999}\n",
      "รอบแรกใช้ categorical ('emp_length', 'verification_status', 'grade') และ numerical ['loan_amnt'] ได้ Model ที่มี {'PPV': 0.6176640893763412, 'Sensitivity': 0.598323874884519, 'NPV': 0.6579664540780491, 'Specificity': 0.6759900704306662, 'Accuracy': 0.6397493533686415}\n",
      "รอบแรกใช้ categorical ('emp_length', 'verification_status', 'grade') และ numerical ['int_rate'] ได้ Model ที่มี {'PPV': 0.6124157248477348, 'Sensitivity': 0.6203972548502046, 'NPV': 0.6640777832929429, 'Specificity': 0.6565061771158065, 'Accuracy': 0.6396569774602784}\n",
      "รอบแรกใช้ categorical ('emp_length', 'verification_status', 'grade') และ numerical ['installment'] ได้ Model ที่มี {'PPV': 0.5946636889894508, 'Sensitivity': 0.6677114953147684, 'NPV': 0.6742990200834384, 'Specificity': 0.6018358157256668, 'Accuracy': 0.6325748244857741}\n",
      "รอบแรกใช้ categorical ('emp_length', 'verification_status', 'grade') และ numerical ['annual_inc'] ได้ Model ที่มี {'PPV': 0.6078406210901158, 'Sensitivity': 0.6251484756499934, 'NPV': 0.6636866877830733, 'Specificity': 0.6471539083246738, 'Accuracy': 0.6368857002093854}\n",
      "รอบแรกใช้ categorical ('emp_length', 'verification_status', 'grade') และ numerical ['pub_rec'] ได้ Model ที่มี {'PPV': 0.6049246484645943, 'Sensitivity': 0.6330671769829748, 'NPV': 0.6653728109767106, 'Specificity': 0.6382923449948043, 'Accuracy': 0.6358541692326641}\n",
      "รอบแรกใช้ categorical ('emp_length', 'verification_status', 'grade') และ numerical ['total_acc'] ได้ Model ที่มี {'PPV': 0.6082816004160302, 'Sensitivity': 0.6174937310281113, 'NPV': 0.6608746526254206, 'Specificity': 0.6521186929915714, 'Accuracy': 0.6359619411257544}\n",
      "รอบแรกใช้ categorical ('emp_length', 'verification_status', 'grade') และ numerical ['loan_amnt', 'int_rate'] ได้ Model ที่มี {'PPV': 0.6191645365263017, 'Sensitivity': 0.6073973868285601, 'NPV': 0.662152186257808, 'Specificity': 0.6731612977716199, 'Accuracy': 0.6424744426653529}\n",
      "รอบแรกใช้ categorical ('emp_length', 'verification_status', 'grade') และ numerical ['loan_amnt', 'installment'] ได้ Model ที่มี {'PPV': 0.6127265925245723, 'Sensitivity': 0.5944305133958031, 'NPV': 0.6542237475034459, 'Specificity': 0.6713139360350999, 'Accuracy': 0.6354384776450301}\n",
      "รอบแรกใช้ categorical ('emp_length', 'verification_status', 'grade') และ numerical ['loan_amnt', 'annual_inc'] ได้ Model ที่มี {'PPV': 0.6193057080131723, 'Sensitivity': 0.5956843077735251, 'NPV': 0.6577094972067039, 'Specificity': 0.6796559288765731, 'Accuracy': 0.640472964650819}\n",
      "รอบแรกใช้ categorical ('emp_length', 'verification_status', 'grade') และ numerical ['loan_amnt', 'pub_rec'] ได้ Model ที่มี {'PPV': 0.6164278317800714, 'Sensitivity': 0.6088821433284941, 'NPV': 0.6614593745537627, 'Specificity': 0.6685428934303198, 'Accuracy': 0.6407039044217269}\n",
      "รอบแรกใช้ categorical ('emp_length', 'verification_status', 'grade') และ numerical ['loan_amnt', 'total_acc'] ได้ Model ที่มี {'PPV': 0.6182723218915276, 'Sensitivity': 0.5901412168404382, 'NPV': 0.6551647558504289, 'Specificity': 0.681243505368895, 'Accuracy': 0.6387332183766473}\n",
      "รอบแรกใช้ categorical ('emp_length', 'verification_status', 'grade') และ numerical ['int_rate', 'installment'] ได้ Model ที่มี 0\n"
     ]
    },
    {
     "name": "stdout",
     "output_type": "stream",
     "text": [
      "รอบแรกใช้ categorical ('emp_length', 'verification_status', 'grade') และ numerical ['int_rate', 'annual_inc'] ได้ Model ที่มี {'PPV': 0.6153311948146434, 'Sensitivity': 0.6139303154282698, 'NPV': 0.6629216719960822, 'Specificity': 0.6642420043874842, 'Accuracy': 0.6407654883606355}\n",
      "รอบแรกใช้ categorical ('emp_length', 'verification_status', 'grade') และ numerical ['int_rate', 'pub_rec'] ได้ Model ที่มี {'PPV': 0.6163291181475427, 'Sensitivity': 0.6094760459284677, 'NPV': 0.6616448929418828, 'Specificity': 0.6680810529961898, 'Accuracy': 0.6407346963911812}\n",
      "รอบแรกใช้ categorical ('emp_length', 'verification_status', 'grade') และ numerical ['int_rate', 'total_acc'] ได้ Model ที่มี {'PPV': 0.6097428177945745, 'Sensitivity': 0.6281509832387489, 'NPV': 0.6658661685789676, 'Specificity': 0.6482796443828657, 'Accuracy': 0.6388871782239192}\n",
      "รอบแรกใช้ categorical ('emp_length', 'verification_status', 'grade') และ numerical ['installment', 'annual_inc'] ได้ Model ที่มี {'PPV': 0.5908521985198084, 'Sensitivity': 0.7164774976903788, 'NPV': 0.6952836879432625, 'Specificity': 0.5659565869991918, 'Accuracy': 0.6361928808966621}\n",
      "รอบแรกใช้ categorical ('emp_length', 'verification_status', 'grade') และ numerical ['installment', 'pub_rec'] ได้ Model ที่มี {'PPV': 0.5811235037390572, 'Sensitivity': 0.7512537943777221, 'NPV': 0.7074618757518141, 'Specificity': 0.5262671746911443, 'Accuracy': 0.6312507697992363}\n",
      "รอบแรกใช้ categorical ('emp_length', 'verification_status', 'grade') และ numerical ['installment', 'total_acc'] ได้ Model ที่มี {'PPV': 0.5830538788285267, 'Sensitivity': 0.6883991025471823, 'NPV': 0.676220515633571, 'Specificity': 0.5693337951737675, 'Accuracy': 0.6248922281069097}\n",
      "รอบแรกใช้ categorical ('emp_length', 'verification_status', 'grade') และ numerical ['annual_inc', 'pub_rec'] ได้ Model ที่มี {'PPV': 0.6073014149286148, 'Sensitivity': 0.6273591131054507, 'NPV': 0.6642986653984484, 'Specificity': 0.6451044913982219, 'Accuracy': 0.6368241162704766}\n",
      "รอบแรกใช้ categorical ('emp_length', 'verification_status', 'grade') และ numerical ['annual_inc', 'total_acc'] ได้ Model ที่มี {'PPV': 0.5999878967593573, 'Sensitivity': 0.6542497030487, 'NPV': 0.6715355922640504, 'Specificity': 0.6184043413000808, 'Accuracy': 0.6351305579504866}\n",
      "รอบแรกใช้ categorical ('emp_length', 'verification_status', 'grade') และ numerical ['pub_rec', 'total_acc'] ได้ Model ที่มี {'PPV': 0.6166696604993713, 'Sensitivity': 0.5663521182526066, 'NPV': 0.6459034943556861, 'Specificity': 0.6920101604895509, 'Accuracy': 0.6333754156915876}\n",
      "รอบแรกใช้ categorical ('emp_length', 'verification_status', 'grade') และ numerical ['loan_amnt', 'int_rate', 'installment'] ได้ Model ที่มี {'PPV': 0.6114533424595027, 'Sensitivity': 0.6189784875280454, 'NPV': 0.6630387207843366, 'Specificity': 0.6559000115460109, 'Accuracy': 0.6386716344377387}\n",
      "รอบแรกใช้ categorical ('emp_length', 'verification_status', 'grade') และ numerical ['loan_amnt', 'int_rate', 'annual_inc'] ได้ Model ที่มี {'PPV': 0.6182074332483564, 'Sensitivity': 0.608090273195196, 'NPV': 0.6619806488332385, 'Specificity': 0.6714582611707655, 'Accuracy': 0.6418893952457199}\n",
      "รอบแรกใช้ categorical ('emp_length', 'verification_status', 'grade') และ numerical ['loan_amnt', 'int_rate', 'pub_rec'] ได้ Model ที่มี {'PPV': 0.6195515755910587, 'Sensitivity': 0.6026461660287713, 'NPV': 0.6604832116376759, 'Specificity': 0.6762498556748643, 'Accuracy': 0.6419047912304471}\n",
      "รอบแรกใช้ categorical ('emp_length', 'verification_status', 'grade') และ numerical ['loan_amnt', 'int_rate', 'total_acc'] ได้ Model ที่มี {'PPV': 0.6174256365643925, 'Sensitivity': 0.6088491487396067, 'NPV': 0.6619135890489092, 'Specificity': 0.669957279759843, 'Accuracy': 0.6414429116886317}\n",
      "รอบแรกใช้ categorical ('emp_length', 'verification_status', 'grade') และ numerical ['loan_amnt', 'installment', 'annual_inc'] ได้ Model ที่มี {'PPV': 0.6132546981207517, 'Sensitivity': 0.6072654084730105, 'NPV': 0.6593302804808243, 'Specificity': 0.6649636300658123, 'Accuracy': 0.6380403990639242}\n",
      "รอบแรกใช้ categorical ('emp_length', 'verification_status', 'grade') และ numerical ['loan_amnt', 'installment', 'pub_rec'] ได้ Model ที่มี {'PPV': 0.6118508655126498, 'Sensitivity': 0.6064405437508249, 'NPV': 0.6583409715857012, 'Specificity': 0.6634337836277566, 'Accuracy': 0.6368395122552039}\n",
      "รอบแรกใช้ categorical ('emp_length', 'verification_status', 'grade') และ numerical ['loan_amnt', 'installment', 'total_acc'] ได้ Model ที่มี {'PPV': 0.6007710238479469, 'Sensitivity': 0.6632902204038538, 'NPV': 0.6759288663067641, 'Specificity': 0.6143921025285763, 'Accuracy': 0.6372090158886562}\n",
      "รอบแรกใช้ categorical ('emp_length', 'verification_status', 'grade') และ numerical ['loan_amnt', 'annual_inc', 'pub_rec'] ได้ Model ที่มี {'PPV': 0.619253316877507, 'Sensitivity': 0.595981259073512, 'NPV': 0.6577983958863147, 'Specificity': 0.6794250086595082, 'Accuracy': 0.6404883606355463}\n",
      "รอบแรกใช้ categorical ('emp_length', 'verification_status', 'grade') และ numerical ['loan_amnt', 'annual_inc', 'total_acc'] ได้ Model ที่มี {'PPV': 0.6063299033364515, 'Sensitivity': 0.6415797809159298, 'NPV': 0.6696368834012529, 'Specificity': 0.6355790324442905, 'Accuracy': 0.6383791107279222}\n",
      "รอบแรกใช้ categorical ('emp_length', 'verification_status', 'grade') และ numerical ['loan_amnt', 'pub_rec', 'total_acc'] ได้ Model ที่มี {'PPV': 0.6122863983731838, 'Sensitivity': 0.6159429853504025, 'NPV': 0.6622464672257203, 'Specificity': 0.6587865142593234, 'Accuracy': 0.6387948023155561}\n",
      "รอบแรกใช้ categorical ('emp_length', 'verification_status', 'grade') และ numerical ['int_rate', 'installment', 'annual_inc'] ได้ Model ที่มี {'PPV': 0.6115902607311086, 'Sensitivity': 0.6083212353174079, 'NPV': 0.6589381141182554, 'Specificity': 0.6620193972982334, 'Accuracy': 0.6369626801330213}\n",
      "รอบแรกใช้ categorical ('emp_length', 'verification_status', 'grade') และ numerical ['int_rate', 'installment', 'pub_rec'] ได้ Model ที่มี {'PPV': 0.6086204081632653, 'Sensitivity': 0.6149861422726672, 'NPV': 0.6600635068604889, 'Specificity': 0.6540237847823577, 'Accuracy': 0.6358079812784826}\n",
      "รอบแรกใช้ categorical ('emp_length', 'verification_status', 'grade') และ numerical ['int_rate', 'installment', 'total_acc'] ได้ Model ที่มี {'PPV': 0.5941778354229716, 'Sensitivity': 0.6801834499142141, 'NPV': 0.6796443798129358, 'Specificity': 0.5935804179655929, 'Accuracy': 0.633991255080675}\n",
      "รอบแรกใช้ categorical ('emp_length', 'verification_status', 'grade') และ numerical ['int_rate', 'annual_inc', 'pub_rec'] ได้ Model ที่มี {'PPV': 0.6135938883242074, 'Sensitivity': 0.617460736439224, 'NPV': 0.6634835863350071, 'Specificity': 0.6598256552361159, 'Accuracy': 0.6400572730631852}\n",
      "รอบแรกใช้ categorical ('emp_length', 'verification_status', 'grade') และ numerical ['int_rate', 'annual_inc', 'total_acc'] ได้ Model ที่มี {'PPV': 0.6060144296554297, 'Sensitivity': 0.6429655536492015, 'NPV': 0.6700512257592389, 'Specificity': 0.634308971250433, 'Accuracy': 0.6383483187584678}\n",
      "รอบแรกใช้ categorical ('emp_length', 'verification_status', 'grade') และ numerical ['int_rate', 'pub_rec', 'total_acc'] ได้ Model ที่มี {'PPV': 0.6128629204616447, 'Sensitivity': 0.6149861422726672, 'NPV': 0.6621500332956948, 'Specificity': 0.6601431705345803, 'Accuracy': 0.6390719300406454}\n",
      "รอบแรกใช้ categorical ('emp_length', 'verification_status', 'grade') และ numerical ['installment', 'annual_inc', 'pub_rec'] ได้ Model ที่มี {'PPV': 0.5900157558669873, 'Sensitivity': 0.7042694998020325, 'NPV': 0.6885143353605561, 'Specificity': 0.5718739175614825, 'Accuracy': 0.633652543416677}\n",
      "รอบแรกใช้ categorical ('emp_length', 'verification_status', 'grade') และ numerical ['installment', 'annual_inc', 'total_acc'] ได้ Model ที่มี {'PPV': 0.6017942410649689, 'Sensitivity': 0.4116734855483701, 'NPV': 0.596757050136819, 'Specificity': 0.7616903359889158, 'Accuracy': 0.5983649464219731}\n",
      "รอบแรกใช้ categorical ('emp_length', 'verification_status', 'grade') และ numerical ['installment', 'pub_rec', 'total_acc'] ได้ Model ที่มี {'PPV': 0.5855807993999812, 'Sensitivity': 0.6182526065725221, 'NPV': 0.6488938791612296, 'Specificity': 0.6172208751876227, 'Accuracy': 0.6177023032393152}\n",
      "รอบแรกใช้ categorical ('emp_length', 'verification_status', 'grade') และ numerical ['annual_inc', 'pub_rec', 'total_acc'] ได้ Model ที่มี {'PPV': 0.610814262190409, 'Sensitivity': 0.5997096476177907, 'NPV': 0.6552919448785339, 'Specificity': 0.6657141207712736, 'Accuracy': 0.634915014164306}\n"
     ]
    },
    {
     "name": "stdout",
     "output_type": "stream",
     "text": [
      "รอบแรกใช้ categorical ('emp_length', 'verification_status', 'grade') และ numerical ['loan_amnt', 'int_rate', 'installment', 'annual_inc'] ได้ Model ที่มี {'PPV': 0.6049701418263249, 'Sensitivity': 0.6417777484492543, 'NPV': 0.6689939024390243, 'Specificity': 0.633385290382173, 'Accuracy': 0.6373013917970194}\n",
      "รอบแรกใช้ categorical ('emp_length', 'verification_status', 'grade') และ numerical ['loan_amnt', 'int_rate', 'installment', 'pub_rec'] ได้ Model ที่มี {'PPV': 0.6083691696989745, 'Sensitivity': 0.6068034842285865, 'NPV': 0.6567882034445021, 'Specificity': 0.6582669437709271, 'Accuracy': 0.634252986821037}\n",
      "รอบแรกใช้ categorical ('emp_length', 'verification_status', 'grade') และ numerical ['loan_amnt', 'int_rate', 'installment', 'total_acc'] ได้ Model ที่มี {'PPV': 0.5983552631578948, 'Sensitivity': 0.6601887290484361, 'NPV': 0.6731721249047982, 'Specificity': 0.6123138205749913, 'Accuracy': 0.6346532824239438}\n",
      "รอบแรกใช้ categorical ('emp_length', 'verification_status', 'grade') และ numerical ['loan_amnt', 'int_rate', 'annual_inc', 'pub_rec'] ได้ Model ที่มี {'PPV': 0.6174916387959867, 'Sensitivity': 0.609179094628481, 'NPV': 0.6620734908136483, 'Specificity': 0.6698706846784436, 'Accuracy': 0.6415506835817218}\n",
      "รอบแรกใช้ categorical ('emp_length', 'verification_status', 'grade') และ numerical ['loan_amnt', 'int_rate', 'annual_inc', 'total_acc'] ได้ Model ที่มี {'PPV': 0.6169001026456078, 'Sensitivity': 0.6147221855615679, 'NPV': 0.6639808926361831, 'Specificity': 0.6660316360697379, 'Accuracy': 0.6420895430471733}\n",
      "รอบแรกใช้ categorical ('emp_length', 'verification_status', 'grade') และ numerical ['loan_amnt', 'int_rate', 'pub_rec', 'total_acc'] ได้ Model ที่มี {'PPV': 0.6112267443722181, 'Sensitivity': 0.62980071268312, 'NPV': 0.6672893870652077, 'Specificity': 0.6495497055767232, 'Accuracy': 0.6403344007882744}\n",
      "รอบแรกใช้ categorical ('emp_length', 'verification_status', 'grade') และ numerical ['loan_amnt', 'installment', 'annual_inc', 'pub_rec'] ได้ Model ที่มี {'PPV': 0.6122706307860769, 'Sensitivity': 0.6088161541507193, 'NPV': 0.6594571305471779, 'Specificity': 0.6627121579494285, 'Accuracy': 0.6375631235373814}\n",
      "รอบแรกใช้ categorical ('emp_length', 'verification_status', 'grade') และ numerical ['loan_amnt', 'installment', 'annual_inc', 'total_acc'] ได้ Model ที่มี {'PPV': 0.5839687302155303, 'Sensitivity': 0.6999802032466675, 'NPV': 0.6823184152604549, 'Specificity': 0.5637339799099411, 'Accuracy': 0.6273093977090775}\n",
      "รอบแรกใช้ categorical ('emp_length', 'verification_status', 'grade') และ numerical ['loan_amnt', 'installment', 'pub_rec', 'total_acc'] ได้ Model ที่มี {'PPV': 0.5893237410071942, 'Sensitivity': 0.6756961858255246, 'NPV': 0.6745579762929608, 'Specificity': 0.588067197783166, 'Accuracy': 0.6289567680748861}\n",
      "รอบแรกใช้ categorical ('emp_length', 'verification_status', 'grade') และ numerical ['loan_amnt', 'annual_inc', 'pub_rec', 'total_acc'] ได้ Model ที่มี {'PPV': 0.6111468864704745, 'Sensitivity': 0.6262702916721657, 'NPV': 0.6658110580043666, 'Specificity': 0.6513970673132433, 'Accuracy': 0.6396723734450055}\n",
      "รอบแรกใช้ categorical ('emp_length', 'verification_status', 'grade') และ numerical ['int_rate', 'installment', 'annual_inc', 'pub_rec'] ได้ Model ที่มี {'PPV': 0.6027705206877696, 'Sensitivity': 0.6546786327042365, 'NPV': 0.6732846350752326, 'Specificity': 0.6225609052072509, 'Accuracy': 0.6375477275526543}\n",
      "รอบแรกใช้ categorical ('emp_length', 'verification_status', 'grade') และ numerical ['int_rate', 'installment', 'annual_inc', 'total_acc'] ได้ Model ที่มี {'PPV': 0.6010143179639422, 'Sensitivity': 0.6412498350270556, 'NPV': 0.6666257856814349, 'Specificity': 0.6275834199284147, 'Accuracy': 0.6339604631112206}\n",
      "รอบแรกใช้ categorical ('emp_length', 'verification_status', 'grade') และ numerical ['int_rate', 'installment', 'pub_rec', 'total_acc'] ได้ Model ที่มี {'PPV': 0.6125575773414785, 'Sensitivity': 0.6186815362280585, 'NPV': 0.6634634984420954, 'Specificity': 0.6576607782011316, 'Accuracy': 0.6394722256435522}\n",
      "รอบแรกใช้ categorical ('emp_length', 'verification_status', 'grade') และ numerical ['int_rate', 'annual_inc', 'pub_rec', 'total_acc'] ได้ Model ที่มี {'PPV': 0.6122375915378356, 'Sensitivity': 0.6206612115613039, 'NPV': 0.6640955970432699, 'Specificity': 0.6561020667359427, 'Accuracy': 0.6395646015519153}\n",
      "รอบแรกใช้ categorical ('emp_length', 'verification_status', 'grade') และ numerical ['installment', 'annual_inc', 'pub_rec', 'total_acc'] ได้ Model ที่มี {'PPV': 0.588958241272647, 'Sensitivity': 0.7036096080242841, 'NPV': 0.6874826050654049, 'Specificity': 0.5704018011776931, 'Accuracy': 0.632559428501047}\n",
      "รอบแรกใช้ categorical ('emp_length', 'verification_status', 'grade') และ numerical ['loan_amnt', 'int_rate', 'installment', 'annual_inc', 'pub_rec'] ได้ Model ที่มี {'PPV': 0.5766803770789157, 'Sensitivity': 0.7447868549557872, 'NPV': 0.7002983455383781, 'Specificity': 0.5217065004041104, 'Accuracy': 0.6258005912058136}\n",
      "รอบแรกใช้ categorical ('emp_length', 'verification_status', 'grade') และ numerical ['loan_amnt', 'int_rate', 'installment', 'annual_inc', 'total_acc'] ได้ Model ที่มี {'PPV': 0.6095476548155566, 'Sensitivity': 0.6024481984954467, 'NPV': 0.6557133468583022, 'Specificity': 0.662394642650964, 'Accuracy': 0.6344223426530361}\n",
      "รอบแรกใช้ categorical ('emp_length', 'verification_status', 'grade') และ numerical ['loan_amnt', 'int_rate', 'installment', 'pub_rec', 'total_acc'] ได้ Model ที่มี {'PPV': 0.6074990410433448, 'Sensitivity': 0.6270621618054639, 'NPV': 0.664280622549602, 'Specificity': 0.6455663318323519, 'Accuracy': 0.6369318881635669}\n",
      "รอบแรกใช้ categorical ('emp_length', 'verification_status', 'grade') และ numerical ['loan_amnt', 'int_rate', 'annual_inc', 'pub_rec', 'total_acc'] ได้ Model ที่มี {'PPV': 0.6149884278123676, 'Sensitivity': 0.6224759139501121, 'NPV': 0.6661706783369803, 'Specificity': 0.6590751645306546, 'Accuracy': 0.6419971671388102}\n",
      "รอบแรกใช้ categorical ('emp_length', 'verification_status', 'grade') และ numerical ['loan_amnt', 'installment', 'annual_inc', 'pub_rec', 'total_acc'] ได้ Model ที่มี {'PPV': 0.5810765544074828, 'Sensitivity': 0.7440609740002639, 'NPV': 0.7032857743946754, 'Specificity': 0.5307123888696456, 'Accuracy': 0.6302654267766966}\n",
      "รอบแรกใช้ categorical ('emp_length', 'verification_status', 'grade') และ numerical ['int_rate', 'installment', 'annual_inc', 'pub_rec', 'total_acc'] ได้ Model ที่มี {'PPV': 0.6031010683558665, 'Sensitivity': 0.6314174475386036, 'NPV': 0.6637367929923843, 'Specificity': 0.6364738482854174, 'Accuracy': 0.6341144229584924}\n",
      "รอบแรกใช้ categorical ('emp_length', 'verification_status', 'grade') และ numerical ['loan_amnt', 'int_rate', 'installment', 'annual_inc', 'pub_rec', 'total_acc'] ได้ Model ที่มี {'PPV': 0.5680755996096759, 'Sensitivity': 0.7299062953675597, 'NPV': 0.6852748942714341, 'Specificity': 0.514490243620829, 'Accuracy': 0.6150080059120582}\n",
      "รอบแรกใช้ categorical ('emp_length', 'verification_status', 'addr_state') และ numerical ['loan_amnt'] ได้ Model ที่มี {'PPV': 0.5593531789783168, 'Sensitivity': 0.4519598785799129, 'NPV': 0.5895015199070756, 'Specificity': 0.6885174922064426, 'Accuracy': 0.5781346224904544}\n",
      "รอบแรกใช้ categorical ('emp_length', 'verification_status', 'addr_state') และ numerical ['int_rate'] ได้ Model ที่มี {'PPV': 0.6169624721121508, 'Sensitivity': 0.6113237429061634, 'NPV': 0.6626671630251139, 'Specificity': 0.6679655928876573, 'Accuracy': 0.6415352875969947}\n",
      "รอบแรกใช้ categorical ('emp_length', 'verification_status', 'addr_state') และ numerical ['installment'] ได้ Model ที่มี {'PPV': 0.543424317617866, 'Sensitivity': 0.5202586775768774, 'NPV': 0.5953918076580588, 'Specificity': 0.6175961205403533, 'Accuracy': 0.5721763764010346}\n",
      "รอบแรกใช้ categorical ('emp_length', 'verification_status', 'addr_state') และ numerical ['annual_inc'] ได้ Model ที่มี {'PPV': 0.5560072058755601, 'Sensitivity': 0.3971558664379042, 'NPV': 0.5780661847908921, 'Specificity': 0.7225493591963976, 'Accuracy': 0.5707137578519522}\n",
      "รอบแรกใช้ categorical ('emp_length', 'verification_status', 'addr_state') และ numerical ['pub_rec'] ได้ Model ที่มี {'PPV': 0.5548922207537711, 'Sensitivity': 0.4017421142932559, 'NPV': 0.5784138203631798, 'Specificity': 0.7180752799907631, 'Accuracy': 0.5704674220963173}\n"
     ]
    },
    {
     "name": "stdout",
     "output_type": "stream",
     "text": [
      "รอบแรกใช้ categorical ('emp_length', 'verification_status', 'addr_state') และ numerical ['total_acc'] ได้ Model ที่มี {'PPV': 0.5507656612529003, 'Sensitivity': 0.3916127755048172, 'NPV': 0.5751578268282568, 'Specificity': 0.720557672324212, 'Accuracy': 0.5670649094716098}\n",
      "รอบแรกใช้ categorical ('emp_length', 'verification_status', 'addr_state') และ numerical ['loan_amnt', 'int_rate'] ได้ Model ที่มี {'PPV': 0.6180466038671294, 'Sensitivity': 0.6169658176059126, 'NPV': 0.6654177594604721, 'Specificity': 0.6664357464496017, 'Accuracy': 0.6433520137948023}\n",
      "รอบแรกใช้ categorical ('emp_length', 'verification_status', 'addr_state') และ numerical ['loan_amnt', 'installment'] ได้ Model ที่มี {'PPV': 0.550020523153849, 'Sensitivity': 0.4863402402006071, 'NPV': 0.5919586926322963, 'Specificity': 0.6519166378016396, 'Accuracy': 0.5746551299421111}\n",
      "รอบแรกใช้ categorical ('emp_length', 'verification_status', 'addr_state') และ numerical ['loan_amnt', 'annual_inc'] ได้ Model ที่มี {'PPV': 0.5622055854643337, 'Sensitivity': 0.44103866965817606, 'NPV': 0.5885710122401399, 'Specificity': 0.6995439325712967, 'Accuracy': 0.5789198177115409}\n",
      "รอบแรกใช้ categorical ('emp_length', 'verification_status', 'addr_state') และ numerical ['loan_amnt', 'pub_rec'] ได้ Model ที่มี {'PPV': 0.5594041987567927, 'Sensitivity': 0.47211957239012803, 'NPV': 0.5936555507581337, 'Specificity': 0.6746911442096756, 'Accuracy': 0.5801668924744426}\n",
      "รอบแรกใช้ categorical ('emp_length', 'verification_status', 'addr_state') และ numerical ['loan_amnt', 'total_acc'] ได้ Model ที่มี {'PPV': 0.5495258727847427, 'Sensitivity': 0.5105252738550877, 'NPV': 0.5968202201386058, 'Specificity': 0.6338759958434361, 'Accuracy': 0.5763178962926468}\n",
      "รอบแรกใช้ categorical ('emp_length', 'verification_status', 'addr_state') และ numerical ['int_rate', 'installment'] ได้ Model ที่มี {'PPV': 0.6070580788099382, 'Sensitivity': 0.6328362148607628, 'NPV': 0.6663968582306562, 'Specificity': 0.6416406881422468, 'Accuracy': 0.6375323315679271}\n",
      "รอบแรกใช้ categorical ('emp_length', 'verification_status', 'addr_state') และ numerical ['int_rate', 'annual_inc'] ได้ Model ที่มี {'PPV': 0.6183475745138935, 'Sensitivity': 0.6064735383397123, 'NPV': 0.6614148640208937, 'Specificity': 0.6725262671746911, 'Accuracy': 0.6417046434289937}\n",
      "รอบแรกใช้ categorical ('emp_length', 'verification_status', 'addr_state') และ numerical ['int_rate', 'pub_rec'] ได้ Model ที่มี {'PPV': 0.6180053547523428, 'Sensitivity': 0.6092780783951431, 'NPV': 0.6623517335766423, 'Specificity': 0.6705345803025055, 'Accuracy': 0.6419509791846286}\n",
      "รอบแรกใช้ categorical ('emp_length', 'verification_status', 'addr_state') และ numerical ['int_rate', 'total_acc'] ได้ Model ที่มี {'PPV': 0.6175376918396323, 'Sensitivity': 0.6027451497954336, 'NPV': 0.6595985298275374, 'Specificity': 0.673421083015818, 'Accuracy': 0.6404421726813647}\n",
      "รอบแรกใช้ categorical ('emp_length', 'verification_status', 'addr_state') และ numerical ['installment', 'annual_inc'] ได้ Model ที่มี {'PPV': 0.5413033890830139, 'Sensitivity': 0.5264616602877128, 'NPV': 0.5954334038054968, 'Specificity': 0.6097159681330101, 'Accuracy': 0.5708677176992241}\n",
      "รอบแรกใช้ categorical ('emp_length', 'verification_status', 'addr_state') และ numerical ['installment', 'pub_rec'] ได้ Model ที่มี {'PPV': 0.5555369828666945, 'Sensitivity': 0.4386300646693942, 'NPV': 0.5852469406659841, 'Specificity': 0.6929915714120771, 'Accuracy': 0.5743010222933859}\n",
      "รอบแรกใช้ categorical ('emp_length', 'verification_status', 'addr_state') และ numerical ['installment', 'total_acc'] ได้ Model ที่มี {'PPV': 0.5409070923664897, 'Sensitivity': 0.5276824600765474, 'NPV': 0.5954500494559841, 'Specificity': 0.6081861216949543, 'Accuracy': 0.5706213819435891}\n",
      "รอบแรกใช้ categorical ('emp_length', 'verification_status', 'addr_state') และ numerical ['annual_inc', 'pub_rec'] ได้ Model ที่มี {'PPV': 0.5548835940341943, 'Sensitivity': 0.4026329681932163, 'NPV': 0.5785614525139665, 'Specificity': 0.7174402493938344, 'Accuracy': 0.5705444020199532}\n",
      "รอบแรกใช้ categorical ('emp_length', 'verification_status', 'addr_state') และ numerical ['annual_inc', 'total_acc'] ได้ Model ที่มี {'PPV': 0.546793429820466, 'Sensitivity': 0.4250692886366636, 'NPV': 0.5790147616631635, 'Specificity': 0.6917792402724858, 'Accuracy': 0.567326641211972}\n",
      "รอบแรกใช้ categorical ('emp_length', 'verification_status', 'addr_state') และ numerical ['pub_rec', 'total_acc'] ได้ Model ที่มี {'PPV': 0.5469446738232865, 'Sensitivity': 0.43707931899168534, 'NPV': 0.5811401355199843, 'Specificity': 0.6832640572682138, 'Accuracy': 0.5683889641581475}\n",
      "รอบแรกใช้ categorical ('emp_length', 'verification_status', 'addr_state') และ numerical ['loan_amnt', 'int_rate', 'installment'] ได้ Model ที่มี {'PPV': 0.606163096580233, 'Sensitivity': 0.6386432625049492, 'NPV': 0.6683222289521502, 'Specificity': 0.6369934187738137, 'Accuracy': 0.6377632713388348}\n",
      "รอบแรกใช้ categorical ('emp_length', 'verification_status', 'addr_state') และ numerical ['loan_amnt', 'int_rate', 'annual_inc'] ได้ Model ที่มี {'PPV': 0.6209289010137752, 'Sensitivity': 0.6082882407285205, 'NPV': 0.6633107399109498, 'Specificity': 0.6751241196166724, 'Accuracy': 0.6439370612144353}\n",
      "รอบแรกใช้ categorical ('emp_length', 'verification_status', 'addr_state') และ numerical ['loan_amnt', 'int_rate', 'pub_rec'] ได้ Model ที่มี {'PPV': 0.6209601400484783, 'Sensitivity': 0.6085851920285074, 'NPV': 0.6634418974126192, 'Specificity': 0.6750086595081399, 'Accuracy': 0.6440140411380711}\n",
      "รอบแรกใช้ categorical ('emp_length', 'verification_status', 'addr_state') และ numerical ['loan_amnt', 'int_rate', 'total_acc'] ได้ Model ที่มี {'PPV': 0.6158134318511677, 'Sensitivity': 0.61597597993929, 'NPV': 0.663962351310775, 'Specificity': 0.6638090289804872, 'Accuracy': 0.6414890996428132}\n",
      "รอบแรกใช้ categorical ('emp_length', 'verification_status', 'addr_state') และ numerical ['loan_amnt', 'installment', 'annual_inc'] ได้ Model ที่มี {'PPV': 0.5558879747361423, 'Sensitivity': 0.4414016101359377, 'NPV': 0.5859218314337425, 'Specificity': 0.6914905900011546, 'Accuracy': 0.5747936938046557}\n",
      "รอบแรกใช้ categorical ('emp_length', 'verification_status', 'addr_state') และ numerical ['loan_amnt', 'installment', 'pub_rec'] ได้ Model ที่มี {'PPV': 0.5436349616119623, 'Sensitivity': 0.5350072588095552, 'NPV': 0.5987758007117437, 'Specificity': 0.6070892506638956, 'Accuracy': 0.5734542431333908}\n",
      "รอบแรกใช้ categorical ('emp_length', 'verification_status', 'addr_state') และ numerical ['loan_amnt', 'installment', 'total_acc'] ได้ Model ที่มี {'PPV': 0.5459613112817484, 'Sensitivity': 0.4879569750560908, 'NPV': 0.5901383900274667, 'Specificity': 0.6449890312896894, 'Accuracy': 0.5717144968592192}\n",
      "รอบแรกใช้ categorical ('emp_length', 'verification_status', 'addr_state') และ numerical ['loan_amnt', 'annual_inc', 'pub_rec'] ได้ Model ที่มี {'PPV': 0.5671720040193979, 'Sensitivity': 0.42833575293651843, 'NPV': 0.5880940494020873, 'Specificity': 0.7140341761921256, 'Accuracy': 0.5807211479246213}\n",
      "รอบแรกใช้ categorical ('emp_length', 'verification_status', 'addr_state') และ numerical ['loan_amnt', 'annual_inc', 'total_acc'] ได้ Model ที่มี {'PPV': 0.5558809561500713, 'Sensitivity': 0.4634419955127359, 'NPV': 0.5902126801733696, 'Specificity': 0.6760766655120656, 'Accuracy': 0.5768567557580982}\n",
      "รอบแรกใช้ categorical ('emp_length', 'verification_status', 'addr_state') และ numerical ['loan_amnt', 'pub_rec', 'total_acc'] ได้ Model ที่มี {'PPV': 0.5587982481273791, 'Sensitivity': 0.45044212749109147, 'NPV': 0.5889538757681202, 'Specificity': 0.6888638725320402, 'Accuracy': 0.5776111590097303}\n",
      "รอบแรกใช้ categorical ('emp_length', 'verification_status', 'addr_state') และ numerical ['int_rate', 'installment', 'annual_inc'] ได้ Model ที่มี {'PPV': 0.6118951936987622, 'Sensitivity': 0.6279860102943118, 'NPV': 0.666883327916802, 'Specificity': 0.6515413924489089, 'Accuracy': 0.640549944574455}\n",
      "รอบแรกใช้ categorical ('emp_length', 'verification_status', 'addr_state') และ numerical ['int_rate', 'installment', 'pub_rec'] ได้ Model ที่มี {'PPV': 0.6150728021532574, 'Sensitivity': 0.6258083674277418, 'NPV': 0.6675655869851971, 'Specificity': 0.6573721279298003, 'Accuracy': 0.6426437984973519}\n"
     ]
    },
    {
     "name": "stdout",
     "output_type": "stream",
     "text": [
      "รอบแรกใช้ categorical ('emp_length', 'verification_status', 'addr_state') และ numerical ['int_rate', 'installment', 'total_acc'] ได้ Model ที่มี {'PPV': 0.6057722115444231, 'Sensitivity': 0.6447472614491223, 'NPV': 0.6706735180767113, 'Specificity': 0.632923449948043, 'Accuracy': 0.6384406946668308}\n",
      "รอบแรกใช้ categorical ('emp_length', 'verification_status', 'addr_state') และ numerical ['int_rate', 'annual_inc', 'pub_rec'] ได้ Model ที่มี {'PPV': 0.6183565208687819, 'Sensitivity': 0.6115217104394879, 'NPV': 0.663398038823294, 'Specificity': 0.6698129546241773, 'Accuracy': 0.6426130065278975}\n",
      "รอบแรกใช้ categorical ('emp_length', 'verification_status', 'addr_state') และ numerical ['int_rate', 'annual_inc', 'total_acc'] ได้ Model ที่มี {'PPV': 0.6142362036790189, 'Sensitivity': 0.6081562623729708, 'NPV': 0.6601419413919414, 'Specificity': 0.6658584459069391, 'Accuracy': 0.6389333661781007}\n",
      "รอบแรกใช้ categorical ('emp_length', 'verification_status', 'addr_state') และ numerical ['int_rate', 'pub_rec', 'total_acc'] ได้ Model ที่มี {'PPV': 0.6160808465752492, 'Sensitivity': 0.5974000263956711, 'NPV': 0.6568905885330258, 'Specificity': 0.6743158988569449, 'Accuracy': 0.6384252986821037}\n",
      "รอบแรกใช้ categorical ('emp_length', 'verification_status', 'addr_state') และ numerical ['installment', 'annual_inc', 'pub_rec'] ได้ Model ที่มี {'PPV': 0.5565308693826123, 'Sensitivity': 0.4372112973472351, 'NPV': 0.5854115016285062, 'Specificity': 0.6952141785013278, 'Accuracy': 0.5748244857741102}\n",
      "รอบแรกใช้ categorical ('emp_length', 'verification_status', 'addr_state') และ numerical ['installment', 'annual_inc', 'total_acc'] ได้ Model ที่มี {'PPV': 0.549776829031632, 'Sensitivity': 0.3738946812722713, 'NPV': 0.5720342805593144, 'Specificity': 0.7321325482045953, 'Accuracy': 0.5649710555487129}\n",
      "รอบแรกใช้ categorical ('emp_length', 'verification_status', 'addr_state') และ numerical ['installment', 'pub_rec', 'total_acc'] ได้ Model ที่มี {'PPV': 0.5408031846388011, 'Sensitivity': 0.45720601821301304, 'NPV': 0.5817081542881843, 'Specificity': 0.6603740907516453, 'Accuracy': 0.565571498953073}\n",
      "รอบแรกใช้ categorical ('emp_length', 'verification_status', 'addr_state') และ numerical ['annual_inc', 'pub_rec', 'total_acc'] ได้ Model ที่มี {'PPV': 0.5468007235707375, 'Sensitivity': 0.42886366635871714, 'NPV': 0.5796605230567494, 'Specificity': 0.6890370626948389, 'Accuracy': 0.5676345609065155}\n",
      "รอบแรกใช้ categorical ('emp_length', 'verification_status', 'addr_state') และ numerical ['loan_amnt', 'int_rate', 'installment', 'annual_inc'] ได้ Model ที่มี {'PPV': 0.6102740850155917, 'Sensitivity': 0.6134353965949584, 'NPV': 0.6602777858323426, 'Specificity': 0.6572855328484009, 'Accuracy': 0.6368241162704766}\n",
      "รอบแรกใช้ categorical ('emp_length', 'verification_status', 'addr_state') และ numerical ['loan_amnt', 'int_rate', 'installment', 'pub_rec'] ได้ Model ที่มี {'PPV': 0.609321149650615, 'Sensitivity': 0.6358387224495183, 'NPV': 0.6688072018004501, 'Specificity': 0.6433437247431013, 'Accuracy': 0.6398417292770046}\n",
      "รอบแรกใช้ categorical ('emp_length', 'verification_status', 'addr_state') และ numerical ['loan_amnt', 'int_rate', 'installment', 'total_acc'] ได้ Model ที่มี {'PPV': 0.5946669771774569, 'Sensitivity': 0.6740134617922661, 'NPV': 0.677124183006536, 'Specificity': 0.5980833621983604, 'Accuracy': 0.6335139795541322}\n",
      "รอบแรกใช้ categorical ('emp_length', 'verification_status', 'addr_state') และ numerical ['loan_amnt', 'int_rate', 'annual_inc', 'pub_rec'] ได้ Model ที่มี {'PPV': 0.6180799575681231, 'Sensitivity': 0.6151841098059918, 'NPV': 0.6647214396596332, 'Specificity': 0.6674460223992611, 'Accuracy': 0.6430594900849859}\n",
      "รอบแรกใช้ categorical ('emp_length', 'verification_status', 'addr_state') และ numerical ['loan_amnt', 'int_rate', 'annual_inc', 'total_acc'] ได้ Model ที่มี {'PPV': 0.6119832041343669, 'Sensitivity': 0.6251484756499934, 'NPV': 0.6657742998352554, 'Specificity': 0.6532444290497633, 'Accuracy': 0.640134252986821}\n",
      "รอบแรกใช้ categorical ('emp_length', 'verification_status', 'addr_state') และ numerical ['loan_amnt', 'int_rate', 'pub_rec', 'total_acc'] ได้ Model ที่มี {'PPV': 0.6202574071591366, 'Sensitivity': 0.6105978619506401, 'NPV': 0.6639138854083608, 'Specificity': 0.672959242581688, 'Accuracy': 0.6438600812907994}\n",
      "รอบแรกใช้ categorical ('emp_length', 'verification_status', 'addr_state') และ numerical ['loan_amnt', 'installment', 'annual_inc', 'pub_rec'] ได้ Model ที่มี {'PPV': 0.5576670497455262, 'Sensitivity': 0.448297479213409, 'NPV': 0.5880309451069281, 'Specificity': 0.6889216025863064, 'Accuracy': 0.5766412119719178}\n",
      "รอบแรกใช้ categorical ('emp_length', 'verification_status', 'addr_state') และ numerical ['loan_amnt', 'installment', 'annual_inc', 'total_acc'] ได้ Model ที่มี {'PPV': 0.5429045184468703, 'Sensitivity': 0.5185429589547315, 'NPV': 0.5947116987001444, 'Specificity': 0.6180579609744833, 'Accuracy': 0.5716221209508561}\n",
      "รอบแรกใช้ categorical ('emp_length', 'verification_status', 'addr_state') และ numerical ['loan_amnt', 'installment', 'pub_rec', 'total_acc'] ได้ Model ที่มี {'PPV': 0.5453080360413156, 'Sensitivity': 0.49122343935594565, 'NPV': 0.5904382470119522, 'Specificity': 0.64166955316938, 'Accuracy': 0.5714681611035842}\n",
      "รอบแรกใช้ categorical ('emp_length', 'verification_status', 'addr_state') และ numerical ['loan_amnt', 'annual_inc', 'pub_rec', 'total_acc'] ได้ Model ที่มี {'PPV': 0.5638015064244573, 'Sensitivity': 0.4198561435924508, 'NPV': 0.5851304799207211, 'Specificity': 0.7158238078743794, 'Accuracy': 0.5777189309028206}\n",
      "รอบแรกใช้ categorical ('emp_length', 'verification_status', 'addr_state') และ numerical ['int_rate', 'installment', 'annual_inc', 'pub_rec'] ได้ Model ที่มี {'PPV': 0.5959418764435869, 'Sensitivity': 0.6725287052923321, 'NPV': 0.6772252756187193, 'Specificity': 0.6010853250202055, 'Accuracy': 0.6344223426530361}\n",
      "รอบแรกใช้ categorical ('emp_length', 'verification_status', 'addr_state') และ numerical ['int_rate', 'installment', 'annual_inc', 'total_acc'] ได้ Model ที่มี {'PPV': 0.580667719961667, 'Sensitivity': 0.7397056882671242, 'NPV': 0.7005276544053449, 'Specificity': 0.532675210714698, 'Accuracy': 0.6292800837541569}\n",
      "รอบแรกใช้ categorical ('emp_length', 'verification_status', 'addr_state') และ numerical ['int_rate', 'installment', 'pub_rec', 'total_acc'] ได้ Model ที่มี {'PPV': 0.602235619191158, 'Sensitivity': 0.6328362148607628, 'NPV': 0.6638472692121798, 'Specificity': 0.6343378362775661, 'Accuracy': 0.6336371474319498}\n",
      "รอบแรกใช้ categorical ('emp_length', 'verification_status', 'addr_state') และ numerical ['int_rate', 'annual_inc', 'pub_rec', 'total_acc'] ได้ Model ที่มี {'PPV': 0.6133720930232558, 'Sensitivity': 0.6126435264616603, 'NPV': 0.6614763552479815, 'Specificity': 0.6621637224338991, 'Accuracy': 0.6390565340559182}\n",
      "รอบแรกใช้ categorical ('emp_length', 'verification_status', 'addr_state') และ numerical ['installment', 'annual_inc', 'pub_rec', 'total_acc'] ได้ Model ที่มี {'PPV': 0.5555660689785684, 'Sensitivity': 0.38745545730500197, 'NPV': 0.5762866598196964, 'Specificity': 0.728841935111419, 'Accuracy': 0.5695436630126863}\n",
      "รอบแรกใช้ categorical ('emp_length', 'verification_status', 'addr_state') และ numerical ['loan_amnt', 'int_rate', 'installment', 'annual_inc', 'pub_rec'] ได้ Model ที่มี {'PPV': 0.6065320777298353, 'Sensitivity': 0.6354097927939818, 'NPV': 0.667178699436764, 'Specificity': 0.6393892160258631, 'Accuracy': 0.6375323315679271}\n",
      "รอบแรกใช้ categorical ('emp_length', 'verification_status', 'addr_state') และ numerical ['loan_amnt', 'int_rate', 'installment', 'annual_inc', 'total_acc'] ได้ Model ที่มี {'PPV': 0.6077335788437728, 'Sensitivity': 0.6316154150719282, 'NPV': 0.6662481690730279, 'Specificity': 0.6433437247431013, 'Accuracy': 0.6378710432319251}\n",
      "รอบแรกใช้ categorical ('emp_length', 'verification_status', 'addr_state') และ numerical ['loan_amnt', 'int_rate', 'installment', 'pub_rec', 'total_acc'] ได้ Model ที่มี {'PPV': 0.5882680320569902, 'Sensitivity': 0.6975056090801108, 'NPV': 0.6840363937138131, 'Specificity': 0.572913058538275, 'Accuracy': 0.631050621997783}\n",
      "รอบแรกใช้ categorical ('emp_length', 'verification_status', 'addr_state') และ numerical ['loan_amnt', 'int_rate', 'annual_inc', 'pub_rec', 'total_acc'] ได้ Model ที่มี {'PPV': 0.6123803446075303, 'Sensitivity': 0.633232149927412, 'NPV': 0.6692847792455076, 'Specificity': 0.6493476503867913, 'Accuracy': 0.6418278113068112}\n"
     ]
    },
    {
     "name": "stdout",
     "output_type": "stream",
     "text": [
      "รอบแรกใช้ categorical ('emp_length', 'verification_status', 'addr_state') และ numerical ['loan_amnt', 'installment', 'annual_inc', 'pub_rec', 'total_acc'] ได้ Model ที่มี {'PPV': 0.548361858190709, 'Sensitivity': 0.3700013197835555, 'NPV': 0.5709406318817132, 'Specificity': 0.7334026093984528, 'Accuracy': 0.5638317526789013}\n",
      "รอบแรกใช้ categorical ('emp_length', 'verification_status', 'addr_state') และ numerical ['int_rate', 'installment', 'annual_inc', 'pub_rec', 'total_acc'] ได้ Model ที่มี {'PPV': 0.5640580716062236, 'Sensitivity': 0.6435264616602877, 'NPV': 0.6443010469480477, 'Specificity': 0.5648885809952662, 'Accuracy': 0.6015827072299544}\n",
      "รอบแรกใช้ categorical ('emp_length', 'verification_status', 'addr_state') และ numerical ['loan_amnt', 'int_rate', 'installment', 'annual_inc', 'pub_rec', 'total_acc'] ได้ Model ที่มี {'PPV': 0.6094641568833213, 'Sensitivity': 0.6132044344727464, 'NPV': 0.6597887283069244, 'Specificity': 0.6562463918716084, 'Accuracy': 0.6361620889272078}\n",
      "รอบแรกใช้ categorical ('emp_length', 'grade', 'addr_state') และ numerical ['loan_amnt'] ได้ Model ที่มี {'PPV': 0.6183134152499579, 'Sensitivity': 0.6060116140952884, 'NPV': 0.6612193945584022, 'Specificity': 0.672728322364623, 'Accuracy': 0.6415968715359034}\n",
      "รอบแรกใช้ categorical ('emp_length', 'grade', 'addr_state') และ numerical ['int_rate'] ได้ Model ที่มี {'PPV': 0.6128895966719751, 'Sensitivity': 0.6222119572390128, 'NPV': 0.6650381768715443, 'Specificity': 0.6561886618173421, 'Accuracy': 0.6403344007882744}\n",
      "รอบแรกใช้ categorical ('emp_length', 'grade', 'addr_state') และ numerical ['installment'] ได้ Model ที่มี 0\n",
      "รอบแรกใช้ categorical ('emp_length', 'grade', 'addr_state') และ numerical ['annual_inc'] ได้ Model ที่มี {'PPV': 0.606154037808714, 'Sensitivity': 0.6421736835159034, 'NPV': 0.6697926498797309, 'Specificity': 0.6349728668744948, 'Accuracy': 0.6383329227737407}\n",
      "รอบแรกใช้ categorical ('emp_length', 'grade', 'addr_state') และ numerical ['pub_rec'] ได้ Model ที่มี {'PPV': 0.610879342937227, 'Sensitivity': 0.6184175795169592, 'NPV': 0.6625328275459585, 'Specificity': 0.6553804410576146, 'Accuracy': 0.6381327749722873}\n",
      "รอบแรกใช้ categorical ('emp_length', 'grade', 'addr_state') และ numerical ['total_acc'] ได้ Model ที่มี {'PPV': 0.6072092278115988, 'Sensitivity': 0.6252804540055431, 'NPV': 0.6634165135439511, 'Specificity': 0.6461436323750145, 'Accuracy': 0.6364084246828428}\n",
      "รอบแรกใช้ categorical ('emp_length', 'grade', 'addr_state') และ numerical ['loan_amnt', 'int_rate'] ได้ Model ที่มี {'PPV': 0.6209398521733234, 'Sensitivity': 0.6042629008842549, 'NPV': 0.6617406509109369, 'Specificity': 0.6772889966516569, 'Accuracy': 0.6432134499322577}\n",
      "รอบแรกใช้ categorical ('emp_length', 'grade', 'addr_state') และ numerical ['loan_amnt', 'installment'] ได้ Model ที่มี {'PPV': 0.5823067405454839, 'Sensitivity': 0.7142998548238089, 'NPV': 0.6882335997695687, 'Specificity': 0.551754993649694, 'Accuracy': 0.6276019214188939}\n",
      "รอบแรกใช้ categorical ('emp_length', 'grade', 'addr_state') และ numerical ['loan_amnt', 'annual_inc'] ได้ Model ที่มี {'PPV': 0.6174217188540972, 'Sensitivity': 0.6115547050283754, 'NPV': 0.6629737776251002, 'Specificity': 0.6684851633760536, 'Accuracy': 0.6419201872151743}\n",
      "รอบแรกใช้ categorical ('emp_length', 'grade', 'addr_state') และ numerical ['loan_amnt', 'pub_rec'] ได้ Model ที่มี {'PPV': 0.6185539157745432, 'Sensitivity': 0.6043288900620298, 'NPV': 0.6606774001867519, 'Specificity': 0.6739695185313475, 'Accuracy': 0.641473703658086}\n",
      "รอบแรกใช้ categorical ('emp_length', 'grade', 'addr_state') และ numerical ['loan_amnt', 'total_acc'] ได้ Model ที่มี {'PPV': 0.6184906805082746, 'Sensitivity': 0.6054507060842022, 'NPV': 0.6610832412209846, 'Specificity': 0.6732767578801524, 'Accuracy': 0.6416276635053578}\n",
      "รอบแรกใช้ categorical ('emp_length', 'grade', 'addr_state') และ numerical ['int_rate', 'installment'] ได้ Model ที่มี {'PPV': 0.6041982723923341, 'Sensitivity': 0.6438894021380493, 'NPV': 0.669463755244541, 'Specificity': 0.6309894931301235, 'Accuracy': 0.6370088680872028}\n",
      "รอบแรกใช้ categorical ('emp_length', 'grade', 'addr_state') และ numerical ['int_rate', 'annual_inc'] ได้ Model ที่มี {'PPV': 0.616652153526693, 'Sensitivity': 0.6074963705952224, 'NPV': 0.6610246765828917, 'Specificity': 0.6696108994342455, 'Accuracy': 0.6406269244980909}\n",
      "รอบแรกใช้ categorical ('emp_length', 'grade', 'addr_state') และ numerical ['int_rate', 'pub_rec'] ได้ Model ที่มี {'PPV': 0.6157683975579334, 'Sensitivity': 0.6189784875280454, 'NPV': 0.6651394768891724, 'Specificity': 0.6621059923796329, 'Accuracy': 0.6419817711540831}\n",
      "รอบแรกใช้ categorical ('emp_length', 'grade', 'addr_state') และ numerical ['int_rate', 'total_acc'] ได้ Model ที่มี {'PPV': 0.6107234314980794, 'Sensitivity': 0.6295037613831331, 'NPV': 0.6669138585666825, 'Specificity': 0.6489724050340607, 'Accuracy': 0.6398879172311861}\n",
      "รอบแรกใช้ categorical ('emp_length', 'grade', 'addr_state') และ numerical ['installment', 'annual_inc'] ได้ Model ที่มี {'PPV': 0.5800464622998839, 'Sensitivity': 0.7579187013329813, 'NPV': 0.7105719921104536, 'Specificity': 0.5199457337489897, 'Accuracy': 0.6309890380588743}\n",
      "รอบแรกใช้ categorical ('emp_length', 'grade', 'addr_state') และ numerical ['installment', 'pub_rec'] ได้ Model ที่มี {'PPV': 0.5739478762121101, 'Sensitivity': 0.775306849676653, 'NPV': 0.716379992503436, 'Specificity': 0.4965073317168918, 'Accuracy': 0.6266011824116271}\n",
      "รอบแรกใช้ categorical ('emp_length', 'grade', 'addr_state') และ numerical ['installment', 'total_acc'] ได้ Model ที่มี {'PPV': 0.5832726894687598, 'Sensitivity': 0.7404645638115349, 'NPV': 0.7029007402930957, 'Specificity': 0.5371781549474657, 'Accuracy': 0.6320359650203227}\n",
      "รอบแรกใช้ categorical ('emp_length', 'grade', 'addr_state') และ numerical ['annual_inc', 'pub_rec'] ได้ Model ที่มี {'PPV': 0.6112922154127005, 'Sensitivity': 0.618714530816946, 'NPV': 0.6628544754347065, 'Specificity': 0.6558134164646114, 'Accuracy': 0.6385022786057396}\n",
      "รอบแรกใช้ categorical ('emp_length', 'grade', 'addr_state') และ numerical ['annual_inc', 'total_acc'] ได้ Model ที่มี {'PPV': 0.605428105804187, 'Sensitivity': 0.6373894681272272, 'NPV': 0.6674131461082193, 'Specificity': 0.6365893083939499, 'Accuracy': 0.6369626801330213}\n",
      "รอบแรกใช้ categorical ('emp_length', 'grade', 'addr_state') และ numerical ['pub_rec', 'total_acc'] ได้ Model ที่มี {'PPV': 0.6101344024185863, 'Sensitivity': 0.6126105318727728, 'NPV': 0.6598881840039397, 'Specificity': 0.657545318092599, 'Accuracy': 0.6365777805148417}\n",
      "รอบแรกใช้ categorical ('emp_length', 'grade', 'addr_state') และ numerical ['loan_amnt', 'int_rate', 'installment'] ได้ Model ที่มี {'PPV': 0.6102261814087492, 'Sensitivity': 0.6079912894285338, 'NPV': 0.6581499064882751, 'Specificity': 0.6602586306431129, 'Accuracy': 0.6358695652173914}\n",
      "รอบแรกใช้ categorical ('emp_length', 'grade', 'addr_state') และ numerical ['loan_amnt', 'int_rate', 'annual_inc'] ได้ Model ที่มี {'PPV': 0.6187100872647029, 'Sensitivity': 0.6105648673617526, 'NPV': 0.6631852295750934, 'Specificity': 0.6708232305738367, 'Accuracy': 0.6427053824362606}\n",
      "รอบแรกใช้ categorical ('emp_length', 'grade', 'addr_state') และ numerical ['loan_amnt', 'int_rate', 'pub_rec'] ได้ Model ที่มี {'PPV': 0.6208174646354734, 'Sensitivity': 0.602382209317672, 'NPV': 0.6609554355165429, 'Specificity': 0.6781260824385175, 'Accuracy': 0.6427823623598965}\n",
      "รอบแรกใช้ categorical ('emp_length', 'grade', 'addr_state') และ numerical ['loan_amnt', 'int_rate', 'total_acc'] ได้ Model ที่มี {'PPV': 0.616320710922475, 'Sensitivity': 0.6132704236505213, 'NPV': 0.663131574409381, 'Specificity': 0.6660027710426047, 'Accuracy': 0.64139672373445}\n",
      "รอบแรกใช้ categorical ('emp_length', 'grade', 'addr_state') และ numerical ['loan_amnt', 'installment', 'annual_inc'] ได้ Model ที่มี {'PPV': 0.6098078995752235, 'Sensitivity': 0.6347169064273459, 'NPV': 0.6685924684188469, 'Specificity': 0.6447003810183581, 'Accuracy': 0.6400418770784579}\n",
      "รอบแรกใช้ categorical ('emp_length', 'grade', 'addr_state') และ numerical ['loan_amnt', 'installment', 'pub_rec'] ได้ Model ที่มี {'PPV': 0.5943773926765832, 'Sensitivity': 0.6710769433812854, 'NPV': 0.6756255490840465, 'Specificity': 0.599353423392218, 'Accuracy': 0.632821160241409}\n"
     ]
    },
    {
     "name": "stdout",
     "output_type": "stream",
     "text": [
      "รอบแรกใช้ categorical ('emp_length', 'grade', 'addr_state') และ numerical ['loan_amnt', 'installment', 'total_acc'] ได้ Model ที่มี {'PPV': 0.585477522825243, 'Sensitivity': 0.721492675201267, 'NPV': 0.6941999058073398, 'Specificity': 0.5531116499249509, 'Accuracy': 0.6316818573715974}\n",
      "รอบแรกใช้ categorical ('emp_length', 'grade', 'addr_state') และ numerical ['loan_amnt', 'annual_inc', 'pub_rec'] ได้ Model ที่มี {'PPV': 0.6199176618692797, 'Sensitivity': 0.6011614095288372, 'NPV': 0.6600770507016113, 'Specificity': 0.677548781895855, 'Accuracy': 0.6419047912304471}\n",
      "รอบแรกใช้ categorical ('emp_length', 'grade', 'addr_state') และ numerical ['loan_amnt', 'annual_inc', 'total_acc'] ได้ Model ที่มี {'PPV': 0.6175887001849673, 'Sensitivity': 0.6059126303286261, 'NPV': 0.6608456143339865, 'Specificity': 0.6717757764692299, 'Accuracy': 0.6410426160857249}\n",
      "รอบแรกใช้ categorical ('emp_length', 'grade', 'addr_state') และ numerical ['loan_amnt', 'pub_rec', 'total_acc'] ได้ Model ที่มี {'PPV': 0.6142045825445526, 'Sensitivity': 0.6208921736835159, 'NPV': 0.6651512502185697, 'Specificity': 0.6588153792864565, 'Accuracy': 0.6411195960093607}\n",
      "รอบแรกใช้ categorical ('emp_length', 'grade', 'addr_state') และ numerical ['int_rate', 'installment', 'annual_inc'] ได้ Model ที่มี {'PPV': 0.6059034956582589, 'Sensitivity': 0.6285139237165105, 'NPV': 0.6640408199803062, 'Specificity': 0.642362313820575, 'Accuracy': 0.6359003571868457}\n",
      "รอบแรกใช้ categorical ('emp_length', 'grade', 'addr_state') และ numerical ['int_rate', 'installment', 'pub_rec'] ได้ Model ที่มี {'PPV': 0.6125627799647074, 'Sensitivity': 0.5955853240068629, 'NPV': 0.6545767106301431, 'Specificity': 0.6704479852211062, 'Accuracy': 0.6355154575686661}\n",
      "รอบแรกใช้ categorical ('emp_length', 'grade', 'addr_state') และ numerical ['int_rate', 'installment', 'total_acc'] ได้ Model ที่มี {'PPV': 0.601779995072678, 'Sensitivity': 0.6447472614491223, 'NPV': 0.6685036945812808, 'Specificity': 0.6267463341415541, 'Accuracy': 0.6351459539352137}\n",
      "รอบแรกใช้ categorical ('emp_length', 'grade', 'addr_state') และ numerical ['int_rate', 'annual_inc', 'pub_rec'] ได้ Model ที่มี {'PPV': 0.6160281959221319, 'Sensitivity': 0.6170648013725749, 'NPV': 0.6644985979822507, 'Specificity': 0.663520378709156, 'Accuracy': 0.6418432072915383}\n",
      "รอบแรกใช้ categorical ('emp_length', 'grade', 'addr_state') และ numerical ['int_rate', 'annual_inc', 'total_acc'] ได้ Model ที่มี {'PPV': 0.6082581213245699, 'Sensitivity': 0.6381813382605253, 'NPV': 0.669230537206286, 'Specificity': 0.6404283570026555, 'Accuracy': 0.639379849735189}\n",
      "รอบแรกใช้ categorical ('emp_length', 'grade', 'addr_state') และ numerical ['int_rate', 'pub_rec', 'total_acc'] ได้ Model ที่มี {'PPV': 0.6128249117923155, 'Sensitivity': 0.6246535568166821, 'NPV': 0.6659913679203735, 'Specificity': 0.6547454104606858, 'Accuracy': 0.6407039044217269}\n",
      "รอบแรกใช้ categorical ('emp_length', 'grade', 'addr_state') และ numerical ['installment', 'annual_inc', 'pub_rec'] ได้ Model ที่มี {'PPV': 0.5940117372229503, 'Sensitivity': 0.6879701728916457, 'NPV': 0.6831825795644891, 'Specificity': 0.5886444983258284, 'Accuracy': 0.6349919940879418}\n",
      "รอบแรกใช้ categorical ('emp_length', 'grade', 'addr_state') และ numerical ['installment', 'annual_inc', 'total_acc'] ได้ Model ที่มี 0\n",
      "รอบแรกใช้ categorical ('emp_length', 'grade', 'addr_state') และ numerical ['installment', 'pub_rec', 'total_acc'] ได้ Model ที่มี 0\n",
      "รอบแรกใช้ categorical ('emp_length', 'grade', 'addr_state') และ numerical ['annual_inc', 'pub_rec', 'total_acc'] ได้ Model ที่มี {'PPV': 0.6058417085427136, 'Sensitivity': 0.6364656196383793, 'NPV': 0.6672505436095675, 'Specificity': 0.637743909479275, 'Accuracy': 0.6371474319497475}\n",
      "รอบแรกใช้ categorical ('emp_length', 'grade', 'addr_state') และ numerical ['loan_amnt', 'int_rate', 'installment', 'annual_inc'] ได้ Model ที่มี {'PPV': 0.5763942801332298, 'Sensitivity': 0.7594034578329154, 'NPV': 0.7085648055633268, 'Specificity': 0.5117480660431821, 'Accuracy': 0.6273093977090775}\n",
      "รอบแรกใช้ categorical ('emp_length', 'grade', 'addr_state') และ numerical ['loan_amnt', 'int_rate', 'installment', 'pub_rec'] ได้ Model ที่มี {'PPV': 0.6054509639293442, 'Sensitivity': 0.6186155470502838, 'NPV': 0.6598793585405326, 'Specificity': 0.6473270984874726, 'Accuracy': 0.6339296711417662}\n",
      "รอบแรกใช้ categorical ('emp_length', 'grade', 'addr_state') และ numerical ['loan_amnt', 'int_rate', 'installment', 'total_acc'] ได้ Model ที่มี {'PPV': 0.594489658776973, 'Sensitivity': 0.5254058334433153, 'NPV': 0.6231200544987685, 'Specificity': 0.6864680752799908, 'Accuracy': 0.6113129695775342}\n",
      "รอบแรกใช้ categorical ('emp_length', 'grade', 'addr_state') และ numerical ['loan_amnt', 'int_rate', 'annual_inc', 'pub_rec'] ได้ Model ที่มี {'PPV': 0.6191837707205827, 'Sensitivity': 0.600204566451102, 'NPV': 0.6593764934079217, 'Specificity': 0.6770580764345918, 'Accuracy': 0.6411965759329967}\n",
      "รอบแรกใช้ categorical ('emp_length', 'grade', 'addr_state') และ numerical ['loan_amnt', 'int_rate', 'annual_inc', 'total_acc'] ได้ Model ที่มี {'PPV': 0.6150362616086371, 'Sensitivity': 0.6183845849280718, 'NPV': 0.6645494358885119, 'Specificity': 0.6613843667013047, 'Accuracy': 0.6413197438108141}\n",
      "รอบแรกใช้ categorical ('emp_length', 'grade', 'addr_state') และ numerical ['loan_amnt', 'int_rate', 'pub_rec', 'total_acc'] ได้ Model ที่มี {'PPV': 0.6125456525917857, 'Sensitivity': 0.6308565395275175, 'NPV': 0.6683857964313237, 'Specificity': 0.6509063618519801, 'Accuracy': 0.6415506835817218}\n",
      "รอบแรกใช้ categorical ('emp_length', 'grade', 'addr_state') และ numerical ['loan_amnt', 'installment', 'annual_inc', 'pub_rec'] ได้ Model ที่มี {'PPV': 0.5826145343732245, 'Sensitivity': 0.7443579253002508, 'NPV': 0.704613038505528, 'Specificity': 0.5334834314744256, 'Accuracy': 0.6318820051730508}\n",
      "รอบแรกใช้ categorical ('emp_length', 'grade', 'addr_state') และ numerical ['loan_amnt', 'installment', 'annual_inc', 'total_acc'] ได้ Model ที่มี {'PPV': 0.5838079950289975, 'Sensitivity': 0.7439949848224892, 'NPV': 0.705294743239137, 'Specificity': 0.5359946888350076, 'Accuracy': 0.6330521000123168}\n",
      "รอบแรกใช้ categorical ('emp_length', 'grade', 'addr_state') และ numerical ['loan_amnt', 'installment', 'pub_rec', 'total_acc'] ได้ Model ที่มี {'PPV': 0.6130134691415935, 'Sensitivity': 0.6036689982842813, 'NPV': 0.6578362673047342, 'Specificity': 0.6666089366124004, 'Accuracy': 0.6372398078581106}\n",
      "รอบแรกใช้ categorical ('emp_length', 'grade', 'addr_state') และ numerical ['loan_amnt', 'annual_inc', 'pub_rec', 'total_acc'] ได้ Model ที่มี {'PPV': 0.6161586072220567, 'Sensitivity': 0.6142272667282566, 'NPV': 0.6634330291603098, 'Specificity': 0.6652522803371436, 'Accuracy': 0.6414429116886317}\n",
      "รอบแรกใช้ categorical ('emp_length', 'grade', 'addr_state') และ numerical ['int_rate', 'installment', 'annual_inc', 'pub_rec'] ได้ Model ที่มี {'PPV': 0.607006568658117, 'Sensitivity': 0.6402929919493203, 'NPV': 0.6694560669456067, 'Specificity': 0.6373397990994112, 'Accuracy': 0.6387178223919202}\n",
      "รอบแรกใช้ categorical ('emp_length', 'grade', 'addr_state') และ numerical ['int_rate', 'installment', 'annual_inc', 'total_acc'] ได้ Model ที่มี {'PPV': 0.5930627518710421, 'Sensitivity': 0.6797875148475649, 'NPV': 0.6787700251555673, 'Specificity': 0.5919351114190048, 'Accuracy': 0.6329289321344993}\n",
      "รอบแรกใช้ categorical ('emp_length', 'grade', 'addr_state') และ numerical ['int_rate', 'installment', 'pub_rec', 'total_acc'] ได้ Model ที่มี {'PPV': 0.5707630616818021, 'Sensitivity': 0.6387092516827241, 'NPV': 0.6471839154530223, 'Specificity': 0.5797829349959589, 'Accuracy': 0.6072792215790122}\n",
      "รอบแรกใช้ categorical ('emp_length', 'grade', 'addr_state') และ numerical ['int_rate', 'annual_inc', 'pub_rec', 'total_acc'] ได้ Model ที่มี {'PPV': 0.6139812560450922, 'Sensitivity': 0.6073973868285601, 'NPV': 0.6597271869370014, 'Specificity': 0.6659161759612054, 'Accuracy': 0.6386100504988299}\n",
      "รอบแรกใช้ categorical ('emp_length', 'grade', 'addr_state') และ numerical ['installment', 'annual_inc', 'pub_rec', 'total_acc'] ได้ Model ที่มี {'PPV': 0.5800121383775035, 'Sensitivity': 0.7567638907219216, 'NPV': 0.7098551637279596, 'Specificity': 0.5206096293730517, 'Accuracy': 0.630804286242148}\n"
     ]
    },
    {
     "name": "stdout",
     "output_type": "stream",
     "text": [
      "รอบแรกใช้ categorical ('emp_length', 'grade', 'addr_state') และ numerical ['loan_amnt', 'int_rate', 'installment', 'annual_inc', 'pub_rec'] ได้ Model ที่มี {'PPV': 0.6092355575316798, 'Sensitivity': 0.6329351986274251, 'NPV': 0.667563125653668, 'Specificity': 0.6448447061540238, 'Accuracy': 0.6392874738268259}\n",
      "รอบแรกใช้ categorical ('emp_length', 'grade', 'addr_state') และ numerical ['loan_amnt', 'int_rate', 'installment', 'annual_inc', 'total_acc'] ได้ Model ที่มี {'PPV': 0.5987592372958672, 'Sensitivity': 0.6496304606044608, 'NPV': 0.6688702485266145, 'Specificity': 0.6191548320055421, 'Accuracy': 0.6333754156915876}\n",
      "รอบแรกใช้ categorical ('emp_length', 'grade', 'addr_state') และ numerical ['loan_amnt', 'int_rate', 'installment', 'pub_rec', 'total_acc'] ได้ Model ที่มี {'PPV': 0.5879253321374517, 'Sensitivity': 0.6920944965025736, 'NPV': 0.6812188289950126, 'Specificity': 0.5756263710887888, 'Accuracy': 0.6299729030668801}\n",
      "รอบแรกใช้ categorical ('emp_length', 'grade', 'addr_state') และ numerical ['loan_amnt', 'int_rate', 'annual_inc', 'pub_rec', 'total_acc'] ได้ Model ที่มี {'PPV': 0.6202458961021414, 'Sensitivity': 0.6058796357397387, 'NPV': 0.6620551123182256, 'Specificity': 0.6754704999422699, 'Accuracy': 0.6429979061460771}\n",
      "รอบแรกใช้ categorical ('emp_length', 'grade', 'addr_state') และ numerical ['loan_amnt', 'installment', 'annual_inc', 'pub_rec', 'total_acc'] ได้ Model ที่มี {'PPV': 0.5869454769099126, 'Sensitivity': 0.7242312260789231, 'NPV': 0.6966793685356559, 'Specificity': 0.5541219258746103, 'Accuracy': 0.6334985835694051}\n",
      "รอบแรกใช้ categorical ('emp_length', 'grade', 'addr_state') และ numerical ['int_rate', 'installment', 'annual_inc', 'pub_rec', 'total_acc'] ได้ Model ที่มี {'PPV': 0.5989481592787378, 'Sensitivity': 0.6575821565263297, 'NPV': 0.6723805915964264, 'Specificity': 0.6147962129084401, 'Accuracy': 0.6347610543170341}\n",
      "รอบแรกใช้ categorical ('emp_length', 'grade', 'addr_state') และ numerical ['loan_amnt', 'int_rate', 'installment', 'annual_inc', 'pub_rec', 'total_acc'] ได้ Model ที่มี {'PPV': 0.579361790302528, 'Sensitivity': 0.7380229642338656, 'NPV': 0.698603097479502, 'Specificity': 0.5312319593580418, 'Accuracy': 0.6277250892967114}\n",
      "รอบแรกใช้ categorical ('home_ownership', 'verification_status', 'grade') และ numerical ['loan_amnt'] ได้ Model ที่มี {'PPV': 0.6200257173795344, 'Sensitivity': 0.6045598521842418, 'NPV': 0.6614406779661017, 'Specificity': 0.6758746103221337, 'Accuracy': 0.6425976105431703}\n",
      "รอบแรกใช้ categorical ('home_ownership', 'verification_status', 'grade') และ numerical ['int_rate'] ได้ Model ที่มี {'PPV': 0.6210174628870595, 'Sensitivity': 0.594892437640227, 'NPV': 0.6581753389570979, 'Specificity': 0.68239810645422, 'Accuracy': 0.6415660795664491}\n",
      "รอบแรกใช้ categorical ('home_ownership', 'verification_status', 'grade') และ numerical ['installment'] ได้ Model ที่มี {'PPV': 0.6275390050044156, 'Sensitivity': 0.5626897188861026, 'NPV': 0.6491423125794155, 'Specificity': 0.7078281953585036, 'Accuracy': 0.6401034610173667}\n",
      "รอบแรกใช้ categorical ('home_ownership', 'verification_status', 'grade') และ numerical ['annual_inc'] ได้ Model ที่มี {'PPV': 0.6076596535803923, 'Sensitivity': 0.647056882671242, 'NPV': 0.6726644022154901, 'Specificity': 0.6345110264403648, 'Accuracy': 0.6403651927577287}\n",
      "รอบแรกใช้ categorical ('home_ownership', 'verification_status', 'grade') และ numerical ['pub_rec'] ได้ Model ที่มี {'PPV': 0.6191268332428028, 'Sensitivity': 0.6017223175399234, 'NPV': 0.6599335136353391, 'Specificity': 0.676163260593465, 'Accuracy': 0.6414275157039044}\n",
      "รอบแรกใช้ categorical ('home_ownership', 'verification_status', 'grade') และ numerical ['total_acc'] ได้ Model ที่มี {'PPV': 0.6111516150505595, 'Sensitivity': 0.6361356737495051, 'NPV': 0.669869779973058, 'Specificity': 0.6459127121579494, 'Accuracy': 0.6413505357802685}\n",
      "รอบแรกใช้ categorical ('home_ownership', 'verification_status', 'grade') และ numerical ['loan_amnt', 'int_rate'] ได้ Model ที่มี {'PPV': 0.6217285453438831, 'Sensitivity': 0.6066715058730369, 'NPV': 0.6630391768895924, 'Specificity': 0.677086941461725, 'Accuracy': 0.6442295849242518}\n",
      "รอบแรกใช้ categorical ('home_ownership', 'verification_status', 'grade') และ numerical ['loan_amnt', 'installment'] ได้ Model ที่มี {'PPV': 0.6004059216809933, 'Sensitivity': 0.6637191500593903, 'NPV': 0.675909437802086, 'Specificity': 0.6135550167417158, 'Accuracy': 0.6369626801330213}\n",
      "รอบแรกใช้ categorical ('home_ownership', 'verification_status', 'grade') และ numerical ['loan_amnt', 'annual_inc'] ได้ Model ที่มี {'PPV': 0.6208778092282509, 'Sensitivity': 0.6006994852844133, 'NPV': 0.6603328749052738, 'Specificity': 0.6791074933610438, 'Accuracy': 0.6425206306195345}\n",
      "รอบแรกใช้ categorical ('home_ownership', 'verification_status', 'grade') และ numerical ['loan_amnt', 'pub_rec'] ได้ Model ที่มี {'PPV': 0.620679033472517, 'Sensitivity': 0.5983568694734064, 'NPV': 0.659344042088767, 'Specificity': 0.68008890428357, 'Accuracy': 0.6419509791846286}\n",
      "รอบแรกใช้ categorical ('home_ownership', 'verification_status', 'grade') และ numerical ['loan_amnt', 'total_acc'] ได้ Model ที่มี {'PPV': 0.6172993974515163, 'Sensitivity': 0.6185825524613964, 'NPV': 0.6657123854139556, 'Specificity': 0.6645017896316823, 'Accuracy': 0.643074886069713}\n",
      "รอบแรกใช้ categorical ('home_ownership', 'verification_status', 'grade') และ numerical ['int_rate', 'installment'] ได้ Model ที่มี {'PPV': 0.6123867363840083, 'Sensitivity': 0.622145968061238, 'NPV': 0.6647639120634642, 'Specificity': 0.6554959011661471, 'Accuracy': 0.6399341051853676}\n",
      "รอบแรกใช้ categorical ('home_ownership', 'verification_status', 'grade') และ numerical ['int_rate', 'annual_inc'] ได้ Model ที่มี {'PPV': 0.6181278862035258, 'Sensitivity': 0.6050547710175531, 'NPV': 0.6607623636105994, 'Specificity': 0.6729881076088211, 'Accuracy': 0.6412889518413598}\n",
      "รอบแรกใช้ categorical ('home_ownership', 'verification_status', 'grade') และ numerical ['int_rate', 'pub_rec'] ได้ Model ที่มี {'PPV': 0.6179167646367271, 'Sensitivity': 0.6069684571730236, 'NPV': 0.6614081464426821, 'Specificity': 0.6716603163606973, 'Accuracy': 0.641473703658086}\n",
      "รอบแรกใช้ categorical ('home_ownership', 'verification_status', 'grade') และ numerical ['int_rate', 'total_acc'] ได้ Model ที่มี {'PPV': 0.6184703697450616, 'Sensitivity': 0.6043288900620298, 'NPV': 0.6606389902934601, 'Specificity': 0.6738540584228149, 'Accuracy': 0.6414121197191772}\n",
      "รอบแรกใช้ categorical ('home_ownership', 'verification_status', 'grade') และ numerical ['installment', 'annual_inc'] ได้ Model ที่มี {'PPV': 0.6048277982779828, 'Sensitivity': 0.6489705688267124, 'NPV': 0.6719597927972373, 'Specificity': 0.6290555363122041, 'Accuracy': 0.6383483187584678}\n",
      "รอบแรกใช้ categorical ('home_ownership', 'verification_status', 'grade') และ numerical ['installment', 'pub_rec'] ได้ Model ที่มี {'PPV': 0.5855466174337334, 'Sensitivity': 0.7325128678896661, 'NPV': 0.700151644043348, 'Specificity': 0.5464149636300658, 'Accuracy': 0.6332522478137702}\n",
      "รอบแรกใช้ categorical ('home_ownership', 'verification_status', 'grade') และ numerical ['installment', 'total_acc'] ได้ Model ที่มี {'PPV': 0.5822074476196285, 'Sensitivity': 0.6298667018608948, 'NPV': 0.6512141280353201, 'Specificity': 0.6045779933033137, 'Accuracy': 0.6163782485527775}\n",
      "รอบแรกใช้ categorical ('home_ownership', 'verification_status', 'grade') และ numerical ['annual_inc', 'pub_rec'] ได้ Model ที่มี {'PPV': 0.6226699369306237, 'Sensitivity': 0.5863468391183846, 'NPV': 0.6556904317258047, 'Specificity': 0.6891525228033715, 'Accuracy': 0.6411811799482695}\n",
      "รอบแรกใช้ categorical ('home_ownership', 'verification_status', 'grade') และ numerical ['annual_inc', 'total_acc'] ได้ Model ที่มี {'PPV': 0.6189718772208873, 'Sensitivity': 0.6034710307509569, 'NPV': 0.6605372426065588, 'Specificity': 0.6750086595081399, 'Accuracy': 0.6416276635053578}\n",
      "รอบแรกใช้ categorical ('home_ownership', 'verification_status', 'grade') และ numerical ['pub_rec', 'total_acc'] ได้ Model ที่มี {'PPV': 0.6193877551020408, 'Sensitivity': 0.6008314636399631, 'NPV': 0.6597097209720972, 'Specificity': 0.6770003463803256, 'Accuracy': 0.6414583076733588}\n",
      "รอบแรกใช้ categorical ('home_ownership', 'verification_status', 'grade') และ numerical ['loan_amnt', 'int_rate', 'installment'] ได้ Model ที่มี {'PPV': 0.6108752713957031, 'Sensitivity': 0.6219809951168008, 'NPV': 0.6639486111518493, 'Specificity': 0.653388754185429, 'Accuracy': 0.6387332183766473}\n"
     ]
    },
    {
     "name": "stdout",
     "output_type": "stream",
     "text": [
      "รอบแรกใช้ categorical ('home_ownership', 'verification_status', 'grade') และ numerical ['loan_amnt', 'int_rate', 'annual_inc'] ได้ Model ที่มี {'PPV': 0.6227138845126379, 'Sensitivity': 0.5999076151511152, 'NPV': 0.6608491357610338, 'Specificity': 0.6820228611014895, 'Accuracy': 0.6437061214435276}\n",
      "รอบแรกใช้ categorical ('home_ownership', 'verification_status', 'grade') และ numerical ['loan_amnt', 'int_rate', 'pub_rec'] ได้ Model ที่มี {'PPV': 0.6229002980222162, 'Sensitivity': 0.6068694734063613, 'NPV': 0.6636461156278229, 'Specificity': 0.6785879228726475, 'Accuracy': 0.6451225520384284}\n",
      "รอบแรกใช้ categorical ('home_ownership', 'verification_status', 'grade') และ numerical ['loan_amnt', 'int_rate', 'total_acc'] ได้ Model ที่มี {'PPV': 0.6193327345906928, 'Sensitivity': 0.6143262504949188, 'NPV': 0.6649660351400155, 'Specificity': 0.6696686294885117, 'Accuracy': 0.6438446853060722}\n",
      "รอบแรกใช้ categorical ('home_ownership', 'verification_status', 'grade') และ numerical ['loan_amnt', 'installment', 'annual_inc'] ได้ Model ที่มี {'PPV': 0.5969496369309731, 'Sensitivity': 0.6753992345255379, 'NPV': 0.6791363621538763, 'Specificity': 0.6010564599930724, 'Accuracy': 0.6357463973395738}\n",
      "รอบแรกใช้ categorical ('home_ownership', 'verification_status', 'grade') และ numerical ['loan_amnt', 'installment', 'pub_rec'] ได้ Model ที่มี {'PPV': 0.5832511036094521, 'Sensitivity': 0.7410914610003959, 'NPV': 0.7032372740337343, 'Specificity': 0.5367451795404687, 'Accuracy': 0.6320975489592314}\n",
      "รอบแรกใช้ categorical ('home_ownership', 'verification_status', 'grade') และ numerical ['loan_amnt', 'installment', 'total_acc'] ได้ Model ที่มี {'PPV': 0.6039122812413497, 'Sensitivity': 0.64784875280454, 'NPV': 0.6709824593853078, 'Specificity': 0.6282761805796098, 'Accuracy': 0.6374091636901096}\n",
      "รอบแรกใช้ categorical ('home_ownership', 'verification_status', 'grade') และ numerical ['loan_amnt', 'annual_inc', 'pub_rec'] ได้ Model ที่มี {'PPV': 0.6199138018800693, 'Sensitivity': 0.6027121552065461, 'NPV': 0.6606735240242356, 'Specificity': 0.6767116961089943, 'Accuracy': 0.6421819189555364}\n",
      "รอบแรกใช้ categorical ('home_ownership', 'verification_status', 'grade') และ numerical ['loan_amnt', 'annual_inc', 'total_acc'] ได้ Model ที่มี {'PPV': 0.6168559864212038, 'Sensitivity': 0.6235317407945097, 'NPV': 0.6675020398647861, 'Specificity': 0.6611823115113729, 'Accuracy': 0.6436137455351645}\n",
      "รอบแรกใช้ categorical ('home_ownership', 'verification_status', 'grade') และ numerical ['loan_amnt', 'pub_rec', 'total_acc'] ได้ Model ที่มี {'PPV': 0.6186885463725751, 'Sensitivity': 0.6145242180282434, 'NPV': 0.664744031221304, 'Specificity': 0.6686583535388523, 'Accuracy': 0.6433982017489839}\n",
      "รอบแรกใช้ categorical ('home_ownership', 'verification_status', 'grade') และ numerical ['int_rate', 'installment', 'annual_inc'] ได้ Model ที่มี {'PPV': 0.5996618113856833, 'Sensitivity': 0.6669526197703577, 'NPV': 0.6769196299971194, 'Specificity': 0.6104664588384713, 'Accuracy': 0.6368241162704766}\n",
      "รอบแรกใช้ categorical ('home_ownership', 'verification_status', 'grade') และ numerical ['int_rate', 'installment', 'pub_rec'] ได้ Model ที่มี {'PPV': 0.6055644466330173, 'Sensitivity': 0.6492015309489244, 'NPV': 0.6724584103512015, 'Specificity': 0.6300658122618635, 'Accuracy': 0.6389949501170095}\n",
      "รอบแรกใช้ categorical ('home_ownership', 'verification_status', 'grade') และ numerical ['int_rate', 'installment', 'total_acc'] ได้ Model ที่มี {'PPV': 0.6090086055216097, 'Sensitivity': 0.6281179886498615, 'NPV': 0.6654794764491141, 'Specificity': 0.64721163837894, 'Accuracy': 0.6383021308042862}\n",
      "รอบแรกใช้ categorical ('home_ownership', 'verification_status', 'grade') และ numerical ['int_rate', 'annual_inc', 'pub_rec'] ได้ Model ที่มี {'PPV': 0.6170170369632361, 'Sensitivity': 0.613006466939422, 'NPV': 0.6633563904595161, 'Specificity': 0.6671285071007966, 'Accuracy': 0.6418739992609928}\n",
      "รอบแรกใช้ categorical ('home_ownership', 'verification_status', 'grade') และ numerical ['int_rate', 'annual_inc', 'total_acc'] ได้ Model ที่มี {'PPV': 0.6166606086640452, 'Sensitivity': 0.615745017817078, 'NPV': 0.6642739773415204, 'Specificity': 0.665136820228611, 'Accuracy': 0.6420895430471733}\n",
      "รอบแรกใช้ categorical ('home_ownership', 'verification_status', 'grade') และ numerical ['int_rate', 'pub_rec', 'total_acc'] ได้ Model ที่มี {'PPV': 0.617866087827684, 'Sensitivity': 0.6104658835950904, 'NPV': 0.6627531636529836, 'Specificity': 0.6696974945156449, 'Accuracy': 0.6420587510777189}\n",
      "รอบแรกใช้ categorical ('home_ownership', 'verification_status', 'grade') และ numerical ['installment', 'annual_inc', 'pub_rec'] ได้ Model ที่มี 0\n",
      "รอบแรกใช้ categorical ('home_ownership', 'verification_status', 'grade') และ numerical ['installment', 'annual_inc', 'total_acc'] ได้ Model ที่มี {'PPV': 0.5912408759124088, 'Sensitivity': 0.7109014121684044, 'NPV': 0.6926692388635567, 'Specificity': 0.5700265558249624, 'Accuracy': 0.635761793324301}\n",
      "รอบแรกใช้ categorical ('home_ownership', 'verification_status', 'grade') และ numerical ['installment', 'pub_rec', 'total_acc'] ได้ Model ที่มี {'PPV': 0.5865058743786715, 'Sensitivity': 0.6851986274251023, 'NPV': 0.677057947468183, 'Specificity': 0.5773871377439095, 'Accuracy': 0.627694297327257}\n",
      "รอบแรกใช้ categorical ('home_ownership', 'verification_status', 'grade') และ numerical ['annual_inc', 'pub_rec', 'total_acc'] ได้ Model ที่มี {'PPV': 0.6181504532539576, 'Sensitivity': 0.6029761119176456, 'NPV': 0.659969481180061, 'Specificity': 0.6741427086941462, 'Accuracy': 0.6409348441926346}\n",
      "รอบแรกใช้ categorical ('home_ownership', 'verification_status', 'grade') และ numerical ['loan_amnt', 'int_rate', 'installment', 'annual_inc'] ได้ Model ที่มี {'PPV': 0.6024366981509399, 'Sensitivity': 0.6460670450046192, 'NPV': 0.6694197047674812, 'Specificity': 0.6270061193857522, 'Accuracy': 0.6359003571868457}\n",
      "รอบแรกใช้ categorical ('home_ownership', 'verification_status', 'grade') และ numerical ['loan_amnt', 'int_rate', 'installment', 'pub_rec'] ได้ Model ที่มี {'PPV': 0.6031606138884668, 'Sensitivity': 0.6548436056486736, 'NPV': 0.673573189378101, 'Specificity': 0.6230804756956472, 'Accuracy': 0.6379018352013794}\n"
     ]
    },
    {
     "ename": "Py4JJavaError",
     "evalue": "An error occurred while calling o341357.fit.\n: org.apache.spark.SparkException: Job aborted due to stage failure: Task 33 in stage 908923.0 failed 4 times, most recent failure: Lost task 33.3 in stage 908923.0 (TID 24601048, 192.168.10.4, executor 7): java.io.IOException: No space left on device\n\tat java.io.FileOutputStream.writeBytes(Native Method)\n\tat java.io.FileOutputStream.write(FileOutputStream.java:326)\n\tat org.apache.spark.storage.TimeTrackingOutputStream.write(TimeTrackingOutputStream.java:58)\n\tat java.io.BufferedOutputStream.flushBuffer(BufferedOutputStream.java:82)\n\tat java.io.BufferedOutputStream.flush(BufferedOutputStream.java:140)\n\tat net.jpountz.lz4.LZ4BlockOutputStream.finish(LZ4BlockOutputStream.java:243)\n\tat net.jpountz.lz4.LZ4BlockOutputStream.close(LZ4BlockOutputStream.java:175)\n\tat java.io.ObjectOutputStream$BlockDataOutputStream.close(ObjectOutputStream.java:1828)\n\tat java.io.ObjectOutputStream.close(ObjectOutputStream.java:742)\n\tat org.apache.spark.serializer.JavaSerializationStream.close(JavaSerializer.scala:57)\n\tat org.apache.spark.storage.DiskBlockObjectWriter.commitAndGet(DiskBlockObjectWriter.scala:172)\n\tat org.apache.spark.util.collection.ExternalSorter.writePartitionedFile(ExternalSorter.scala:701)\n\tat org.apache.spark.shuffle.sort.SortShuffleWriter.write(SortShuffleWriter.scala:72)\n\tat org.apache.spark.scheduler.ShuffleMapTask.runTask(ShuffleMapTask.scala:96)\n\tat org.apache.spark.scheduler.ShuffleMapTask.runTask(ShuffleMapTask.scala:53)\n\tat org.apache.spark.scheduler.Task.run(Task.scala:108)\n\tat org.apache.spark.executor.Executor$TaskRunner.run(Executor.scala:335)\n\tat java.util.concurrent.ThreadPoolExecutor.runWorker(ThreadPoolExecutor.java:1149)\n\tat java.util.concurrent.ThreadPoolExecutor$Worker.run(ThreadPoolExecutor.java:624)\n\tat java.lang.Thread.run(Thread.java:748)\n\nDriver stacktrace:\n\tat org.apache.spark.scheduler.DAGScheduler.org$apache$spark$scheduler$DAGScheduler$$failJobAndIndependentStages(DAGScheduler.scala:1499)\n\tat org.apache.spark.scheduler.DAGScheduler$$anonfun$abortStage$1.apply(DAGScheduler.scala:1487)\n\tat org.apache.spark.scheduler.DAGScheduler$$anonfun$abortStage$1.apply(DAGScheduler.scala:1486)\n\tat scala.collection.mutable.ResizableArray$class.foreach(ResizableArray.scala:59)\n\tat scala.collection.mutable.ArrayBuffer.foreach(ArrayBuffer.scala:48)\n\tat org.apache.spark.scheduler.DAGScheduler.abortStage(DAGScheduler.scala:1486)\n\tat org.apache.spark.scheduler.DAGScheduler$$anonfun$handleTaskSetFailed$1.apply(DAGScheduler.scala:814)\n\tat org.apache.spark.scheduler.DAGScheduler$$anonfun$handleTaskSetFailed$1.apply(DAGScheduler.scala:814)\n\tat scala.Option.foreach(Option.scala:257)\n\tat org.apache.spark.scheduler.DAGScheduler.handleTaskSetFailed(DAGScheduler.scala:814)\n\tat org.apache.spark.scheduler.DAGSchedulerEventProcessLoop.doOnReceive(DAGScheduler.scala:1714)\n\tat org.apache.spark.scheduler.DAGSchedulerEventProcessLoop.onReceive(DAGScheduler.scala:1669)\n\tat org.apache.spark.scheduler.DAGSchedulerEventProcessLoop.onReceive(DAGScheduler.scala:1658)\n\tat org.apache.spark.util.EventLoop$$anon$1.run(EventLoop.scala:48)\n\tat org.apache.spark.scheduler.DAGScheduler.runJob(DAGScheduler.scala:630)\n\tat org.apache.spark.SparkContext.runJob(SparkContext.scala:2022)\n\tat org.apache.spark.SparkContext.runJob(SparkContext.scala:2119)\n\tat org.apache.spark.rdd.RDD$$anonfun$reduce$1.apply(RDD.scala:1026)\n\tat org.apache.spark.rdd.RDDOperationScope$.withScope(RDDOperationScope.scala:151)\n\tat org.apache.spark.rdd.RDDOperationScope$.withScope(RDDOperationScope.scala:112)\n\tat org.apache.spark.rdd.RDD.withScope(RDD.scala:362)\n\tat org.apache.spark.rdd.RDD.reduce(RDD.scala:1008)\n\tat org.apache.spark.rdd.RDD$$anonfun$treeAggregate$1.apply(RDD.scala:1151)\n\tat org.apache.spark.rdd.RDDOperationScope$.withScope(RDDOperationScope.scala:151)\n\tat org.apache.spark.rdd.RDDOperationScope$.withScope(RDDOperationScope.scala:112)\n\tat org.apache.spark.rdd.RDD.withScope(RDD.scala:362)\n\tat org.apache.spark.rdd.RDD.treeAggregate(RDD.scala:1128)\n\tat org.apache.spark.mllib.optimization.LBFGS$CostFun.calculate(LBFGS.scala:261)\n\tat org.apache.spark.mllib.optimization.LBFGS$CostFun.calculate(LBFGS.scala:230)\n\tat breeze.optimize.CachedDiffFunction.calculate(CachedDiffFunction.scala:23)\n\tat breeze.optimize.LineSearch$$anon$1.calculate(LineSearch.scala:41)\n\tat breeze.optimize.LineSearch$$anon$1.calculate(LineSearch.scala:30)\n\tat breeze.optimize.StrongWolfeLineSearch.breeze$optimize$StrongWolfeLineSearch$$phi$1(StrongWolfe.scala:76)\n\tat breeze.optimize.StrongWolfeLineSearch$$anonfun$minimizeWithBound$1.apply$mcVI$sp(StrongWolfe.scala:149)\n\tat scala.collection.immutable.Range.foreach$mVc$sp(Range.scala:160)\n\tat breeze.optimize.StrongWolfeLineSearch.minimizeWithBound(StrongWolfe.scala:148)\n\tat breeze.optimize.StrongWolfeLineSearch.minimize(StrongWolfe.scala:62)\n\tat breeze.optimize.LBFGS.determineStepSize(LBFGS.scala:76)\n\tat breeze.optimize.LBFGS.determineStepSize(LBFGS.scala:39)\n\tat breeze.optimize.FirstOrderMinimizer$$anonfun$infiniteIterations$1.apply(FirstOrderMinimizer.scala:64)\n\tat breeze.optimize.FirstOrderMinimizer$$anonfun$infiniteIterations$1.apply(FirstOrderMinimizer.scala:62)\n\tat scala.collection.Iterator$$anon$7.next(Iterator.scala:129)\n\tat breeze.util.IteratorImplicits$RichIterator$$anon$2.next(Implicits.scala:71)\n\tat org.apache.spark.mllib.optimization.LBFGS$.runLBFGS(LBFGS.scala:212)\n\tat org.apache.spark.mllib.optimization.LBFGS.optimize(LBFGS.scala:142)\n\tat org.apache.spark.ml.ann.FeedForwardTrainer.train(Layer.scala:817)\n\tat org.apache.spark.ml.classification.MultilayerPerceptronClassifier.train(MultilayerPerceptronClassifier.scala:267)\n\tat org.apache.spark.ml.classification.MultilayerPerceptronClassifier.train(MultilayerPerceptronClassifier.scala:145)\n\tat org.apache.spark.ml.Predictor.fit(Predictor.scala:118)\n\tat sun.reflect.GeneratedMethodAccessor135.invoke(Unknown Source)\n\tat sun.reflect.DelegatingMethodAccessorImpl.invoke(DelegatingMethodAccessorImpl.java:43)\n\tat java.lang.reflect.Method.invoke(Method.java:498)\n\tat py4j.reflection.MethodInvoker.invoke(MethodInvoker.java:244)\n\tat py4j.reflection.ReflectionEngine.invoke(ReflectionEngine.java:357)\n\tat py4j.Gateway.invoke(Gateway.java:280)\n\tat py4j.commands.AbstractCommand.invokeMethod(AbstractCommand.java:132)\n\tat py4j.commands.CallCommand.execute(CallCommand.java:79)\n\tat py4j.GatewayConnection.run(GatewayConnection.java:214)\n\tat java.lang.Thread.run(Thread.java:748)\nCaused by: java.io.IOException: No space left on device\n\tat java.io.FileOutputStream.writeBytes(Native Method)\n\tat java.io.FileOutputStream.write(FileOutputStream.java:326)\n\tat org.apache.spark.storage.TimeTrackingOutputStream.write(TimeTrackingOutputStream.java:58)\n\tat java.io.BufferedOutputStream.flushBuffer(BufferedOutputStream.java:82)\n\tat java.io.BufferedOutputStream.flush(BufferedOutputStream.java:140)\n\tat net.jpountz.lz4.LZ4BlockOutputStream.finish(LZ4BlockOutputStream.java:243)\n\tat net.jpountz.lz4.LZ4BlockOutputStream.close(LZ4BlockOutputStream.java:175)\n\tat java.io.ObjectOutputStream$BlockDataOutputStream.close(ObjectOutputStream.java:1828)\n\tat java.io.ObjectOutputStream.close(ObjectOutputStream.java:742)\n\tat org.apache.spark.serializer.JavaSerializationStream.close(JavaSerializer.scala:57)\n\tat org.apache.spark.storage.DiskBlockObjectWriter.commitAndGet(DiskBlockObjectWriter.scala:172)\n\tat org.apache.spark.util.collection.ExternalSorter.writePartitionedFile(ExternalSorter.scala:701)\n\tat org.apache.spark.shuffle.sort.SortShuffleWriter.write(SortShuffleWriter.scala:72)\n\tat org.apache.spark.scheduler.ShuffleMapTask.runTask(ShuffleMapTask.scala:96)\n\tat org.apache.spark.scheduler.ShuffleMapTask.runTask(ShuffleMapTask.scala:53)\n\tat org.apache.spark.scheduler.Task.run(Task.scala:108)\n\tat org.apache.spark.executor.Executor$TaskRunner.run(Executor.scala:335)\n\tat java.util.concurrent.ThreadPoolExecutor.runWorker(ThreadPoolExecutor.java:1149)\n\tat java.util.concurrent.ThreadPoolExecutor$Worker.run(ThreadPoolExecutor.java:624)\n\t... 1 more\n",
     "output_type": "error",
     "traceback": [
      "\u001b[0;31m---------------------------------------------------------------------------\u001b[0m",
      "\u001b[0;31mPy4JJavaError\u001b[0m                             Traceback (most recent call last)",
      "\u001b[0;32m<ipython-input-79-ded040756c67>\u001b[0m in \u001b[0;36m<module>\u001b[0;34m()\u001b[0m\n\u001b[1;32m      4\u001b[0m             \u001b[0;32mfor\u001b[0m \u001b[0ml\u001b[0m \u001b[0;32min\u001b[0m \u001b[0;34m(\u001b[0m\u001b[0mlist\u001b[0m\u001b[0;34m(\u001b[0m\u001b[0mcombinations\u001b[0m\u001b[0;34m(\u001b[0m\u001b[0mnum_cols\u001b[0m\u001b[0;34m,\u001b[0m \u001b[0mk\u001b[0m\u001b[0;34m+\u001b[0m\u001b[0;36m1\u001b[0m\u001b[0;34m)\u001b[0m\u001b[0;34m)\u001b[0m\u001b[0;34m)\u001b[0m\u001b[0;34m:\u001b[0m\u001b[0;34m\u001b[0m\u001b[0m\n\u001b[1;32m      5\u001b[0m                 \u001b[0ml_list\u001b[0m \u001b[0;34m=\u001b[0m \u001b[0mlist\u001b[0m\u001b[0;34m(\u001b[0m\u001b[0ml\u001b[0m\u001b[0;34m)\u001b[0m\u001b[0;34m\u001b[0m\u001b[0m\n\u001b[0;32m----> 6\u001b[0;31m                 \u001b[0mml_model\u001b[0m \u001b[0;34m=\u001b[0m \u001b[0mget_model\u001b[0m\u001b[0;34m(\u001b[0m\u001b[0mtraining\u001b[0m\u001b[0;34m,\u001b[0m\u001b[0mj\u001b[0m\u001b[0;34m,\u001b[0m\u001b[0ml_list\u001b[0m\u001b[0;34m,\u001b[0m\u001b[0mdiscols\u001b[0m\u001b[0;34m,\u001b[0m \u001b[0msplits\u001b[0m\u001b[0;34m,\u001b[0m \u001b[0mlabelCol\u001b[0m\u001b[0;34m)\u001b[0m\u001b[0;34m\u001b[0m\u001b[0m\n\u001b[0m\u001b[1;32m      7\u001b[0m                 \u001b[0mlap2\u001b[0m \u001b[0;34m=\u001b[0m \u001b[0mml_model\u001b[0m\u001b[0;34m.\u001b[0m\u001b[0mtransform\u001b[0m\u001b[0;34m(\u001b[0m\u001b[0mtest\u001b[0m\u001b[0;34m)\u001b[0m                \u001b[0;34m.\u001b[0m\u001b[0mwithColumn\u001b[0m\u001b[0;34m(\u001b[0m\u001b[0;34m'prediction_label'\u001b[0m\u001b[0;34m,\u001b[0m\u001b[0mspark_labeling\u001b[0m\u001b[0;34m(\u001b[0m\u001b[0mcol\u001b[0m\u001b[0;34m(\u001b[0m\u001b[0;34m'prediction'\u001b[0m\u001b[0;34m)\u001b[0m\u001b[0;34m)\u001b[0m\u001b[0;34m)\u001b[0m                \u001b[0;34m.\u001b[0m\u001b[0mtoPandas\u001b[0m\u001b[0;34m(\u001b[0m\u001b[0;34m)\u001b[0m\u001b[0;34m\u001b[0m\u001b[0m\n\u001b[1;32m      8\u001b[0m                 \u001b[0mm2\u001b[0m \u001b[0;34m=\u001b[0m \u001b[0meval_metrics\u001b[0m\u001b[0;34m(\u001b[0m\u001b[0mlap2\u001b[0m\u001b[0;34m)\u001b[0m\u001b[0;34m\u001b[0m\u001b[0m\n",
      "\u001b[0;32m<ipython-input-71-31e4f2f1ea56>\u001b[0m in \u001b[0;36mget_model\u001b[0;34m(df, categoricalCols, continuousCols, discretedCols, split_range, labelCol)\u001b[0m\n\u001b[1;32m     44\u001b[0m \u001b[0;34m\u001b[0m\u001b[0m\n\u001b[1;32m     45\u001b[0m \u001b[0;34m\u001b[0m\u001b[0m\n\u001b[0;32m---> 46\u001b[0;31m     \u001b[0mmodel\u001b[0m\u001b[0;34m=\u001b[0m\u001b[0mpipeline\u001b[0m\u001b[0;34m.\u001b[0m\u001b[0mfit\u001b[0m\u001b[0;34m(\u001b[0m\u001b[0mdf\u001b[0m\u001b[0;34m)\u001b[0m\u001b[0;34m\u001b[0m\u001b[0m\n\u001b[0m\u001b[1;32m     47\u001b[0m \u001b[0;34m\u001b[0m\u001b[0m\n\u001b[1;32m     48\u001b[0m \u001b[0;34m\u001b[0m\u001b[0m\n",
      "\u001b[0;32m/root/spark-2.2.0-bin-hadoop2.7/python/pyspark/ml/base.py\u001b[0m in \u001b[0;36mfit\u001b[0;34m(self, dataset, params)\u001b[0m\n\u001b[1;32m     62\u001b[0m                 \u001b[0;32mreturn\u001b[0m \u001b[0mself\u001b[0m\u001b[0;34m.\u001b[0m\u001b[0mcopy\u001b[0m\u001b[0;34m(\u001b[0m\u001b[0mparams\u001b[0m\u001b[0;34m)\u001b[0m\u001b[0;34m.\u001b[0m\u001b[0m_fit\u001b[0m\u001b[0;34m(\u001b[0m\u001b[0mdataset\u001b[0m\u001b[0;34m)\u001b[0m\u001b[0;34m\u001b[0m\u001b[0m\n\u001b[1;32m     63\u001b[0m             \u001b[0;32melse\u001b[0m\u001b[0;34m:\u001b[0m\u001b[0;34m\u001b[0m\u001b[0m\n\u001b[0;32m---> 64\u001b[0;31m                 \u001b[0;32mreturn\u001b[0m \u001b[0mself\u001b[0m\u001b[0;34m.\u001b[0m\u001b[0m_fit\u001b[0m\u001b[0;34m(\u001b[0m\u001b[0mdataset\u001b[0m\u001b[0;34m)\u001b[0m\u001b[0;34m\u001b[0m\u001b[0m\n\u001b[0m\u001b[1;32m     65\u001b[0m         \u001b[0;32melse\u001b[0m\u001b[0;34m:\u001b[0m\u001b[0;34m\u001b[0m\u001b[0m\n\u001b[1;32m     66\u001b[0m             raise ValueError(\"Params must be either a param map or a list/tuple of param maps, \"\n",
      "\u001b[0;32m/root/spark-2.2.0-bin-hadoop2.7/python/pyspark/ml/pipeline.py\u001b[0m in \u001b[0;36m_fit\u001b[0;34m(self, dataset)\u001b[0m\n\u001b[1;32m    106\u001b[0m                     \u001b[0mdataset\u001b[0m \u001b[0;34m=\u001b[0m \u001b[0mstage\u001b[0m\u001b[0;34m.\u001b[0m\u001b[0mtransform\u001b[0m\u001b[0;34m(\u001b[0m\u001b[0mdataset\u001b[0m\u001b[0;34m)\u001b[0m\u001b[0;34m\u001b[0m\u001b[0m\n\u001b[1;32m    107\u001b[0m                 \u001b[0;32melse\u001b[0m\u001b[0;34m:\u001b[0m  \u001b[0;31m# must be an Estimator\u001b[0m\u001b[0;34m\u001b[0m\u001b[0m\n\u001b[0;32m--> 108\u001b[0;31m                     \u001b[0mmodel\u001b[0m \u001b[0;34m=\u001b[0m \u001b[0mstage\u001b[0m\u001b[0;34m.\u001b[0m\u001b[0mfit\u001b[0m\u001b[0;34m(\u001b[0m\u001b[0mdataset\u001b[0m\u001b[0;34m)\u001b[0m\u001b[0;34m\u001b[0m\u001b[0m\n\u001b[0m\u001b[1;32m    109\u001b[0m                     \u001b[0mtransformers\u001b[0m\u001b[0;34m.\u001b[0m\u001b[0mappend\u001b[0m\u001b[0;34m(\u001b[0m\u001b[0mmodel\u001b[0m\u001b[0;34m)\u001b[0m\u001b[0;34m\u001b[0m\u001b[0m\n\u001b[1;32m    110\u001b[0m                     \u001b[0;32mif\u001b[0m \u001b[0mi\u001b[0m \u001b[0;34m<\u001b[0m \u001b[0mindexOfLastEstimator\u001b[0m\u001b[0;34m:\u001b[0m\u001b[0;34m\u001b[0m\u001b[0m\n",
      "\u001b[0;32m/root/spark-2.2.0-bin-hadoop2.7/python/pyspark/ml/base.py\u001b[0m in \u001b[0;36mfit\u001b[0;34m(self, dataset, params)\u001b[0m\n\u001b[1;32m     62\u001b[0m                 \u001b[0;32mreturn\u001b[0m \u001b[0mself\u001b[0m\u001b[0;34m.\u001b[0m\u001b[0mcopy\u001b[0m\u001b[0;34m(\u001b[0m\u001b[0mparams\u001b[0m\u001b[0;34m)\u001b[0m\u001b[0;34m.\u001b[0m\u001b[0m_fit\u001b[0m\u001b[0;34m(\u001b[0m\u001b[0mdataset\u001b[0m\u001b[0;34m)\u001b[0m\u001b[0;34m\u001b[0m\u001b[0m\n\u001b[1;32m     63\u001b[0m             \u001b[0;32melse\u001b[0m\u001b[0;34m:\u001b[0m\u001b[0;34m\u001b[0m\u001b[0m\n\u001b[0;32m---> 64\u001b[0;31m                 \u001b[0;32mreturn\u001b[0m \u001b[0mself\u001b[0m\u001b[0;34m.\u001b[0m\u001b[0m_fit\u001b[0m\u001b[0;34m(\u001b[0m\u001b[0mdataset\u001b[0m\u001b[0;34m)\u001b[0m\u001b[0;34m\u001b[0m\u001b[0m\n\u001b[0m\u001b[1;32m     65\u001b[0m         \u001b[0;32melse\u001b[0m\u001b[0;34m:\u001b[0m\u001b[0;34m\u001b[0m\u001b[0m\n\u001b[1;32m     66\u001b[0m             raise ValueError(\"Params must be either a param map or a list/tuple of param maps, \"\n",
      "\u001b[0;32m/root/spark-2.2.0-bin-hadoop2.7/python/pyspark/ml/wrapper.py\u001b[0m in \u001b[0;36m_fit\u001b[0;34m(self, dataset)\u001b[0m\n\u001b[1;32m    263\u001b[0m \u001b[0;34m\u001b[0m\u001b[0m\n\u001b[1;32m    264\u001b[0m     \u001b[0;32mdef\u001b[0m \u001b[0m_fit\u001b[0m\u001b[0;34m(\u001b[0m\u001b[0mself\u001b[0m\u001b[0;34m,\u001b[0m \u001b[0mdataset\u001b[0m\u001b[0;34m)\u001b[0m\u001b[0;34m:\u001b[0m\u001b[0;34m\u001b[0m\u001b[0m\n\u001b[0;32m--> 265\u001b[0;31m         \u001b[0mjava_model\u001b[0m \u001b[0;34m=\u001b[0m \u001b[0mself\u001b[0m\u001b[0;34m.\u001b[0m\u001b[0m_fit_java\u001b[0m\u001b[0;34m(\u001b[0m\u001b[0mdataset\u001b[0m\u001b[0;34m)\u001b[0m\u001b[0;34m\u001b[0m\u001b[0m\n\u001b[0m\u001b[1;32m    266\u001b[0m         \u001b[0;32mreturn\u001b[0m \u001b[0mself\u001b[0m\u001b[0;34m.\u001b[0m\u001b[0m_create_model\u001b[0m\u001b[0;34m(\u001b[0m\u001b[0mjava_model\u001b[0m\u001b[0;34m)\u001b[0m\u001b[0;34m\u001b[0m\u001b[0m\n\u001b[1;32m    267\u001b[0m \u001b[0;34m\u001b[0m\u001b[0m\n",
      "\u001b[0;32m/root/spark-2.2.0-bin-hadoop2.7/python/pyspark/ml/wrapper.py\u001b[0m in \u001b[0;36m_fit_java\u001b[0;34m(self, dataset)\u001b[0m\n\u001b[1;32m    260\u001b[0m         \"\"\"\n\u001b[1;32m    261\u001b[0m         \u001b[0mself\u001b[0m\u001b[0;34m.\u001b[0m\u001b[0m_transfer_params_to_java\u001b[0m\u001b[0;34m(\u001b[0m\u001b[0;34m)\u001b[0m\u001b[0;34m\u001b[0m\u001b[0m\n\u001b[0;32m--> 262\u001b[0;31m         \u001b[0;32mreturn\u001b[0m \u001b[0mself\u001b[0m\u001b[0;34m.\u001b[0m\u001b[0m_java_obj\u001b[0m\u001b[0;34m.\u001b[0m\u001b[0mfit\u001b[0m\u001b[0;34m(\u001b[0m\u001b[0mdataset\u001b[0m\u001b[0;34m.\u001b[0m\u001b[0m_jdf\u001b[0m\u001b[0;34m)\u001b[0m\u001b[0;34m\u001b[0m\u001b[0m\n\u001b[0m\u001b[1;32m    263\u001b[0m \u001b[0;34m\u001b[0m\u001b[0m\n\u001b[1;32m    264\u001b[0m     \u001b[0;32mdef\u001b[0m \u001b[0m_fit\u001b[0m\u001b[0;34m(\u001b[0m\u001b[0mself\u001b[0m\u001b[0;34m,\u001b[0m \u001b[0mdataset\u001b[0m\u001b[0;34m)\u001b[0m\u001b[0;34m:\u001b[0m\u001b[0;34m\u001b[0m\u001b[0m\n",
      "\u001b[0;32m/root/spark-2.2.0-bin-hadoop2.7/python/lib/py4j-0.10.4-src.zip/py4j/java_gateway.py\u001b[0m in \u001b[0;36m__call__\u001b[0;34m(self, *args)\u001b[0m\n\u001b[1;32m   1131\u001b[0m         \u001b[0manswer\u001b[0m \u001b[0;34m=\u001b[0m \u001b[0mself\u001b[0m\u001b[0;34m.\u001b[0m\u001b[0mgateway_client\u001b[0m\u001b[0;34m.\u001b[0m\u001b[0msend_command\u001b[0m\u001b[0;34m(\u001b[0m\u001b[0mcommand\u001b[0m\u001b[0;34m)\u001b[0m\u001b[0;34m\u001b[0m\u001b[0m\n\u001b[1;32m   1132\u001b[0m         return_value = get_return_value(\n\u001b[0;32m-> 1133\u001b[0;31m             answer, self.gateway_client, self.target_id, self.name)\n\u001b[0m\u001b[1;32m   1134\u001b[0m \u001b[0;34m\u001b[0m\u001b[0m\n\u001b[1;32m   1135\u001b[0m         \u001b[0;32mfor\u001b[0m \u001b[0mtemp_arg\u001b[0m \u001b[0;32min\u001b[0m \u001b[0mtemp_args\u001b[0m\u001b[0;34m:\u001b[0m\u001b[0;34m\u001b[0m\u001b[0m\n",
      "\u001b[0;32m/root/spark-2.2.0-bin-hadoop2.7/python/pyspark/sql/utils.py\u001b[0m in \u001b[0;36mdeco\u001b[0;34m(*a, **kw)\u001b[0m\n\u001b[1;32m     61\u001b[0m     \u001b[0;32mdef\u001b[0m \u001b[0mdeco\u001b[0m\u001b[0;34m(\u001b[0m\u001b[0;34m*\u001b[0m\u001b[0ma\u001b[0m\u001b[0;34m,\u001b[0m \u001b[0;34m**\u001b[0m\u001b[0mkw\u001b[0m\u001b[0;34m)\u001b[0m\u001b[0;34m:\u001b[0m\u001b[0;34m\u001b[0m\u001b[0m\n\u001b[1;32m     62\u001b[0m         \u001b[0;32mtry\u001b[0m\u001b[0;34m:\u001b[0m\u001b[0;34m\u001b[0m\u001b[0m\n\u001b[0;32m---> 63\u001b[0;31m             \u001b[0;32mreturn\u001b[0m \u001b[0mf\u001b[0m\u001b[0;34m(\u001b[0m\u001b[0;34m*\u001b[0m\u001b[0ma\u001b[0m\u001b[0;34m,\u001b[0m \u001b[0;34m**\u001b[0m\u001b[0mkw\u001b[0m\u001b[0;34m)\u001b[0m\u001b[0;34m\u001b[0m\u001b[0m\n\u001b[0m\u001b[1;32m     64\u001b[0m         \u001b[0;32mexcept\u001b[0m \u001b[0mpy4j\u001b[0m\u001b[0;34m.\u001b[0m\u001b[0mprotocol\u001b[0m\u001b[0;34m.\u001b[0m\u001b[0mPy4JJavaError\u001b[0m \u001b[0;32mas\u001b[0m \u001b[0me\u001b[0m\u001b[0;34m:\u001b[0m\u001b[0;34m\u001b[0m\u001b[0m\n\u001b[1;32m     65\u001b[0m             \u001b[0ms\u001b[0m \u001b[0;34m=\u001b[0m \u001b[0me\u001b[0m\u001b[0;34m.\u001b[0m\u001b[0mjava_exception\u001b[0m\u001b[0;34m.\u001b[0m\u001b[0mtoString\u001b[0m\u001b[0;34m(\u001b[0m\u001b[0;34m)\u001b[0m\u001b[0;34m\u001b[0m\u001b[0m\n",
      "\u001b[0;32m/root/spark-2.2.0-bin-hadoop2.7/python/lib/py4j-0.10.4-src.zip/py4j/protocol.py\u001b[0m in \u001b[0;36mget_return_value\u001b[0;34m(answer, gateway_client, target_id, name)\u001b[0m\n\u001b[1;32m    317\u001b[0m                 raise Py4JJavaError(\n\u001b[1;32m    318\u001b[0m                     \u001b[0;34m\"An error occurred while calling {0}{1}{2}.\\n\"\u001b[0m\u001b[0;34m.\u001b[0m\u001b[0;34m\u001b[0m\u001b[0m\n\u001b[0;32m--> 319\u001b[0;31m                     format(target_id, \".\", name), value)\n\u001b[0m\u001b[1;32m    320\u001b[0m             \u001b[0;32melse\u001b[0m\u001b[0;34m:\u001b[0m\u001b[0;34m\u001b[0m\u001b[0m\n\u001b[1;32m    321\u001b[0m                 raise Py4JError(\n",
      "\u001b[0;31mPy4JJavaError\u001b[0m: An error occurred while calling o341357.fit.\n: org.apache.spark.SparkException: Job aborted due to stage failure: Task 33 in stage 908923.0 failed 4 times, most recent failure: Lost task 33.3 in stage 908923.0 (TID 24601048, 192.168.10.4, executor 7): java.io.IOException: No space left on device\n\tat java.io.FileOutputStream.writeBytes(Native Method)\n\tat java.io.FileOutputStream.write(FileOutputStream.java:326)\n\tat org.apache.spark.storage.TimeTrackingOutputStream.write(TimeTrackingOutputStream.java:58)\n\tat java.io.BufferedOutputStream.flushBuffer(BufferedOutputStream.java:82)\n\tat java.io.BufferedOutputStream.flush(BufferedOutputStream.java:140)\n\tat net.jpountz.lz4.LZ4BlockOutputStream.finish(LZ4BlockOutputStream.java:243)\n\tat net.jpountz.lz4.LZ4BlockOutputStream.close(LZ4BlockOutputStream.java:175)\n\tat java.io.ObjectOutputStream$BlockDataOutputStream.close(ObjectOutputStream.java:1828)\n\tat java.io.ObjectOutputStream.close(ObjectOutputStream.java:742)\n\tat org.apache.spark.serializer.JavaSerializationStream.close(JavaSerializer.scala:57)\n\tat org.apache.spark.storage.DiskBlockObjectWriter.commitAndGet(DiskBlockObjectWriter.scala:172)\n\tat org.apache.spark.util.collection.ExternalSorter.writePartitionedFile(ExternalSorter.scala:701)\n\tat org.apache.spark.shuffle.sort.SortShuffleWriter.write(SortShuffleWriter.scala:72)\n\tat org.apache.spark.scheduler.ShuffleMapTask.runTask(ShuffleMapTask.scala:96)\n\tat org.apache.spark.scheduler.ShuffleMapTask.runTask(ShuffleMapTask.scala:53)\n\tat org.apache.spark.scheduler.Task.run(Task.scala:108)\n\tat org.apache.spark.executor.Executor$TaskRunner.run(Executor.scala:335)\n\tat java.util.concurrent.ThreadPoolExecutor.runWorker(ThreadPoolExecutor.java:1149)\n\tat java.util.concurrent.ThreadPoolExecutor$Worker.run(ThreadPoolExecutor.java:624)\n\tat java.lang.Thread.run(Thread.java:748)\n\nDriver stacktrace:\n\tat org.apache.spark.scheduler.DAGScheduler.org$apache$spark$scheduler$DAGScheduler$$failJobAndIndependentStages(DAGScheduler.scala:1499)\n\tat org.apache.spark.scheduler.DAGScheduler$$anonfun$abortStage$1.apply(DAGScheduler.scala:1487)\n\tat org.apache.spark.scheduler.DAGScheduler$$anonfun$abortStage$1.apply(DAGScheduler.scala:1486)\n\tat scala.collection.mutable.ResizableArray$class.foreach(ResizableArray.scala:59)\n\tat scala.collection.mutable.ArrayBuffer.foreach(ArrayBuffer.scala:48)\n\tat org.apache.spark.scheduler.DAGScheduler.abortStage(DAGScheduler.scala:1486)\n\tat org.apache.spark.scheduler.DAGScheduler$$anonfun$handleTaskSetFailed$1.apply(DAGScheduler.scala:814)\n\tat org.apache.spark.scheduler.DAGScheduler$$anonfun$handleTaskSetFailed$1.apply(DAGScheduler.scala:814)\n\tat scala.Option.foreach(Option.scala:257)\n\tat org.apache.spark.scheduler.DAGScheduler.handleTaskSetFailed(DAGScheduler.scala:814)\n\tat org.apache.spark.scheduler.DAGSchedulerEventProcessLoop.doOnReceive(DAGScheduler.scala:1714)\n\tat org.apache.spark.scheduler.DAGSchedulerEventProcessLoop.onReceive(DAGScheduler.scala:1669)\n\tat org.apache.spark.scheduler.DAGSchedulerEventProcessLoop.onReceive(DAGScheduler.scala:1658)\n\tat org.apache.spark.util.EventLoop$$anon$1.run(EventLoop.scala:48)\n\tat org.apache.spark.scheduler.DAGScheduler.runJob(DAGScheduler.scala:630)\n\tat org.apache.spark.SparkContext.runJob(SparkContext.scala:2022)\n\tat org.apache.spark.SparkContext.runJob(SparkContext.scala:2119)\n\tat org.apache.spark.rdd.RDD$$anonfun$reduce$1.apply(RDD.scala:1026)\n\tat org.apache.spark.rdd.RDDOperationScope$.withScope(RDDOperationScope.scala:151)\n\tat org.apache.spark.rdd.RDDOperationScope$.withScope(RDDOperationScope.scala:112)\n\tat org.apache.spark.rdd.RDD.withScope(RDD.scala:362)\n\tat org.apache.spark.rdd.RDD.reduce(RDD.scala:1008)\n\tat org.apache.spark.rdd.RDD$$anonfun$treeAggregate$1.apply(RDD.scala:1151)\n\tat org.apache.spark.rdd.RDDOperationScope$.withScope(RDDOperationScope.scala:151)\n\tat org.apache.spark.rdd.RDDOperationScope$.withScope(RDDOperationScope.scala:112)\n\tat org.apache.spark.rdd.RDD.withScope(RDD.scala:362)\n\tat org.apache.spark.rdd.RDD.treeAggregate(RDD.scala:1128)\n\tat org.apache.spark.mllib.optimization.LBFGS$CostFun.calculate(LBFGS.scala:261)\n\tat org.apache.spark.mllib.optimization.LBFGS$CostFun.calculate(LBFGS.scala:230)\n\tat breeze.optimize.CachedDiffFunction.calculate(CachedDiffFunction.scala:23)\n\tat breeze.optimize.LineSearch$$anon$1.calculate(LineSearch.scala:41)\n\tat breeze.optimize.LineSearch$$anon$1.calculate(LineSearch.scala:30)\n\tat breeze.optimize.StrongWolfeLineSearch.breeze$optimize$StrongWolfeLineSearch$$phi$1(StrongWolfe.scala:76)\n\tat breeze.optimize.StrongWolfeLineSearch$$anonfun$minimizeWithBound$1.apply$mcVI$sp(StrongWolfe.scala:149)\n\tat scala.collection.immutable.Range.foreach$mVc$sp(Range.scala:160)\n\tat breeze.optimize.StrongWolfeLineSearch.minimizeWithBound(StrongWolfe.scala:148)\n\tat breeze.optimize.StrongWolfeLineSearch.minimize(StrongWolfe.scala:62)\n\tat breeze.optimize.LBFGS.determineStepSize(LBFGS.scala:76)\n\tat breeze.optimize.LBFGS.determineStepSize(LBFGS.scala:39)\n\tat breeze.optimize.FirstOrderMinimizer$$anonfun$infiniteIterations$1.apply(FirstOrderMinimizer.scala:64)\n\tat breeze.optimize.FirstOrderMinimizer$$anonfun$infiniteIterations$1.apply(FirstOrderMinimizer.scala:62)\n\tat scala.collection.Iterator$$anon$7.next(Iterator.scala:129)\n\tat breeze.util.IteratorImplicits$RichIterator$$anon$2.next(Implicits.scala:71)\n\tat org.apache.spark.mllib.optimization.LBFGS$.runLBFGS(LBFGS.scala:212)\n\tat org.apache.spark.mllib.optimization.LBFGS.optimize(LBFGS.scala:142)\n\tat org.apache.spark.ml.ann.FeedForwardTrainer.train(Layer.scala:817)\n\tat org.apache.spark.ml.classification.MultilayerPerceptronClassifier.train(MultilayerPerceptronClassifier.scala:267)\n\tat org.apache.spark.ml.classification.MultilayerPerceptronClassifier.train(MultilayerPerceptronClassifier.scala:145)\n\tat org.apache.spark.ml.Predictor.fit(Predictor.scala:118)\n\tat sun.reflect.GeneratedMethodAccessor135.invoke(Unknown Source)\n\tat sun.reflect.DelegatingMethodAccessorImpl.invoke(DelegatingMethodAccessorImpl.java:43)\n\tat java.lang.reflect.Method.invoke(Method.java:498)\n\tat py4j.reflection.MethodInvoker.invoke(MethodInvoker.java:244)\n\tat py4j.reflection.ReflectionEngine.invoke(ReflectionEngine.java:357)\n\tat py4j.Gateway.invoke(Gateway.java:280)\n\tat py4j.commands.AbstractCommand.invokeMethod(AbstractCommand.java:132)\n\tat py4j.commands.CallCommand.execute(CallCommand.java:79)\n\tat py4j.GatewayConnection.run(GatewayConnection.java:214)\n\tat java.lang.Thread.run(Thread.java:748)\nCaused by: java.io.IOException: No space left on device\n\tat java.io.FileOutputStream.writeBytes(Native Method)\n\tat java.io.FileOutputStream.write(FileOutputStream.java:326)\n\tat org.apache.spark.storage.TimeTrackingOutputStream.write(TimeTrackingOutputStream.java:58)\n\tat java.io.BufferedOutputStream.flushBuffer(BufferedOutputStream.java:82)\n\tat java.io.BufferedOutputStream.flush(BufferedOutputStream.java:140)\n\tat net.jpountz.lz4.LZ4BlockOutputStream.finish(LZ4BlockOutputStream.java:243)\n\tat net.jpountz.lz4.LZ4BlockOutputStream.close(LZ4BlockOutputStream.java:175)\n\tat java.io.ObjectOutputStream$BlockDataOutputStream.close(ObjectOutputStream.java:1828)\n\tat java.io.ObjectOutputStream.close(ObjectOutputStream.java:742)\n\tat org.apache.spark.serializer.JavaSerializationStream.close(JavaSerializer.scala:57)\n\tat org.apache.spark.storage.DiskBlockObjectWriter.commitAndGet(DiskBlockObjectWriter.scala:172)\n\tat org.apache.spark.util.collection.ExternalSorter.writePartitionedFile(ExternalSorter.scala:701)\n\tat org.apache.spark.shuffle.sort.SortShuffleWriter.write(SortShuffleWriter.scala:72)\n\tat org.apache.spark.scheduler.ShuffleMapTask.runTask(ShuffleMapTask.scala:96)\n\tat org.apache.spark.scheduler.ShuffleMapTask.runTask(ShuffleMapTask.scala:53)\n\tat org.apache.spark.scheduler.Task.run(Task.scala:108)\n\tat org.apache.spark.executor.Executor$TaskRunner.run(Executor.scala:335)\n\tat java.util.concurrent.ThreadPoolExecutor.runWorker(ThreadPoolExecutor.java:1149)\n\tat java.util.concurrent.ThreadPoolExecutor$Worker.run(ThreadPoolExecutor.java:624)\n\t... 1 more\n"
     ]
    }
   ],
   "source": [
    "for i in range(len(catcols)):\n",
    "    for j in (list(combinations(catcols, i+1))):\n",
    "        for k in range(len(num_cols)):\n",
    "            for l in (list(combinations(num_cols, k+1))):\n",
    "                l_list = list(l)\n",
    "                ml_model = get_model(training,j,l_list,discols, splits, labelCol)\n",
    "                lap2 = ml_model.transform(test)\\\n",
    "                .withColumn('prediction_label',spark_labeling(col('prediction')))\\\n",
    "                .toPandas()\n",
    "                m2 = eval_metrics(lap2)\n",
    "                result_text = \"รอบแรกใช้ categorical {0} และ numerical {1} ได้ Model ที่มี {2}\".format(j,l_list,m2)\n",
    "                print(result_text)\n",
    "                result_list.append(result_text)\n",
    "                \n",
    "        "
   ]
  },
  {
   "cell_type": "code",
   "execution_count": null,
   "metadata": {
    "collapsed": true
   },
   "outputs": [],
   "source": [
    "result_list"
   ]
  },
  {
   "cell_type": "code",
   "execution_count": null,
   "metadata": {
    "collapsed": true
   },
   "outputs": [],
   "source": [
    "result_list"
   ]
  },
  {
   "cell_type": "code",
   "execution_count": null,
   "metadata": {
    "collapsed": true
   },
   "outputs": [],
   "source": []
  },
  {
   "cell_type": "code",
   "execution_count": null,
   "metadata": {
    "collapsed": true
   },
   "outputs": [],
   "source": []
  },
  {
   "cell_type": "code",
   "execution_count": null,
   "metadata": {
    "collapsed": true
   },
   "outputs": [],
   "source": []
  },
  {
   "cell_type": "code",
   "execution_count": null,
   "metadata": {
    "collapsed": true
   },
   "outputs": [],
   "source": []
  },
  {
   "cell_type": "code",
   "execution_count": null,
   "metadata": {
    "collapsed": true
   },
   "outputs": [],
   "source": []
  },
  {
   "cell_type": "code",
   "execution_count": null,
   "metadata": {
    "collapsed": true
   },
   "outputs": [],
   "source": []
  }
 ],
 "metadata": {
  "anaconda-cloud": {},
  "kernelspec": {
   "display_name": "Python 3",
   "language": "python",
   "name": "python3"
  },
  "language_info": {
   "codemirror_mode": {
    "name": "ipython",
    "version": 3
   },
   "file_extension": ".py",
   "mimetype": "text/x-python",
   "name": "python",
   "nbconvert_exporter": "python",
   "pygments_lexer": "ipython3",
   "version": "3.6.1"
  }
 },
 "nbformat": 4,
 "nbformat_minor": 1
}
